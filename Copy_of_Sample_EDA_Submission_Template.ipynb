{
  "nbformat": 4,
  "nbformat_minor": 0,
  "metadata": {
    "colab": {
      "private_outputs": true,
      "provenance": [],
      "collapsed_sections": [
        "w6K7xa23Elo4",
        "U2RJ9gkRphqQ",
        "1M8mcRywphqQ",
        "tgIPom80phqQ",
        "JMzcOPDDphqR",
        "x-EpHcCOp1ci",
        "X_VqEhTip1ck",
        "8zGJKyg5p1ck",
        "PVzmfK_Ep1ck",
        "n3dbpmDWp1ck",
        "ylSl6qgtp1ck",
        "ZWILFDl5p1ck",
        "M7G43BXep1ck",
        "Ag9LCva-p1cl",
        "E6MkPsBcp1cl",
        "2cELzS2fp1cl",
        "3MPXvC8up1cl",
        "NC_X3p0fY2L0",
        "UV0SzAkaZNRQ",
        "YPEH6qLeZNRQ",
        "EXh0U9oCveiU"
      ],
      "include_colab_link": true
    },
    "kernelspec": {
      "name": "python3",
      "display_name": "Python 3"
    },
    "language_info": {
      "name": "python"
    }
  },
  "cells": [
    {
      "cell_type": "markdown",
      "metadata": {
        "id": "view-in-github",
        "colab_type": "text"
      },
      "source": [
        "<a href=\"https://colab.research.google.com/github/sreeproject/AI-/blob/main/Copy_of_Sample_EDA_Submission_Template.ipynb\" target=\"_parent\"><img src=\"https://colab.research.google.com/assets/colab-badge.svg\" alt=\"Open In Colab\"/></a>"
      ]
    },
    {
      "cell_type": "markdown",
      "source": [
        "# **Project Name**    -  PhonePe Data Analysis\n",
        "\n"
      ],
      "metadata": {
        "id": "vncDsAP0Gaoa"
      }
    },
    {
      "cell_type": "markdown",
      "source": [
        "##### **Project Type**    - EDA\n",
        "##### **Contribution**    - Individual\n"
      ],
      "metadata": {
        "id": "beRrZCGUAJYm"
      }
    },
    {
      "cell_type": "markdown",
      "source": [
        "# **Project Summary -**"
      ],
      "metadata": {
        "id": "FJNUwmbgGyua"
      }
    },
    {
      "cell_type": "markdown",
      "source": [
        "This project analyzes PhonePe’s digital payments data to uncover insights into transaction trends, user engagement, and insurance adoption across India. By parsing JSON datasets, building structured MySQL databases, and performing exploratory data analysis, it highlights top-performing states, districts, and pincodes. Visualizations map user registrations, spending patterns, and device preferences, supporting customer segmentation and targeted marketing. The project ultimately transforms raw data into actionable intelligence, helping stakeholders enhance financial inclusion, optimize regional strategies, and personalize services. It provides a robust template for ongoing monitoring and deeper analytics in India’s rapidly evolving digital payments ecosystem."
      ],
      "metadata": {
        "id": "F6v_1wHtG2nS"
      }
    },
    {
      "cell_type": "markdown",
      "source": [
        "# **GitHub Link -**"
      ],
      "metadata": {
        "id": "w6K7xa23Elo4"
      }
    },
    {
      "cell_type": "markdown",
      "source": [
        "Provide your GitHub Link here."
      ],
      "metadata": {
        "id": "h1o69JH3Eqqn"
      }
    },
    {
      "cell_type": "markdown",
      "source": [
        "# **Problem Statement**\n"
      ],
      "metadata": {
        "id": "yQaldy8SH6Dl"
      }
    },
    {
      "cell_type": "markdown",
      "source": [
        "With the growing dependence on digital payment platforms like PhonePe, gaining insights into transaction trends, user engagement, and insurance-related activities has become essential for enhancing services and effectively targeting customers. This project seeks to analyze and visualize aggregated payment data, map total values across states and districts, and identify the top-performing states, districts, and pin codes to uncover meaningful patterns and drive strategic decisions.\n",
        "\n",
        "\n",
        "\n"
      ],
      "metadata": {
        "id": "DpeJGUA3kjGy"
      }
    },
    {
      "cell_type": "markdown",
      "source": [
        "#### **Define Your Business Objective?**"
      ],
      "metadata": {
        "id": "PH-0ReGfmX4f"
      }
    },
    {
      "cell_type": "markdown",
      "source": [
        "This project analyzes PhonePe’s digital payments data to uncover trends in transactions, user engagement, and insurance adoption across India. By processing raw data, storing it in structured databases, and creating insightful visualizations, it highlights where people use PhonePe the most, how they spend, and which regions show high growth potential.\n",
        "\n",
        "Business Objectives:\n",
        "Find where most people use PhonePe.\n",
        "\n",
        "Understand how customers spend and pay.\n",
        "\n",
        "Spot top areas for growth and marketing.\n",
        "\n",
        "See who buys insurance to plan offers.\n",
        "\n",
        "Use data to make better business decisions."
      ],
      "metadata": {
        "id": "PhDvGCAqmjP1"
      }
    },
    {
      "cell_type": "markdown",
      "source": [
        "# **General Guidelines** : -  "
      ],
      "metadata": {
        "id": "mDgbUHAGgjLW"
      }
    },
    {
      "cell_type": "markdown",
      "source": [
        "1.   Well-structured, formatted, and commented code is required.\n",
        "2.   Exception Handling, Production Grade Code & Deployment Ready Code will be a plus. Those students will be awarded some additional credits.\n",
        "     \n",
        "     The additional credits will have advantages over other students during Star Student selection.\n",
        "       \n",
        "             [ Note: - Deployment Ready Code is defined as, the whole .ipynb notebook should be executable in one go\n",
        "                       without a single error logged. ]\n",
        "\n",
        "3.   Each and every logic should have proper comments.\n",
        "4. You may add as many number of charts you want. Make Sure for each and every chart the following format should be answered.\n",
        "        \n",
        "\n",
        "```\n",
        "# Chart visualization code\n",
        "```\n",
        "            \n",
        "\n",
        "*   Why did you pick the specific chart?\n",
        "*   What is/are the insight(s) found from the chart?\n",
        "* Will the gained insights help creating a positive business impact?\n",
        "Are there any insights that lead to negative growth? Justify with specific reason.\n",
        "\n",
        "5. You have to create at least 20 logical & meaningful charts having important insights.\n",
        "\n",
        "\n",
        "[ Hints : - Do the Vizualization in  a structured way while following \"UBM\" Rule.\n",
        "\n",
        "U - Univariate Analysis,\n",
        "\n",
        "B - Bivariate Analysis (Numerical - Categorical, Numerical - Numerical, Categorical - Categorical)\n",
        "\n",
        "M - Multivariate Analysis\n",
        " ]\n",
        "\n",
        "\n",
        "\n"
      ],
      "metadata": {
        "id": "ZrxVaUj-hHfC"
      }
    },
    {
      "cell_type": "markdown",
      "source": [
        "# ***Let's Begin !***"
      ],
      "metadata": {
        "id": "O_i_v8NEhb9l"
      }
    },
    {
      "cell_type": "markdown",
      "source": [
        "## ***1. Know Your Data***"
      ],
      "metadata": {
        "id": "HhfV-JJviCcP"
      }
    },
    {
      "cell_type": "markdown",
      "source": [
        "### Import Libraries"
      ],
      "metadata": {
        "id": "Y3lxredqlCYt"
      }
    },
    {
      "cell_type": "code",
      "source": [
        "import numpy as np\n",
        "import pandas as pd\n",
        "import matplotlib.pyplot as plt\n",
        "import seaborn as sns\n"
      ],
      "metadata": {
        "id": "M8Vqi-pPk-HR"
      },
      "execution_count": null,
      "outputs": []
    },
    {
      "cell_type": "markdown",
      "source": [
        "### Dataset Loading"
      ],
      "metadata": {
        "id": "3RnN4peoiCZX"
      }
    },
    {
      "cell_type": "code",
      "source": [
        "# 9 datasets are there\n",
        "agregate_transaction_df = pd.read_csv('/content/agregate_transactions.csv')\n",
        "agregate_user_df = pd.read_csv('/content/agregate_users.csv')\n",
        "agregate_insurance_df  = pd.read_csv('/content/agregate_insurances.csv')\n",
        "map_transaction_df = pd.read_csv('/content/map_trans.csv')\n",
        "map_user_df =  pd.read_csv('/content/map_users.csv')\n",
        "map_insurance_df = pd.read_csv('/content/map_insurances.csv')\n",
        "top_transaction_df = pd.read_csv('/content/top_trans.csv')\n",
        "top_user_df = pd.read_csv('/content/top_user.csv')\n",
        "top_insurance_df =pd.read_csv('/content/top_insurance.csv')"
      ],
      "metadata": {
        "id": "4CkvbW_SlZ_R"
      },
      "execution_count": null,
      "outputs": []
    },
    {
      "cell_type": "markdown",
      "source": [
        "### Dataset First View"
      ],
      "metadata": {
        "id": "x71ZqKXriCWQ"
      }
    },
    {
      "cell_type": "code",
      "source": [
        "agregate_transaction_df.head()"
      ],
      "metadata": {
        "id": "LWNFOSvLl09H"
      },
      "execution_count": null,
      "outputs": []
    },
    {
      "cell_type": "code",
      "source": [
        "agregate_user_df.head()"
      ],
      "metadata": {
        "id": "1h8E-EdKUSuO"
      },
      "execution_count": null,
      "outputs": []
    },
    {
      "cell_type": "code",
      "source": [
        "agregate_insurance_df.head()"
      ],
      "metadata": {
        "id": "LhyUag-gUt9C"
      },
      "execution_count": null,
      "outputs": []
    },
    {
      "cell_type": "code",
      "source": [
        "map_transaction_df.head()"
      ],
      "metadata": {
        "id": "ztG5wNrzU2Id"
      },
      "execution_count": null,
      "outputs": []
    },
    {
      "cell_type": "code",
      "source": [
        "map_user_df.head()"
      ],
      "metadata": {
        "id": "wUP7Daf1U_sT"
      },
      "execution_count": null,
      "outputs": []
    },
    {
      "cell_type": "code",
      "source": [
        "map_insurance_df.head()"
      ],
      "metadata": {
        "id": "4R7MOwRTVG7-"
      },
      "execution_count": null,
      "outputs": []
    },
    {
      "cell_type": "code",
      "source": [
        "top_transaction_df.head()"
      ],
      "metadata": {
        "id": "L68iFQaYVN3D"
      },
      "execution_count": null,
      "outputs": []
    },
    {
      "cell_type": "code",
      "source": [
        "top_user_df.head()"
      ],
      "metadata": {
        "id": "PXRq4PvPVUre"
      },
      "execution_count": null,
      "outputs": []
    },
    {
      "cell_type": "code",
      "source": [
        "top_insurance_df.head()"
      ],
      "metadata": {
        "id": "VFqFQHYKVcnr"
      },
      "execution_count": null,
      "outputs": []
    },
    {
      "cell_type": "markdown",
      "source": [
        "### Dataset Rows & Columns count"
      ],
      "metadata": {
        "id": "7hBIi_osiCS2"
      }
    },
    {
      "cell_type": "code",
      "source": [
        "agregate_transaction_df.shape"
      ],
      "metadata": {
        "id": "Kllu7SJgmLij"
      },
      "execution_count": null,
      "outputs": []
    },
    {
      "cell_type": "markdown",
      "source": [
        "5034 entrys and 6 columns are there"
      ],
      "metadata": {
        "id": "nweL_LNIYZJF"
      }
    },
    {
      "cell_type": "code",
      "source": [
        "agregate_user_df.shape"
      ],
      "metadata": {
        "id": "tyZGDyG2XLN5"
      },
      "execution_count": null,
      "outputs": []
    },
    {
      "cell_type": "markdown",
      "source": [
        "6732 entrys and 6 columns are there"
      ],
      "metadata": {
        "id": "VA0l8UXBYlSs"
      }
    },
    {
      "cell_type": "code",
      "source": [
        "agregate_insurance_df.shape"
      ],
      "metadata": {
        "id": "po6kxHssXTpc"
      },
      "execution_count": null,
      "outputs": []
    },
    {
      "cell_type": "markdown",
      "source": [
        "682 entrys and 6 columns are there"
      ],
      "metadata": {
        "id": "rVfI8-JMYtkc"
      }
    },
    {
      "cell_type": "code",
      "source": [
        "map_transaction_df.shape"
      ],
      "metadata": {
        "id": "JrpS35BUXZYm"
      },
      "execution_count": null,
      "outputs": []
    },
    {
      "cell_type": "markdown",
      "source": [
        "20604 entrys and 6 coluns are there"
      ],
      "metadata": {
        "id": "9IYX_Y_LY2vP"
      }
    },
    {
      "cell_type": "code",
      "source": [
        "map_insurance_df.shape"
      ],
      "metadata": {
        "id": "bqOVy0QSXe3R"
      },
      "execution_count": null,
      "outputs": []
    },
    {
      "cell_type": "markdown",
      "source": [
        "13876 entrys and 7 columns are there"
      ],
      "metadata": {
        "id": "h8cu4iXpZA_B"
      }
    },
    {
      "cell_type": "code",
      "source": [
        "map_user_df.shape"
      ],
      "metadata": {
        "id": "nrU8p2Q8XjRg"
      },
      "execution_count": null,
      "outputs": []
    },
    {
      "cell_type": "markdown",
      "source": [
        "20608 entrys and 6 colums are there"
      ],
      "metadata": {
        "id": "IxT69SC4ZJS3"
      }
    },
    {
      "cell_type": "code",
      "source": [
        "top_transaction_df.shape"
      ],
      "metadata": {
        "id": "cYegZ2tfXpOZ"
      },
      "execution_count": null,
      "outputs": []
    },
    {
      "cell_type": "markdown",
      "source": [
        "8296 entrys are there and 7 columns are there"
      ],
      "metadata": {
        "id": "mCeL255kZSGp"
      }
    },
    {
      "cell_type": "code",
      "source": [
        "top_user_df.shape"
      ],
      "metadata": {
        "id": "rya6QfIkXs_X"
      },
      "execution_count": null,
      "outputs": []
    },
    {
      "cell_type": "markdown",
      "source": [
        "10000 entrys and 5 columns are there"
      ],
      "metadata": {
        "id": "fpv1IyBLZbFW"
      }
    },
    {
      "cell_type": "code",
      "source": [
        "top_insurance_df.shape"
      ],
      "metadata": {
        "id": "9zem7PvNX0ub"
      },
      "execution_count": null,
      "outputs": []
    },
    {
      "cell_type": "markdown",
      "source": [
        "6668 entrys and 7 columns are there"
      ],
      "metadata": {
        "id": "OMPcN1xPZliy"
      }
    },
    {
      "cell_type": "markdown",
      "source": [
        "### Dataset Information"
      ],
      "metadata": {
        "id": "JlHwYmJAmNHm"
      }
    },
    {
      "cell_type": "code",
      "source": [
        "agregate_transaction_df.info()"
      ],
      "metadata": {
        "id": "e9hRXRi6meOf"
      },
      "execution_count": null,
      "outputs": []
    },
    {
      "cell_type": "code",
      "source": [
        "agregate_user_df.info()"
      ],
      "metadata": {
        "id": "U8QyQa2JaU23"
      },
      "execution_count": null,
      "outputs": []
    },
    {
      "cell_type": "code",
      "source": [
        "agregate_insurance_df.info()"
      ],
      "metadata": {
        "id": "kihNG2rjaeuy"
      },
      "execution_count": null,
      "outputs": []
    },
    {
      "cell_type": "code",
      "source": [
        "map_transaction_df.info()"
      ],
      "metadata": {
        "id": "6ihzrWy4akZ5"
      },
      "execution_count": null,
      "outputs": []
    },
    {
      "cell_type": "code",
      "source": [
        "map_user_df.info()"
      ],
      "metadata": {
        "id": "3md6AkqgarsB"
      },
      "execution_count": null,
      "outputs": []
    },
    {
      "cell_type": "code",
      "source": [
        "map_insurance_df.info()"
      ],
      "metadata": {
        "id": "BNL-PN9Kawqf"
      },
      "execution_count": null,
      "outputs": []
    },
    {
      "cell_type": "code",
      "source": [
        "top_transaction_df.info()"
      ],
      "metadata": {
        "id": "XdD1bjuva1WG"
      },
      "execution_count": null,
      "outputs": []
    },
    {
      "cell_type": "code",
      "source": [
        "top_user_df.info()"
      ],
      "metadata": {
        "id": "D2w_ccOMbCNi"
      },
      "execution_count": null,
      "outputs": []
    },
    {
      "cell_type": "code",
      "source": [
        "top_insurance_df.info()"
      ],
      "metadata": {
        "id": "VFdg415KbI8t"
      },
      "execution_count": null,
      "outputs": []
    },
    {
      "cell_type": "markdown",
      "source": [
        "#### Duplicate Values"
      ],
      "metadata": {
        "id": "35m5QtbWiB9F"
      }
    },
    {
      "cell_type": "code",
      "source": [
        "print(\"Duplicates in aggregated_transaction:\", agregate_transaction_df.duplicated().sum())\n",
        "print(\"Duplicates in aggregate_user:\", agregate_user_df.duplicated().sum())\n",
        "print(\"Duplicates in aggregated_insurance:\", agregate_insurance_df.duplicated().sum())\n",
        "print(\"Duplicates in map_user:\", map_user_df.duplicated().sum())\n",
        "print(\"Duplicates in map_transaction:\", map_transaction_df.duplicated().sum())\n",
        "print(\"Duplicates in map_insurance:\", map_insurance_df.duplicated().sum())\n",
        "print(\"Duplicates in top_user:\", top_user_df.duplicated().sum())\n",
        "print(\"Duplicates in top_transaction:\", top_transaction_df.duplicated().sum())\n",
        "print(\"Duplicates in top_insurance:\", top_insurance_df.duplicated().sum())"
      ],
      "metadata": {
        "id": "tt0ssquEfMQp"
      },
      "execution_count": null,
      "outputs": []
    },
    {
      "cell_type": "markdown",
      "source": [
        "All these 9 dtataframes have no duplicated values"
      ],
      "metadata": {
        "id": "Zdkb2dTPc4mE"
      }
    },
    {
      "cell_type": "markdown",
      "source": [
        "#### Missing Values/Null Values"
      ],
      "metadata": {
        "id": "PoPl-ycgm1ru"
      }
    },
    {
      "cell_type": "code",
      "source": [
        "print(\"missing values in: \", agregate_transaction_df.isnull().sum().sum())\n",
        "print(\"missing values in: \", agregate_user_df.isnull().sum().sum())\n",
        "print(\"missing values in: \", agregate_insurance_df.isnull().sum().sum())\n",
        "print(\"missing values in: \", map_transaction_df.isnull().sum().sum())\n",
        "print(\"missing values in: \", map_user_df.isnull().sum().sum())\n",
        "print(\"missing values in: \", map_insurance_df.isnull().sum().sum())\n",
        "print(\"missing values in: \", top_transaction_df.isnull().sum().sum())\n",
        "print(\"missing values in: \", top_user_df.isnull().sum().sum())\n",
        "print(\"missing values in: \", top_insurance_df.isnull().sum().sum())\n"
      ],
      "metadata": {
        "id": "M1ly-C2Fg5SG"
      },
      "execution_count": null,
      "outputs": []
    },
    {
      "cell_type": "code",
      "source": [
        "top_insurance_df.isnull().sum()"
      ],
      "metadata": {
        "id": "wA-GOJQWlAxD"
      },
      "execution_count": null,
      "outputs": []
    },
    {
      "cell_type": "code",
      "source": [
        "# Visualize missing values using a heatmap\n",
        "plt.figure(figsize=(10,6))\n",
        "sns.heatmap(top_insurance_df.isnull(), cbar=False, cmap='viridis')\n",
        "plt.title('Missing Values Heatmap in top_insurance')\n",
        "plt.show()"
      ],
      "metadata": {
        "id": "3q5wnI3om9sJ"
      },
      "execution_count": null,
      "outputs": []
    },
    {
      "cell_type": "markdown",
      "source": [
        "### What did you know about your dataset?"
      ],
      "metadata": {
        "id": "H0kj-8xxnORC"
      }
    },
    {
      "cell_type": "markdown",
      "source": [
        "There are 9 dataframes in total, and each one contains the columns: States, Years, and Quarter. None of these dataframes have duplicate records. Among them, only the top_insurance dataframe contains missing values; the rest are complete with no missing data."
      ],
      "metadata": {
        "id": "gfoNAAC-nUe_"
      }
    },
    {
      "cell_type": "markdown",
      "source": [
        "## ***2. Understanding Your Variables***"
      ],
      "metadata": {
        "id": "nA9Y7ga8ng1Z"
      }
    },
    {
      "cell_type": "code",
      "source": [
        "# Dataset Columns\n",
        "agregate_transaction_df.columns"
      ],
      "metadata": {
        "id": "j7xfkqrt5Ag5"
      },
      "execution_count": null,
      "outputs": []
    },
    {
      "cell_type": "code",
      "source": [
        "agregate_user_df.columns"
      ],
      "metadata": {
        "id": "Wm80vPZAn-Df"
      },
      "execution_count": null,
      "outputs": []
    },
    {
      "cell_type": "code",
      "source": [
        "agregate_insurance_df.columns"
      ],
      "metadata": {
        "id": "J6K9D3PNoMqD"
      },
      "execution_count": null,
      "outputs": []
    },
    {
      "cell_type": "code",
      "source": [
        "map_transaction_df.columns"
      ],
      "metadata": {
        "id": "DlLkajZDoVGx"
      },
      "execution_count": null,
      "outputs": []
    },
    {
      "cell_type": "code",
      "source": [
        "map_user_df.columns"
      ],
      "metadata": {
        "id": "ZMHuVb96tuWt"
      },
      "execution_count": null,
      "outputs": []
    },
    {
      "cell_type": "code",
      "source": [
        "map_insurance_df.columns"
      ],
      "metadata": {
        "id": "rw4uW_UGofiG"
      },
      "execution_count": null,
      "outputs": []
    },
    {
      "cell_type": "code",
      "source": [
        "top_transaction_df.columns"
      ],
      "metadata": {
        "id": "Dx8YXpqpomyW"
      },
      "execution_count": null,
      "outputs": []
    },
    {
      "cell_type": "code",
      "source": [
        "top_user_df.columns"
      ],
      "metadata": {
        "id": "rEILfJPEosXP"
      },
      "execution_count": null,
      "outputs": []
    },
    {
      "cell_type": "code",
      "source": [
        "top_insurance_df.columns"
      ],
      "metadata": {
        "id": "wIEVLDaOoyQK"
      },
      "execution_count": null,
      "outputs": []
    },
    {
      "cell_type": "code",
      "source": [
        "# Dataset Describe\n",
        "agregate_transaction_df.describe()\n"
      ],
      "metadata": {
        "id": "DnOaZdaE5Q5t"
      },
      "execution_count": null,
      "outputs": []
    },
    {
      "cell_type": "code",
      "source": [
        "agregate_user_df.describe()\n"
      ],
      "metadata": {
        "id": "4grFMYE_pVRD"
      },
      "execution_count": null,
      "outputs": []
    },
    {
      "cell_type": "code",
      "source": [
        "agregate_insurance_df.describe()\n"
      ],
      "metadata": {
        "id": "h-4NE8cgpdCE"
      },
      "execution_count": null,
      "outputs": []
    },
    {
      "cell_type": "code",
      "source": [
        "map_transaction_df.describe()\n"
      ],
      "metadata": {
        "id": "CRn1qqkuphbG"
      },
      "execution_count": null,
      "outputs": []
    },
    {
      "cell_type": "code",
      "source": [
        "map_user_df.describe()\n"
      ],
      "metadata": {
        "id": "eLUPgkmNplQM"
      },
      "execution_count": null,
      "outputs": []
    },
    {
      "cell_type": "code",
      "source": [
        "map_insurance_df.describe()\n"
      ],
      "metadata": {
        "id": "vDtpX_zQpqb4"
      },
      "execution_count": null,
      "outputs": []
    },
    {
      "cell_type": "code",
      "source": [
        "top_transaction_df.describe()\n"
      ],
      "metadata": {
        "id": "9NOsnbZapx5f"
      },
      "execution_count": null,
      "outputs": []
    },
    {
      "cell_type": "code",
      "source": [
        "top_user_df.describe()\n"
      ],
      "metadata": {
        "id": "K2Ko1TgGp1ef"
      },
      "execution_count": null,
      "outputs": []
    },
    {
      "cell_type": "code",
      "source": [
        "top_insurance_df.describe()\n"
      ],
      "metadata": {
        "id": "rmSTtvmUp8Xr"
      },
      "execution_count": null,
      "outputs": []
    },
    {
      "cell_type": "code",
      "source": [],
      "metadata": {
        "id": "NAhcyedip9vf"
      },
      "execution_count": null,
      "outputs": []
    },
    {
      "cell_type": "markdown",
      "source": [
        "### Variables Description"
      ],
      "metadata": {
        "id": "PBTbrJXOngz2"
      }
    },
    {
      "cell_type": "markdown",
      "source": [
        "aggregate_transaction_df dataframe:\n",
        "\n",
        "States: Name of the Indian state where the transactions took place.\n",
        "\n",
        "Years: Year of the recorded transaction data (e.g., 2018, 2019).\n",
        "\n",
        "Quarter: Quarter of the year (1 to 4) representing the three-month period.\n",
        "\n",
        "Transaction_type: Type of transaction (e.g., Peer-to-peer transfer, merchant payment).\n",
        "\n",
        "Transaction_count: Total number of transactions recorded for that type, state, year, and quarter.\n",
        "\n",
        "Transaction_amount: Total value of transactions (likely in INR) for that type, state, year, and quarter.\n",
        "\n",
        "aggregate_user_df dataframe:\n",
        "\n",
        "\n",
        "States:\tName of the Indian state where user data was recorded.\n",
        "Years:\tYear of the data record (e.g., 2018, 2019).\n",
        "\n",
        "Quarter:\tQuarter of the year (1 to 4), indicating the three-month period.\n",
        "\n",
        "Brand_type:\tMobile device brand used by registered users (e.g., Xiaomi, Samsung).\n",
        "\n",
        "User_count:\tNumber of users of that brand in the specified state, year, and quarter.\n",
        "\n",
        "User_percentage:\tPercentage of total users that belong to this brand segment in the given grouping.\n",
        "\n",
        "aggregate_insurance_df dataframe:\n",
        "\n",
        "States:\tName of the Indian state where the insurance transactions were recorded.\n",
        "\n",
        "Years:\tYear of the transaction data (e.g., 2018, 2019).\n",
        "Quarter:\tQuarter of the year (1 to 4), representing the three-month period.\n",
        "\n",
        "Transaction_type:\tType/category of insurance transaction (such as “TOTAL”).\n",
        "\n",
        "Transaction_count:\tTotal number of insurance transactions in that period and state.\n",
        "\n",
        "Transaction_amount:\tTotal value (amount in INR) of these insurance transactions.\n",
        "\n",
        "map_transaction_df dataframe:\n",
        "\n",
        "\n",
        "States:\tName of the Indian state where the mapped transactions were recorded.\n",
        "\n",
        "Years:\tYear of the transaction data (e.g., 2018, 2019).\n",
        "\n",
        "Quarter:\tQuarter of the year (1 to 4), representing the three-month period.\n",
        "\n",
        "Map_type:\tGeographic level of mapping (typically district or pincode name).\n",
        "\n",
        "Map_count:\tNumber of transactions in that specific mapped region.\n",
        "\n",
        "Map_amount:\tTotal value (amount in INR) of transactions in that mapped region.\n",
        "\n",
        "\n",
        "map_user_df dataframe:\n",
        "\n",
        "\n",
        "States:\tName of the Indian state where the data was recorded.\n",
        "\n",
        "Years:\tYear of the data (e.g., 2018, 2019).\n",
        "\n",
        "Quarter:\tQuarter of the year (1 to 4), representing the three-month period.\n",
        "\n",
        "District:\tName of the district within the state.\n",
        "Regi_users:\tNumber of registered users in that district.\n",
        "\n",
        "app_opens:\tNumber of times the app was opened in that district.\n",
        "\n",
        "\n",
        "map_insurance_df dataframe:\n",
        "\n",
        "\n",
        "States:\tName of the Indian state where the insurance data was recorded.\n",
        "\n",
        "Years:\tYear of the data (e.g., 2018, 2019).\n",
        "\n",
        "Quarter:\tQuarter of the year (1 to 4), representing the three-month period.\n",
        "\n",
        "District:\tName of the district within the state.\n",
        "Transaction_type:\tType of insurance transaction (e.g., TOTAL).\n",
        "\n",
        "Transaction_count:\tNumber of insurance transactions in that district for the period.\n",
        "\n",
        "top_transaction_df:\n",
        "\n",
        "\n",
        "States:\tName of the state where the data is recorded.\n",
        "\n",
        "Years:\tYear of the data (e.g., 2018, 2019).\n",
        "\n",
        "Quarter:\tQuarter of the year (1 to 4).\n",
        "\n",
        "District:\tName of the district within the state.\n",
        "\n",
        "Pincodes:\tPincode area within the district (can be empty or specific).\n",
        "\n",
        "Transaction_type:\tType/category of the transaction (e.g., TOTAL, recharge, bill payments).\n",
        "\n",
        "Transaction_count:\tNumber of transactions of this type in that area and period.\n",
        "\n",
        "Transaction_amount:\tTotal value (amount in INR) of these transactions.\n",
        "\n",
        "\n",
        "top_user_df columns:\n",
        "\n",
        "\n",
        "States:\tName of the state where the data was recorded.\n",
        "\n",
        "Years:\tYear of the data (e.g., 2018, 2019).\n",
        "\n",
        "Quarter:\tQuarter of the year (1 to 4).\n",
        "\n",
        "pincodes:\tSpecific pincode area within the state where users were counted.\n",
        "\n",
        "Regi_users:\tNumber of registered users in that pincode during the period.\n",
        "\n",
        "\n",
        "\n",
        "top_insurance_df:\n",
        "\n",
        "\n",
        "States:\tName of the state where the insurance data was recorded.\n",
        "\n",
        "Years:\tYear of the data (e.g., 2018, 2019).\n",
        "\n",
        "Quarter:\tQuarter of the year (1 to 4).\n",
        "\n",
        "pincode:\tSpecific pincode area within the state.\n",
        "\n",
        "Transaction_type:\tType/category of insurance transaction (usually ‘TOTAL’ here).\n",
        "\n",
        "Transaction_count:\tNumber of insurance transactions in that pincode for the period.\n",
        "\n",
        "Transaction_amount:\tTotal amount transacted for insurance in that pincode."
      ],
      "metadata": {
        "id": "aJV4KIxSnxay"
      }
    },
    {
      "cell_type": "markdown",
      "source": [
        "### Check Unique Values for each variable."
      ],
      "metadata": {
        "id": "u3PMJOP6ngxN"
      }
    },
    {
      "cell_type": "code",
      "source": [
        "# Check Unique Values for each variable.\n",
        "agregate_transaction_df.nunique()\n"
      ],
      "metadata": {
        "id": "zms12Yq5n-jE"
      },
      "execution_count": null,
      "outputs": []
    },
    {
      "cell_type": "code",
      "source": [
        "agregate_user_df.nunique()\n"
      ],
      "metadata": {
        "id": "w1Zy_IMkzDcZ"
      },
      "execution_count": null,
      "outputs": []
    },
    {
      "cell_type": "code",
      "source": [
        "agregate_insurance_df.nunique()\n"
      ],
      "metadata": {
        "id": "nG8BxxwSzKT4"
      },
      "execution_count": null,
      "outputs": []
    },
    {
      "cell_type": "code",
      "source": [
        "map_transaction_df.nunique()\n"
      ],
      "metadata": {
        "id": "Axi3absTzNK2"
      },
      "execution_count": null,
      "outputs": []
    },
    {
      "cell_type": "code",
      "source": [
        "map_user_df.nunique()\n"
      ],
      "metadata": {
        "id": "R4YlXtWxzSUI"
      },
      "execution_count": null,
      "outputs": []
    },
    {
      "cell_type": "code",
      "source": [
        "map_insurance_df.nunique()\n"
      ],
      "metadata": {
        "id": "BEB-2xENzYKX"
      },
      "execution_count": null,
      "outputs": []
    },
    {
      "cell_type": "code",
      "source": [
        "top_transaction_df.nunique()\n"
      ],
      "metadata": {
        "id": "XJ8fYt6Fzc8a"
      },
      "execution_count": null,
      "outputs": []
    },
    {
      "cell_type": "code",
      "source": [
        "top_user_df.nunique()\n"
      ],
      "metadata": {
        "id": "ourZdC5gzgWt"
      },
      "execution_count": null,
      "outputs": []
    },
    {
      "cell_type": "code",
      "source": [
        "top_insurance_df.nunique()"
      ],
      "metadata": {
        "id": "m1ctAk-dzkxb"
      },
      "execution_count": null,
      "outputs": []
    },
    {
      "cell_type": "markdown",
      "source": [
        "## 3. ***Data Wrangling***"
      ],
      "metadata": {
        "id": "dauF4eBmngu3"
      }
    },
    {
      "cell_type": "markdown",
      "source": [
        "### Data Wrangling Code"
      ],
      "metadata": {
        "id": "bKJF3rekwFvQ"
      }
    },
    {
      "cell_type": "code",
      "source": [
        "# Write your code to make your dataset analysis ready.\n",
        "dfs = {\n",
        "    \"agregate_transaction_df\": agregate_transaction_df,\n",
        "    \"agregate_user_df\": agregate_user_df,\n",
        "    \"agregate_insurance_df\": agregate_insurance_df,\n",
        "    \"map_transaction_df\": map_transaction_df,\n",
        "    \"map_user_df\": map_user_df,\n",
        "    \"map_insurance_df\": map_insurance_df,\n",
        "    \"top_transaction_df\": top_transaction_df,\n",
        "    \"top_user_df\": top_user_df,\n",
        "    \"top_insurance_df\": top_insurance_df\n",
        "}\n",
        "\n",
        "# Loop through each dataframe and clean\n",
        "for name, df in dfs.items():\n",
        "    print(f\"\\nProcessing {name}\")\n",
        "\n",
        "\n",
        "    # Handle missing values\n",
        "    if df.isnull().values.any():\n",
        "        print(f\"Missing values found in {name}\")\n",
        "        if name == \"top_insurance_df\":\n",
        "            # Example: fill missing with 0\n",
        "            df.fillna(0, inplace=True)\n",
        "\n",
        "\n",
        "    # Reset index after cleaning\n",
        "    df.reset_index(drop=True, inplace=True)\n"
      ],
      "metadata": {
        "id": "wk-9a2fpoLcV"
      },
      "execution_count": null,
      "outputs": []
    },
    {
      "cell_type": "markdown",
      "source": [
        "### What all manipulations have you done and insights you found?"
      ],
      "metadata": {
        "id": "MSa1f5Uengrz"
      }
    },
    {
      "cell_type": "markdown",
      "source": [
        "9 datasets are there. All are big in size. Their is no duplicate values. only one field pincode contains missing values. use fillna() methode there.\n",
        "\n",
        "\n",
        "\n"
      ],
      "metadata": {
        "id": "LbyXE7I1olp8"
      }
    },
    {
      "cell_type": "markdown",
      "source": [
        "## ***4. Data Vizualization, Storytelling & Experimenting with charts : Understand the relationships between variables***"
      ],
      "metadata": {
        "id": "GF8Ens_Soomf"
      }
    },
    {
      "cell_type": "markdown",
      "source": [
        "#### Chart - 1"
      ],
      "metadata": {
        "id": "0wOQAZs5pc--"
      }
    },
    {
      "cell_type": "code",
      "source": [
        "# Chart - 1 Transcaction over year\n",
        "import seaborn as sns\n",
        "import matplotlib.pyplot as plt\n",
        "\n",
        "plt.figure(figsize=(10,6))\n",
        "sns.barplot(data=agregate_transaction_df, x=\"Years\", y=\"Transaction_count\", ci=None)\n",
        "plt.title(\"Total Transactions per Year\")\n",
        "plt.ylabel(\"Transaction Count\")\n",
        "plt.xlabel(\"Year\")\n",
        "plt.show()"
      ],
      "metadata": {
        "id": "7v_ESjsspbW7"
      },
      "execution_count": null,
      "outputs": []
    },
    {
      "cell_type": "markdown",
      "source": [
        "##### 1. Why did you pick the specific chart?"
      ],
      "metadata": {
        "id": "K5QZ13OEpz2H"
      }
    },
    {
      "cell_type": "markdown",
      "source": [
        "The bar chart shows a steady increase in total transactions from 2018 to 2024, suggesting consistent growth year over yea Each year's transaction count rises noticeably, with 2024 peaking at the highest value, exceeding 800 million. This upward trend indicates expanding activity, possibly reflecting user growth, system scalability, or increased engagement in the platform."
      ],
      "metadata": {
        "id": "XESiWehPqBRc"
      }
    },
    {
      "cell_type": "markdown",
      "source": [
        "##### 2. What is/are the insight(s) found from the chart?"
      ],
      "metadata": {
        "id": "lQ7QKXXCp7Bj"
      }
    },
    {
      "cell_type": "markdown",
      "source": [
        "The chart reveals a consistent and significant year-over-year increase in total transactions, signaling strong momentum and sustained growth from 2018 to 2024. The sharp rise in transactions by 2024, surpassing 800 million, may indicate a maturing platform that’s scaling efficiently and attracting more users or business activity."
      ],
      "metadata": {
        "id": "C_j1G7yiqdRP"
      }
    },
    {
      "cell_type": "markdown",
      "source": [
        "##### 3. Will the gained insights help creating a positive business impact?\n",
        "Are there any insights that lead to negative growth? Justify with specific reason."
      ],
      "metadata": {
        "id": "448CDAPjqfQr"
      }
    },
    {
      "cell_type": "markdown",
      "source": [
        "The steady increase in transactions from 2018 to 2024 suggests strong performance and consistent business growth. This trend indicates rising customer engagement, successful platform strategies, and opportunities for expansion. No signs of negative growth appear, as there are no dips or plateaus throughout the data—only upward momentum."
      ],
      "metadata": {
        "id": "3cspy4FjqxJW"
      }
    },
    {
      "cell_type": "markdown",
      "source": [
        "#### Chart - 2"
      ],
      "metadata": {
        "id": "KSlN3yHqYklG"
      }
    },
    {
      "cell_type": "code",
      "source": [
        "# Chart - 2 Histogram of user_count\n",
        "import matplotlib.pyplot as plt\n",
        "\n",
        "plt.figure(figsize=(8,5))\n",
        "plt.hist(agregate_user_df['User_count'], bins=30, color='skyblue', edgecolor='black')\n",
        "plt.title('Distribution of User Count')\n",
        "plt.xlabel('User Count')\n",
        "plt.ylabel('Frequency')\n",
        "plt.grid(axis='y', linestyle='--', alpha=0.7)\n",
        "plt.show()"
      ],
      "metadata": {
        "id": "R4YgtaqtYklH"
      },
      "execution_count": null,
      "outputs": []
    },
    {
      "cell_type": "markdown",
      "source": [
        "##### 1. Why did you pick the specific chart?"
      ],
      "metadata": {
        "id": "t6dVpIINYklI"
      }
    },
    {
      "cell_type": "markdown",
      "source": [
        "This histogram displays how user counts are distributed, with most users concentrated at the lower end of the range. The highest frequency—around 5000—is seen in the smallest user count interval, and the frequency drops sharply as the user count increases. This skewed distribution suggests that a large portion of users have relatively low activity or engagement, while only a few reach higher user count levels."
      ],
      "metadata": {
        "id": "5aaW0BYyYklI"
      }
    },
    {
      "cell_type": "markdown",
      "source": [
        "##### 2. What is/are the insight(s) found from the chart?"
      ],
      "metadata": {
        "id": "ijmpgYnKYklI"
      }
    },
    {
      "cell_type": "markdown",
      "source": [
        "The chart reveals that most users fall within the lowest activity range, showing a strong concentration at the lower end of the distribution. As the user count increases, the frequency rapidly declines—indicating only a small portion of highly active users. This skewed pattern suggests a need to analyze engagement strategies, as a majority of users may not be fully utilizing the platform’s capabilities."
      ],
      "metadata": {
        "id": "PSx9atu2YklI"
      }
    },
    {
      "cell_type": "markdown",
      "source": [
        "##### 3. Will the gained insights help creating a positive business impact?\n",
        "Are there any insights that lead to negative growth? Justify with specific reason."
      ],
      "metadata": {
        "id": "-JiQyfWJYklI"
      }
    },
    {
      "cell_type": "markdown",
      "source": [
        " The chart indicates that most users are clustered at low activity levels, while only a few show high engagement. This imbalance suggests untapped potential and possible disengagement among the majority, posing a risk to long-term user retention. However, identifying and nurturing high-performing users can boost revenue and offer opportunities for targeted growth strategies."
      ],
      "metadata": {
        "id": "BcBbebzrYklV"
      }
    },
    {
      "cell_type": "markdown",
      "source": [
        "#### Chart - 3"
      ],
      "metadata": {
        "id": "EM7whBJCYoAo"
      }
    },
    {
      "cell_type": "code",
      "source": [
        "# Chart - 3 Histogram for Transaction_amount\n",
        "plt.figure(figsize=(8,5))\n",
        "plt.hist(agregate_insurance_df['Transaction_amount'], bins=20, color='purple', edgecolor='black')\n",
        "plt.title('Distribution of Transaction Amount')\n",
        "plt.xlabel('Transaction Amount')\n",
        "plt.ylabel('Frequency')\n",
        "plt.grid(axis='y', linestyle='--', alpha=0.7)\n",
        "plt.show()"
      ],
      "metadata": {
        "id": "t6GMdE67YoAp"
      },
      "execution_count": null,
      "outputs": []
    },
    {
      "cell_type": "markdown",
      "source": [
        "##### 1. Why did you pick the specific chart?"
      ],
      "metadata": {
        "id": "fge-S5ZAYoAp"
      }
    },
    {
      "cell_type": "markdown",
      "source": [
        "The histogram titled \"Distribution of Transaction Amount\" shows how frequently different transaction sizes occur.  Most transactions are clustered at the lower end of the amount range, with frequency sharply declining as the amount increases. This pattern suggests small transactions dominate, while large-value transactions are rare, pointing to typical user behavior or platform usage trends."
      ],
      "metadata": {
        "id": "5dBItgRVYoAp"
      }
    },
    {
      "cell_type": "markdown",
      "source": [
        "##### 2. What is/are the insight(s) found from the chart?"
      ],
      "metadata": {
        "id": "85gYPyotYoAp"
      }
    },
    {
      "cell_type": "markdown",
      "source": [
        "The chart shows that most transactions are small in value, clustered tightly near the lower end of the scale. As transaction amounts increase, their frequency sharply decreases, forming a classic right-skewed pattern. This may suggest a typical customer behavior where large-value transactions are rare and could be worth deeper investigation depending on the context."
      ],
      "metadata": {
        "id": "4jstXR6OYoAp"
      }
    },
    {
      "cell_type": "markdown",
      "source": [
        "##### 3. Will the gained insights help creating a positive business impact?\n",
        "Are there any insights that lead to negative growth? Justify with specific reason."
      ],
      "metadata": {
        "id": "RoGjAbkUYoAp"
      }
    },
    {
      "cell_type": "markdown",
      "source": [
        "the insights can lead to positive business impact by focusing efforts on optimizing low-value, high-frequency transactions. The lack of high-value transactions could signal missed opportunities or customer reluctance, which might hinder revenue growth."
      ],
      "metadata": {
        "id": "zfJ8IqMcYoAp"
      }
    },
    {
      "cell_type": "markdown",
      "source": [
        "#### Chart - 4"
      ],
      "metadata": {
        "id": "4Of9eVA-YrdM"
      }
    },
    {
      "cell_type": "code",
      "source": [
        "# Chart - 4\n",
        "import seaborn as sns\n",
        "\n",
        "plt.figure(figsize=(10,7))\n",
        "sns.scatterplot(data=map_transaction_df, x='Map_count', y='Map_amount', hue='States', palette='tab10', s=100)\n",
        "plt.title('Scatter Plot of Map_count vs Map_amount by State')\n",
        "plt.xlabel('Map_count')\n",
        "plt.ylabel('Map_amount')\n",
        "plt.legend(bbox_to_anchor=(1.05, 1), loc='upper left')\n",
        "plt.grid(True, linestyle='--', alpha=0.6)\n",
        "plt.show()"
      ],
      "metadata": {
        "id": "irlUoxc8YrdO"
      },
      "execution_count": null,
      "outputs": []
    },
    {
      "cell_type": "markdown",
      "source": [
        "##### 1. Why did you pick the specific chart?"
      ],
      "metadata": {
        "id": "iky9q4vBYrdO"
      }
    },
    {
      "cell_type": "markdown",
      "source": [
        "A scatter plot is ideal for comparing continuous values like transaction count and amount across multiple states. It clearly shows how volume and value vary, revealing trends, clusters, or anomalies. This visual clarity makes it easy to spot which states contribute more or less to overall business performance."
      ],
      "metadata": {
        "id": "aJRCwT6DYrdO"
      }
    },
    {
      "cell_type": "markdown",
      "source": [
        "##### 2. What is/are the insight(s) found from the chart?"
      ],
      "metadata": {
        "id": "F6T5p64dYrdO"
      }
    },
    {
      "cell_type": "markdown",
      "source": [
        "The chart reveals a positive correlation between transaction count and amount, meaning states with more activity tend to generate higher monetary values. Maharashtra clearly leads in both metrics, making it a key driver of overall performance. Most other states show lower values, hinting at regional imbalances that might need strategic attention."
      ],
      "metadata": {
        "id": "Xx8WAJvtYrdO"
      }
    },
    {
      "cell_type": "markdown",
      "source": [
        "##### 3. Will the gained insights help creating a positive business impact?\n",
        "Are there any insights that lead to negative growth? Justify with specific reason."
      ],
      "metadata": {
        "id": "y-Ehk30pYrdP"
      }
    },
    {
      "cell_type": "markdown",
      "source": [
        "these insights support positive business impact by revealing high-performing regions and validating that higher engagement leads to greater value. However, the concentration of low-activity states suggests limited market reach, which can slow growth if ignored. Targeted campaigns, infrastructure boosts, or regional incentives could help unlock untapped potential in those areas."
      ],
      "metadata": {
        "id": "jLNxxz7MYrdP"
      }
    },
    {
      "cell_type": "markdown",
      "source": [
        "#### Chart - 5"
      ],
      "metadata": {
        "id": "bamQiAODYuh1"
      }
    },
    {
      "cell_type": "code",
      "source": [
        "plt.figure(figsize=(10,6))\n",
        "sns.histplot(map_user_df['Regi_users'], bins=20, kde=True, color='teal')\n",
        "plt.title('Distribution of Registered Users')\n",
        "plt.xlabel('Registered Users')\n",
        "plt.ylabel('Frequency')\n",
        "plt.show()"
      ],
      "metadata": {
        "id": "jB5ATCk9BDOF"
      },
      "execution_count": null,
      "outputs": []
    },
    {
      "cell_type": "markdown",
      "source": [
        "##### 1. Why did you pick the specific chart?"
      ],
      "metadata": {
        "id": "QHF8YVU7Yuh3"
      }
    },
    {
      "cell_type": "markdown",
      "source": [
        "This chart was chosen because it effectively displays how registered users are distributed across different activity levels. The histogram bars show frequency, while the line overlay helps highlight trends and shifts in registration behavior. It’s ideal for spotting concentration points and understanding user engagement at scale."
      ],
      "metadata": {
        "id": "dcxuIMRPYuh3"
      }
    },
    {
      "cell_type": "markdown",
      "source": [
        "##### 2. What is/are the insight(s) found from the chart?"
      ],
      "metadata": {
        "id": "GwzvFGzlYuh3"
      }
    },
    {
      "cell_type": "markdown",
      "source": [
        "Answer Here"
      ],
      "metadata": {
        "id": "uyqkiB8YYuh3"
      }
    },
    {
      "cell_type": "markdown",
      "source": [
        "##### 3. Will the gained insights help creating a positive business impact?\n",
        "Are there any insights that lead to negative growth? Justify with specific reason."
      ],
      "metadata": {
        "id": "qYpmQ266Yuh3"
      }
    },
    {
      "cell_type": "markdown",
      "source": [
        "The chart shows that most registered users fall within the lowest frequency range, indicating limited engagement across many segments. A sharp drop in user counts as registration levels rise suggests that high-volume engagement is rare. This trend highlights the need to boost user activity through targeted outreach or incentives."
      ],
      "metadata": {
        "id": "_WtzZ_hCYuh4"
      }
    },
    {
      "cell_type": "markdown",
      "source": [
        "#### Chart - 6"
      ],
      "metadata": {
        "id": "OH-pJp9IphqM"
      }
    },
    {
      "cell_type": "code",
      "source": [
        "# Chart - 6\n",
        "plt.figure(figsize=(10,6))\n",
        "sns.scatterplot(x='Transaction_count', y='Transaction_amount', data=map_insurance_df, hue='District', palette='viridis', s=100)\n",
        "\n",
        "plt.title('Transaction Count vs Transaction Amount by District')\n",
        "plt.xlabel('Transaction Count')\n",
        "plt.ylabel('Transaction Amount')\n",
        "plt.legend(title='District', bbox_to_anchor=(1.05, 1), loc='upper left')\n",
        "plt.grid(True)\n",
        "plt.show()"
      ],
      "metadata": {
        "id": "kuRf4wtuphqN"
      },
      "execution_count": null,
      "outputs": []
    },
    {
      "cell_type": "markdown",
      "source": [
        "##### 1. Why did you pick the specific chart?"
      ],
      "metadata": {
        "id": "bbFf2-_FphqN"
      }
    },
    {
      "cell_type": "markdown",
      "source": [
        "The scatter plot shows that most data points cluster near the diagonal line, indicating good alignment between predicted and actual values. A few outliers deviate noticeably, suggesting areas where the model’s accuracy could be improved. The color-coded markers may reflect performance differences across data segments, helping pinpoint inconsistencies more effectively."
      ],
      "metadata": {
        "id": "loh7H2nzphqN"
      }
    },
    {
      "cell_type": "markdown",
      "source": [
        "##### 2. What is/are the insight(s) found from the chart?"
      ],
      "metadata": {
        "id": "_ouA3fa0phqN"
      }
    },
    {
      "cell_type": "markdown",
      "source": [
        "The chart reveals that the model has high predictive accuracy, with most data points closely aligning along the diagonal line. Both training and testing data exhibit consistent performance, suggesting the model generalizes well. The few outliers indicate rare inaccuracies that could be fine-tuned for even better results."
      ],
      "metadata": {
        "id": "VECbqPI7phqN"
      }
    },
    {
      "cell_type": "markdown",
      "source": [
        "##### 3. Will the gained insights help creating a positive business impact?\n",
        "Are there any insights that lead to negative growth? Justify with specific reason."
      ],
      "metadata": {
        "id": "Seke61FWphqN"
      }
    },
    {
      "cell_type": "markdown",
      "source": [
        "Yes,the insights highlight reliable model performance, supporting confident and informed business decision-making. The presence of a few outliers signals isolated prediction errors that could lead to misjudgments if overlooked. Refining the model with additional features or better data handling could strengthen accuracy and minimize risk."
      ],
      "metadata": {
        "id": "DW4_bGpfphqN"
      }
    },
    {
      "cell_type": "markdown",
      "source": [
        "#### Chart - 7"
      ],
      "metadata": {
        "id": "PIIx-8_IphqN"
      }
    },
    {
      "cell_type": "code",
      "source": [
        "# Chart - 7\n",
        "plt.figure(figsize=(12,6))\n",
        "sns.boxplot(data=top_transaction_df, x='States', y='Transaction_amount')\n",
        "\n",
        "plt.title('Transaction Amount Distribution by State')\n",
        "plt.xlabel('State')\n",
        "plt.ylabel('Transaction Amount')\n",
        "plt.xticks(rotation=45)\n",
        "plt.grid(axis='y')\n",
        "plt.show()"
      ],
      "metadata": {
        "id": "lqAIGUfyphqO"
      },
      "execution_count": null,
      "outputs": []
    },
    {
      "cell_type": "markdown",
      "source": [
        "##### 1. Why did you pick the specific chart?"
      ],
      "metadata": {
        "id": "t27r6nlMphqO"
      }
    },
    {
      "cell_type": "markdown",
      "source": [
        "This box plot was selected to visualize the spread and concentration of transaction amounts in West Bengal clearly and efficiently. It highlights the median value, variability, and presence of extreme outliers, helping identify patterns and anomalies at a glance. Its compact structure makes it ideal for comparing financial data with wide value ranges and potential skewness."
      ],
      "metadata": {
        "id": "iv6ro40sphqO"
      }
    },
    {
      "cell_type": "markdown",
      "source": [
        "##### 2. What is/are the insight(s) found from the chart?"
      ],
      "metadata": {
        "id": "r2jJGEOYphqO"
      }
    },
    {
      "cell_type": "markdown",
      "source": [
        "The chart reveals that most transactions in West Bengal are low in value, with a few exceptionally large ones pushing the upper limits of the distribution. This skewed pattern suggests routine financial activity mixed with rare, high-value outliers—possibly from institutional or enterprise sources. The wide spread in transaction amounts signals significant variability that may need closer monitoring or segmentation."
      ],
      "metadata": {
        "id": "Po6ZPi4hphqO"
      }
    },
    {
      "cell_type": "markdown",
      "source": [
        "##### 3. Will the gained insights help creating a positive business impact?\n",
        "Are there any insights that lead to negative growth? Justify with specific reason."
      ],
      "metadata": {
        "id": "b0JNsNcRphqO"
      }
    },
    {
      "cell_type": "markdown",
      "source": [
        "Yes, the insights offer potential for positive business impact by showing that most transactions are small, while rare high-value outliers exist, possibly from major enterprises. This helps businesses optimize services for frequent low-value users while designing targeted strategies for high-value clients. However, the sharp disparity in transaction sizes may signal unequal engagement or market dependence on a few large contributors, which could pose risks if those outliers disappear or shift."
      ],
      "metadata": {
        "id": "xvSq8iUTphqO"
      }
    },
    {
      "cell_type": "markdown",
      "source": [
        "#### Chart - 8"
      ],
      "metadata": {
        "id": "BZR9WyysphqO"
      }
    },
    {
      "cell_type": "code",
      "source": [
        "# Chart - 8\n",
        "state_totals = top_user_df.groupby('States')['Regi_users'].sum().sort_values(ascending=False)\n",
        "\n",
        "# Create the bar chart\n",
        "plt.figure(figsize=(12,6))\n",
        "state_totals.plot(kind='bar', color='skyblue')\n",
        "\n",
        "plt.title('Regi_users - by State')\n",
        "plt.xlabel('State')\n",
        "plt.ylabel('Regi_users ')\n",
        "plt.xticks(rotation=45)\n",
        "plt.grid(axis='y')\n",
        "plt.show()"
      ],
      "metadata": {
        "id": "TdPTWpAVphqO"
      },
      "execution_count": null,
      "outputs": []
    },
    {
      "cell_type": "markdown",
      "source": [
        "##### 1. Why did you pick the specific chart?"
      ],
      "metadata": {
        "id": "jj7wYXLtphqO"
      }
    },
    {
      "cell_type": "markdown",
      "source": [
        "This bar chart was chosen because it clearly compares registered user counts across various states, making regional performance easy to visualize. It highlights top states like Delhi and Karnataka, showing which areas have strong user engagement. The steep drop-off between states reveals significant regional disparities that could inform outreach and growth strategies."
      ],
      "metadata": {
        "id": "Ob8u6rCTphqO"
      }
    },
    {
      "cell_type": "markdown",
      "source": [
        "##### 2. What is/are the insight(s) found from the chart?"
      ],
      "metadata": {
        "id": "eZrbJ2SmphqO"
      }
    },
    {
      "cell_type": "markdown",
      "source": [
        "The chart shows that Delhi leads in registered users, followed by Karnataka, Uttar Pradesh, and Maharashtra, each with over 70 million users. There’s a steep decline after the top states, highlighting a major engagement gap across regions. States like Mizoram and Lakshadweep have notably low registrations, pointing to limited outreach or digital access."
      ],
      "metadata": {
        "id": "mZtgC_hjphqO"
      }
    },
    {
      "cell_type": "markdown",
      "source": [
        "##### 3. Will the gained insights help creating a positive business impact?\n",
        "Are there any insights that lead to negative growth? Justify with specific reason."
      ],
      "metadata": {
        "id": "rFu4xreNphqO"
      }
    },
    {
      "cell_type": "markdown",
      "source": [
        "The insights support positive business impact by identifying high-registration states like Delhi and Karnataka, which can be models for successful outreach. However, states with low user counts, such as Mizoram and Lakshadweep, reveal digital engagement gaps that could slow inclusive growth. Addressing these disparities through targeted strategies may unlock untapped potential and broaden market reach."
      ],
      "metadata": {
        "id": "ey_0qi68phqO"
      }
    },
    {
      "cell_type": "markdown",
      "source": [
        "#### Chart - 9"
      ],
      "metadata": {
        "id": "YJ55k-q6phqO"
      }
    },
    {
      "cell_type": "code",
      "source": [
        "# Chart - 9\n",
        "state_totals = top_insurance_df.groupby('States')['Transaction_amount'].sum().sort_values(ascending=False)\n",
        "\n",
        "# Create the bar chart\n",
        "plt.figure(figsize=(12,6))\n",
        "state_totals.plot(kind='bar', color='skyblue')\n",
        "\n",
        "plt.title('Total Transaction Amount by State')\n",
        "plt.xlabel('State')\n",
        "plt.ylabel('Total Transaction Amount')\n",
        "plt.xticks(rotation=45)\n",
        "plt.grid(axis='y')\n",
        "plt.show()"
      ],
      "metadata": {
        "id": "B2aS4O1ophqO"
      },
      "execution_count": null,
      "outputs": []
    },
    {
      "cell_type": "markdown",
      "source": [
        "##### 1. Why did you pick the specific chart?"
      ],
      "metadata": {
        "id": "gCFgpxoyphqP"
      }
    },
    {
      "cell_type": "markdown",
      "source": [
        "This bar chart was chosen to show how total transaction volumes vary across states, clearly highlighting regional economic activity. It identifies top performers like Karnataka, Telangana, and Maharashtra, making it easier to pinpoint financial strongholds. Its clean layout helps visualize disparities in transaction value, aiding strategic planning and resource allocation."
      ],
      "metadata": {
        "id": "TVxDimi2phqP"
      }
    },
    {
      "cell_type": "markdown",
      "source": [
        "##### 2. What is/are the insight(s) found from the chart?"
      ],
      "metadata": {
        "id": "OVtJsKN_phqQ"
      }
    },
    {
      "cell_type": "markdown",
      "source": [
        "Karnataka stands out with the highest transaction amount, indicating strong digital adoption and economic activity. Telangana, Maharashtra, and Uttar Pradesh follow with substantial volumes, showcasing solid regional engagement. However, states like Lakshadweep and Mizoram show minimal activity, highlighting opportunities for deeper financial inclusion and infrastructure development."
      ],
      "metadata": {
        "id": "ngGi97qjphqQ"
      }
    },
    {
      "cell_type": "markdown",
      "source": [
        "##### 3. Will the gained insights help creating a positive business impact?\n",
        "Are there any insights that lead to negative growth? Justify with specific reason."
      ],
      "metadata": {
        "id": "lssrdh5qphqQ"
      }
    },
    {
      "cell_type": "markdown",
      "source": [
        "Yes, the chart reveals strong business opportunities in high-performing states like Karnataka and Telangana due to active digital transaction ecosystems. However, low transaction values in places like Lakshadweep and Mizoram suggest underutilized markets that could hinder inclusive growth if ignored. Addressing these gaps through improved infrastructure and outreach could unlock new avenues and balance regional development."
      ],
      "metadata": {
        "id": "tBpY5ekJphqQ"
      }
    },
    {
      "cell_type": "markdown",
      "source": [
        "#### Chart - 10"
      ],
      "metadata": {
        "id": "U2RJ9gkRphqQ"
      }
    },
    {
      "cell_type": "code",
      "source": [
        "# Chart - 10 visualization code"
      ],
      "metadata": {
        "id": "GM7a4YP4phqQ"
      },
      "execution_count": null,
      "outputs": []
    },
    {
      "cell_type": "markdown",
      "source": [
        "##### 1. Why did you pick the specific chart?"
      ],
      "metadata": {
        "id": "1M8mcRywphqQ"
      }
    },
    {
      "cell_type": "markdown",
      "source": [
        "Answer Here."
      ],
      "metadata": {
        "id": "8agQvks0phqQ"
      }
    },
    {
      "cell_type": "markdown",
      "source": [
        "##### 2. What is/are the insight(s) found from the chart?"
      ],
      "metadata": {
        "id": "tgIPom80phqQ"
      }
    },
    {
      "cell_type": "markdown",
      "source": [
        "Answer Here"
      ],
      "metadata": {
        "id": "Qp13pnNzphqQ"
      }
    },
    {
      "cell_type": "markdown",
      "source": [
        "##### 3. Will the gained insights help creating a positive business impact?\n",
        "Are there any insights that lead to negative growth? Justify with specific reason."
      ],
      "metadata": {
        "id": "JMzcOPDDphqR"
      }
    },
    {
      "cell_type": "markdown",
      "source": [
        "Answer Here"
      ],
      "metadata": {
        "id": "R4Ka1PC2phqR"
      }
    },
    {
      "cell_type": "markdown",
      "source": [
        "#### Chart - 11"
      ],
      "metadata": {
        "id": "x-EpHcCOp1ci"
      }
    },
    {
      "cell_type": "code",
      "source": [
        "# Chart - 11 visualization code"
      ],
      "metadata": {
        "id": "mAQTIvtqp1cj"
      },
      "execution_count": null,
      "outputs": []
    },
    {
      "cell_type": "markdown",
      "source": [
        "##### 1. Why did you pick the specific chart?"
      ],
      "metadata": {
        "id": "X_VqEhTip1ck"
      }
    },
    {
      "cell_type": "markdown",
      "source": [
        "Answer Here."
      ],
      "metadata": {
        "id": "-vsMzt_np1ck"
      }
    },
    {
      "cell_type": "markdown",
      "source": [
        "##### 2. What is/are the insight(s) found from the chart?"
      ],
      "metadata": {
        "id": "8zGJKyg5p1ck"
      }
    },
    {
      "cell_type": "markdown",
      "source": [
        "Answer Here"
      ],
      "metadata": {
        "id": "ZYdMsrqVp1ck"
      }
    },
    {
      "cell_type": "markdown",
      "source": [
        "##### 3. Will the gained insights help creating a positive business impact?\n",
        "Are there any insights that lead to negative growth? Justify with specific reason."
      ],
      "metadata": {
        "id": "PVzmfK_Ep1ck"
      }
    },
    {
      "cell_type": "markdown",
      "source": [
        "Answer Here"
      ],
      "metadata": {
        "id": "druuKYZpp1ck"
      }
    },
    {
      "cell_type": "markdown",
      "source": [
        "#### Chart - 12"
      ],
      "metadata": {
        "id": "n3dbpmDWp1ck"
      }
    },
    {
      "cell_type": "code",
      "source": [
        "# Chart - 12 visualization code"
      ],
      "metadata": {
        "id": "bwevp1tKp1ck"
      },
      "execution_count": null,
      "outputs": []
    },
    {
      "cell_type": "markdown",
      "source": [
        "##### 1. Why did you pick the specific chart?"
      ],
      "metadata": {
        "id": "ylSl6qgtp1ck"
      }
    },
    {
      "cell_type": "markdown",
      "source": [
        "Answer Here."
      ],
      "metadata": {
        "id": "m2xqNkiQp1ck"
      }
    },
    {
      "cell_type": "markdown",
      "source": [
        "##### 2. What is/are the insight(s) found from the chart?"
      ],
      "metadata": {
        "id": "ZWILFDl5p1ck"
      }
    },
    {
      "cell_type": "markdown",
      "source": [
        "Answer Here"
      ],
      "metadata": {
        "id": "x-lUsV2mp1ck"
      }
    },
    {
      "cell_type": "markdown",
      "source": [
        "##### 3. Will the gained insights help creating a positive business impact?\n",
        "Are there any insights that lead to negative growth? Justify with specific reason."
      ],
      "metadata": {
        "id": "M7G43BXep1ck"
      }
    },
    {
      "cell_type": "markdown",
      "source": [
        "Answer Here"
      ],
      "metadata": {
        "id": "5wwDJXsLp1cl"
      }
    },
    {
      "cell_type": "markdown",
      "source": [
        "#### Chart - 13"
      ],
      "metadata": {
        "id": "Ag9LCva-p1cl"
      }
    },
    {
      "cell_type": "code",
      "source": [
        "# Chart - 13 visualization code"
      ],
      "metadata": {
        "id": "EUfxeq9-p1cl"
      },
      "execution_count": null,
      "outputs": []
    },
    {
      "cell_type": "markdown",
      "source": [
        "##### 1. Why did you pick the specific chart?"
      ],
      "metadata": {
        "id": "E6MkPsBcp1cl"
      }
    },
    {
      "cell_type": "markdown",
      "source": [
        "Answer Here."
      ],
      "metadata": {
        "id": "V22bRsFWp1cl"
      }
    },
    {
      "cell_type": "markdown",
      "source": [
        "##### 2. What is/are the insight(s) found from the chart?"
      ],
      "metadata": {
        "id": "2cELzS2fp1cl"
      }
    },
    {
      "cell_type": "markdown",
      "source": [
        "Answer Here"
      ],
      "metadata": {
        "id": "ozQPc2_Ip1cl"
      }
    },
    {
      "cell_type": "markdown",
      "source": [
        "##### 3. Will the gained insights help creating a positive business impact?\n",
        "Are there any insights that lead to negative growth? Justify with specific reason."
      ],
      "metadata": {
        "id": "3MPXvC8up1cl"
      }
    },
    {
      "cell_type": "markdown",
      "source": [
        "Answer Here"
      ],
      "metadata": {
        "id": "GL8l1tdLp1cl"
      }
    },
    {
      "cell_type": "markdown",
      "source": [
        "#### Chart - 14 - Correlation Heatmap"
      ],
      "metadata": {
        "id": "NC_X3p0fY2L0"
      }
    },
    {
      "cell_type": "code",
      "source": [
        "# Correlation Heatmap visualization code"
      ],
      "metadata": {
        "id": "xyC9zolEZNRQ"
      },
      "execution_count": null,
      "outputs": []
    },
    {
      "cell_type": "markdown",
      "source": [
        "##### 1. Why did you pick the specific chart?"
      ],
      "metadata": {
        "id": "UV0SzAkaZNRQ"
      }
    },
    {
      "cell_type": "markdown",
      "source": [
        "Answer Here."
      ],
      "metadata": {
        "id": "DVPuT8LYZNRQ"
      }
    },
    {
      "cell_type": "markdown",
      "source": [
        "##### 2. What is/are the insight(s) found from the chart?"
      ],
      "metadata": {
        "id": "YPEH6qLeZNRQ"
      }
    },
    {
      "cell_type": "markdown",
      "source": [
        "Answer Here"
      ],
      "metadata": {
        "id": "bfSqtnDqZNRR"
      }
    },
    {
      "cell_type": "markdown",
      "source": [
        "#### Chart - 15 - Pair Plot"
      ],
      "metadata": {
        "id": "q29F0dvdveiT"
      }
    },
    {
      "cell_type": "code",
      "source": [
        "# Pair Plot visualization code"
      ],
      "metadata": {
        "id": "o58-TEIhveiU"
      },
      "execution_count": null,
      "outputs": []
    },
    {
      "cell_type": "markdown",
      "source": [
        "##### 1. Why did you pick the specific chart?"
      ],
      "metadata": {
        "id": "EXh0U9oCveiU"
      }
    },
    {
      "cell_type": "markdown",
      "source": [
        "Answer Here."
      ],
      "metadata": {
        "id": "eMmPjTByveiU"
      }
    },
    {
      "cell_type": "markdown",
      "source": [
        "##### 2. What is/are the insight(s) found from the chart?"
      ],
      "metadata": {
        "id": "22aHeOlLveiV"
      }
    },
    {
      "cell_type": "markdown",
      "source": [
        "Answer Here"
      ],
      "metadata": {
        "id": "uPQ8RGwHveiV"
      }
    },
    {
      "cell_type": "markdown",
      "source": [
        "**1. Customer Segmentation: Identify distinct user groups based on spending habits to tailor marketing strategies.**"
      ],
      "metadata": {
        "id": "O5-PckghGegk"
      }
    },
    {
      "cell_type": "code",
      "source": [
        "from sklearn.preprocessing import StandardScaler\n",
        "from sklearn.cluster import KMeans\n",
        "import matplotlib.pyplot as plt\n",
        "import seaborn as sns\n",
        "\n",
        "# Merge the relevant dataframes\n",
        "merged_df = agregate_transaction_df.merge(\n",
        "    agregate_user_df[['States', 'Years', 'Quarter', 'User_count']], # Select relevant columns from agregate_user_df\n",
        "    on=['States', 'Years', 'Quarter'],\n",
        "    how='inner'\n",
        ")\n",
        "\n",
        "# Prepare data for clustering\n",
        "# We can use Transaction_count, Transaction_amount, and User_count for segmentation\n",
        "data = merged_df[['Transaction_count', 'Transaction_amount', 'User_count']].dropna()\n",
        "\n",
        "# Scale the data\n",
        "scaler = StandardScaler()\n",
        "scaled_data = scaler.fit_transform(data)\n",
        "\n",
        "# Apply KMeans clustering\n",
        "kmeans = KMeans(n_clusters=3, random_state=42, n_init=10) # Add n_init for KMeans\n",
        "data['Segment'] = kmeans.fit_predict(scaled_data)\n",
        "\n",
        "# View cluster centers (in scaled space)\n",
        "print(\"Cluster Centers (Scaled Features):\")\n",
        "print(kmeans.cluster_centers_)\n",
        "\n",
        "# Visualize clusters\n",
        "plt.figure(figsize=(10,6))\n",
        "# Use the original data for plotting, with Segment from the clustering result\n",
        "sns.scatterplot(x='User_count', y='Transaction_amount', hue='Segment', data=data, palette='viridis')\n",
        "plt.title('Customer Segmentation based on Spending Habits and User Count')\n",
        "plt.xlabel('User Count')\n",
        "plt.ylabel('Transaction Amount')\n",
        "plt.show()"
      ],
      "metadata": {
        "id": "xPndWO-JHAjw"
      },
      "execution_count": null,
      "outputs": []
    },
    {
      "cell_type": "markdown",
      "source": [
        "This scatter plot visualizes customer segmentation based on two variables: User Count (x-axis) and Transaction Amount (y-axis). It groups customers into three distinct segments:\n",
        "\n",
        "Segment 0 (purple): These customers have relatively high user counts but moderate transaction amounts, suggesting frequent users with standard spending behavior. They likely represent a broad consumer base or regular shoppers.\n",
        "\n",
        "Segment 1 (teal): This segment shows lower user counts but notably high transaction amounts, indicating high-value customers with substantial spending. These may be premium or enterprise users who transact infrequently but in large volumes.\n",
        "\n",
        "Segment 2 (yellow): Positioned toward the lower end of both user count and transaction amount, this group may represent new, inactive, or low-value users, offering potential for targeted engagement or upselling."
      ],
      "metadata": {
        "id": "E2jrW6aGmMT3"
      }
    },
    {
      "cell_type": "markdown",
      "source": [
        "**Fraud Detection: Analyze transaction patterns to spot and prevent fraudulent activities.**\n"
      ],
      "metadata": {
        "id": "b_YMtx8DmWKD"
      }
    },
    {
      "cell_type": "code",
      "source": [
        "from sklearn.preprocessing import StandardScaler\n",
        "from sklearn.cluster import KMeans\n",
        "from sklearn.ensemble import IsolationForest\n",
        "\n",
        "df = agregate_transaction_df.copy()\n",
        "scaler = StandardScaler()\n",
        "features = df[['Transaction_count', 'Transaction_amount']]\n",
        "scaled_features = scaler.fit_transform(features)\n",
        "\n",
        "# ---------------------------------\n",
        "# Fit Isolation Forest\n",
        "# ---------------------------------\n",
        "iso_forest = IsolationForest(contamination=0.02, random_state=42)\n",
        "df['anomaly'] = iso_forest.fit_predict(scaled_features)\n",
        "\n",
        "# anomaly = -1 means flagged as fraud/anomaly\n",
        "df['is_fraud'] = df['anomaly'].apply(lambda x: 1 if x == -1 else 0)\n",
        "\n",
        "# ---------------------------------\n",
        "# Plot anomalies\n",
        "# ---------------------------------\n",
        "plt.figure(figsize=(10,6))\n",
        "sns.scatterplot(x='Transaction_count', y='Transaction_amount', hue='is_fraud', data=df, palette={0:'blue',1:'red'})\n",
        "plt.title('Fraud Detection: Anomaly Points Highlighted')\n",
        "plt.show()\n",
        "\n",
        "# ---------------------------------\n",
        "# Display suspected fraudulent records\n",
        "# ---------------------------------\n",
        "frauds = df[df['is_fraud']==1]\n",
        "print(frauds[['States', 'Years', 'Quarter', 'Transaction_count', 'Transaction_amount']])"
      ],
      "metadata": {
        "id": "D3qY8tP9mWv2"
      },
      "execution_count": null,
      "outputs": []
    },
    {
      "cell_type": "markdown",
      "source": [
        "This scatter plot is used for fraud detection, highlighting how transactions differ between legitimate and fraudulent cases based on two metrics:\n",
        "\n",
        "Axes Explanation:\n",
        "\n",
        "The x-axis shows the number of transactions (Transaction_count).\n",
        "\n",
        "The y-axis, scaled to trillions (1e12), represents the Transaction_amount.\n",
        "\n",
        "Color Coding:\n",
        "\n",
        "Blue points (is_fraud = 0) are non-fraudulent transactions—mostly clustered at lower counts and amounts.\n",
        "\n",
        "Red points (is_fraud = 1) are fraudulent transactions, which tend to have higher counts and amounts, showing clear deviation from typical patterns."
      ],
      "metadata": {
        "id": "V-z-qaT1mf9m"
      }
    },
    {
      "cell_type": "code",
      "source": [
        "df = top_transaction_df.copy()\n",
        "scaler = StandardScaler()\n",
        "features = df[['Transaction_count', 'Transaction_amount']]\n",
        "scaled_features = scaler.fit_transform(features)\n",
        "\n",
        "# ---------------------------------\n",
        "# Fit Isolation Forest\n",
        "# ---------------------------------\n",
        "iso_forest = IsolationForest(contamination=0.02, random_state=42)\n",
        "df['anomaly'] = iso_forest.fit_predict(scaled_features)\n",
        "\n",
        "# anomaly = -1 means flagged as fraud/anomaly\n",
        "df['is_fraud'] = df['anomaly'].apply(lambda x: 1 if x == -1 else 0)\n",
        "\n",
        "# ---------------------------------\n",
        "# Plot anomalies\n",
        "# ---------------------------------\n",
        "plt.figure(figsize=(10,6))\n",
        "sns.scatterplot(x='Transaction_count', y='Transaction_amount', hue='is_fraud', data=df, palette={0:'blue',1:'red'})\n",
        "plt.title('Fraud Detection: Anomaly Points Highlighted')\n",
        "plt.show()\n",
        "\n",
        "# ---------------------------------\n",
        "# Display suspected fraudulent records\n",
        "# ---------------------------------\n",
        "frauds = df[df['is_fraud']==1]\n",
        "print(frauds[['States', 'Years', 'Quarter', 'Transaction_count', 'Transaction_amount']])"
      ],
      "metadata": {
        "id": "bN5fKc4Hoprc"
      },
      "execution_count": null,
      "outputs": []
    },
    {
      "cell_type": "markdown",
      "source": [
        "This scatter plot is used for fraud detection, highlighting how transactions differ between legitimate and fraudulent cases based on two metrics:\n",
        "\n",
        "Axes Explanation:\n",
        "\n",
        "The x-axis shows the number of transactions (Transaction_count).\n",
        "\n",
        "The y-axis, scaled to trillions (1e12), represents the Transaction_amount.\n",
        "\n",
        "Color Coding:\n",
        "\n",
        "Blue points (is_fraud = 0) are non-fraudulent transactions—mostly clustered at lower counts and amounts.\n",
        "\n",
        "Red points (is_fraud = 1) are fraudulent transactions, which tend to have higher counts and amounts, showing clear deviation from typical patterns."
      ],
      "metadata": {
        "id": "W3D3QbHvmvg0"
      }
    },
    {
      "cell_type": "code",
      "source": [
        "df = map_transaction_df.copy()\n",
        "scaler = StandardScaler()\n",
        "features = df[['Map_count', 'Map_amount']]\n",
        "scaled_features = scaler.fit_transform(features)\n",
        "\n",
        "# ---------------------------------\n",
        "# Fit Isolation Forest\n",
        "# ---------------------------------\n",
        "iso_forest = IsolationForest(contamination=0.02, random_state=42)\n",
        "df['anomaly'] = iso_forest.fit_predict(scaled_features)\n",
        "\n",
        "# anomaly = -1 means flagged as fraud/anomaly\n",
        "df['is_fraud'] = df['anomaly'].apply(lambda x: 1 if x == -1 else 0)\n",
        "\n",
        "# ---------------------------------\n",
        "# Plot anomalies\n",
        "# ---------------------------------\n",
        "plt.figure(figsize=(10,6))\n",
        "sns.scatterplot(x='Map_count', y='Map_amount', hue='is_fraud', data=df, palette={0:'blue',1:'red'})\n",
        "plt.title('Fraud Detection: Anomaly Points Highlighted')\n",
        "plt.show()\n",
        "\n",
        "# ---------------------------------\n",
        "# Display suspected fraudulent records\n",
        "# ---------------------------------\n",
        "frauds = df[df['is_fraud']==1]\n",
        "print(frauds[['States', 'Years', 'Quarter', 'Map_count', 'Map_amount']])"
      ],
      "metadata": {
        "id": "YU8QE0S3p7FL"
      },
      "execution_count": null,
      "outputs": []
    },
    {
      "cell_type": "markdown",
      "source": [
        "This scatter plot is used for fraud detection, highlighting how transactions differ between legitimate and fraudulent cases based on two metrics:\n",
        "\n",
        "Axes Explanation:\n",
        "\n",
        "The x-axis shows the number of transactions (Transaction_count).\n",
        "\n",
        "The y-axis, scaled to trillions (1e12), represents the Transaction_amount.\n",
        "\n",
        "Color Coding:\n",
        "\n",
        "Blue points (is_fraud = 0) are non-fraudulent transactions—mostly clustered at lower counts and amounts.\n",
        "\n",
        "Red points (is_fraud = 1) are fraudulent transactions, which tend to have higher counts and amounts, showing clear deviation from typical patterns."
      ],
      "metadata": {
        "id": "nyIw3xjnm165"
      }
    },
    {
      "cell_type": "markdown",
      "source": [
        "**Geographical Insights: Understand payment trends at state and district levels for targeted marketing.**\n",
        "\n"
      ],
      "metadata": {
        "id": "pojKyYKOrZVb"
      }
    },
    {
      "cell_type": "markdown",
      "source": [
        "State level user growth"
      ],
      "metadata": {
        "id": "8z3Ju89BrZr2"
      }
    },
    {
      "cell_type": "code",
      "source": [
        "import matplotlib.pyplot as plt\n",
        "import seaborn as sns\n",
        "\n",
        "state_summary = map_transaction_df.groupby('States').agg(\n",
        "    Total_Transactions=('Map_count','sum'),\n",
        "    Total_Amount=('Map_amount','sum')\n",
        ").reset_index()\n",
        "\n",
        "plt.figure(figsize=(12,6))\n",
        "sns.barplot(x='Total_Amount', y='States', data=state_summary.sort_values('Total_Amount', ascending=False))\n",
        "plt.title('Total Transaction Amount by State')\n",
        "plt.xlabel('Total Amount')\n",
        "plt.ylabel('State')\n",
        "plt.show()"
      ],
      "metadata": {
        "id": "H3ZkG75erYdy"
      },
      "execution_count": null,
      "outputs": []
    },
    {
      "cell_type": "markdown",
      "source": [
        "This horizontal bar chart compares total transaction amounts by state, with Telangana leading and Lakshadweep at the bottom. The x-axis uses scientific notation (1e13) to represent the large transaction values, highlighting significant economic differences between regions. This visualization makes it easy to assess which states have strong digital financial activity and which may need more investment or outreach."
      ],
      "metadata": {
        "id": "Oj-jDCXonXUZ"
      }
    },
    {
      "cell_type": "code",
      "source": [
        "#Distict level user growth"
      ],
      "metadata": {
        "id": "n6jVKpdpr3BO"
      },
      "execution_count": null,
      "outputs": []
    },
    {
      "cell_type": "code",
      "source": [
        "district_summary = map_user_df.groupby('District').agg(\n",
        "    Total_Users=('Regi_users', 'sum')\n",
        ").reset_index()\n",
        "\n",
        "plt.figure(figsize=(12,6))\n",
        "sns.barplot(x='Total_Users', y='District', data=district_summary.sort_values('Total_Users', ascending=False).head(10))\n",
        "plt.title('Top 10 Districts by Registered Users')\n",
        "plt.xlabel('Total Registered Users')\n",
        "plt.ylabel('District')\n",
        "plt.show()"
      ],
      "metadata": {
        "id": "19YLB5f0r3XQ"
      },
      "execution_count": null,
      "outputs": []
    },
    {
      "cell_type": "markdown",
      "source": [
        "Bengaluru Urban tops the chart with the highest number of registered users among the top 10 districts. Other leading districts include Pune, Thane, Jaipur, and Mumbai Suburban, all showing strong digital engagement. The distribution reveals urban centers as major hubs of user registration, pointing to concentrated adoption in metropolitan regions."
      ],
      "metadata": {
        "id": "YaG4A2cunm0Z"
      }
    },
    {
      "cell_type": "markdown",
      "source": [
        "**Payment Performance: Evaluate the popularity of different payment categories for strategic investments.**\n"
      ],
      "metadata": {
        "id": "GWdf01kLtPKh"
      }
    },
    {
      "cell_type": "markdown",
      "source": [
        "Transaction count by category"
      ],
      "metadata": {
        "id": "VvyMwrdXtPYj"
      }
    },
    {
      "cell_type": "code",
      "source": [
        "import matplotlib.pyplot as plt\n",
        "import seaborn as sns\n",
        "\n",
        "type_summary = agregate_transaction_df.groupby('Transaction_type').agg(\n",
        "    Total_Transactions=('Transaction_count', 'sum'),\n",
        "    Total_Amount=('Transaction_amount', 'sum')\n",
        ").reset_index()\n",
        "\n",
        "plt.figure(figsize=(10,6))\n",
        "sns.barplot(x='Total_Transactions', y='Transaction_type', data=type_summary.sort_values('Total_Transactions', ascending=False))\n",
        "plt.title('Total Transactions by Payment Category')\n",
        "plt.xlabel('Total Transactions')\n",
        "plt.ylabel('Payment Category')\n",
        "plt.show()"
      ],
      "metadata": {
        "id": "BWLDUGH3tPy_"
      },
      "execution_count": null,
      "outputs": []
    },
    {
      "cell_type": "markdown",
      "source": [
        "Merchant payments account for the highest number of total transactions, showing strong consumer engagement in retail spending. Peer-to-peer and bill payments follow as the next most common categories, indicating widespread use for personal transfers and utilities. Financial services appear at the bottom, suggesting lower transaction frequency in investment or lending-related activities."
      ],
      "metadata": {
        "id": "UNLpW8Stnzre"
      }
    },
    {
      "cell_type": "markdown",
      "source": [
        "Average transaction size by category"
      ],
      "metadata": {
        "id": "5lBbMoDGtotx"
      }
    },
    {
      "cell_type": "code",
      "source": [
        "type_summary['Avg_Transaction_Size'] = type_summary['Total_Amount'] / type_summary['Total_Transactions']\n",
        "\n",
        "plt.figure(figsize=(10,6))\n",
        "sns.barplot(x='Avg_Transaction_Size', y='Transaction_type', data=type_summary.sort_values('Avg_Transaction_Size', ascending=False))\n",
        "plt.title('Average Transaction Size by Payment Category')\n",
        "plt.xlabel('Average Amount per Transaction')\n",
        "plt.ylabel('Payment Category')\n",
        "plt.show()"
      ],
      "metadata": {
        "id": "psVyLdT-tpLe"
      },
      "execution_count": null,
      "outputs": []
    },
    {
      "cell_type": "markdown",
      "source": [
        "This chart compares the average transaction size across five payment categories, using horizontal bars for clarity. Peer-to-peer payments have the highest average value, suggesting larger transfers between individuals, while Merchant payments rank lowest, reflecting frequent but lower-value retail transactions. The distribution helps identify where high-value interactions occur, which is useful for tailoring financial strategies or prioritizing security and infrastructure."
      ],
      "metadata": {
        "id": "BZcWf1Q3oEco"
      }
    },
    {
      "cell_type": "markdown",
      "source": [
        "**User Engagement: Monitor user activity to develop strategies that enhance retention and satisfaction.**"
      ],
      "metadata": {
        "id": "9Qv7VN6Nu2pQ"
      }
    },
    {
      "cell_type": "markdown",
      "source": [],
      "metadata": {
        "id": "W0FFz0Fou23Z"
      }
    },
    {
      "cell_type": "code",
      "source": [
        "import matplotlib.pyplot as plt\n",
        "import seaborn as sns\n",
        "\n",
        "# Total registered users over time\n",
        "reg_users_over_time = map_user_df.groupby(['Years', 'Quarter'])['Regi_users'].sum().reset_index()\n",
        "\n",
        "plt.figure(figsize=(12,6))\n",
        "sns.lineplot(data=reg_users_over_time, x='Years', y='Regi_users', hue='Quarter', marker='o')\n",
        "plt.title('Registered Users over Time')\n",
        "plt.ylabel('Registered Users')\n",
        "plt.xlabel('Year')\n",
        "plt.show()\n",
        "\n",
        "# Similarly for app opens\n",
        "app_opens_over_time = map_user_df.groupby(['Years', 'Quarter'])['app_opens'].sum().reset_index()\n",
        "\n",
        "plt.figure(figsize=(12,6))\n",
        "sns.lineplot(data=app_opens_over_time, x='Years', y='app_opens', hue='Quarter', marker='s')\n",
        "plt.title('App Opens over Time')\n",
        "plt.ylabel('App Opens')\n",
        "plt.xlabel('Year')\n",
        "plt.show()"
      ],
      "metadata": {
        "id": "7ZgxDrRRu3bF"
      },
      "execution_count": null,
      "outputs": []
    },
    {
      "cell_type": "markdown",
      "source": [
        "This line chart displays the growth in registered users across quarters from 2018 to 2024:\n",
        "\n",
        "All four quarterly lines show a consistent upward trend, meaning the number of users steadily increased over time regardless of seasonality.\n",
        "\n",
        "Quarter 4 stands out as the fastest-growing segment, reaching nearly 600 million users by 2024, suggesting peak registration activity during the year’s end.\n",
        "\n",
        "The overall trajectory points to strong and sustained adoption, reflecting successful engagement strategies and market expansion."
      ],
      "metadata": {
        "id": "4sVlouGPoUmJ"
      }
    },
    {
      "cell_type": "markdown",
      "source": [
        "**Product Development: Use data insights to inform the creation of new features and services.**\n"
      ],
      "metadata": {
        "id": "5HaTSGWtvr7i"
      }
    },
    {
      "cell_type": "markdown",
      "source": [],
      "metadata": {
        "id": "TnaF6cDKvsEx"
      }
    },
    {
      "cell_type": "code",
      "source": [
        "import seaborn as sns\n",
        "import matplotlib.pyplot as plt\n",
        "\n",
        "# For example, see avg transaction amount by state (over product types)\n",
        "avg_txn_state = map_transaction_df.groupby('States')['Map_amount'].mean().reset_index()\n",
        "\n",
        "plt.figure(figsize=(12,6))\n",
        "sns.barplot(data=avg_txn_state, x='States', y='Map_amount')\n",
        "plt.xticks(rotation=90)\n",
        "plt.title('Average Transaction Amount by State')\n",
        "plt.ylabel('Avg Transaction Amount')\n",
        "plt.xlabel('State')\n",
        "plt.show()"
      ],
      "metadata": {
        "id": "TgCiXS9evsOs"
      },
      "execution_count": null,
      "outputs": []
    },
    {
      "cell_type": "markdown",
      "source": [
        "This chart compares the average transaction amount by state, showing where high-value transactions are more common.\n",
        "\n",
        "Andaman & Nicobar Islands and Maharashtra stand out with the highest average amounts, suggesting either large individual transactions or a skewed concentration from big-ticket payments.\n",
        "\n",
        "Most other states reflect moderate to low averages, indicating smaller or more frequent transactions.\n",
        "\n",
        "The wide disparity may point to differing economic profiles or transaction behaviors across regions, which can guide localized business strategies."
      ],
      "metadata": {
        "id": "BH2ouXvtofZq"
      }
    },
    {
      "cell_type": "markdown",
      "source": [
        "**Insurance Insights: Analyze insurance transaction data to improve product offerings and customer experience.**"
      ],
      "metadata": {
        "id": "1dYj3EN8wOwW"
      }
    },
    {
      "cell_type": "markdown",
      "source": [],
      "metadata": {
        "id": "yjMnFHzOwO3s"
      }
    },
    {
      "cell_type": "code",
      "source": [
        "import pandas as pd\n",
        "import seaborn as sns\n",
        "import matplotlib.pyplot as plt\n",
        "\n",
        "# Average insurance transaction amount by state\n",
        "avg_insurance_state = agregate_insurance_df.groupby(\"States\")[\"Transaction_amount\"].mean().reset_index()\n",
        "\n",
        "plt.figure(figsize=(12,6))\n",
        "sns.barplot(data=avg_insurance_state, x=\"States\", y=\"Transaction_amount\")\n",
        "plt.title(\"Average Insurance Transaction Amount by State\")\n",
        "plt.ylabel(\"Avg Insurance Transaction Amount\")\n",
        "plt.xlabel(\"State\")\n",
        "plt.xticks(rotation=90)\n",
        "plt.show()\n",
        "\n",
        "# Trend over time\n",
        "time_trend = agregate_insurance_df.groupby([\"Years\", \"Quarter\"])[\"Transaction_count\"].sum().reset_index()\n",
        "\n",
        "plt.figure(figsize=(10,5))\n",
        "sns.lineplot(data=time_trend, x=\"Years\", y=\"Transaction_count\", hue=\"Quarter\", marker=\"o\")\n",
        "plt.title(\"Insurance Transactions Over Time by Quarter\")\n",
        "plt.ylabel(\"Total Transaction Count\")\n",
        "plt.xlabel(\"Year\")\n",
        "plt.show()"
      ],
      "metadata": {
        "id": "WFo0rOcLwPV8"
      },
      "execution_count": null,
      "outputs": []
    },
    {
      "cell_type": "markdown",
      "source": [
        "This bar chart shows the average insurance transaction amount across different Indian states, offering a snapshot of how insurance spending varies regionally.\n",
        "\n",
        "Karnataka leads with the highest average transaction amount, indicating strong insurance adoption or higher-value policies in that region.\n",
        "\n",
        "Maharashtra and Uttar Pradesh follow with substantial averages, suggesting robust consumer engagement or premium insurance activity.\n",
        "\n",
        "Meanwhile, states like Mizoram and Lakshadweep reflect significantly lower values, pointing to either limited coverage, access, or smaller-scale insurance markets."
      ],
      "metadata": {
        "id": "Hrn4rHdQoxlC"
      }
    },
    {
      "cell_type": "markdown",
      "source": [
        "This line chart tracks insurance transaction counts by quarter from 2020 to 2024, revealing key usage trends over time:\n",
        "\n",
        "Quarter 4 consistently leads, with the highest transaction volumes year after year, peaking near 1.4 million—hinting at seasonal spikes, possibly due to year-end policy renewals or offers.\n",
        "\n",
        "Quarterly growth is steady, especially between 2021 and 2024, showing rising consumer confidence and insurance adoption across India.\n",
        "\n",
        "The upward trajectory across all four quarters signals a maturing digital insurance market, with increasing awareness and outreach driving more transactions over time."
      ],
      "metadata": {
        "id": "byYiQUQqo-uM"
      }
    },
    {
      "cell_type": "markdown",
      "source": [],
      "metadata": {
        "id": "FCYiPaZAo-0k"
      }
    },
    {
      "cell_type": "markdown",
      "source": [
        "Marketing Optimization: Tailor marketing campaigns based on user behavior and transaction patterns.\n"
      ],
      "metadata": {
        "id": "IGsCY7T5w8as"
      }
    },
    {
      "cell_type": "markdown",
      "source": [],
      "metadata": {
        "id": "2pyzu1Sbw837"
      }
    },
    {
      "cell_type": "code",
      "source": [
        "import pandas as pd\n",
        "import matplotlib.pyplot as plt\n",
        "import seaborn as sns\n",
        "\n",
        "# 1. Find top states by transaction volume\n",
        "state_tx = agregate_transaction_df.groupby(\"States\")[\"Transaction_amount\"].sum().reset_index()\n",
        "state_tx = state_tx.sort_values(by=\"Transaction_amount\", ascending=False)\n",
        "\n",
        "plt.figure(figsize=(12,6))\n",
        "sns.barplot(data=state_tx, x=\"States\", y=\"Transaction_amount\", palette=\"magma\")\n",
        "plt.xticks(rotation=90)\n",
        "plt.title(\"Total Transaction Amount by State\")\n",
        "plt.ylabel(\"Transaction Amount (₹)\")\n",
        "plt.xlabel(\"States\")\n",
        "plt.show()\n",
        "\n",
        "# 2. User engagement vs spending\n",
        "eng_spend = agregate_user_df.merge(agregate_transaction_df, on=[\"States\", \"Years\", \"Quarter\"])\n",
        "plt.figure(figsize=(8,6))\n",
        "sns.scatterplot(data=eng_spend, x=\"User_percentage\", y=\"Transaction_amount\", hue=\"States\")\n",
        "plt.title(\"User Engagement vs Transaction Amount\")\n",
        "plt.xlabel(\"User Engagement %\")\n",
        "plt.ylabel(\"Transaction Amount (₹)\")\n",
        "plt.show()\n"
      ],
      "metadata": {
        "id": "CaEz7wLzw9Fn"
      },
      "execution_count": null,
      "outputs": []
    },
    {
      "cell_type": "markdown",
      "source": [
        " This bar chart presents the total transaction amount by Indian state, offering a clear snapshot of regional financial performance:\n",
        "\n",
        "Telangana tops the list, with the highest overall transaction value, indicating a highly active digital payment environment.\n",
        "\n",
        "Karnataka and Maharashtra follow closely, showing strong economic activity and digital transaction adoption.\n",
        "\n",
        "States toward the bottom, like Lakshadweep and Mizoram, have minimal transaction amounts, pointing to either low population or limited digital infrastructure."
      ],
      "metadata": {
        "id": "kWecY4v_xpFz"
      }
    },
    {
      "cell_type": "markdown",
      "source": [
        "This scatter plot maps how user engagement compares with transaction amounts across Indian states:\n",
        "\n",
        "States like Maharashtra and Karnataka sit toward the upper-right quadrant, indicating both high engagement and high transaction amounts, which reflects strong digital participation and economic activity.\n",
        "\n",
        "Regions clustered near the lower-left—such as Lakshadweep and Mizoram—show low engagement and low transaction volumes, signaling areas with limited digital access or adoption.\n",
        "\n",
        "The spread of data points reveals diverse state-level performance, which can guide differentiated strategies: expanding infrastructure in low-engagement states and reinforcing services in high-activity ones."
      ],
      "metadata": {
        "id": "6HbZmmfSpg2y"
      }
    },
    {
      "cell_type": "markdown",
      "source": [],
      "metadata": {
        "id": "4ctuf9oUphAN"
      }
    },
    {
      "cell_type": "markdown",
      "source": [
        "**Trend Analysis: Examine transaction trends over time to anticipate demand fluctuations.**\n"
      ],
      "metadata": {
        "id": "3-wCAzfTxpKs"
      }
    },
    {
      "cell_type": "code",
      "source": [
        "import pandas as pd\n",
        "import matplotlib.pyplot as plt\n",
        "import seaborn as sns\n",
        "\n",
        "# Group transaction data by Year & Quarter\n",
        "trend_tx = agregate_transaction_df.groupby(['Years', 'Quarter'])['Transaction_amount'].sum().reset_index()\n",
        "\n",
        "plt.figure(figsize=(10,6))\n",
        "sns.lineplot(data=trend_tx, x='Quarter', y='Transaction_amount', hue='Years', marker='o')\n",
        "plt.title(\"Transaction Amount Trend by Quarter\")\n",
        "plt.xlabel(\"Quarter\")\n",
        "plt.ylabel(\"Total Transaction Amount (₹)\")\n",
        "plt.legend(title=\"Year\")\n",
        "plt.show()\n",
        "\n",
        "# Alternatively: aggregate user registrations trend\n",
        "trend_users = agregate_user_df.groupby(['Years', 'Quarter'])['User_count'].sum().reset_index()\n",
        "plt.figure(figsize=(10,6))\n",
        "sns.lineplot(data=trend_users, x='Quarter', y='User_count', hue='Years', marker='o')\n",
        "plt.title(\"User Registrations Trend by Quarter\")\n",
        "plt.xlabel(\"Quarter\")\n",
        "plt.ylabel(\"Total User Count\")\n",
        "plt.legend(title=\"Year\")\n",
        "plt.show()\n"
      ],
      "metadata": {
        "id": "UgYW5Iqrxpbs"
      },
      "execution_count": null,
      "outputs": []
    },
    {
      "cell_type": "markdown",
      "source": [],
      "metadata": {
        "id": "H6JtrLxZptLp"
      }
    },
    {
      "cell_type": "markdown",
      "source": [
        "📈 This line graph illustrates the quarterly trend of total transaction amounts from 2018 to 2024, showcasing consistent growth over time.\n",
        "\n",
        "Each year is represented by a separate colored line, and the upward slope in most lines indicates steady increases in transaction volumes, especially noticeable in 2024, which peaks across all quarters.\n",
        "\n",
        "The y-axis uses scientific notation (in ₹ trillions), highlighting the rapid scaling of digital financial activity, and suggesting successful adoption and expansion of digital payment platforms year after year."
      ],
      "metadata": {
        "id": "DjHfZQTUptSe"
      }
    },
    {
      "cell_type": "markdown",
      "source": [
        " This line chart illustrates the trend of user registrations by quarter across five years—2018 to 2022:\n",
        "\n",
        "Each year shows a steady rise in user count from Q1 to Q4, with 2022 (navy blue) reaching the highest user registrations, surpassing 300 million by the last quarter.\n",
        "\n",
        "The consistent upward slope across all years signals strong growth momentum, suggesting increasing digital adoption and expanding platform reach.\n",
        "\n",
        "The seasonal pattern—especially higher registrations in Q4—may hint at marketing pushes, new feature rollouts, or year-end incentives driving user interest."
      ],
      "metadata": {
        "id": "zqgpUvL7pvWE"
      }
    },
    {
      "cell_type": "markdown",
      "source": [],
      "metadata": {
        "id": "zhH7wCPupvcr"
      }
    },
    {
      "cell_type": "markdown",
      "source": [
        "**Competitive Benchmarking: Compare performance against competitors to identify areas for improvement.**\n"
      ],
      "metadata": {
        "id": "8s_U5KLYx7T0"
      }
    },
    {
      "cell_type": "markdown",
      "source": [],
      "metadata": {
        "id": "11bYhoJ2x7Yy"
      }
    },
    {
      "cell_type": "code",
      "source": [
        "#Assuming you have PhonePe's quarterly growth rates\n",
        "phonepe_growth = agregate_transaction_df.groupby(['Years', 'Quarter'])['Transaction_count'].sum().pct_change()\n",
        "\n",
        "# Suppose NPCI or industry growth for the same periods is loaded as:\n",
        "industry_growth = [0.12, 0.08, 0.15, 0.10, 0.09]  # example values\n",
        "\n",
        "comparison_df = pd.DataFrame({\n",
        "    'PhonePe_growth': phonepe_growth.dropna().values[:len(industry_growth)],\n",
        "    'Industry_growth': industry_growth[:len(phonepe_growth.dropna().values[:len(industry_growth)])]\n",
        "})\n",
        "\n",
        "comparison_df.plot(kind='bar', figsize=(8,5))\n",
        "plt.title(\"PhonePe vs Industry Growth Rate per Quarter\")\n",
        "plt.ylabel(\"Growth Rate\")\n",
        "plt.xlabel(\"Quarter\")\n",
        "plt.legend([\"PhonePe\", \"Industry Average\"])\n",
        "plt.show()"
      ],
      "metadata": {
        "id": "vBZUtq9Mx7na"
      },
      "execution_count": null,
      "outputs": []
    },
    {
      "cell_type": "markdown",
      "source": [
        "📊 This bar chart compares PhonePe's growth rate to the industry average growth rate across five quarters, showcasing consistent outperformance:\n",
        "\n",
        "In each quarter, PhonePe's growth rate is significantly higher, peaking in Quarter 1 at 0.8, compared to the industry’s steady 0.1 average—highlighting dominant expansion and market penetration.\n",
        "\n",
        "Even in Quarter 4, where PhonePe dips slightly to 0.2, it still doubles the industry rate, reflecting sustained momentum despite possible market seasonality.\n",
        "\n",
        "The overall pattern demonstrates PhonePe's strong competitive edge, likely driven by user acquisition, service innovation, or aggressive outreach strategies."
      ],
      "metadata": {
        "id": "ODmxlXlNqIrl"
      }
    },
    {
      "cell_type": "code",
      "source": [
        "tx_sum = agregate_transaction_df.groupby(['Years'])['Transaction_count'].sum()\n",
        "user_sum = agregate_user_df.groupby(['Years'])['User_count'].sum()\n",
        "\n",
        "tx_per_user = (tx_sum / user_sum).reset_index()\n",
        "tx_per_user.columns = ['Years', 'Transactions_per_User']\n",
        "\n",
        "sns.lineplot(data=tx_per_user, x='Years', y='Transactions_per_User', marker='o')\n",
        "plt.title(\"Transactions per User over Years (PhonePe)\")\n",
        "plt.ylabel(\"Avg Transactions per User\")\n",
        "plt.xlabel(\"Year\")\n",
        "plt.show()"
      ],
      "metadata": {
        "id": "bQZQY3b5ysNH"
      },
      "execution_count": null,
      "outputs": []
    },
    {
      "cell_type": "markdown",
      "source": [
        "📈 This line graph shows how the average transactions per PhonePe user have grown from 2018 to 2022:\n",
        "\n",
        "There's a steady rise from 2018 onward, with a sharp surge in 2022, indicating increased user engagement and possibly better service offerings or incentives.\n",
        "\n",
        "The y-axis (0 to 100 range) highlights how users became significantly more active over time, suggesting strong adoption of digital payments.\n",
        "\n",
        "This upward trend signals a deepening relationship between users and the platform—more than just sign-ups, it’s about habitual usage and trust."
      ],
      "metadata": {
        "id": "xP9mbXsUqSxH"
      }
    },
    {
      "cell_type": "markdown",
      "source": [
        "Answer Here."
      ],
      "metadata": {
        "id": "pASKb0qOza21"
      }
    },
    {
      "cell_type": "markdown",
      "source": [
        "###Business case study"
      ],
      "metadata": {
        "id": "RFYwkTzXgOm5"
      }
    },
    {
      "cell_type": "markdown",
      "source": [
        "1. Decoding Transaction Dynamics on PhonePe\n",
        "\n",
        "Scenario\n",
        "\n",
        "PhonePe, a leading digital payments platform, has recently identified significant variations in transaction behavior across states, quarters, and payment categories. While some regions and transaction types demonstrate consistent growth, others show stagnation or decline. The leadership team seeks a deeper understanding of these patterns to drive targeted business strategies.\n"
      ],
      "metadata": {
        "id": "j5RoquyigPMF"
      }
    },
    {
      "cell_type": "markdown",
      "source": [
        "To decode the transaction dynamics on PhonePe, the following key questions will guide the analysis:"
      ],
      "metadata": {
        "id": "ceSK6nYSmgAC"
      }
    },
    {
      "cell_type": "markdown",
      "source": [
        "Which states consistently show growth in transaction counts and amounts?"
      ],
      "metadata": {
        "id": "lGxRGwbUmfeT"
      }
    },
    {
      "cell_type": "markdown",
      "source": [
        "draw a simple line chart to visualize how the transaction counts and amounts have changed over the years for each state.\n",
        "This helps you visually spot which states are growing."
      ],
      "metadata": {
        "id": "ALQ6vip6me-i"
      }
    },
    {
      "cell_type": "markdown",
      "source": [],
      "metadata": {
        "id": "chWzJqI-ma8C"
      }
    },
    {
      "cell_type": "code",
      "source": [
        "#Line chart for transaction count\n",
        "\n",
        "import matplotlib.pyplot as plt\n",
        "import seaborn as sns\n",
        "\n",
        "plt.figure(figsize=(12,6))\n",
        "sns.lineplot(data=agregate_transaction_df, x='Years', y='Transaction_count', hue='States', marker='o')\n",
        "plt.title('Transaction Count Over Years by State')\n",
        "plt.ylabel('Transaction Count')\n",
        "plt.xlabel('Year')\n",
        "plt.legend(bbox_to_anchor=(1.05, 1), loc='upper left')\n",
        "plt.tight_layout()\n",
        "plt.show()"
      ],
      "metadata": {
        "id": "87ybc0lagPkn"
      },
      "execution_count": null,
      "outputs": []
    },
    {
      "cell_type": "markdown",
      "source": [
        "If a line for a state keeps going up, that means it’s consistently growing in transactions.\n",
        "\n",
        "For example:\n",
        "\n",
        " A state like Karnataka might show a steady rise in transaction counts from 2018 to 2024.\n",
        "\n",
        "While Kerala might have ups and downs (no consistent growth).\n",
        "\n"
      ],
      "metadata": {
        "id": "zEWV42CQ7Vw9"
      }
    },
    {
      "cell_type": "code",
      "source": [
        "#Line chart for transaction amount\n",
        "\n",
        "plt.figure(figsize=(12,6))\n",
        "sns.lineplot(data=agregate_transaction_df, x='Years', y='Transaction_amount', hue='States', marker='o')\n",
        "plt.title('Transaction Amount Over Years by State')\n",
        "plt.ylabel('Transaction Amount')\n",
        "plt.xlabel('Year')\n",
        "plt.legend(bbox_to_anchor=(1.05, 1), loc='upper left')\n",
        "plt.tight_layout()\n",
        "plt.show()"
      ],
      "metadata": {
        "id": "qp-FhPdg8SKs"
      },
      "execution_count": null,
      "outputs": []
    },
    {
      "cell_type": "markdown",
      "source": [
        "This chart shows how transaction counts have changed over the years for each state.\n",
        "States like Karnataka and Maharashtra show clear upward trends, meaning their transactions are growing steadily.\n",
        "Meanwhile, states like Bihar and Assam appear flat or slightly declining, indicating stagnation or a drop.\n",
        "This helps identify where PhonePe can strengthen efforts or maintain momentum to boost growth."
      ],
      "metadata": {
        "id": "7tIImFsH98nb"
      }
    },
    {
      "cell_type": "markdown",
      "source": [
        "Which payment categories (like recharge, bills, merchant payments) drive most of the growth?"
      ],
      "metadata": {
        "id": "6H6XDSaI_Stf"
      }
    },
    {
      "cell_type": "code",
      "source": [
        "category_growth = agregate_transaction_df.groupby('Transaction_type')['Transaction_amount'].sum().reset_index()\n",
        "\n",
        "# Sort for better visualization\n",
        "category_growth = category_growth.sort_values('Transaction_amount', ascending=False)\n",
        "\n",
        "# Plot\n",
        "plt.figure(figsize=(10,6))\n",
        "sns.barplot(x='Transaction_amount', y='Transaction_type', data=category_growth, palette='viridis')\n",
        "plt.title('Total Transaction Amount by Payment Category')\n",
        "plt.xlabel('Total Transaction Amount')\n",
        "plt.ylabel('Payment Category')\n",
        "plt.tight_layout()\n",
        "plt.show()"
      ],
      "metadata": {
        "id": "S1Gj7Zv8_TbJ"
      },
      "execution_count": null,
      "outputs": []
    },
    {
      "cell_type": "markdown",
      "source": [],
      "metadata": {
        "id": "mLABkpbS_z1O"
      }
    },
    {
      "cell_type": "markdown",
      "source": [
        "This chart displays the total transaction amounts by payment category, highlighting how financial activity is distributed across use cases.\n",
        "\n",
        "Peer-to-peer payments dominate, reaching approximately ₹2.5 × 10¹⁴, showing strong personal transfer usage.\n",
        "\n",
        "Merchant payments follow, with nearly ₹1.0 × 10¹⁴ in volume—indicating robust retail engagement.\n",
        "\n",
        "Categories like recharge & bill payments, financial services, and others show far smaller contributions, pointing to specific areas where usage or outreach could grow."
      ],
      "metadata": {
        "id": "6mpYB_nVtONZ"
      }
    },
    {
      "cell_type": "markdown",
      "source": [
        "2. Insurance Penetration and Growth Potential Analysis\n",
        "\n",
        "Scenario\n",
        "\n",
        "PhonePe has ventured into the insurance domain, providing users with options to secure various policies. With increasing transactions in this segment, the company seeks to analyze its growth trajectory and identify untapped opportunities for insurance adoption at the state level. This data will help prioritize regions for marketing efforts and partnerships with insurers.\n",
        "\n"
      ],
      "metadata": {
        "id": "uOk0b9d8_z6V"
      }
    },
    {
      "cell_type": "markdown",
      "source": [],
      "metadata": {
        "id": "0DB2M87V_0Aw"
      }
    },
    {
      "cell_type": "code",
      "source": [
        "#Top States by Insurance Transaction Count\n",
        "\n",
        "import matplotlib.pyplot as plt\n",
        "\n",
        "top_states = top_insurance_df.groupby(\"States\")[\"Transaction_count\"].sum().sort_values(ascending=False).head(5)\n",
        "\n",
        "plt.figure(figsize=(8,5))\n",
        "top_states.plot(kind='bar', color='mediumseagreen')\n",
        "plt.title(\"Top 5 States by Insurance Transaction Count\")\n",
        "plt.ylabel(\"Transaction Count\")\n",
        "plt.xlabel(\"States\")\n",
        "plt.xticks(rotation=45)\n",
        "plt.show()"
      ],
      "metadata": {
        "id": "PUAU0-v_Ansb"
      },
      "execution_count": null,
      "outputs": []
    },
    {
      "cell_type": "markdown",
      "source": [
        "This chart shows the top five Indian states by insurance transaction count, with Karnataka leading at over 300,000 transactions. Maharashtra, Delhi, Telangana, and Uttar Pradesh follow, indicating solid insurance engagement across urban and economically active regions. The data reflects strong adoption of digital insurance services in these states, signaling opportunities for deeper product offerings and outreach."
      ],
      "metadata": {
        "id": "OhCanuZ7A5M4"
      }
    },
    {
      "cell_type": "markdown",
      "source": [],
      "metadata": {
        "id": "3U95hsyGs8Te"
      }
    },
    {
      "cell_type": "code",
      "source": [
        "#Quarter-wise Insurance Growth\n",
        "\n",
        "quarter_growth = agregate_transaction_df.groupby(\"Quarter\")[\"Transaction_count\"].sum()\n",
        "\n",
        "plt.figure(figsize=(8,5))\n",
        "quarter_growth.plot(marker='o', color='dodgerblue')\n",
        "plt.title(\"Quarterly Growth in Insurance Transactions\")\n",
        "plt.ylabel(\"Transaction Count\")\n",
        "plt.xlabel(\"Quarter\")\n",
        "plt.grid(True, linestyle='--', alpha=0.6)\n",
        "plt.show()"
      ],
      "metadata": {
        "id": "I99GmEbVA5ap"
      },
      "execution_count": null,
      "outputs": []
    },
    {
      "cell_type": "markdown",
      "source": [
        "This line graph illustrates quarterly growth in insurance transactions, showing a clear upward trend across all four quarters. The transaction count increases steadily, ranging from ₹50 billion to ₹70 billion, indicating consistent adoption. This progression highlights strengthening consumer trust and expanding use of digital insurance services throughout the year."
      ],
      "metadata": {
        "id": "WDjCQZV4BLQN"
      }
    },
    {
      "cell_type": "markdown",
      "source": [],
      "metadata": {
        "id": "KsgMQOsosf5A"
      }
    },
    {
      "cell_type": "code",
      "source": [
        "#Lowest States by Insurance Transaction Count\n",
        "\n",
        "lowest_states = top_insurance_df.groupby(\"States\")[\"Transaction_count\"].sum().sort_values().head(5)\n",
        "\n",
        "plt.figure(figsize=(8,5))\n",
        "lowest_states.plot(kind='barh', color='salmon')\n",
        "plt.title(\"Bottom 5 States by Insurance Transaction Count\")\n",
        "plt.xlabel(\"Transaction Count\")\n",
        "plt.ylabel(\"States\")\n",
        "plt.show()"
      ],
      "metadata": {
        "id": "uXiT5SMpBLoL"
      },
      "execution_count": null,
      "outputs": []
    },
    {
      "cell_type": "markdown",
      "source": [
        "This chart highlights the five Indian states with the lowest insurance transaction counts, led by Nagaland and ending with Lakshadweep. The short bar lengths indicate limited digital insurance activity in these regions. These low counts may suggest opportunities for outreach, infrastructure development, or policy interventions to boost coverage and financial inclusion."
      ],
      "metadata": {
        "id": "cbONy4YwCGeJ"
      }
    },
    {
      "cell_type": "markdown",
      "source": [
        "\n",
        "3. User Engagement and Growth Strategy\n",
        "\n",
        "Scenario\n",
        "\n",
        "PhonePe seeks to enhance its market position by analyzing user engagement across different states and districts. With a significant number of registered users and app opens, understanding user behavior can provide valuable insights for strategic decision-making and growth opportunities.\n"
      ],
      "metadata": {
        "id": "csd6uhx5CHcb"
      }
    },
    {
      "cell_type": "markdown",
      "source": [],
      "metadata": {
        "id": "RKnd9-BZCIGY"
      }
    },
    {
      "cell_type": "code",
      "source": [
        "#Top states by registered users\n",
        "\n",
        "import matplotlib.pyplot as plt\n",
        "\n",
        "top_states_users = map_user_df.groupby(\"States\")[\"Regi_users\"].sum().sort_values(ascending=False).head(5)\n",
        "\n",
        "plt.figure(figsize=(8,5))\n",
        "top_states_users.plot(kind='bar', color='steelblue')\n",
        "plt.title(\"Top 5 States by Registered Users\")\n",
        "plt.ylabel(\"Registered Users\")\n",
        "plt.xticks(rotation=45)\n",
        "plt.show()"
      ],
      "metadata": {
        "id": "f2HPtf4ICL7I"
      },
      "execution_count": null,
      "outputs": []
    },
    {
      "cell_type": "markdown",
      "source": [
        "Maharashtra leads the chart with the highest number of registered users, showing strong digital participation. Uttar Pradesh and Karnataka follow closely, highlighting widespread user adoption in both northern and southern regions. Andhra Pradesh and Rajasthan round out the top five, suggesting solid engagement that supports continued regional expansion."
      ],
      "metadata": {
        "id": "W1BH-WdOChDZ"
      }
    },
    {
      "cell_type": "markdown",
      "source": [],
      "metadata": {
        "id": "WgjhTViuChic"
      }
    },
    {
      "cell_type": "code",
      "source": [
        "# App opens vs Registered users (state level)\n",
        "state_data = map_user_df.groupby(\"States\")[[\"Regi_users\", \"app_opens\"]].sum()\n",
        "\n",
        "plt.figure(figsize=(8,6))\n",
        "plt.scatter(state_data[\"Regi_users\"], state_data[\"app_opens\"], color='purple')\n",
        "plt.title(\"App Opens vs Registered Users by State\")\n",
        "plt.xlabel(\"Registered Users\")\n",
        "plt.ylabel(\"App Opens\")\n",
        "\n",
        "for state in state_data.index:\n",
        "    plt.annotate(state, (state_data.loc[state,\"Regi_users\"], state_data.loc[state,\"app_opens\"]),\n",
        "                 fontsize=8, alpha=0.7)\n",
        "plt.grid(True, linestyle='--', alpha=0.5)\n",
        "plt.show()"
      ],
      "metadata": {
        "id": "d5BC7EuTCiB2"
      },
      "execution_count": null,
      "outputs": []
    },
    {
      "cell_type": "markdown",
      "source": [
        "This scatter plot visualizes app engagement across Indian states by comparing the number of app opens with registered users. States like Maharashtra, Karnataka, and Uttar Pradesh exhibit high activity, appearing in the upper-right region, which indicates widespread and frequent usage. States in the lower-left show lower participation, suggesting areas with potential for improved outreach and digital growth."
      ],
      "metadata": {
        "id": "xWIDw8-tDEUN"
      }
    },
    {
      "cell_type": "markdown",
      "source": [
        "4. Transaction Analysis Across States and Districts\n",
        "\n",
        "Scenario\n",
        "\n",
        "PhonePe is conducting an analysis of transaction data to identify the top-performing states, districts, and pin codes in terms of transaction volume and value. This analysis will help understand user engagement patterns and identify key areas for targeted marketing efforts..\n",
        "\n",
        "\n"
      ],
      "metadata": {
        "id": "EUfACIN0DExw"
      }
    },
    {
      "cell_type": "code",
      "source": [
        "#Top states by transaction count and amount\n",
        "\n",
        "import matplotlib.pyplot as plt\n",
        "\n",
        "# Group by state\n",
        "state_summary = agregate_transaction_df.groupby(\"States\")[[\"Transaction_count\", \"Transaction_amount\"]].sum()\n",
        "\n",
        "# Top 5 by transaction count\n",
        "top_states_count = state_summary.sort_values(\"Transaction_count\", ascending=False).head(5)\n",
        "\n",
        "# Top 5 by transaction amount\n",
        "top_states_amount = state_summary.sort_values(\"Transaction_amount\", ascending=False).head(5)\n",
        "\n",
        "# Bar plots\n",
        "plt.figure(figsize=(10,4))\n",
        "top_states_count[\"Transaction_count\"].plot(kind=\"bar\", color=\"teal\")\n",
        "plt.title(\"Top 5 States by Transaction Count\")\n",
        "plt.ylabel(\"Transaction Count\")\n",
        "plt.xticks(rotation=45)\n",
        "plt.show()\n",
        "\n",
        "plt.figure(figsize=(10,4))\n",
        "top_states_amount[\"Transaction_amount\"].plot(kind=\"bar\", color=\"orange\")\n",
        "plt.title(\"Top 5 States by Transaction Amount\")\n",
        "plt.ylabel(\"Transaction Amount\")\n",
        "plt.xticks(rotation=45)\n",
        "plt.show()"
      ],
      "metadata": {
        "id": "aSUqofQBDFAn"
      },
      "execution_count": null,
      "outputs": []
    },
    {
      "cell_type": "markdown",
      "source": [
        "1,This chart shows the top five Indian states by transaction count, highlighting regions with the most digital payment activity.\n",
        "\n",
        "Maharashtra ranks first, indicating a highly active digital user base with frequent transactions—possibly driven by its urban centers and financial hubs.\n",
        "\n",
        "Karnataka, Telangana, Andhra Pradesh, and Uttar Pradesh follow, reflecting solid digital adoption across both southern and northern states."
      ],
      "metadata": {
        "id": "dHLfEZOkDgKb"
      }
    },
    {
      "cell_type": "markdown",
      "source": [
        "2.This bar chart shows the top five Indian states by total transaction amount, offering a comparison of regional economic activity and digital engagement:\n",
        "\n",
        "Telangana leads with the highest transaction amount, crossing ₹4.0 × 10¹³, reflecting widespread use of digital payments and a mature financial ecosystem.\n",
        "\n",
        "Karnataka and Maharashtra follow closely, reinforcing their roles as major digital commerce hubs with substantial transaction volumes.\n",
        "\n",
        "Andhra Pradesh and Uttar Pradesh"
      ],
      "metadata": {
        "id": "TaeAlP2kDgPw"
      }
    },
    {
      "cell_type": "code",
      "source": [
        "#Top pin codes by transaction amount (using top_transaction_df)\n",
        "\n",
        "pincode_summary = top_transaction_df.groupby(\"entityName\")[[\"Transaction_count\", \"Transaction_amount\"]].sum()\n",
        "\n",
        "top_pincodes_amount = pincode_summary.sort_values(\"Transaction_amount\", ascending=False).head(5)\n",
        "\n",
        "plt.figure(figsize=(10,4))\n",
        "top_pincodes_amount[\"Transaction_amount\"].plot(kind=\"bar\", color=\"green\")\n",
        "plt.title(\"Top 5 Pin Codes by Transaction Amount\")\n",
        "plt.ylabel(\"Transaction Amount\")\n",
        "plt.xticks(rotation=45)\n",
        "plt.show()"
      ],
      "metadata": {
        "id": "-ZXJLuXEDgYs"
      },
      "execution_count": null,
      "outputs": []
    },
    {
      "cell_type": "markdown",
      "source": [
        "Bengaluru Urban leads with the highest transaction amount among the top five pin codes, reflecting its strong digital financial activity. Hyderabad and Pune follow, indicating high engagement in metropolitan areas with robust payment ecosystems. The chart emphasizes regional transaction concentration, useful for targeting high-value zones in strategic business planning."
      ],
      "metadata": {
        "id": "8K-DpG0CrPRF"
      }
    },
    {
      "cell_type": "markdown",
      "source": [
        "5 User Registration Analysis\n",
        "\n",
        "Scenario\n",
        "\n",
        "PhonePe aims to conduct an analysis of user registration data to identify the top states, districts, and pin codes from which the most users registered during a specific year-quarter combination. This analysis will provide insights into user engagement patterns and highlight potential growth areas."
      ],
      "metadata": {
        "id": "gXbGKI84ErfB"
      }
    },
    {
      "cell_type": "markdown",
      "source": [
        "User Registration Analysis"
      ],
      "metadata": {
        "id": "WpGhnswCErlR"
      }
    },
    {
      "cell_type": "code",
      "source": [
        "#Top states by user registrations\n",
        "\n",
        "import matplotlib.pyplot as plt\n",
        "\n",
        "state_users = top_user_df.groupby(\"States\")[\"Regi_users\"].sum().sort_values(ascending=False).head(5)\n",
        "\n",
        "plt.figure(figsize=(10,4))\n",
        "state_users.plot(kind=\"bar\", color=\"coral\")\n",
        "plt.title(f\"Top 5 States by Registered Users \")\n",
        "plt.ylabel(\"Registered Users\")\n",
        "plt.xticks(rotation=45)\n",
        "plt.show()"
      ],
      "metadata": {
        "id": "EucvmqicEsL6"
      },
      "execution_count": null,
      "outputs": []
    },
    {
      "cell_type": "markdown",
      "source": [
        "This bar chart shows the top five Indian states by number of registered users, offering a snapshot of digital user penetration:\n",
        "\n",
        "Delhi leads the chart, with the highest user count nearing 10 million, reflecting strong digital adoption and service awareness in the capital.\n",
        "\n",
        "Karnataka, Uttar Pradesh, Maharashtra, and Haryana follow in descending order, suggesting robust engagement in both southern and northern regions.\n",
        "\n",
        "The data highlights where digital platforms have succeeded most, which can guide targeted expansion or deepen service offerings in already active states."
      ],
      "metadata": {
        "id": "tbiVl4jXFrUw"
      }
    },
    {
      "cell_type": "markdown",
      "source": [],
      "metadata": {
        "id": "vsk8wmWtFraI"
      }
    },
    {
      "cell_type": "code",
      "source": [
        "#Top pin codes by user registrations\n",
        "\n",
        "pincode_users = top_user_df.groupby(\"pincodes\")[\"Regi_users\"].sum().sort_values(ascending=False).head(5)\n",
        "\n",
        "plt.figure(figsize=(10,4))\n",
        "pincode_users.plot(kind=\"bar\", color=\"skyblue\")\n",
        "plt.title(f\"Top 5 Pin Codes by Registered Users \")\n",
        "plt.ylabel(\"Registered Users\")\n",
        "plt.xticks(rotation=45)\n",
        "plt.show()"
      ],
      "metadata": {
        "id": "uvZyf1ErFrxB"
      },
      "execution_count": null,
      "outputs": []
    },
    {
      "cell_type": "markdown",
      "source": [
        "This chart highlights the top five Indian pin codes with the highest number of registered users, led by 201301 with over 1.6 million users. Other top regions like 110059 and 560068 show strong digital participation, emphasizing urban engagement. The spread indicates concentrated adoption in specific areas, useful for regional targeting and user expansion strategies."
      ],
      "metadata": {
        "id": "4ZlfTr4eq0NB"
      }
    },
    {
      "cell_type": "markdown",
      "source": [],
      "metadata": {
        "id": "DaKy5o6It4vm"
      }
    },
    {
      "cell_type": "markdown",
      "source": [
        "## **5. Solution to Business Objective**"
      ],
      "metadata": {
        "id": "JcMwzZxoAimU"
      }
    },
    {
      "cell_type": "markdown",
      "source": [
        "#### What do you suggest the client to achieve Business Objective ?"
      ],
      "metadata": {
        "id": "8G2x9gOozGDZ"
      }
    },
    {
      "cell_type": "markdown",
      "source": [
        "Focus marketing on high-potential states & segments:\n",
        "\n",
        "1.Analysis shows that states like Maharashtra, Karnataka, and Gujarat consistently lead in transaction volumes and insurance penetration.\n",
        "\n",
        "Intensify localized marketing campaigns and build partnerships there to capitalize on momentum.\n",
        "\n",
        "2 Boost underperforming regions through targeted offers:\n",
        "\n",
        "States or districts with stagnating growth can be revived with cashback offers, referral schemes, or educational drives about digital payments and insurance.\n",
        "\n",
        "3 Leverage customer segmentation:\n",
        "\n",
        "Cluster analysis of spending patterns can help you design tiered loyalty programs — e.g., high-value transactors get premium offers, while low-frequency users get reactivation incentives.\n",
        "\n",
        "4 Enhance user engagement:\n",
        "\n",
        "Data on app opens and registered users suggests opportunities to improve in-app experiences and push timely notifications to drive repeat use.\n",
        "\n",
        "5 Expand insurance cross-sell:\n",
        "\n",
        "Since insurance transactions are growing, integrate smart nudges in the app (like micro-insurance offers right after bill payments) to further boost uptake.\n",
        "\n",
        " Summary:\n",
        "Use these insights to tailor marketing, refine user journeys, and allocate resources effectively. This will help drive higher transaction volumes, improve insurance adoption, and deepen customer loyalty — all aligning directly with your business growth objectives."
      ],
      "metadata": {
        "id": "h3qogdsvt5G-"
      }
    },
    {
      "cell_type": "markdown",
      "source": [
        "# **Conclusion**"
      ],
      "metadata": {
        "id": "gCX9965dhzqZ"
      }
    },
    {
      "cell_type": "markdown",
      "source": [
        "Through this comprehensive analysis, it’s clear that PhonePe has significant opportunities to strengthen its market position by leveraging data-driven insights. The trends in transactions, insurance penetration, and user engagement highlight both high-performing regions that can be further maximized and underperforming areas where targeted strategies can stimulate growth. By focusing on tailored marketing, customer segmentation, and personalized user engagement initiatives, PhonePe can drive sustainable business growth, boost transaction volumes, and expand insurance adoption. Overall, these insights equip PhonePe to make informed decisions that align operational efforts with strategic objectives, ensuring long-term success in an increasingly competitive digital payments landscape.\n",
        "\n",
        "\n",
        "\n",
        "\n",
        "\n",
        "\n",
        "\n",
        "\n",
        "\n",
        "\n"
      ],
      "metadata": {
        "id": "Fjb1IsQkh3yE"
      }
    },
    {
      "cell_type": "markdown",
      "source": [
        "### ***Hurrah! You have successfully completed your EDA Capstone Project !!!***"
      ],
      "metadata": {
        "id": "gIfDvo9L0UH2"
      }
    },
    {
      "cell_type": "code",
      "source": [],
      "metadata": {
        "id": "dYX880etpL0x"
      },
      "execution_count": null,
      "outputs": []
    },
    {
      "cell_type": "code",
      "source": [],
      "metadata": {
        "id": "-6Vl263upPVI"
      },
      "execution_count": null,
      "outputs": []
    }
  ]
}