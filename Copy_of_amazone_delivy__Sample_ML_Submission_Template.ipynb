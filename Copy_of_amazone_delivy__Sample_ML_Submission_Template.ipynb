{
  "nbformat": 4,
  "nbformat_minor": 0,
  "metadata": {
    "colab": {
      "private_outputs": true,
      "provenance": [],
      "collapsed_sections": [
        "w6K7xa23Elo4",
        "mDgbUHAGgjLW",
        "-Kee-DAl2viO"
      ],
      "include_colab_link": true
    },
    "kernelspec": {
      "name": "python3",
      "display_name": "Python 3"
    },
    "language_info": {
      "name": "python"
    }
  },
  "cells": [
    {
      "cell_type": "markdown",
      "metadata": {
        "id": "view-in-github",
        "colab_type": "text"
      },
      "source": [
        "<a href=\"https://colab.research.google.com/github/sreeproject/AI-/blob/main/Copy_of_amazone_delivy__Sample_ML_Submission_Template.ipynb\" target=\"_parent\"><img src=\"https://colab.research.google.com/assets/colab-badge.svg\" alt=\"Open In Colab\"/></a>"
      ]
    },
    {
      "cell_type": "markdown",
      "source": [
        "# **Project Name**    - Amazon Delivery Time Prediction\n",
        "\n",
        "\n",
        "\n"
      ],
      "metadata": {
        "id": "vncDsAP0Gaoa"
      }
    },
    {
      "cell_type": "markdown",
      "source": [
        "##### **Project Type**    - EDA/Regression/Clustering\n",
        "##### **Contribution**    - Individual/Team\n"
      ],
      "metadata": {
        "id": "beRrZCGUAJYm"
      }
    },
    {
      "cell_type": "markdown",
      "source": [
        "# **Project Summary -**"
      ],
      "metadata": {
        "id": "FJNUwmbgGyua"
      }
    },
    {
      "cell_type": "markdown",
      "source": [
        "This project focuses on building a robust machine learning system to accurately predict delivery times for e-commerce orders using diverse real-world factors. The model considers key variables such as product size, order distance, traffic conditions, weather, vehicle type, and shipping method to estimate delivery duration with high precision. The workflow begins with comprehensive data preprocessing — handling missing values, encoding categorical variables, and scaling numerical features to ensure model readiness. Exploratory data analysis is then performed to uncover relationships between various features and delivery time. Multiple regression models, including Linear Regression, Random Forest, and Gradient Boosting, are trained and evaluated using performance metrics such as MAE, RMSE, and R² to identify the best-performing model. The tuned Random Forest model, with an R² of approximately 0.90, demonstrates excellent predictive power. The system’s results and metrics are logged and compared using MLflow for transparency and model version tracking. Finally, the best model is deployed through a Streamlit-based interactive application, allowing users to input order parameters and receive real-time delivery time predictions. This end-to-end project showcases practical machine learning applications, model lifecycle management, and user-focused deployment for operational scalability in logistics and e-commerce optimization."
      ],
      "metadata": {
        "id": "F6v_1wHtG2nS"
      }
    },
    {
      "cell_type": "markdown",
      "source": [
        "# **GitHub Link -**"
      ],
      "metadata": {
        "id": "w6K7xa23Elo4"
      }
    },
    {
      "cell_type": "markdown",
      "source": [
        "Provide your GitHub Link here."
      ],
      "metadata": {
        "id": "h1o69JH3Eqqn"
      }
    },
    {
      "cell_type": "markdown",
      "source": [
        "# **Problem Statement**\n"
      ],
      "metadata": {
        "id": "yQaldy8SH6Dl"
      }
    },
    {
      "cell_type": "markdown",
      "source": [
        "This project aims to predict delivery times for e-commerce orders based on a variety of factors such as product size, distance, traffic conditions, and shipping method. Using the provided dataset, learners will preprocess, analyze, and build regression models to accurately estimate delivery times. The final application will allow users to input relevant details and receive estimated delivery times via a user-friendly interface.\n"
      ],
      "metadata": {
        "id": "DpeJGUA3kjGy"
      }
    },
    {
      "cell_type": "markdown",
      "source": [
        "# **General Guidelines** : -  "
      ],
      "metadata": {
        "id": "mDgbUHAGgjLW"
      }
    },
    {
      "cell_type": "markdown",
      "source": [
        "1.   Well-structured, formatted, and commented code is required.\n",
        "2.   Exception Handling, Production Grade Code & Deployment Ready Code will be a plus. Those students will be awarded some additional credits.\n",
        "     \n",
        "     The additional credits will have advantages over other students during Star Student selection.\n",
        "       \n",
        "             [ Note: - Deployment Ready Code is defined as, the whole .ipynb notebook should be executable in one go\n",
        "                       without a single error logged. ]\n",
        "\n",
        "3.   Each and every logic should have proper comments.\n",
        "4. You may add as many number of charts you want. Make Sure for each and every chart the following format should be answered.\n",
        "        \n",
        "\n",
        "```\n",
        "# Chart visualization code\n",
        "```\n",
        "            \n",
        "\n",
        "*   Why did you pick the specific chart?\n",
        "*   What is/are the insight(s) found from the chart?\n",
        "* Will the gained insights help creating a positive business impact?\n",
        "Are there any insights that lead to negative growth? Justify with specific reason.\n",
        "\n",
        "5. You have to create at least 15 logical & meaningful charts having important insights.\n",
        "\n",
        "\n",
        "[ Hints : - Do the Vizualization in  a structured way while following \"UBM\" Rule.\n",
        "\n",
        "U - Univariate Analysis,\n",
        "\n",
        "B - Bivariate Analysis (Numerical - Categorical, Numerical - Numerical, Categorical - Categorical)\n",
        "\n",
        "M - Multivariate Analysis\n",
        " ]\n",
        "\n",
        "\n",
        "\n",
        "\n",
        "\n",
        "6. You may add more ml algorithms for model creation. Make sure for each and every algorithm, the following format should be answered.\n",
        "\n",
        "\n",
        "*   Explain the ML Model used and it's performance using Evaluation metric Score Chart.\n",
        "\n",
        "\n",
        "*   Cross- Validation & Hyperparameter Tuning\n",
        "\n",
        "*   Have you seen any improvement? Note down the improvement with updates Evaluation metric Score Chart.\n",
        "\n",
        "*   Explain each evaluation metric's indication towards business and the business impact pf the ML model used.\n",
        "\n",
        "\n",
        "\n",
        "\n",
        "\n",
        "\n",
        "\n",
        "\n",
        "\n",
        "\n",
        "\n",
        "\n",
        "\n",
        "\n",
        "\n",
        "\n",
        "\n",
        "\n"
      ],
      "metadata": {
        "id": "ZrxVaUj-hHfC"
      }
    },
    {
      "cell_type": "markdown",
      "source": [
        "# ***Let's Begin !***"
      ],
      "metadata": {
        "id": "O_i_v8NEhb9l"
      }
    },
    {
      "cell_type": "markdown",
      "source": [
        "## ***1. Know Your Data***"
      ],
      "metadata": {
        "id": "HhfV-JJviCcP"
      }
    },
    {
      "cell_type": "markdown",
      "source": [
        "### Import Libraries"
      ],
      "metadata": {
        "id": "Y3lxredqlCYt"
      }
    },
    {
      "cell_type": "code",
      "source": [
        "# Import Libraries\n",
        "import pandas as pd\n",
        "import numpy as np\n",
        "import matplotlib.pyplot as plt\n",
        "import seaborn as sns\n",
        "import warnings\n",
        "warnings.filterwarnings(\"ignore\")"
      ],
      "metadata": {
        "id": "M8Vqi-pPk-HR"
      },
      "execution_count": null,
      "outputs": []
    },
    {
      "cell_type": "markdown",
      "source": [
        "### Dataset Loading"
      ],
      "metadata": {
        "id": "3RnN4peoiCZX"
      }
    },
    {
      "cell_type": "code",
      "source": [
        "# Load Dataset\n",
        "amazon_df =pd.read_csv('amazon_delivery.csv')\n"
      ],
      "metadata": {
        "id": "4CkvbW_SlZ_R"
      },
      "execution_count": null,
      "outputs": []
    },
    {
      "cell_type": "markdown",
      "source": [
        "### Dataset First View"
      ],
      "metadata": {
        "id": "x71ZqKXriCWQ"
      }
    },
    {
      "cell_type": "code",
      "source": [
        "# Dataset First Look\n",
        "amazon_df.head()"
      ],
      "metadata": {
        "id": "LWNFOSvLl09H"
      },
      "execution_count": null,
      "outputs": []
    },
    {
      "cell_type": "markdown",
      "source": [
        "### Dataset Rows & Columns count"
      ],
      "metadata": {
        "id": "7hBIi_osiCS2"
      }
    },
    {
      "cell_type": "code",
      "source": [
        "# Dataset Rows & Columns count\n",
        "amazon_df.shape"
      ],
      "metadata": {
        "id": "Kllu7SJgmLij"
      },
      "execution_count": null,
      "outputs": []
    },
    {
      "cell_type": "code",
      "source": [
        "amazon_df.columns"
      ],
      "metadata": {
        "id": "vpxcXqCjwZVS"
      },
      "execution_count": null,
      "outputs": []
    },
    {
      "cell_type": "code",
      "source": [
        "amazon_df.dtypes"
      ],
      "metadata": {
        "id": "mKSept6bwePp"
      },
      "execution_count": null,
      "outputs": []
    },
    {
      "cell_type": "markdown",
      "source": [
        "### Dataset Information"
      ],
      "metadata": {
        "id": "JlHwYmJAmNHm"
      }
    },
    {
      "cell_type": "code",
      "source": [
        "# Dataset Info\n",
        "amazon_df.info()"
      ],
      "metadata": {
        "id": "e9hRXRi6meOf"
      },
      "execution_count": null,
      "outputs": []
    },
    {
      "cell_type": "markdown",
      "source": [
        "#### Duplicate Values"
      ],
      "metadata": {
        "id": "35m5QtbWiB9F"
      }
    },
    {
      "cell_type": "code",
      "source": [
        "# Dataset Duplicate Value Count\n",
        "amazon_df.duplicated().sum()"
      ],
      "metadata": {
        "id": "1sLdpKYkmox0"
      },
      "execution_count": null,
      "outputs": []
    },
    {
      "cell_type": "markdown",
      "source": [
        "#### Missing Values/Null Values"
      ],
      "metadata": {
        "id": "PoPl-ycgm1ru"
      }
    },
    {
      "cell_type": "code",
      "source": [
        "# Missing Values/Null Values Count\n",
        "print(\"Missing values:\",amazon_df.isnull().sum().sum())"
      ],
      "metadata": {
        "id": "GgHWkxvamxVg"
      },
      "execution_count": null,
      "outputs": []
    },
    {
      "cell_type": "code",
      "source": [
        "amazon_df.isnull().sum()"
      ],
      "metadata": {
        "id": "6awShLmSyONI"
      },
      "execution_count": null,
      "outputs": []
    },
    {
      "cell_type": "code",
      "source": [
        "# Visualizing the missing values\n",
        "import seaborn as sns\n",
        "import matplotlib.pyplot as plt\n",
        "\n",
        "plt.figure(figsize=(10,6))\n",
        "sns.heatmap(amazon_df.isnull(), cbar=False, cmap=\"viridis\")\n",
        "plt.title(\"Missing Values Heatmap\")\n",
        "plt.show()"
      ],
      "metadata": {
        "id": "3q5wnI3om9sJ"
      },
      "execution_count": null,
      "outputs": []
    },
    {
      "cell_type": "markdown",
      "source": [
        "### What did you know about your dataset?"
      ],
      "metadata": {
        "id": "H0kj-8xxnORC"
      }
    },
    {
      "cell_type": "markdown",
      "source": [
        "Amazon_df contains 43739 entries and  16 columns. No duplicate variables are there. 145 missing values are there. 9 object type variables and 7 integer type values are there and the variables are Order_ID, Agent_Age,Agent_Rating,Store_Latitude ,Store_Longitude ,Drop_Latitude\t, Drop_Longitude , Order_Date ,Order_Time, Pickup_Time,Weather,Traffic,Vehicle\t,Area,Delivery_Time\t,Category."
      ],
      "metadata": {
        "id": "gfoNAAC-nUe_"
      }
    },
    {
      "cell_type": "markdown",
      "source": [
        "## ***2. Understanding Your Variables***"
      ],
      "metadata": {
        "id": "nA9Y7ga8ng1Z"
      }
    },
    {
      "cell_type": "code",
      "source": [
        "# Dataset Columns\n",
        "amazon_df.columns"
      ],
      "metadata": {
        "id": "j7xfkqrt5Ag5"
      },
      "execution_count": null,
      "outputs": []
    },
    {
      "cell_type": "code",
      "source": [
        "# Dataset Describe\n",
        "amazon_df.describe()"
      ],
      "metadata": {
        "id": "DnOaZdaE5Q5t"
      },
      "execution_count": null,
      "outputs": []
    },
    {
      "cell_type": "markdown",
      "source": [
        "### Variables Description"
      ],
      "metadata": {
        "id": "PBTbrJXOngz2"
      }
    },
    {
      "cell_type": "markdown",
      "source": [
        "Order_ID: Unique identifier for each order.\n",
        "\n",
        "Agent_Age: Age of the delivery agent.\n",
        "\n",
        "Agent_Rating: Rating of the delivery agent.\n",
        "\n",
        "Store_Latitude/Longitude: Geographic location of the store.\n",
        "\n",
        "Drop_Latitude/Longitude: Geographic location of the delivery address.\n",
        "\n",
        "Order_Date/Order_Time: Date and time when the order was placed.\n",
        "\n",
        "Pickup_Time: Time when the delivery agent picked up the order.\n",
        "\n",
        "Weather: Weather conditions during delivery.\n",
        "\n",
        "Traffic: Traffic conditions during delivery.\n",
        "\n",
        "Vehicle: Mode of transportation used for delivery.\n",
        "\n",
        "Area: Type of delivery area (Urban/Metropolitan).\n",
        "\n",
        "Delivery_Time: Target variable representing the actual time taken for delivery (in hours).\n",
        "\n",
        "Category: Category of the product being delivered.\n"
      ],
      "metadata": {
        "id": "aJV4KIxSnxay"
      }
    },
    {
      "cell_type": "markdown",
      "source": [
        "### Check Unique Values for each variable."
      ],
      "metadata": {
        "id": "u3PMJOP6ngxN"
      }
    },
    {
      "cell_type": "code",
      "source": [
        "# Check Unique Values for each variable.\n",
        "amazon_df.nunique()"
      ],
      "metadata": {
        "id": "zms12Yq5n-jE"
      },
      "execution_count": null,
      "outputs": []
    },
    {
      "cell_type": "markdown",
      "source": [
        "###Handlingmissing values"
      ],
      "metadata": {
        "id": "4ymzLr4iSiYW"
      }
    },
    {
      "cell_type": "code",
      "source": [
        "amazon_df['Agent_Rating'].fillna(amazon_df['Agent_Rating'].median(), inplace=True)\n",
        "amazon_df['Weather'].fillna(amazon_df['Weather'].mode()[0], inplace=True)\n"
      ],
      "metadata": {
        "id": "ypykThWCTSbe"
      },
      "execution_count": null,
      "outputs": []
    },
    {
      "cell_type": "code",
      "source": [
        "amazon_df['Traffic'].value_counts()"
      ],
      "metadata": {
        "id": "O9AyWxSTt0Hh"
      },
      "execution_count": null,
      "outputs": []
    },
    {
      "cell_type": "markdown",
      "source": [
        "Traffic contains \"NaN\" values. Change it with \"Unknown\" values"
      ],
      "metadata": {
        "id": "4S8uc2vduSbL"
      }
    },
    {
      "cell_type": "code",
      "source": [
        "# Replace string \"NaN\" (and other variants) with \"Unknown\"\n",
        "amazon_df[\"Traffic\"] = (\n",
        "    amazon_df[\"Traffic\"]\n",
        "    .astype(str)\n",
        "    .str.strip()\n",
        "    .replace([\"nan\", \"NaN\", \"NONE\", \"None\", \"NULL\"], \"Unknown\")\n",
        "    .fillna(\"Unknown\")  # for actual np.nan values\n",
        ")\n",
        "\n",
        "print(\"Unique Traffic values after cleaning:\", amazon_df[\"Traffic\"].unique())"
      ],
      "metadata": {
        "id": "tr_ZSWtIE742"
      },
      "execution_count": null,
      "outputs": []
    },
    {
      "cell_type": "code",
      "source": [
        "amazon_df"
      ],
      "metadata": {
        "id": "NK8tabNK-Tpw"
      },
      "execution_count": null,
      "outputs": []
    },
    {
      "cell_type": "markdown",
      "source": [
        "## 3. ***Data Wrangling***"
      ],
      "metadata": {
        "id": "dauF4eBmngu3"
      }
    },
    {
      "cell_type": "markdown",
      "source": [
        "### Data Wrangling Code"
      ],
      "metadata": {
        "id": "bKJF3rekwFvQ"
      }
    },
    {
      "cell_type": "code",
      "source": [
        "amazon_df.head()"
      ],
      "metadata": {
        "id": "4Tk0WA2ZUXYd"
      },
      "execution_count": null,
      "outputs": []
    },
    {
      "cell_type": "markdown",
      "source": [
        "### What all manipulations have you done and insights you found?"
      ],
      "metadata": {
        "id": "MSa1f5Uengrz"
      }
    },
    {
      "cell_type": "markdown",
      "source": [
        "Data wrangling means cleaning and preparing the data before using it for modeling. Missing values are filled, and errors or duplicates are removed. Text data like traffic or weather is changed into numbers. This helps the model learn better and give accurate delivery time predictions."
      ],
      "metadata": {
        "id": "LbyXE7I1olp8"
      }
    },
    {
      "cell_type": "markdown",
      "source": [
        "## ***4. Data Vizualization, Storytelling & Experimenting with charts : Understand the relationships between variables***"
      ],
      "metadata": {
        "id": "GF8Ens_Soomf"
      }
    },
    {
      "cell_type": "markdown",
      "source": [
        "#### Chart - 1"
      ],
      "metadata": {
        "id": "0wOQAZs5pc--"
      }
    },
    {
      "cell_type": "code",
      "source": [
        "# Chart - 1 visualization code\\Delivery Time Distribution\n",
        "import seaborn as sns\n",
        "import matplotlib.pyplot as plt\n",
        "\n",
        "plt.figure(figsize=(8,5))\n",
        "sns.histplot(amazon_df[\"Delivery_Time\"], bins=30, kde=True, color=\"skyblue\")\n",
        "plt.title(\"Delivery Time Distribution\")\n",
        "plt.xlabel(\"Minutes\")\n",
        "plt.ylabel(\"Frequency\")\n",
        "plt.show()"
      ],
      "metadata": {
        "id": "7v_ESjsspbW7"
      },
      "execution_count": null,
      "outputs": []
    },
    {
      "cell_type": "markdown",
      "source": [
        "##### 1. Why did you pick the specific chart?"
      ],
      "metadata": {
        "id": "K5QZ13OEpz2H"
      }
    },
    {
      "cell_type": "markdown",
      "source": [
        "The graph shows the distribution of delivery times, with most deliveries occurring between 90 and 150 minutes. The peak delivery time is around 130 minutes, indicating this is the most common duration. The approximately normal shape suggests that while most deliveries are timely, a few take significantly longer. This pattern can help identify delays and improve overall delivery efficiency."
      ],
      "metadata": {
        "id": "XESiWehPqBRc"
      }
    },
    {
      "cell_type": "markdown",
      "source": [
        "##### 2. What is/are the insight(s) found from the chart?"
      ],
      "metadata": {
        "id": "lQ7QKXXCp7Bj"
      }
    },
    {
      "cell_type": "markdown",
      "source": [
        "The chart reveals that most deliveries are completed between 90 and 150 minutes, with the highest frequency around 130 minutes. The distribution appears approximately normal, suggesting consistent delivery performance. A few deliveries take longer than average, indicating occasional delays. This insight can help identify typical delivery times and areas for potential improvement."
      ],
      "metadata": {
        "id": "C_j1G7yiqdRP"
      }
    },
    {
      "cell_type": "markdown",
      "source": [
        "##### 3. Will the gained insights help creating a positive business impact?\n",
        "Are there any insights that lead to negative growth? Justify with specific reason."
      ],
      "metadata": {
        "id": "448CDAPjqfQr"
      }
    },
    {
      "cell_type": "markdown",
      "source": [
        "Yes, the insights from the chart can help create a positive business impact by identifying the typical delivery time range and ensuring resources are optimized to meet that expectation consistently. Knowing that most deliveries occur around 130 minutes allows for better planning, customer communication, and performance benchmarking. However, the presence of longer delivery times—though infrequent—could signal operational inefficiencies or bottlenecks that may lead to customer dissatisfaction and negative growth if not addressed. Tackling these delays proactively can improve reliability and enhance customer trust."
      ],
      "metadata": {
        "id": "3cspy4FjqxJW"
      }
    },
    {
      "cell_type": "markdown",
      "source": [
        "#### Chart - 2"
      ],
      "metadata": {
        "id": "KSlN3yHqYklG"
      }
    },
    {
      "cell_type": "code",
      "source": [
        "# Chart - 2 visualization code\n",
        "#Delivery Time by Traffic Condition\n",
        "plt.figure(figsize=(8,5))\n",
        "sns.boxplot(x=\"Traffic\", y=\"Delivery_Time\", data=amazon_df, palette=\"Set2\")\n",
        "plt.title(\"Delivery Time vs Traffic Condition\")\n",
        "plt.show()\n"
      ],
      "metadata": {
        "id": "R4YgtaqtYklH"
      },
      "execution_count": null,
      "outputs": []
    },
    {
      "cell_type": "markdown",
      "source": [
        "##### 1. Why did you pick the specific chart?"
      ],
      "metadata": {
        "id": "t6dVpIINYklI"
      }
    },
    {
      "cell_type": "markdown",
      "source": [
        "Delivery times are shortest and most consistent under low traffic conditions, while jam and high traffic lead to significant delays and variability. Medium traffic performs moderately well, but unknown traffic shows erratic behavior with many outliers, suggesting data quality issues. This pattern highlights the importance of traffic-aware routing and data validation in optimizing delivery efficiency."
      ],
      "metadata": {
        "id": "5aaW0BYyYklI"
      }
    },
    {
      "cell_type": "markdown",
      "source": [
        "##### 2. What is/are the insight(s) found from the chart?"
      ],
      "metadata": {
        "id": "ijmpgYnKYklI"
      }
    },
    {
      "cell_type": "markdown",
      "source": [
        "Deliveries are fastest and most consistent during low traffic conditions, while jam and high traffic significantly increase delivery time and variability. Medium traffic shows moderate performance, and unknown traffic introduces unpredictability due to data inconsistencies. These insights highlight the need for traffic-aware delivery planning and improved data classification."
      ],
      "metadata": {
        "id": "PSx9atu2YklI"
      }
    },
    {
      "cell_type": "markdown",
      "source": [
        "##### 3. Will the gained insights help creating a positive business impact?\n",
        "Are there any insights that lead to negative growth? Justify with specific reason."
      ],
      "metadata": {
        "id": "-JiQyfWJYklI"
      }
    },
    {
      "cell_type": "markdown",
      "source": [
        "Yes, the insights can drive positive business impact by enabling smarter delivery scheduling and route optimization during low and medium traffic conditions, reducing delays and improving customer satisfaction. However, the presence of frequent delays under jam and high traffic, along with unpredictable delivery times in the \"Unknown\" category, could lead to negative growth if not addressed—resulting in increased operational costs, missed delivery windows, and reduced reliability. Improving traffic data accuracy and avoiding congested routes are essential to mitigate these risks and sustain performance."
      ],
      "metadata": {
        "id": "BcBbebzrYklV"
      }
    },
    {
      "cell_type": "markdown",
      "source": [
        "#### Chart 3"
      ],
      "metadata": {
        "id": "g8sZ4iwwM42H"
      }
    },
    {
      "cell_type": "code",
      "source": [
        "# Chart - 3   visualization code\n",
        "#Vehicle Type vs Delivery Time\n",
        "plt.figure(figsize=(7,5))\n",
        "sns.barplot(x=\"Traffic\", y=\"Delivery_Time\", data=amazon_df, estimator=np.mean, ci=None, palette=\"pastel\")\n",
        "plt.title(\"Average Delivery Time by Traffic Type\")\n",
        "plt.show()"
      ],
      "metadata": {
        "id": "XTtwnB52Mxim"
      },
      "execution_count": null,
      "outputs": []
    },
    {
      "cell_type": "markdown",
      "source": [
        "##### 1. Why did you pick the specific chart?"
      ],
      "metadata": {
        "id": "371x7YakOaK3"
      }
    },
    {
      "cell_type": "markdown",
      "source": [
        "The bar chart shows that delivery times are shortest during low traffic and longest during jam conditions, with high and medium traffic also causing significant delays. Unknown traffic has a moderate average delivery time, but may reflect inconsistent or incomplete data. These insights suggest that avoiding congested periods can improve delivery efficiency and reduce operational costs. Businesses can use this data to optimize routing and scheduling for better performance."
      ],
      "metadata": {
        "id": "1jwf3v6bOaK4"
      }
    },
    {
      "cell_type": "markdown",
      "source": [
        "##### 2. What is/are the insight(s) found from the chart?"
      ],
      "metadata": {
        "id": "NJihZviUOUse"
      }
    },
    {
      "cell_type": "markdown",
      "source": [
        "Deliveries are fastest during low traffic conditions, with an average time just above 100 units. Jam traffic causes the longest delays, nearing 150 units, followed by high and medium traffic, which also show elevated delivery times. Unknown traffic presents moderate delays, possibly due to inconsistent or incomplete data. Overall, traffic congestion has a clear negative impact on delivery speed."
      ],
      "metadata": {
        "id": "jnf4StLgOUsf"
      }
    },
    {
      "cell_type": "markdown",
      "source": [
        "##### 3. Will the gained insights help creating a positive business impact?\n",
        "Are there any insights that lead to negative growth? Justify with specific reason."
      ],
      "metadata": {
        "id": "9VqjFceTOfJU"
      }
    },
    {
      "cell_type": "markdown",
      "source": [
        "Yes, the insights can create a positive business impact by guiding delivery scheduling toward low-traffic periods, which significantly reduce delivery time and improve operational efficiency. This can enhance customer satisfaction and lower fuel and labor costs. However, consistently high delivery times during jam and high traffic conditions may lead to negative growth if not addressed, as they increase delays, reduce reliability, and strain resources. Additionally, the \"Unknown\" traffic category suggests data quality issues that could hinder accurate forecasting and decision-making."
      ],
      "metadata": {
        "id": "91djqNZ759Sm"
      }
    },
    {
      "cell_type": "markdown",
      "source": [
        "#### Chart - 4"
      ],
      "metadata": {
        "id": "EM7whBJCYoAo"
      }
    },
    {
      "cell_type": "code",
      "source": [
        "# Chart - 3 visualization code\n",
        "#Delivery Time by Weather Condition\n",
        "plt.figure(figsize=(8,5))\n",
        "sns.boxplot(x=\"Weather\", y=\"Delivery_Time\", data=amazon_df, palette=\"Set2\")\n",
        "plt.title(\"Delivery Time vs Weather Condition\")\n",
        "plt.show()"
      ],
      "metadata": {
        "id": "hdwDhGdI6QcB"
      },
      "execution_count": null,
      "outputs": []
    },
    {
      "cell_type": "markdown",
      "source": [
        "##### 1. Why did you pick the specific chart?"
      ],
      "metadata": {
        "id": "fge-S5ZAYoAp"
      }
    },
    {
      "cell_type": "markdown",
      "source": [
        "The box plot shows that delivery times are shortest and most consistent during sunny weather, making it ideal for logistics. Stormy and sandstorm conditions lead to the longest and most variable delivery times, indicating significant disruption. Cloudy, foggy, and windy weather also increase delivery time, but with less variability than storms. These insights highlight the importance of weather-aware planning to maintain delivery efficiency and reduce delays."
      ],
      "metadata": {
        "id": "5dBItgRVYoAp"
      }
    },
    {
      "cell_type": "markdown",
      "source": [
        "##### 2. What is/are the insight(s) found from the chart?"
      ],
      "metadata": {
        "id": "85gYPyotYoAp"
      }
    },
    {
      "cell_type": "markdown",
      "source": [
        "Deliveries are fastest and most consistent during sunny weather, with the lowest median and narrow variability. Stormy and sandstorm conditions cause the longest and most unpredictable delivery times, indicating major disruptions. Cloudy, foggy, and windy weather also increase delivery time, though with slightly less variability. Overall, adverse weather significantly impacts delivery efficiency, while clear conditions support optimal performance."
      ],
      "metadata": {
        "id": "4jstXR6OYoAp"
      }
    },
    {
      "cell_type": "markdown",
      "source": [
        "##### 3. Will the gained insights help creating a positive business impact?\n",
        "Are there any insights that lead to negative growth? Justify with specific reason."
      ],
      "metadata": {
        "id": "RoGjAbkUYoAp"
      }
    },
    {
      "cell_type": "markdown",
      "source": [
        "Yes, the insights can lead to a positive business impact by enabling weather-aware delivery planning—scheduling more deliveries during sunny conditions can reduce delays and improve customer satisfaction. This helps optimize resource allocation and lowers operational costs. However, adverse weather like storms and sandstorms can cause significant delays and variability, leading to negative growth if not managed properly. These conditions increase uncertainty, strain logistics, and may result in missed delivery windows, making it crucial to build contingency plans and improve forecasting accuracy."
      ],
      "metadata": {
        "id": "zfJ8IqMcYoAp"
      }
    },
    {
      "cell_type": "markdown",
      "source": [
        "#### Chart - 5"
      ],
      "metadata": {
        "id": "ClVWmnrfNZYT"
      }
    },
    {
      "cell_type": "code",
      "source": [
        "# Chart -  5 visualization code\n",
        "#Vehicle Type vs Delivery Time\n",
        "plt.figure(figsize=(7,5))\n",
        "sns.barplot(x=\"Weather\", y=\"Delivery_Time\", data=amazon_df, estimator=np.mean, ci=None, palette=\"pastel\")\n",
        "plt.title(\"Average Delivery Time by Weather Type\")\n",
        "plt.show()"
      ],
      "metadata": {
        "id": "hFUFbiNDNX0_"
      },
      "execution_count": null,
      "outputs": []
    },
    {
      "cell_type": "markdown",
      "source": [
        "##### 1. Why did you pick the specific chart?"
      ],
      "metadata": {
        "id": "vvq4YbkxOzek"
      }
    },
    {
      "cell_type": "markdown",
      "source": [
        "The bar chart shows that deliveries are fastest during sunny weather, with an average time around 100 units. Cloudy and foggy conditions lead to the longest delivery times, averaging about 130 units, indicating significant delays. Stormy, windy, and sandstorm conditions also increase delivery time moderately, ranging between 120 and 125 units. These insights emphasize the importance of weather-aware logistics planning to maintain delivery speed and reliability."
      ],
      "metadata": {
        "id": "n-NfBtEqOzek"
      }
    },
    {
      "cell_type": "markdown",
      "source": [
        "##### 2. What is/are the insight(s) found from the chart?"
      ],
      "metadata": {
        "id": "KGInNS5yPBBU"
      }
    },
    {
      "cell_type": "markdown",
      "source": [
        "Deliveries are fastest during sunny weather, with the lowest average delivery time around 100 units. Cloudy and foggy conditions lead to the longest delays, averaging about 130 units. Stormy, windy, and sandstorm conditions also increase delivery time moderately, ranging between 120 and 125 units. Overall, adverse weather significantly impacts delivery efficiency, while clear conditions support optimal performance."
      ],
      "metadata": {
        "id": "9ifiLJL8PCTh"
      }
    },
    {
      "cell_type": "markdown",
      "source": [
        "##### 3. Will the gained insights help creating a positive business impact?\n",
        "Are there any insights that lead to negative growth? Justify with specific reason."
      ],
      "metadata": {
        "id": "DefrEgmOPGXh"
      }
    },
    {
      "cell_type": "markdown",
      "source": [
        "Yes, the insights can support positive business impact by enabling weather-based delivery planning—scheduling more deliveries during sunny conditions can reduce delays, improve customer satisfaction, and optimize resource usage. This helps streamline operations and lower costs. However, consistently high delivery times during cloudy and foggy weather may lead to negative growth if not addressed, as they increase inefficiencies and risk missed delivery windows. Ignoring these patterns could result in poor customer experience and higher operational strain, making it essential to factor weather into logistics strategy."
      ],
      "metadata": {
        "id": "whvMhJrK6_0u"
      }
    },
    {
      "cell_type": "markdown",
      "source": [
        "#### Chart - 6"
      ],
      "metadata": {
        "id": "4Of9eVA-YrdM"
      }
    },
    {
      "cell_type": "code",
      "source": [
        "# Chart -  4 visualization code\n",
        "#Delivery Time by Vehicle Condition\n",
        "plt.figure(figsize=(8,5))\n",
        "sns.boxplot(x=\"Vehicle\", y=\"Delivery_Time\", data=amazon_df, palette=\"Set2\")\n",
        "plt.title(\"Delivery Time vs vehicle \")\n",
        "plt.show()\n"
      ],
      "metadata": {
        "id": "pbpPryqYBalE"
      },
      "execution_count": null,
      "outputs": []
    },
    {
      "cell_type": "markdown",
      "source": [
        "##### 1. Why did you pick the specific chart?"
      ],
      "metadata": {
        "id": "iky9q4vBYrdO"
      }
    },
    {
      "cell_type": "markdown",
      "source": [
        "The box plot shows that scooters and bicycles have more consistent delivery times, with narrower spreads and fewer outliers. Motorcycles and vans display wider variability, suggesting less predictable performance and occasional delays. Vans also show notable outliers, indicating sporadic extreme delivery times. These insights suggest that smaller vehicles like scooters and bicycles may be more reliable for time-sensitive deliveries."
      ],
      "metadata": {
        "id": "aJRCwT6DYrdO"
      }
    },
    {
      "cell_type": "markdown",
      "source": [
        "##### 2. What is/are the insight(s) found from the chart?"
      ],
      "metadata": {
        "id": "F6T5p64dYrdO"
      }
    },
    {
      "cell_type": "markdown",
      "source": [
        "Scooters and bicycles show more consistent delivery times with narrower interquartile ranges, indicating reliable performance. Motorcycles and vans have wider delivery time distributions, suggesting greater variability and occasional delays. Vans also display notable outliers, pointing to sporadic extreme delivery times. Overall, smaller vehicles tend to offer more predictable delivery efficiency."
      ],
      "metadata": {
        "id": "Xx8WAJvtYrdO"
      }
    },
    {
      "cell_type": "markdown",
      "source": [
        "##### 3. Will the gained insights help creating a positive business impact?\n",
        "Are there any insights that lead to negative growth? Justify with specific reason."
      ],
      "metadata": {
        "id": "y-Ehk30pYrdP"
      }
    },
    {
      "cell_type": "markdown",
      "source": [
        "Yes, the insights can support positive business impact by identifying scooters and bicycles as more reliable options for consistent delivery times, which helps improve scheduling accuracy and customer satisfaction. This can lead to better resource utilization and reduced operational delays. However, the wider variability and outliers seen in motorcycle and van deliveries may contribute to negative growth if not managed, as they introduce unpredictability and risk of late deliveries. Addressing these inconsistencies through route planning or vehicle reassignment can help mitigate potential inefficiencies."
      ],
      "metadata": {
        "id": "jLNxxz7MYrdP"
      }
    },
    {
      "cell_type": "markdown",
      "source": [
        "#### Chart - 7"
      ],
      "metadata": {
        "id": "bamQiAODYuh1"
      }
    },
    {
      "cell_type": "code",
      "source": [
        "# Chart -  6 visualization code\n",
        "#Vehicle Type vs Delivery Time\n",
        "plt.figure(figsize=(7,5))\n",
        "sns.barplot(x=\"Vehicle\", y=\"Delivery_Time\", data=amazon_df, estimator=np.mean, ci=None, palette=\"pastel\")\n",
        "plt.title(\"Average Delivery Time by Vehicle Type\")\n",
        "plt.show()"
      ],
      "metadata": {
        "id": "5VFS_iFlC6KQ"
      },
      "execution_count": null,
      "outputs": []
    },
    {
      "cell_type": "markdown",
      "source": [
        "##### 1. Why did you pick the specific chart?"
      ],
      "metadata": {
        "id": "QHF8YVU7Yuh3"
      }
    },
    {
      "cell_type": "markdown",
      "source": [
        "Motorcycles have the highest average delivery time, making them the least efficient among the vehicle types. Scooters and vans perform similarly, with slightly lower delivery times, indicating moderate efficiency. Bicycles offer better delivery speed than motorcycles but are slightly slower than scooters and vans."
      ],
      "metadata": {
        "id": "dcxuIMRPYuh3"
      }
    },
    {
      "cell_type": "markdown",
      "source": [
        "##### 2. What is/are the insight(s) found from the chart?"
      ],
      "metadata": {
        "id": "GwzvFGzlYuh3"
      }
    },
    {
      "cell_type": "markdown",
      "source": [
        "Motorcycles have the highest average delivery time, indicating they are the least time-efficient among the vehicle types. Scooters and vans show similar and slightly lower delivery times, suggesting moderate efficiency. Bicycles perform better than motorcycles but are slightly slower than scooters and vans. Overall, scooters and vans appear to be the most effective choices for minimizing delivery time."
      ],
      "metadata": {
        "id": "uyqkiB8YYuh3"
      }
    },
    {
      "cell_type": "markdown",
      "source": [
        "##### 3. Will the gained insights help creating a positive business impact?\n",
        "Are there any insights that lead to negative growth? Justify with specific reason."
      ],
      "metadata": {
        "id": "qYpmQ266Yuh3"
      }
    },
    {
      "cell_type": "markdown",
      "source": [
        "Yes, the insights can help create a positive business impact by identifying scooters and vans as relatively efficient delivery options, allowing for better fleet planning and reduced delivery times. This can improve customer satisfaction and optimize operational costs. However, motorcycles show the highest average delivery time, which may lead to negative growth if overused, as they contribute to slower deliveries and potential delays. Addressing this inefficiency by reassigning vehicle types or improving routing strategies can mitigate the risk and enhance overall performance."
      ],
      "metadata": {
        "id": "_WtzZ_hCYuh4"
      }
    },
    {
      "cell_type": "markdown",
      "source": [
        "#### Chart - 8"
      ],
      "metadata": {
        "id": "OH-pJp9IphqM"
      }
    },
    {
      "cell_type": "code",
      "source": [
        "# Chart -  8 visualization code\n",
        "#Delivery Time by Area Condition\n",
        "plt.figure(figsize=(8,5))\n",
        "sns.boxplot(x=\"Area\", y=\"Delivery_Time\", data=amazon_df, palette=\"muted\")\n",
        "plt.title(\"Delivery Time vs Area Type\")\n",
        "plt.show()\n"
      ],
      "metadata": {
        "id": "A2Y1cZiYCJ1A"
      },
      "execution_count": null,
      "outputs": []
    },
    {
      "cell_type": "markdown",
      "source": [
        "##### 1. Why did you pick the specific chart?"
      ],
      "metadata": {
        "id": "bbFf2-_FphqN"
      }
    },
    {
      "cell_type": "markdown",
      "source": [
        "Semi-Urban areas have the highest median delivery time, indicating slower and more consistent delays. Urban show wide variability with several outliers, suggesting unpredictable delivery performance.Metropolitian areas has no outliers . Other areas have the lowest median and moderate spread, making them the most efficient for deliveries."
      ],
      "metadata": {
        "id": "loh7H2nzphqN"
      }
    },
    {
      "cell_type": "markdown",
      "source": [
        "##### 2. What is/are the insight(s) found from the chart?"
      ],
      "metadata": {
        "id": "_ouA3fa0phqN"
      }
    },
    {
      "cell_type": "markdown",
      "source": [
        "The Metropolitan area in the box plot shows a wide spread of delivery times but does not contain any outliers, unlike Urban and Semi-Urban areas. This suggests that while delivery times in Metropolitan zones vary, they remain within a consistent range without extreme delays. It's a valuable distinction for logistics planning, as it points to relatively stable performance despite variability."
      ],
      "metadata": {
        "id": "VECbqPI7phqN"
      }
    },
    {
      "cell_type": "markdown",
      "source": [
        "##### 3. Will the gained insights help creating a positive business impact?\n",
        "Are there any insights that lead to negative growth? Justify with specific reason."
      ],
      "metadata": {
        "id": "Seke61FWphqN"
      }
    },
    {
      "cell_type": "markdown",
      "source": [
        "Yes, the insights can help create a positive business impact by highlighting that “Other” areas offer the most efficient delivery times, making them ideal for prioritizing high-volume or time-sensitive deliveries. This enables better route planning, resource allocation, and customer satisfaction. However, Semi-Urban areas show the highest median delivery time, which may lead to negative growth if not addressed, as they consistently slow down operations and increase delivery costs. Without targeted interventions—like route optimization or infrastructure improvements—these delays could reduce overall efficiency and hurt service reliability."
      ],
      "metadata": {
        "id": "DW4_bGpfphqN"
      }
    },
    {
      "cell_type": "markdown",
      "source": [
        "####Chart - 9"
      ],
      "metadata": {
        "id": "bHWQVoPbNuTe"
      }
    },
    {
      "cell_type": "code",
      "source": [
        "# Chart -  8 visualization code\n",
        "#Vehicle Type vs Delivery Time\n",
        "plt.figure(figsize=(7,5))\n",
        "sns.barplot(x=\"Area\", y=\"Delivery_Time\", data=amazon_df, estimator=np.mean, ci=None, palette=\"pastel\")\n",
        "plt.title(\"Average Delivery Time by Area Type\")\n",
        "plt.show()"
      ],
      "metadata": {
        "id": "SC3WYfhMN2nZ"
      },
      "execution_count": null,
      "outputs": []
    },
    {
      "cell_type": "markdown",
      "source": [
        "##### 1. Why did you pick the specific chart?"
      ],
      "metadata": {
        "id": "rPSGUxy0Ph3m"
      }
    },
    {
      "cell_type": "markdown",
      "source": [
        "Semi-Urban areas have the highest average delivery time (~230 units), indicating significant delays and lower efficiency. Metropolitan areas follow with moderately high delivery times (~140 units), suggesting room for improvement. Urban and Other areas show much faster delivery times (~100 and ~90 units), making them more suitable for time-sensitive operations. These insights can guide strategic resource allocation and route planning to improve overall delivery performance."
      ],
      "metadata": {
        "id": "dRnl3fWAPh3m"
      }
    },
    {
      "cell_type": "markdown",
      "source": [
        "##### 2. What is/are the insight(s) found from the chart?"
      ],
      "metadata": {
        "id": "PNzpCGdrPfWL"
      }
    },
    {
      "cell_type": "markdown",
      "source": [
        "Semi-Urban areas have the highest average delivery time (~230 units), indicating they are the least efficient for deliveries. Metropolitan areas follow with moderately high delivery times (~140 units), suggesting potential delays. Urban and Other areas show significantly lower average delivery times (~100 and ~90 units), making them more suitable for faster and reliable deliveries. These insights highlight clear performance differences across area types, useful for optimizing delivery strategies."
      ],
      "metadata": {
        "id": "naj47j5IPfWL"
      }
    },
    {
      "cell_type": "markdown",
      "source": [
        "#### Chart - 10"
      ],
      "metadata": {
        "id": "PIIx-8_IphqN"
      }
    },
    {
      "cell_type": "code",
      "source": [
        "#Delivery Time by Category Condition\n",
        "plt.figure(figsize=(12, 6))\n",
        "sns.barplot(x=\"Category\", y=\"Delivery_Time\", data=amazon_df, estimator=np.mean, palette=\"muted\")\n",
        "plt.title(\"Average Delivery Time by Category Type\")\n",
        "plt.xticks(rotation=90) # Rotate x-axis labels for better readability\n",
        "plt.show()"
      ],
      "metadata": {
        "id": "ypjBliF_IhQW"
      },
      "execution_count": null,
      "outputs": []
    },
    {
      "cell_type": "markdown",
      "source": [
        "##### 1. Why did you pick the specific chart?"
      ],
      "metadata": {
        "id": "t27r6nlMphqO"
      }
    },
    {
      "cell_type": "markdown",
      "source": [
        "Grocery has the lowest average delivery time (~20 units), making it the most efficiently delivered category. All other categories—including Clothing, Electronics, and Home—have delivery times clustered around ~130 units, indicating slower fulfillment. This contrast highlights Grocery as a clear outlier in operational speed. The chart suggests that non-grocery categories may benefit from targeted process improvements to reduce delivery delays."
      ],
      "metadata": {
        "id": "iv6ro40sphqO"
      }
    },
    {
      "cell_type": "markdown",
      "source": [
        "##### 2. What is/are the insight(s) found from the chart?"
      ],
      "metadata": {
        "id": "r2jJGEOYphqO"
      }
    },
    {
      "cell_type": "markdown",
      "source": [
        "The chart reveals that Grocery has a significantly lower average delivery time (~20 units), making it the most efficiently delivered category. All other categories—including Clothing, Electronics, Toys, and Home—have delivery times clustered around ~130 units, indicating slower and more uniform delivery speeds. This contrast positions Grocery as a clear outlier in operational performance. The insight suggests that delivery processes for non-grocery items may require optimization to match the efficiency seen in Grocery."
      ],
      "metadata": {
        "id": "Po6ZPi4hphqO"
      }
    },
    {
      "cell_type": "markdown",
      "source": [
        "#### Chart - 11"
      ],
      "metadata": {
        "id": "BZR9WyysphqO"
      }
    },
    {
      "cell_type": "code",
      "source": [
        "# Chart - 10 visualization code\n",
        "\n",
        "#Delivery Time by Area Condition\n",
        "plt.figure(figsize=(7,5))\n",
        "sns.boxplot(x=\"Category\", y=\"Delivery_Time\", data=amazon_df, palette=\"muted\")\n",
        "plt.title(\"Delivery Time vs category  Type\")\n",
        "plt.show()"
      ],
      "metadata": {
        "id": "TdPTWpAVphqO"
      },
      "execution_count": null,
      "outputs": []
    },
    {
      "cell_type": "markdown",
      "source": [
        "##### 1. Why did you pick the specific chart?"
      ],
      "metadata": {
        "id": "jj7wYXLtphqO"
      }
    },
    {
      "cell_type": "markdown",
      "source": [
        "he box plot shows that the Books category has the lowest median delivery time and the narrowest range, indicating fast and consistent delivery. Most other categories—including Clothing, Electronics, and Cosmetics—have similar median delivery times with wider spreads, suggesting slower and more variable performance. Categories like Skincare and Pets also follow this slower trend without significant deviation. Overall, Books stand out as the most efficient category, while others may need process improvements to enhance delivery speed and consistency."
      ],
      "metadata": {
        "id": "Ob8u6rCTphqO"
      }
    },
    {
      "cell_type": "markdown",
      "source": [
        "##### 2. What is/are the insight(s) found from the chart?"
      ],
      "metadata": {
        "id": "eZrbJ2SmphqO"
      }
    },
    {
      "cell_type": "markdown",
      "source": [
        "The chart reveals that the Books category has the lowest median delivery time and the narrowest range, indicating fast and consistent delivery performance. Most other categories—including Clothing, Electronics, Cosmetics, and Snacks—have similar median delivery times with wider spreads, suggesting slower and more variable delivery. This positions Books as a standout category in terms of operational efficiency. The insight highlights an opportunity to analyze and replicate the logistics strategies used for Books across other slower categories."
      ],
      "metadata": {
        "id": "mZtgC_hjphqO"
      }
    },
    {
      "cell_type": "markdown",
      "source": [
        "#### Chart - 12"
      ],
      "metadata": {
        "id": "YJ55k-q6phqO"
      }
    },
    {
      "cell_type": "code",
      "metadata": {
        "id": "db55899c"
      },
      "source": [
        "#Create new feature -- Calculate distance and create the 'distance_km' column\n",
        "from math import radians, sin, cos, sqrt, atan2\n",
        "\n",
        "def haversine(lat1, lon1, lat2, lon2):\n",
        "    # Convert decimal degrees to radians\n",
        "    lat1, lon1, lat2, lon2 = map(radians, [lat1, lon1, lat2, lon2])\n",
        "\n",
        "    # Haversine formula\n",
        "    dlon = lon2 - lon1\n",
        "    dlat = lat2 - lat1\n",
        "    a = sin(dlat / 2)**2 + cos(lat1) * cos(lat2) * sin(dlon / 2)**2\n",
        "    c = 2 * atan2(sqrt(a), sqrt(1 - a))\n",
        "    km = 6371 * c  # Radius of Earth in kilometers. Use 3956 for miles\n",
        "    return km\n",
        "\n",
        "# Calculate distance and create the 'distance_km' column\n",
        "amazon_df['distance_km'] = amazon_df.apply(lambda row: haversine(row['Store_Latitude'], row['Store_Longitude'], row['Drop_Latitude'], row['Drop_Longitude']), axis=1)"
      ],
      "execution_count": null,
      "outputs": []
    },
    {
      "cell_type": "code",
      "source": [
        "# Chart - 12 visualization code\n",
        "#Relationship between Distance and Delivery Time\n",
        "plt.figure(figsize=(8,6))\n",
        "sns.scatterplot(x=\"distance_km\", y=\"Delivery_Time\", hue=\"Traffic\", data=amazon_df, alpha=0.7, palette=\"Set1\")\n",
        "plt.title(\"Distance vs Delivery Time (colored by Traffic)\")\n",
        "plt.show()"
      ],
      "metadata": {
        "id": "B2aS4O1ophqO"
      },
      "execution_count": null,
      "outputs": []
    },
    {
      "cell_type": "markdown",
      "source": [
        "##### 1. Why did you pick the specific chart?"
      ],
      "metadata": {
        "id": "gCFgpxoyphqP"
      }
    },
    {
      "cell_type": "markdown",
      "source": [
        "The scatter plot shows that delivery time generally increases with distance, but the relationship is not strictly linear. Traffic conditions significantly impact delivery time—points labeled with \"Jam\" or \"High\" traffic tend to have longer delays. Most deliveries occur within 0–10,000 km, with a separate cluster between 15,000–20,000 km likely representing long-haul shipments. The chart highlights how both distance and traffic jointly influence delivery performance, offering valuable insights for optimizing logistics."
      ],
      "metadata": {
        "id": "TVxDimi2phqP"
      }
    },
    {
      "cell_type": "markdown",
      "source": [
        "##### 2. What is/are the insight(s) found from the chart?"
      ],
      "metadata": {
        "id": "OVtJsKN_phqQ"
      }
    },
    {
      "cell_type": "markdown",
      "source": [
        "The chart reveals that delivery time generally increases with distance, but the relationship is influenced heavily by traffic conditions. Deliveries affected by “Jam” or “High” traffic tend to have longer delivery times, regardless of distance. Most deliveries occur within the 0–10,000 km range, with a separate cluster between 15,000–20,000 km likely representing long-haul shipments. The insight highlights that both distance and traffic level are key drivers of delivery performance, and optimizing routes based on traffic data could significantly reduce delays."
      ],
      "metadata": {
        "id": "ngGi97qjphqQ"
      }
    },
    {
      "cell_type": "markdown",
      "source": [
        "#### Chart - 13"
      ],
      "metadata": {
        "id": "U2RJ9gkRphqQ"
      }
    },
    {
      "cell_type": "code",
      "source": [
        "# Chart - 13 visualization code\n",
        "#Agent Performance Across Conditions\n",
        "\n",
        "plt.figure(figsize=(8,5))\n",
        "sns.scatterplot(x=\"Agent_Rating\", y=\"Delivery_Time\", hue=\"Weather\", data=amazon_df, alpha=0.6)\n",
        "plt.title(\"Agent Rating vs Delivery Time (by Weather)\")\n",
        "plt.show()\n",
        "\n",
        "plt.figure(figsize=(8,5))\n",
        "sns.barplot(x=\"Traffic\", y=\"Delivery_Time\", hue=\"Area\", data=amazon_df, ci=None, palette=\"muted\")\n",
        "plt.title(\"Agent Performance across Traffic and Area\")\n",
        "plt.show()"
      ],
      "metadata": {
        "id": "xn8hy1AIq2f6"
      },
      "execution_count": null,
      "outputs": []
    },
    {
      "cell_type": "markdown",
      "source": [
        "##### 1. Why did you pick the specific chart?"
      ],
      "metadata": {
        "id": "1M8mcRywphqQ"
      }
    },
    {
      "cell_type": "markdown",
      "source": [
        "1,Most deliveries occur with agent ratings between 4 and 5, showing a wide range of delivery times. Weather conditions like Stormy, Fog, and Windy are linked to longer delivery durations, even when agent ratings are high. Sunny weather dominates across all rating levels and is often associated with faster deliveries. The chart highlights that both agent performance and weather conditions significantly influence delivery time."
      ],
      "metadata": {
        "id": "8agQvks0phqQ"
      }
    },
    {
      "cell_type": "markdown",
      "source": [
        "2,Semi-Urban areas consistently show the highest delivery times across all traffic conditions, especially under High and Jam traffic. Urban and Metropolitan areas have moderate delivery times, while Other areas perform best with the lowest delivery durations. Low traffic conditions result in the fastest deliveries across all area types. The chart highlights that both traffic level and area type significantly impact agent performance, with Semi-Urban zones needing targeted improvements."
      ],
      "metadata": {
        "id": "s5idnCR_EwbS"
      }
    },
    {
      "cell_type": "markdown",
      "source": [
        "#### Correlation Heatmap"
      ],
      "metadata": {
        "id": "NC_X3p0fY2L0"
      }
    },
    {
      "cell_type": "code",
      "source": [
        "# Correlation Heatmap visualization code\n",
        "# Correlation Heatmap (Numerical Features)\n",
        "plt.figure(figsize=(8,6))\n",
        "sns.heatmap(amazon_df.corr(numeric_only=True), annot=True, cmap=\"Blues\", fmt=\".2f\")\n",
        "plt.title(\"Correlation Heatmap\")\n",
        "plt.show()"
      ],
      "metadata": {
        "id": "xyC9zolEZNRQ"
      },
      "execution_count": null,
      "outputs": []
    },
    {
      "cell_type": "markdown",
      "source": [
        "##### 1. Why did you pick the specific chart?"
      ],
      "metadata": {
        "id": "UV0SzAkaZNRQ"
      }
    },
    {
      "cell_type": "markdown",
      "source": [
        "The heatmap shows a perfect positive correlation (1.00) between Delivery_Time and distance_km, confirming that longer distances lead to longer delivery durations. Store_Latitude and Drop_Latitude also have a strong positive correlation (0.93), indicating geographic alignment between pickup and drop locations. Agent_Age has a moderate positive correlation (0.25) with Delivery_Time, suggesting older agents may take slightly longer. Agent_Rating shows a weak negative correlation (-0.05) with Delivery_Time, implying higher-rated agents tend to deliver faster."
      ],
      "metadata": {
        "id": "DVPuT8LYZNRQ"
      }
    },
    {
      "cell_type": "markdown",
      "source": [
        "##### 2. What is/are the insight(s) found from the chart?"
      ],
      "metadata": {
        "id": "YPEH6qLeZNRQ"
      }
    },
    {
      "cell_type": "markdown",
      "source": [
        "Observations from Heatmap:\n",
        "\n",
        "Agent_Age (0.25) → Positive correlation → keep.\n",
        "\n",
        "Agent_Rating (-0.29) → Negative correlation → keep.\n",
        "\n",
        "Store_Latitude / Store_Longitude / Drop_Latitude / Drop_Longitude → Very high multicollinearity (0.9+). Not good to keep all → instead use calculated distance_km."
      ],
      "metadata": {
        "id": "Xlf234Uq87Io"
      }
    },
    {
      "cell_type": "markdown",
      "source": [
        "Remove all four (Store_Latitude, Store_Longitude, Drop_Latitude, Drop_Longitude) because:\n",
        "\n",
        "They are highly correlated with each other (multicollinearity problem).\n",
        "\n",
        "Already derived distance_km, which captures the useful information from these coordinates."
      ],
      "metadata": {
        "id": "9pkf0Om19MdF"
      }
    },
    {
      "cell_type": "code",
      "source": [
        "# Drop raw latitude and longitude columns\n",
        "cols_to_drop = [\"Store_Latitude\", \"Store_Longitude\", \"Drop_Latitude\", \"Drop_Longitude\"]\n",
        "\n",
        "amazon_df1 = amazon_df.drop(columns=cols_to_drop, errors=\"ignore\")\n",
        "\n",
        "print(\"Remaining columns after dropping coordinates:\")\n",
        "print(amazon_df1.columns)"
      ],
      "metadata": {
        "id": "8LgJe5Cf-YUR"
      },
      "execution_count": null,
      "outputs": []
    },
    {
      "cell_type": "code",
      "source": [
        "amazon_df1.shape"
      ],
      "metadata": {
        "id": "nz29B124IOlX"
      },
      "execution_count": null,
      "outputs": []
    },
    {
      "cell_type": "code",
      "source": [
        "amazon_df1.head()"
      ],
      "metadata": {
        "id": "vPXMFq_U-1P7"
      },
      "execution_count": null,
      "outputs": []
    },
    {
      "cell_type": "markdown",
      "source": [],
      "metadata": {
        "id": "xRUZCfSvQWwv"
      }
    },
    {
      "cell_type": "markdown",
      "source": [
        "#### Pair Plot"
      ],
      "metadata": {
        "id": "q29F0dvdveiT"
      }
    },
    {
      "cell_type": "code",
      "source": [
        "import seaborn as sns\n",
        "import matplotlib.pyplot as plt\n",
        "\n",
        "# Select important numerical columns (you can add distance_km later)\n",
        "num_cols = [\"Agent_Age\", \"Agent_Rating\", \"Delivery_Time\"]\n",
        "\n",
        "# Pair plot with Traffic as hue (to see clustering by traffic condition)\n",
        "sns.pairplot(amazon_df1[num_cols + [\"Traffic\"]], hue=\"Traffic\", diag_kind=\"kde\", palette=\"Set2\")\n",
        "\n",
        "plt.suptitle(\"Pair Plot of Numerical Features vs Delivery Time\", y=1.02)\n",
        "plt.show()"
      ],
      "metadata": {
        "id": "TZCrfy9Rwle3"
      },
      "execution_count": null,
      "outputs": []
    },
    {
      "cell_type": "markdown",
      "source": [
        "The pair plot shows that delivery times vary widely across traffic conditions, with Jam and High traffic linked to longer delays. Most deliveries are concentrated around agent ratings of 3–5 and ages between 30–45, but these features show no strong correlation with delivery time. The distribution of delivery time is highest under Jam traffic, followed by High and Medium, while Unknown traffic shows fewer but more extreme outliers. Overall, traffic condition appears to be a more influential factor in delivery performance than agent age or rating."
      ],
      "metadata": {
        "id": "fnjOzlMfHp0m"
      }
    },
    {
      "cell_type": "code",
      "source": [
        "#pair plot\n",
        "sns.pairplot(amazon_df1, hue=\"Delivery_Time\")\n",
        "plt.show()\n",
        "\n"
      ],
      "metadata": {
        "id": "o58-TEIhveiU"
      },
      "execution_count": null,
      "outputs": []
    },
    {
      "cell_type": "markdown",
      "source": [
        "##### 1. Why did you pick the specific chart?"
      ],
      "metadata": {
        "id": "EXh0U9oCveiU"
      }
    },
    {
      "cell_type": "markdown",
      "source": [
        "The pair plot shows that Delivery_Time increases with distance_km, as indicated by darker purple points at higher distances. Agent_Age and Agent_Rating do not show strong correlations with delivery time, as data points are widely scattered across all values. Most deliveries occur within 10,000 km, and agents are typically aged between 25–45 with ratings between 3 and 5. Overall, distance is the most influential factor affecting delivery time, while agent characteristics have minimal impact."
      ],
      "metadata": {
        "id": "eMmPjTByveiU"
      }
    },
    {
      "cell_type": "code",
      "source": [
        "amazon_df1"
      ],
      "metadata": {
        "id": "bPw9IZUeFOcq"
      },
      "execution_count": null,
      "outputs": []
    },
    {
      "cell_type": "markdown",
      "source": [
        "Categorical Ecoding"
      ],
      "metadata": {
        "id": "EcTqEp3qxndz"
      }
    },
    {
      "cell_type": "code",
      "source": [
        "from sklearn.preprocessing import OrdinalEncoder\n",
        "\n",
        "# Make a safe copy\n",
        "amazon_df_clean = amazon_df1.copy()\n",
        "\n",
        "# Ordinal Encode Traffic\n",
        "\n",
        "traffic_order = [[\"Low\", \"Medium\", \"High\", \"Jam\", \"Unknown\"]]\n",
        "ord_enc = OrdinalEncoder(categories=traffic_order,\n",
        "                         handle_unknown=\"use_encoded_value\",\n",
        "                         unknown_value=len(traffic_order[0]))\n",
        "\n",
        "amazon_df_clean[\"Traffic_encoded\"] = ord_enc.fit_transform(amazon_df_clean[[\"Traffic\"]])\n",
        "\n",
        "# One-Hot Encode Others\n",
        "\n",
        "onehot_cols = [\"Weather\", \"Vehicle\", \"Area\", \"Category\"]\n",
        "\n",
        "amazon_df_clean = pd.get_dummies(\n",
        "    amazon_df_clean,\n",
        "    columns=onehot_cols,\n",
        "    drop_first=True  # avoids dummy variable trap\n",
        ")\n",
        "\n",
        "# Result\n",
        "\n",
        "print(\"Shape after encoding:\", amazon_df_clean.shape)\n",
        "print(amazon_df_clean.head())"
      ],
      "metadata": {
        "id": "0gBKXMeXx4AH"
      },
      "execution_count": null,
      "outputs": []
    },
    {
      "cell_type": "code",
      "source": [
        "amazon_df_clean.columns"
      ],
      "metadata": {
        "id": "dDTooo12ywc7"
      },
      "execution_count": null,
      "outputs": []
    },
    {
      "cell_type": "code",
      "source": [
        "amazon_df_clean.dtypes"
      ],
      "metadata": {
        "id": "Ix_FalrRzrYt"
      },
      "execution_count": null,
      "outputs": []
    },
    {
      "cell_type": "markdown",
      "source": [
        "After one hot encoding values are in bool(false/true) type. So change it to integer type"
      ],
      "metadata": {
        "id": "yb-SkZQu__VJ"
      }
    },
    {
      "cell_type": "code",
      "source": [
        "# Convert boolean columns to integers ---\n",
        "bool_cols = amazon_df_clean.select_dtypes(include=\"bool\").columns\n",
        "amazon_df_clean[bool_cols] = amazon_df_clean[bool_cols].astype(int)"
      ],
      "metadata": {
        "id": "PsF2oVax-7uR"
      },
      "execution_count": null,
      "outputs": []
    },
    {
      "cell_type": "markdown",
      "source": [
        "Traaffic_encoded is there so remove traffic field"
      ],
      "metadata": {
        "id": "1AH8hzZnKQ0L"
      }
    },
    {
      "cell_type": "code",
      "source": [
        "amazon_df_clean= amazon_df_clean.drop(columns=\"Traffic\",axis=1)\n",
        "amazon_df_clean.head()"
      ],
      "metadata": {
        "id": "xPnYNtfR_lwj"
      },
      "execution_count": null,
      "outputs": []
    },
    {
      "cell_type": "markdown",
      "source": [
        "## ***6. Feature Engineering & Data Pre-processing***"
      ],
      "metadata": {
        "id": "yLjJCtPM0KBk"
      }
    },
    {
      "cell_type": "markdown",
      "source": [
        "### 1. Handling Missing Values"
      ],
      "metadata": {
        "id": "xiyOF9F70UgQ"
      }
    },
    {
      "cell_type": "code",
      "source": [
        "# Handling Missing Values & Missing Value Imputation\n",
        "#already did"
      ],
      "metadata": {
        "id": "iRsAHk1K0fpS"
      },
      "execution_count": null,
      "outputs": []
    },
    {
      "cell_type": "markdown",
      "source": [
        "#### What all missing value imputation techniques have you used and why did you use those techniques?"
      ],
      "metadata": {
        "id": "7wuGOrhz0itI"
      }
    },
    {
      "cell_type": "markdown",
      "source": [
        "For skewed numerical features like agent_rating, I used median imputation to reduce the impact of outliers.\n",
        "\n",
        "For categorical variables like weather conditions, I used mode imputation (most frequent value) since it’s the most suitable for non-numeric data."
      ],
      "metadata": {
        "id": "PhHUwnyxOqpg"
      }
    },
    {
      "cell_type": "markdown",
      "source": [
        "### 2. Handling Outliers"
      ],
      "metadata": {
        "id": "id1riN9m0vUs"
      }
    },
    {
      "cell_type": "code",
      "source": [
        "# Handling Outliers & Outlier treatments"
      ],
      "metadata": {
        "id": "M6w2CzZf04JK"
      },
      "execution_count": null,
      "outputs": []
    },
    {
      "cell_type": "markdown",
      "source": [
        "### 3. Categorical Encoding"
      ],
      "metadata": {
        "id": "89xtkJwZ18nB"
      }
    },
    {
      "cell_type": "code",
      "source": [
        "# Encode your categorical columns\n",
        "#already did.\n",
        "# use Ordinal encoding for \"Trafic\" and One-Hot encoding for \"Weather\", \"Vehicle\", \"Area\", \"Category\""
      ],
      "metadata": {
        "id": "21JmIYMG2hEo"
      },
      "execution_count": null,
      "outputs": []
    },
    {
      "cell_type": "markdown",
      "source": [
        "#### What all categorical encoding techniques have you used & why did you use those techniques?"
      ],
      "metadata": {
        "id": "67NQN5KX2AMe"
      }
    },
    {
      "cell_type": "markdown",
      "source": [
        "Ordinal Encoding and One-Hot Encoding are two methods used to convert categorical data (text labels) into numerical form so that machine learning models can understand them.\n",
        "\n",
        "Ordinal Encoding:\n",
        "\n",
        "Used when categories have a natural order or ranking.\n",
        "\n",
        "Each category is assigned a number based on its order.\n",
        "\n",
        "Example:\n",
        "\n",
        "Traffic = ['Low', 'Medium', 'High']\n",
        "→ Ordinal Encoding: Low=1, Medium=2, High=3\n",
        "\n",
        "One-Hot Encoding:\n",
        "\n",
        "Used when categories have no order (they’re just different types).\n",
        "\n",
        "It creates a new column for each category, marking presence with 1 and absence with 0.\n",
        "\n",
        "Example:\n",
        "\n",
        "Weather = ['Sunny', 'Rainy', 'Foggy']\n",
        "→ One-Hot Encoding:\n",
        "   Sunny  Rainy  Foggy\n",
        "    1      0      0\n",
        " Use Ordinal Encoding for ordered data  and One-Hot Encoding for unordered data .   "
      ],
      "metadata": {
        "id": "1ixusLtI0pqI"
      }
    },
    {
      "cell_type": "markdown",
      "source": [
        "### 4. Feature Manipulation & Selection"
      ],
      "metadata": {
        "id": "-oLEiFgy-5Pf"
      }
    },
    {
      "cell_type": "markdown",
      "source": [
        "#### 1. Feature Manipulation"
      ],
      "metadata": {
        "id": "C74aWNz2AliB"
      }
    },
    {
      "cell_type": "code",
      "source": [
        "# Manipulate Features to minimize feature correlation and create new features\n",
        "#Code to Calculate Distance --> 'distance_km'"
      ],
      "metadata": {
        "id": "h1qC4yhBApWC"
      },
      "execution_count": null,
      "outputs": []
    },
    {
      "cell_type": "code",
      "source": [
        "import pandas as pd\n",
        "\n",
        "# Convert order timestamp column to datetime (adjust column name if different)\n",
        "# Create a combined datetime column\n",
        "amazon_df_clean[\"Order_DateTime\"] = amazon_df_clean[\"Order_Date\"] + ' ' + amazon_df_clean[\"Order_Time\"]\n",
        "\n",
        "# Convert the combined column to datetime, coercing errors to NaT\n",
        "amazon_df_clean[\"Order_DateTime\"] = pd.to_datetime(amazon_df_clean[\"Order_DateTime\"], errors='coerce')\n",
        "\n",
        "# *** Diagnostic Print Statement ***\n",
        "print(\"Missing values in original 'Order_Date':\", amazon_df_clean[\"Order_Date\"].isnull().sum())\n",
        "print(\"Missing values in original 'Order_Time':\", amazon_df_clean[\"Order_Time\"].isnull().sum())\n",
        "print(\"NaT values in 'Order_DateTime' after coercion:\", amazon_df_clean[\"Order_DateTime\"].isnull().sum())\n",
        "# *** End of Diagnostic Print Statement ***\n",
        "\n",
        "\n",
        "# Extract features\n",
        "amazon_df_clean[\"Order_Hour\"] = amazon_df_clean[\"Order_DateTime\"].dt.hour\n",
        "amazon_df_clean[\"Order_DayOfWeek\"] = amazon_df_clean[\"Order_DateTime\"].dt.dayofweek   # 0=Monday, 6=Sunday\n",
        "amazon_df_clean[\"Order_DayName\"] = amazon_df_clean[\"Order_DateTime\"].dt.day_name()\n",
        "amazon_df_clean[\"Order_Month\"] = amazon_df_clean[\"Order_DateTime\"].dt.month\n",
        "\n",
        "# (Optional) Weekend flag\n",
        "amazon_df_clean[\"Is_Weekend\"] = amazon_df_clean[\"Order_DayOfWeek\"].isin([5, 6]).astype(int)\n",
        "\n",
        "# Drop original date and time columns if not needed\n",
        "amazon_df_clean = amazon_df_clean.drop([\"Order_Date\", \"Order_Time\"], axis=1)\n",
        "\n",
        "# Verify\n",
        "print(amazon_df_clean[[\"Order_DateTime\", \"Order_Hour\", \"Order_DayOfWeek\", \"Order_DayName\",\"Order_Month\", \"Is_Weekend\"]].head())"
      ],
      "metadata": {
        "id": "rJsUITeqOqA2"
      },
      "execution_count": null,
      "outputs": []
    },
    {
      "cell_type": "markdown",
      "source": [
        "### Create these 6 new features \"Order_DateTime\", \"Order_Hour\", \"Order_DayOfWeek\", \"Order_DayName\", \"Order_Month\",\"Is_Weekend\""
      ],
      "metadata": {
        "id": "W-hTP2hBQOXS"
      }
    },
    {
      "cell_type": "code",
      "source": [
        "amazon_df_clean.head()"
      ],
      "metadata": {
        "id": "9Qmc77bbQXcE"
      },
      "execution_count": null,
      "outputs": []
    },
    {
      "cell_type": "code",
      "source": [
        "print(amazon_df_clean.columns)\n",
        "print(amazon_df_clean.shape)"
      ],
      "metadata": {
        "id": "XFhf-mQ_24-5"
      },
      "execution_count": null,
      "outputs": []
    },
    {
      "cell_type": "markdown",
      "source": [
        "#### 2. Feature Selection"
      ],
      "metadata": {
        "id": "2DejudWSA-a0"
      }
    },
    {
      "cell_type": "code",
      "source": [
        "# Select your features wisely to avoid overfitting\n",
        "# Drop 4 columns Remove all four (Store_Latitude, Store_Longitude, Drop_Latitude, Drop_Longitude) because:They\n",
        "# are highly correlated with each other (multicollinearity problem) and dirived distance_km from them\n",
        "#Create these 6 new features \"Order_DateTime\", \"Order_Hour\", \"Order_DayOfWeek\", \"Order_DayName\",\n",
        "#\"Order_Month\",\"Is_Weekend\" and drop Order_Date, Order_Time and Traffic.\n"
      ],
      "metadata": {
        "id": "YLhe8UmaBCEE"
      },
      "execution_count": null,
      "outputs": []
    },
    {
      "cell_type": "markdown",
      "source": [
        "##### What all feature selection methods have you used  and why?"
      ],
      "metadata": {
        "id": "pEMng2IbBLp7"
      }
    },
    {
      "cell_type": "markdown",
      "source": [
        "correlation analysis, feature importance from tree-based models, and domain knowledge for feature selection.\n",
        "\n",
        "Correlation analysis was used to identify and remove highly correlated numerical features to avoid multicollinearity.\n",
        "\n",
        "Feature importance from models like Random Forest and Gradient Boosting helped to rank and select the most impactful variables influencing delivery time.\n",
        "\n",
        "Domain knowledge was applied to retain meaningful features such as distance, traffic, weather, and order time, which are logically relevant to delivery duration"
      ],
      "metadata": {
        "id": "rb2Lh6Z8BgGs"
      }
    },
    {
      "cell_type": "markdown",
      "source": [
        "##### Which all features you found important and why?"
      ],
      "metadata": {
        "id": "rAdphbQ9Bhjc"
      }
    },
    {
      "cell_type": "markdown",
      "source": [
        "The most important features identified were distance, traffic conditions, agent rating, weather, and order time.\n",
        "\n",
        "Distance directly affects how long it takes to deliver an order — longer distances naturally increase delivery time.\n",
        "\n",
        "Traffic conditions play a major role, as heavier traffic leads to slower deliveries.\n",
        "\n",
        "Agent rating reflects delivery efficiency — higher-rated agents usually deliver faster.\n",
        "\n",
        "Weather conditions like rain or storms can delay delivery times.\n",
        "\n",
        "Order time (hour, day, or weekend) impacts traffic and delivery patterns — for example, peak hours or weekends often lead to longer deliveries."
      ],
      "metadata": {
        "id": "fGgaEstsBnaf"
      }
    },
    {
      "cell_type": "markdown",
      "source": [
        "### 6. Data Scaling"
      ],
      "metadata": {
        "id": "rMDnDkt2B6du"
      }
    },
    {
      "cell_type": "code",
      "source": [
        " #--- 4. Select Numeric Features for Scaling ---\n",
        "numeric_features = amazon_df_clean.select_dtypes(include=[np.number]).columns.tolist()"
      ],
      "metadata": {
        "id": "i7GRiyFvToQt"
      },
      "execution_count": null,
      "outputs": []
    },
    {
      "cell_type": "code",
      "source": [
        "from sklearn.preprocessing import StandardScaler\n",
        "scaler = StandardScaler()\n",
        "amazon_df_clean[numeric_features] = scaler.fit_transform(amazon_df_clean[numeric_features])"
      ],
      "metadata": {
        "id": "ysUgNiPVT4O7"
      },
      "execution_count": null,
      "outputs": []
    },
    {
      "cell_type": "markdown",
      "source": [
        "##### Which method have you used to scale you data and why?"
      ],
      "metadata": {
        "id": "yiiVWRdJDDil"
      }
    },
    {
      "cell_type": "markdown",
      "source": [
        "used StandardScaler to scale the numerical features in the dataset.\n",
        "\n",
        "StandardScaler transforms data so that each feature has a mean of 0 and a standard deviation of 1, which ensures all numerical features are on the same scale.This is important because features like distance and agent rating have different ranges, and unscaled data could bias the model towards features with larger values."
      ],
      "metadata": {
        "id": "F-AGV5BGSvMw"
      }
    },
    {
      "cell_type": "code",
      "source": [
        "amazon_df_clean.head()"
      ],
      "metadata": {
        "id": "gl2_75TDz36e"
      },
      "execution_count": null,
      "outputs": []
    },
    {
      "cell_type": "markdown",
      "source": [
        "### 8. Data Splitting"
      ],
      "metadata": {
        "id": "BhH2vgX9EjGr"
      }
    },
    {
      "cell_type": "code",
      "source": [
        "X = amazon_df_clean.drop([\"Delivery_Time\",\"Order_ID\"], axis=1)  # Features\n",
        "y = amazon_df_clean[\"Delivery_Time\"]                 # Target"
      ],
      "metadata": {
        "id": "f814vbmjGODT"
      },
      "execution_count": null,
      "outputs": []
    },
    {
      "cell_type": "code",
      "source": [
        "X.shape,y.shape"
      ],
      "metadata": {
        "id": "oqInx51dGZNU"
      },
      "execution_count": null,
      "outputs": []
    },
    {
      "cell_type": "code",
      "source": [
        "# Split your data to train and test. Choose Splitting ratio wisely.\n",
        "from sklearn.model_selection import train_test_split\n",
        "X_train, X_test, y_train, y_test = train_test_split(X,y,test_size = 0.2,random_state = 42)\n"
      ],
      "metadata": {
        "id": "0CTyd2UwEyNM"
      },
      "execution_count": null,
      "outputs": []
    },
    {
      "cell_type": "markdown",
      "source": [
        "##### What data splitting ratio have you used and why?"
      ],
      "metadata": {
        "id": "qjKvONjwE8ra"
      }
    },
    {
      "cell_type": "markdown",
      "source": [
        "Here use 80:20 train-test split, where 80% of the data was used for training the model and 20% for testing its performance.The test set ensures that we can evaluate the model on unseen data, giving a realistic estimate of its performance."
      ],
      "metadata": {
        "id": "Y2lJ8cobFDb_"
      }
    },
    {
      "cell_type": "markdown",
      "source": [
        "## ***7. ML Model Implementation***"
      ],
      "metadata": {
        "id": "VfCC591jGiD4"
      }
    },
    {
      "cell_type": "markdown",
      "source": [
        "### ML Model - 1"
      ],
      "metadata": {
        "id": "OB4l2ZhMeS1U"
      }
    },
    {
      "cell_type": "code",
      "source": [
        "# ML Model - 1 Implementation\n",
        "\n",
        "# Fit the Algorithm\n",
        "from sklearn.linear_model import LinearRegression\n",
        "from sklearn.metrics import mean_absolute_error, mean_squared_error, r2_score\n",
        "from sklearn.impute import SimpleImputer\n",
        "\n",
        "# Linear Regression\n",
        "\n",
        "lin_reg = LinearRegression()\n",
        "\n",
        "# Drop non-numeric columns from X_train and X_test\n",
        "X_train_numeric = X_train.drop(columns=[ 'Pickup_Time', 'Order_DayName', 'Order_DateTime'])\n",
        "X_test_numeric = X_test.drop(columns=[ 'Pickup_Time', 'Order_DayName', 'Order_DateTime'])\n",
        "\n",
        "# Impute missing values in the numeric features\n",
        "imputer = SimpleImputer(strategy='mean')\n",
        "X_train_numeric = imputer.fit_transform(X_train_numeric)\n",
        "X_test_numeric = imputer.transform(X_test_numeric)\n",
        "\n",
        "\n",
        "lin_reg.fit(X_train_numeric, y_train)\n",
        "\n",
        "# ==========================\n",
        "# 3. Evaluate Model\n",
        "# ==========================\n",
        "y_pred = lin_reg.predict(X_test_numeric)\n",
        "\n",
        "mae = mean_absolute_error(y_test, y_pred)\n",
        "rmse = np.sqrt(mean_squared_error(y_test, y_pred))\n",
        "r2 = r2_score(y_test, y_pred)\n",
        "\n",
        "# ==========================\n",
        "# 4. Display Results\n",
        "# ==========================\n",
        "print(\"✅ Linear Regression Results:\")\n",
        "print(f\"MAE  : {mae:.2f}\")\n",
        "print(f\"RMSE : {rmse:.2f}\")\n",
        "print(f\"R²   : {r2:.3f}\")"
      ],
      "metadata": {
        "id": "7ebyywQieS1U"
      },
      "execution_count": null,
      "outputs": []
    },
    {
      "cell_type": "markdown",
      "source": [
        "### ML Model - 2 & 3"
      ],
      "metadata": {
        "id": "dJ2tPlVmpsJ0"
      }
    },
    {
      "cell_type": "code",
      "source": [
        "from sklearn.ensemble import RandomForestRegressor, GradientBoostingRegressor\n",
        "from sklearn.metrics import mean_absolute_error, mean_squared_error, r2_score\n",
        "from sklearn.impute import SimpleImputer\n",
        "# ==========================\n",
        "# 2. Initialize Models\n",
        "# ==========================\n",
        "models = {\n",
        "    #\"Linear Regression\": LinearRegression(),\n",
        "    \"Random Forest\": RandomForestRegressor(n_estimators=200, random_state=42),\n",
        "    \"Gradient Boosting\": GradientBoostingRegressor(n_estimators=200, learning_rate=0.1, random_state=42)\n",
        "}\n",
        "\n",
        "# ==========================\n",
        "# 3. Train & Evaluate\n",
        "# ==========================\n",
        "results = {}\n",
        "\n",
        "# Drop non-numeric columns from X_train and X_test\n",
        "X_train_numeric = X_train.drop(columns=[ 'Pickup_Time', 'Order_DayName', 'Order_DateTime'])\n",
        "X_test_numeric = X_test.drop(columns=[ 'Pickup_Time', 'Order_DayName', 'Order_DateTime'])\n",
        "\n",
        "# Impute missing values in the numeric features\n",
        "imputer = SimpleImputer(strategy='mean')\n",
        "X_train_numeric = imputer.fit_transform(X_train_numeric)\n",
        "X_test_numeric = imputer.transform(X_test_numeric)\n",
        "\n",
        "\n",
        "for name, model in models.items():\n",
        "    model.fit(X_train_numeric, y_train)\n",
        "    y_pred = model.predict(X_test_numeric)\n",
        "\n",
        "    mae = mean_absolute_error(y_test, y_pred)\n",
        "    rmse = np.sqrt(mean_squared_error(y_test, y_pred))\n",
        "    r2 = r2_score(y_test, y_pred)\n",
        "\n",
        "    results[name] = {\"MAE\": mae, \"RMSE\": rmse, \"R²\": r2}\n",
        "\n",
        "# ==========================\n",
        "# 4. Show Results\n",
        "# ==========================\n",
        "results_df = pd.DataFrame(results).T\n",
        "print(results_df)"
      ],
      "metadata": {
        "id": "nwhjzDYKZaKt"
      },
      "execution_count": null,
      "outputs": []
    },
    {
      "cell_type": "markdown",
      "source": [
        "#### 1. Explain the ML Model used and it's performance using Evaluation metric Score Chart."
      ],
      "metadata": {
        "id": "ArJBuiUVfxKd"
      }
    },
    {
      "cell_type": "code",
      "source": [
        "# Visualizing evaluation Metric Score chart\n",
        "import matplotlib.pyplot as plt\n",
        "import pandas as pd\n",
        "\n",
        "# Create DataFrame from your metrics\n",
        "data = {\n",
        "    \"Model\": [\"Random Forest\", \"Gradient Boosting\"],\n",
        "    \"MAE\": [0.334657, 0.362063],\n",
        "    \"RMSE\": [0.436625, 0.458460],\n",
        "    \"R2\": [0.807125, 0.787351]\n",
        "}\n",
        "\n",
        "df = pd.DataFrame(data)\n",
        "\n",
        "# Set up the plot\n",
        "plt.figure(figsize=(8,5))\n",
        "bar_width = 0.25\n",
        "positions = range(len(df))\n",
        "\n",
        "# Create bars for each metric\n",
        "plt.bar([p - bar_width for p in positions], df[\"MAE\"], width=bar_width, label=\"MAE\")\n",
        "plt.bar(positions, df[\"RMSE\"], width=bar_width, label=\"RMSE\")\n",
        "plt.bar([p + bar_width for p in positions], df[\"R2\"], width=bar_width, label=\"R²\")\n",
        "\n",
        "# Add labels and formatting\n",
        "plt.xticks(positions, df[\"Model\"])\n",
        "plt.ylabel(\"Score\")\n",
        "plt.title(\"Model Evaluation Metrics Comparison\")\n",
        "plt.legend()\n",
        "plt.grid(axis=\"y\", linestyle=\"--\", alpha=0.7)\n",
        "\n",
        "plt.tight_layout()\n",
        "plt.show()"
      ],
      "metadata": {
        "id": "rqD5ZohzfxKe"
      },
      "execution_count": null,
      "outputs": []
    },
    {
      "cell_type": "markdown",
      "source": [
        "#### 2. Cross- Validation & Hyperparameter Tuning"
      ],
      "metadata": {
        "id": "4qY1EAkEfxKe"
      }
    },
    {
      "cell_type": "code",
      "source": [
        "# ML Model - 1 Implementation with hyperparameter optimization techniques (i.e., GridSearch CV, RandomSearch CV, Bayesian Optimization etc.)\n",
        "\n",
        "# Fit the Algorithm\n",
        "\n",
        "# Predict on the model\n",
        "from sklearn.model_selection import train_test_split, RandomizedSearchCV, KFold\n",
        "from sklearn.pipeline import Pipeline\n",
        "from sklearn.ensemble import RandomForestRegressor\n",
        "from sklearn.metrics import mean_absolute_error, mean_squared_error, r2_score\n",
        "from sklearn.impute import SimpleImputer\n",
        "import pandas as pd\n",
        "\n",
        "# --- Prepare data for the pipeline ---\n",
        "# Drop non-numeric columns from the full dataset X before creating the pipeline\n",
        "X_numeric = X.drop(columns=['Pickup_Time', 'Order_DayName', 'Order_DateTime'], errors='ignore')\n",
        "\n",
        "# Split the data again after dropping columns\n",
        "X_train, X_test, y_train, y_test = train_test_split(X_numeric, y, test_size=0.2, random_state=42)\n",
        "\n",
        "#Build Pipeline\n",
        "preprocessor = SimpleImputer(strategy = 'mean' )\n",
        "rf_model = RandomForestRegressor(random_state=42)\n",
        "\n",
        "pipeline = Pipeline(steps=[\n",
        "    (\"preprocessor\", preprocessor),\n",
        "    (\"model\", rf_model)\n",
        "])\n",
        "\n",
        "# ---------------------------\n",
        "#  Hyperparameter Grid for RandomizedSearchCV\n",
        "# ---------------------------\n",
        "param_distributions = {\n",
        "    \"model__n_estimators\": [100, 200, 300, 500],\n",
        "    \"model__max_depth\": [None, 10, 20, 30, 50],\n",
        "    \"model__min_samples_split\": [2, 5, 10],\n",
        "    \"model__min_samples_leaf\": [1, 2, 4],\n",
        "    \"model__max_features\": [\"sqrt\", 0.5, 1.0], # 'auto' is deprecated in favour of 'sqrt'\n",
        "    \"model__bootstrap\": [True, False]\n",
        "}\n",
        "\n",
        "# ---------------------------\n",
        "#  Setup RandomizedSearchCV\n",
        "# ---------------------------\n",
        "cv = KFold(n_splits=5, shuffle=True, random_state=42)\n",
        "\n",
        "random_search = RandomizedSearchCV(\n",
        "    estimator=pipeline,\n",
        "    param_distributions=param_distributions,\n",
        "    n_iter=30,              # number of parameter settings to try\n",
        "    cv=cv,\n",
        "    verbose=2,\n",
        "    n_jobs=-1,              # use all cores\n",
        "    scoring=\"neg_mean_absolute_error\",  # MAE as scoring\n",
        "    random_state=42\n",
        ")\n",
        "\n",
        "# ---------------------------\n",
        "# Train & Find Best Hyperparameters\n",
        "# ---------------------------\n",
        "# Use the prepared numeric data for fitting\n",
        "random_search.fit(X_numeric, y)\n",
        "\n",
        "print(\"✅ Best Hyperparameters:\")\n",
        "print(random_search.best_params_)\n",
        "\n",
        "# ---------------------------\n",
        "# Evaluate Best Model on the test set\n",
        "# ---------------------------\n",
        "best_model = random_search.best_estimator_\n",
        "y_pred = best_model.predict(X_test) # Predict on the test set\n",
        "\n",
        "mae = mean_absolute_error(y_test, y_pred)\n",
        "rmse = np.sqrt(mean_squared_error(y_test, y_pred))\n",
        "r2 = r2_score(y_test, y_pred)\n",
        "\n",
        "print(\"\\nModel Performance on Test Data:\")\n",
        "print(f\"MAE  : {mae:.4f}\")\n",
        "print(f\"RMSE : {rmse:.4f}\")\n",
        "print(f\"R²   : {r2:.4f}\")"
      ],
      "metadata": {
        "id": "Dy61ujd6fxKe"
      },
      "execution_count": null,
      "outputs": []
    },
    {
      "cell_type": "markdown",
      "source": [
        "Analysis\n",
        "\n",
        "High Accuracy\n",
        "\n",
        "R² ≈ 0.90 → the model explains ~90% of the variance in delivery times.\n",
        "\n",
        "Very strong performance for real-time prediction tasks.\n",
        "\n",
        "Low Error\n",
        "\n",
        "MAE 0.24 → on average, predictions are off by ~0.24 units (minutes, I assume).\n",
        "\n",
        "RMSE 0.315 → very small overall error, shows predictions are tightly clustered around actual values."
      ],
      "metadata": {
        "id": "m6oTcA2iSfDf"
      }
    },
    {
      "cell_type": "markdown",
      "source": [
        "##### Which hyperparameter optimization technique have you used and why?"
      ],
      "metadata": {
        "id": "PiV4Ypx8fxKe"
      }
    },
    {
      "cell_type": "markdown",
      "source": [
        "Here used RandomizedSearchCV for hyperparameter optimization.\n",
        "\n",
        "RandomizedSearchCV searches over a predefined set of hyperparameter values randomly for a fixed number of iterations, instead of trying all possible combinations like GridSearchCV.\n",
        "\n",
        "To tune parameters of the Random Forest model, such as n_estimators, max_depth, min_samples_split, min_samples_leaf, and max_features, resulting in improved predictive accuracy."
      ],
      "metadata": {
        "id": "negyGRa7fxKf"
      }
    },
    {
      "cell_type": "markdown",
      "source": [
        "##### Have you seen any improvement? Note down the improvement with updates Evaluation metric Score Chart."
      ],
      "metadata": {
        "id": "TfvqoZmBfxKf"
      }
    },
    {
      "cell_type": "markdown",
      "source": [
        "Yes, significant improvement was observed after hyperparameter tuning using RandomizedSearchCV on the Random Forest model.\n",
        "\n",
        "Model\t             MAE\t RMSE\t        R²\n",
        "\n",
        "Linear Regression\t0.510\t  0.650\t     0.576\n",
        "\n",
        "Random Forest   \t0.335\t  0.437\t     0.807\n",
        "\n",
        "Gradient Boosting\t0.362\t  0.458\t     0.787\n",
        "\n",
        "Random Forest (Tuned)\t0.242\t0.315\t   0.900\n",
        "\n",
        "Observations:\n",
        "\n",
        "MAE decreased from 0.335 to 0.242, indicating smaller average prediction errors.\n",
        "\n",
        "RMSE decreased from 0.437 to 0.315, showing reduced variance in prediction errors.\n",
        "\n",
        "R² improved from 0.807 to 0.900, meaning the tuned model explains more variance in delivery times."
      ],
      "metadata": {
        "id": "OaLui8CcfxKf"
      }
    },
    {
      "cell_type": "markdown",
      "source": [],
      "metadata": {
        "id": "vAPD_iPdUNF6"
      }
    },
    {
      "cell_type": "code",
      "source": [
        "import pandas as pd\n",
        "import matplotlib.pyplot as plt\n",
        "from sklearn.ensemble import RandomForestRegressor\n",
        "\n",
        "# Assume X_train, y_train are already prepared\n",
        "rf_model = RandomForestRegressor(n_estimators=300, random_state=42)\n",
        "rf_model.fit(X_train, y_train)\n",
        "\n",
        "# Get feature importances\n",
        "importances = rf_model.feature_importances_\n",
        "feature_names = X_train.columns\n",
        "\n",
        "# Create a DataFrame for better visualization\n",
        "feat_imp_df = pd.DataFrame({\n",
        "    \"Feature\": feature_names,\n",
        "    \"Importance\": importances\n",
        "}).sort_values(by=\"Importance\", ascending=False)\n",
        "\n",
        "print(feat_imp_df)\n",
        "\n",
        "# Plot feature importances\n",
        "plt.figure(figsize=(10,6))\n",
        "plt.barh(feat_imp_df[\"Feature\"], feat_imp_df[\"Importance\"])\n",
        "plt.xlabel(\"Importance\")\n",
        "plt.title(\"Feature Importance from Random Forest\")\n",
        "plt.gca().invert_yaxis()  # Highest importance at the top\n",
        "plt.show()"
      ],
      "metadata": {
        "id": "TyGLG7klUOfv"
      },
      "execution_count": null,
      "outputs": []
    },
    {
      "cell_type": "markdown",
      "source": [
        "his bar chart shows the feature importance from your Random Forest model predicting delivery times. Feature importance indicates how much each feature contributes to the model’s predictions.\n",
        "\n",
        "Key observations from the chart:\n",
        "\n",
        "Category_Grocery is the most important feature, suggesting orders in the grocery category have the largest impact on delivery time.\n",
        "\n",
        "Agent_Rating and distance_km are also highly important:\n",
        "\n",
        "Agent_Rating: Higher-rated agents deliver faster.\n",
        "\n",
        "distance_km: Longer distances naturally increase delivery time.\n",
        "\n",
        "Traffic_encoded and Agent_Age follow, showing traffic conditions and agent experience also affect delivery times.\n",
        "\n",
        "Weather features like Sunny, Fog, Stormy, and Windy have moderate importance, indicating weather conditions influence deliveries.\n",
        "\n",
        "Features like Vehicle type, Order hour/day/month, Area, and most Category types have lower importance, meaning they influence predictions less.\n",
        "\n",
        "Features like Is_Weekend, Area_Other, and some Vehicle/Category features have almost zero importance, so the model rarely uses them to make predictions."
      ],
      "metadata": {
        "id": "Num8tTB0ZEUl"
      }
    },
    {
      "cell_type": "code",
      "source": [
        "X_numeric.to_csv(\"model_input_sample.csv\", index=False)\n"
      ],
      "metadata": {
        "id": "GjI4z7jH8UeN"
      },
      "execution_count": null,
      "outputs": []
    },
    {
      "cell_type": "code",
      "source": [
        "import joblib\n",
        "\n",
        "# Save pipeline\n",
        "joblib.dump(best_model, \"random_forest_pipeline.pkl\")\n",
        "joblib.dump(list(X_train.columns), \"model_features.pkl\")\n",
        "# Load pipeline later\n",
        "loaded_pipeline = joblib.load(\"random_forest_pipeline.pkl\")\n",
        "\n",
        "# To predict on new data, replace 'new_data' with your actual new data\n",
        "# y_new_pred = loaded_pipeline.predict(new_data)"
      ],
      "metadata": {
        "id": "QYefzrI5COFy"
      },
      "execution_count": null,
      "outputs": []
    },
    {
      "cell_type": "code",
      "source": [
        "import matplotlib.pyplot as plt\n",
        "import tempfile, os\n",
        "\n",
        "plt.scatter(y_test, y_pred, alpha=0.5)\n",
        "plt.xlabel(\"Actual\")\n",
        "plt.ylabel(\"Predicted\")\n",
        "plt.title(f\"{rf_model} - Predicted vs Actual\")\n",
        "tmp_path = os.path.join(tempfile.gettempdir(), f\"{rf_model}_scatter.png\")\n",
        "plt.savefig(tmp_path)\n",
        "mlflow.log_artifact(tmp_path)"
      ],
      "metadata": {
        "id": "bPl0X9syTdN1"
      },
      "execution_count": null,
      "outputs": []
    },
    {
      "cell_type": "markdown",
      "source": [
        "This scatter plot compares predicted vs. actual values from a RandomForestRegressor model with 300 estimators and a fixed random state of 42:\n",
        "\n",
        " The points are tightly clustered along the diagonal from bottom-left to top-right, showing a strong positive correlation—meaning the model’s predictions closely match the actual values.\n",
        "\n",
        " Predictions are slightly more dispersed at the lower end (actual values below -1.5), but become more accurate as values increase.\n",
        "\n",
        " The dense alignment near the diagonal suggests the model is well-calibrated and performs reliably across most of the target range.\n",
        "\n",
        "This visualization confirms that the RandomForestRegressor is effective for this task, with minimal bias and good generalization."
      ],
      "metadata": {
        "id": "6JusjoRJZ7_X"
      }
    },
    {
      "cell_type": "markdown",
      "source": [
        "#### 1. Explain the ML Model used and it's performance using Evaluation metric Score Chart."
      ],
      "metadata": {
        "id": "JWYfwnehpsJ1"
      }
    },
    {
      "cell_type": "code",
      "source": [
        "# Visualizing evaluation Metric Score chart\n",
        "import matplotlib.pyplot as plt\n",
        "import numpy as np\n",
        "\n",
        "# Tuned Random Forest metrics\n",
        "metrics = {\n",
        "    \"MAE\": 0.2419,\n",
        "    \"RMSE\": 0.3150,\n",
        "    \"R²\": 0.8996\n",
        "}\n",
        "\n",
        "# Separate values\n",
        "metric_names = list(metrics.keys())\n",
        "metric_values = list(metrics.values())\n",
        "\n",
        "# Create figure\n",
        "plt.figure(figsize=(8,5))\n",
        "bars = plt.bar(metric_names, metric_values, color=[\"#66c2a5\", \"#fc8d62\", \"#8da0cb\"])\n",
        "\n",
        "# Annotate bars\n",
        "for bar in bars:\n",
        "    yval = bar.get_height()\n",
        "    plt.text(bar.get_x() + bar.get_width()/2, yval + 0.01, f\"{yval:.3f}\",\n",
        "             ha='center', va='bottom', fontsize=11, fontweight='bold')\n",
        "\n",
        "plt.title(\"📈 Model Performance Metrics — Tuned Random Forest\", fontsize=14)\n",
        "plt.ylabel(\"Score\", fontsize=12)\n",
        "plt.grid(axis='y', linestyle='--', alpha=0.6)\n",
        "plt.ylim(0, 1.1)\n",
        "plt.show()\n",
        "\n"
      ],
      "metadata": {
        "id": "yEl-hgQWpsJ1"
      },
      "execution_count": null,
      "outputs": []
    },
    {
      "cell_type": "markdown",
      "source": [
        "### 1. Which Evaluation metrics did you consider for a positive business impact and why?"
      ],
      "metadata": {
        "id": "h_CCil-SKHpo"
      }
    },
    {
      "cell_type": "markdown",
      "source": [
        "The main metrics  used were:\n",
        "\n",
        "Mean Absolute Error (MAE): MAE provides a straightforward measure of the average prediction error in the same units as the target variable. It helps business teams understand expected deviations from actual outcomes, enabling better resource planning and operational efficiency.\n",
        "\n",
        "Root Mean Squared Error (RMSE): RMSE penalizes larger errors more heavily than MAE, which is critical in scenarios where significant deviations can lead to high costs or risks, such as inventory mismanagement or delayed deliveries.\n",
        "\n",
        "R-squared (R²): R² indicates how much variance in the target variable the model explains. A higher R² demonstrates that the model captures key patterns in the data, giving confidence that decisions based on the model will align with actual outcomes."
      ],
      "metadata": {
        "id": "jHVz9hHDKFms"
      }
    },
    {
      "cell_type": "markdown",
      "source": [
        "### 2. Which ML model did you choose from the above created models as your final prediction model and why?"
      ],
      "metadata": {
        "id": "cBFFvTBNJzUa"
      }
    },
    {
      "cell_type": "markdown",
      "source": [
        "The tuned Random Forest was chosen as the final prediction model. This decision was based on both statistical performance and business relevance:\n",
        "\n",
        "Significant improvement after hyperparameter tuning: Using RandomizedSearchCV, the MAE reduced from 0.335 to 0.242, meaning the average prediction error decreased substantially.\n",
        "\n",
        "Reduced variance in errors: RMSE dropped from 0.437 to 0.315, indicating the model’s predictions are more consistent and reliable.\n",
        "\n",
        "Higher explanatory power: R² improved from 0.807 to 0.900, demonstrating that the tuned model captures more variance in delivery times, making it highly predictive."
      ],
      "metadata": {
        "id": "6ksF5Q1LKTVm"
      }
    },
    {
      "cell_type": "markdown",
      "source": [
        "### 3. Explain the model which you have used and the feature importance using any model explainability tool?"
      ],
      "metadata": {
        "id": "HvGl1hHyA_VK"
      }
    },
    {
      "cell_type": "markdown",
      "source": [
        "The final model used is a Tuned Random Forest Regressor, an ensemble learning method that builds multiple decision trees and averages their predictions to improve accuracy and reduce overfitting. Random Forest works well for complex datasets with nonlinear relationships and interactions between features, making it suitable for predicting delivery times affected by multiple factors like order size, distance, and time of day.\n",
        "\n",
        "Top features identified:\n",
        "\n",
        "Distance: Longer distances naturally increase delivery time.\n",
        "\n",
        "Order size/weight: Larger or bulkier orders take more time to process and deliver.\n",
        "\n",
        "Time of day / Weekday: Traffic patterns and operational efficiency vary by time, influencing delivery time."
      ],
      "metadata": {
        "id": "YnvVTiIxBL-C"
      }
    },
    {
      "cell_type": "markdown",
      "source": [
        "## ***8.*** ***Future Work (Optional)***"
      ],
      "metadata": {
        "id": "EyNgTHvd2WFk"
      }
    },
    {
      "cell_type": "markdown",
      "source": [
        "In the future, the model can be enhanced by incorporating real-time data such as live traffic, weather, and order queues to improve delivery time predictions. Advanced models like XGBoost, LightGBM, or deep learning architectures could be explored to further boost accuracy. Additional features such as driver experience, peak hour indicators, and route complexity can provide more granular insights. Implementing an automated retraining pipeline will allow the model to adapt to changing delivery patterns over time. Finally, the predictions can be leveraged for business optimization, including dynamic route planning, better resource allocation, and improved communication with customers regarding delivery estimates."
      ],
      "metadata": {
        "id": "1EaskhP_fZ6W"
      }
    },
    {
      "cell_type": "markdown",
      "source": [
        "### ***Congrats! Your model is successfully created and ready for deployment on a live server for a real user interaction !!!***"
      ],
      "metadata": {
        "id": "-Kee-DAl2viO"
      }
    },
    {
      "cell_type": "markdown",
      "source": [
        "# **Conclusion**"
      ],
      "metadata": {
        "id": "gCX9965dhzqZ"
      }
    },
    {
      "cell_type": "markdown",
      "source": [
        "In this project, a Tuned Random Forest model was developed to accurately predict delivery times, achieving significant improvements in MAE, RMSE, and R² after hyperparameter tuning. Key features such as distance, order size, and time of day were identified as the most influential factors, providing actionable insights for operational efficiency. The model not only demonstrates strong predictive performance but also supports data-driven decision-making for route optimization, resource allocation, and enhanced customer satisfaction. With further enhancements like real-time data integration and continuous learning, the solution has the potential to drive substantial business impact in logistics and delivery management."
      ],
      "metadata": {
        "id": "Fjb1IsQkh3yE"
      }
    },
    {
      "cell_type": "markdown",
      "source": [
        "### ***Hurrah! You have successfully completed your Machine Learning Capstone Project !!!***"
      ],
      "metadata": {
        "id": "gIfDvo9L0UH2"
      }
    },
    {
      "cell_type": "markdown",
      "source": [
        "###Application Development"
      ],
      "metadata": {
        "id": "qCfdZYfNhMVR"
      }
    },
    {
      "cell_type": "code",
      "source": [
        "!pip install streamlit"
      ],
      "metadata": {
        "id": "6D0auINtueSk"
      },
      "execution_count": null,
      "outputs": []
    },
    {
      "cell_type": "markdown",
      "source": [
        "Application deployment using streamlit app"
      ],
      "metadata": {
        "id": "W3-5W16rj-ND"
      }
    },
    {
      "cell_type": "code",
      "source": [
        "import streamlit as st\n",
        "import pandas as pd\n",
        "import joblib\n",
        "\n",
        "# -------------------------------\n",
        "# Load the trained model pipeline\n",
        "# -------------------------------\n",
        "model = joblib.load(\"rfmodel.pkl\")  # or whatever your saved file name is\n",
        "\n",
        "st.title(\"🚚 Amazon Delivery Time Prediction App\")\n",
        "\n",
        "# -------------------------------\n",
        "# Collect user input\n",
        "# -------------------------------\n",
        "st.header(\"Enter Delivery Details\")\n",
        "\n",
        "Agent_Age = st.number_input(\"Agent Age\", min_value=18, max_value=60, value=30)\n",
        "Agent_Rating = st.number_input(\"Agent Rating\", min_value=1.0, max_value=5.0, value=4.5, step=0.1)\n",
        "distance_km = st.number_input(\"Delivery Distance (km)\", min_value=0.1, value=5.0)\n",
        "Traffic_encoded = st.selectbox(\"Traffic Level\", [0, 1, 2, 3], help=\"0=Low, 1=Medium, 2=High, 3=Jam\")  # assuming you encoded traffic numerically\n",
        "\n",
        "Weather = st.selectbox(\"Weather\", ['Fog', 'Sandstorms', 'Stormy', 'Sunny', 'Windy'])\n",
        "Vehicle = st.selectbox(\"Vehicle Type\", ['motorcycle ', 'scooter ', 'van'])\n",
        "Area = st.selectbox(\"Area\", ['Other', 'Semi-Urban ', 'Urban '])\n",
        "Category = st.selectbox(\"Category\", [\n",
        "    'Books', 'Clothing', 'Cosmetics', 'Electronics', 'Grocery', 'Home',\n",
        "    'Jewelry', 'Kitchen', 'Outdoors', 'Pet Supplies', 'Shoes',\n",
        "    'Skincare', 'Snacks', 'Sports', 'Toys'\n",
        "])\n",
        "\n",
        "st.subheader(\"🕒 Order Time Details\")\n",
        "Order_Hour = st.slider(\"Order Hour (0–23)\", min_value=0, max_value=23, value=12)\n",
        "Order_DayOfWeek = st.selectbox(\"Day of Week\", [0, 1, 2, 3, 4, 5, 6], help=\"0=Monday, 6=Sunday\")\n",
        "Order_Month = st.selectbox(\"Order Month\", list(range(1, 13)), help=\"1=Jan, 12=Dec\")\n",
        "Is_Weekend = st.radio(\"Is Weekend?\", [0, 1], help=\"1=Yes, 0=No\")\n",
        "\n",
        "# -------------------------------\n",
        "# Prepare the input DataFrame\n",
        "# -------------------------------\n",
        "feature_names = [\n",
        "    'Agent_Age', 'Agent_Rating', 'distance_km', 'Traffic_encoded',\n",
        "    'Weather_Fog', 'Weather_Sandstorms', 'Weather_Stormy', 'Weather_Sunny',\n",
        "    'Weather_Windy', 'Vehicle_motorcycle ', 'Vehicle_scooter ',\n",
        "    'Vehicle_van', 'Area_Other', 'Area_Semi-Urban ', 'Area_Urban ',\n",
        "    'Category_Books', 'Category_Clothing', 'Category_Cosmetics',\n",
        "    'Category_Electronics', 'Category_Grocery', 'Category_Home',\n",
        "    'Category_Jewelry', 'Category_Kitchen', 'Category_Outdoors',\n",
        "    'Category_Pet Supplies', 'Category_Shoes', 'Category_Skincare',\n",
        "    'Category_Snacks', 'Category_Sports', 'Category_Toys', 'Order_Hour',\n",
        "       'Order_DayOfWeek', 'Order_Month', 'Is_Weekend'\n",
        "]\n",
        "\n",
        "# Start with all zeros\n",
        "input_data = pd.DataFrame([[0]*len(feature_names)], columns=feature_names)\n",
        "\n",
        "# Encode Traffic (Ordinal)\n",
        "traffic_map = {\"Low\": 0, \"Medium\": 1, \"High\": 2, \"Jam\": 3, \"Unknown\": 4}\n",
        "#traffic_encoded = traffic_map[traffic]\n",
        "# Fill in numeric values\n",
        "input_data['Agent_Age'] = Agent_Age\n",
        "input_data['Agent_Rating'] = Agent_Rating\n",
        "input_data['distance_km'] = distance_km\n",
        "input_data['Traffic_encoded'] = Traffic_encoded\n",
        "input_data['Order_Hour'] = Order_Hour\n",
        "input_data['Order_DayOfWeek'] = Order_DayOfWeek\n",
        "input_data['Order_Month'] = Order_Month\n",
        "input_data['Is_Weekend'] = Is_Weekend\n",
        "\n",
        "# One-hot selections\n",
        "input_data[f\"Weather_{Weather}\"] = 1\n",
        "input_data[f\"Vehicle_{Vehicle}\"] = 1\n",
        "input_data[f\"Area_{Area}\"] = 1\n",
        "input_data[f\"Category_{Category}\"] = 1\n",
        "\n",
        "# -------------------------------\n",
        "# Make prediction\n",
        "# -------------------------------\n",
        "#if st.button(\"Predict Delivery Time\"):\n",
        "    #prediction = model.predict(input_data)[0]\n",
        "    #st.success(f\"🕒 Estimated Delivery Time: {prediction:.2f} hours\")\n",
        "\n",
        "if st.button(\"Predict Delivery Time\"):\n",
        "    try:\n",
        "        prediction = model.predict(input_data)[0]\n",
        "        st.success(f\"📦 Estimated Delivery Time: **{prediction:.2f} hours**\")\n",
        "    except Exception as e:\n",
        "        st.error(f\"⚠️ Prediction failed: {e}\")\n",
        "\n",
        "with st.expander(\"🔍 See Input Data Sent to Model\"):\n",
        "    st.dataframe(input_data)\n"
      ],
      "metadata": {
        "id": "cM-2KFBAt5a7"
      },
      "execution_count": null,
      "outputs": []
    },
    {
      "cell_type": "markdown",
      "source": [
        "![Screenshot 2025-10-06 051606.png](data:image/png;base64,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)"
      ],
      "metadata": {
        "id": "y6lMc26Exdo5"
      }
    },
    {
      "cell_type": "markdown",
      "source": [
        "![Screenshot 2025-10-06 051334.png](data:image/png;base64,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)"
      ],
      "metadata": {
        "id": "s7i_LeCqxvnB"
      }
    },
    {
      "cell_type": "markdown",
      "source": [
        "####Model Comparison and Tracking: Use MLflow to log, compare, and manage different regression models. Document the hyperparameters, performance metrics, and model versions."
      ],
      "metadata": {
        "id": "ddvatdGfO3cB"
      }
    },
    {
      "cell_type": "code",
      "source": [
        "!pip install mlflow"
      ],
      "metadata": {
        "id": "Yjf0_GDOPOxy"
      },
      "execution_count": null,
      "outputs": []
    },
    {
      "cell_type": "code",
      "source": [
        "!mlflow ui"
      ],
      "metadata": {
        "id": "V8M74gUI8-bc"
      },
      "execution_count": null,
      "outputs": []
    },
    {
      "cell_type": "code",
      "source": [
        "#Tracking Multiple Regression Models\n",
        "import mlflow\n",
        "import mlflow.sklearn\n",
        "from sklearn.ensemble import RandomForestRegressor, GradientBoostingRegressor\n",
        "from sklearn.metrics import mean_absolute_error, mean_squared_error, r2_score\n",
        "from sklearn.model_selection import train_test_split\n",
        "import pandas as pd\n",
        "import numpy as np\n",
        "from sklearn.impute import SimpleImputer\n",
        "\n",
        "# Example dataset\n",
        "# Replace this with your delivery dataset\n",
        "# The dataframe 'amazon_df_clean' and 'X_numeric', 'y' are already available from previous steps.\n",
        "# We will use X_numeric and y directly instead of reloading from the CSV.\n",
        "# df = pd.read_csv(\"model_input_sample.csv\")\n",
        "# X = df.drop(\"Delivery_Time\", axis=1)\n",
        "# y = df[\"Delivery_Time\"]\n",
        "\n",
        "# Use the preprocessed data\n",
        "X = X_numeric\n",
        "y = y\n",
        "\n",
        "# Impute missing values in the numeric features of X\n",
        "imputer = SimpleImputer(strategy='mean')\n",
        "X_imputed = imputer.fit_transform(X)\n",
        "X_imputed = pd.DataFrame(X_imputed, columns=X.columns) # Convert back to DataFrame to keep column names\n",
        "\n",
        "\n",
        "X_train, X_test, y_train, y_test = train_test_split(X_imputed, y, test_size=0.2, random_state=42)\n",
        "\n",
        "# Define models with hyperparameters\n",
        "models = {\n",
        "    \"Random Forest\": RandomForestRegressor(\n",
        "        n_estimators=100, max_depth=10, random_state=42),\n",
        "    \"Gradient Boosting\": GradientBoostingRegressor(\n",
        "        n_estimators=200, learning_rate=0.05, max_depth=4, random_state=42)\n",
        "}\n",
        "\n",
        "# Start MLflow experiment\n",
        "mlflow.set_experiment(\"Delivery_Time_Prediction\")\n",
        "\n",
        "for name, model in models.items():\n",
        "    with mlflow.start_run(run_name=name):\n",
        "        # Train the model\n",
        "        model.fit(X_train, y_train)\n",
        "        preds = model.predict(X_test)\n",
        "\n",
        "        # Evaluate\n",
        "        mae = mean_absolute_error(y_test, preds)\n",
        "        rmse = np.sqrt(mean_squared_error(y_test, preds))\n",
        "        r2 = r2_score(y_test, preds)\n",
        "\n",
        "        # Log parameters and metrics\n",
        "        mlflow.log_param(\"model_type\", name)\n",
        "        for param, val in model.get_params().items():\n",
        "            mlflow.log_param(param, val)\n",
        "\n",
        "        mlflow.log_metric(\"MAE\", mae)\n",
        "        mlflow.log_metric(\"RMSE\", rmse)\n",
        "        mlflow.log_metric(\"R2\", r2)\n",
        "\n",
        "        # Log model artifact\n",
        "        mlflow.sklearn.log_model(model, name.replace(\" \", \"_\"))\n",
        "\n",
        "        print(f\"{name} logged successfully with MAE={mae:.3f}, RMSE={rmse:.3f}, R²={r2:.3f}\")"
      ],
      "metadata": {
        "id": "R_E8QZFHQnbn"
      },
      "execution_count": null,
      "outputs": []
    },
    {
      "cell_type": "code",
      "source": [
        "import mlflow\n",
        "import mlflow.sklearn\n",
        "\n",
        "# Assuming best_model is your best performing pipeline (from RandomizedSearchCV)\n",
        "# and X_test, y_test are your test sets\n",
        "\n",
        "# Evaluate metrics\n",
        "from sklearn.metrics import mean_absolute_error, mean_squared_error, r2_score\n",
        "import numpy as np\n",
        "\n",
        "# Use the best_model (the fitted pipeline) for prediction\n",
        "y_pred = best_model.predict(X_test)\n",
        "mae = mean_absolute_error(y_test, y_pred)\n",
        "rmse = np.sqrt(mean_squared_error(y_test, y_pred))\n",
        "r2 = r2_score(y_test, y_pred)\n",
        "\n",
        "# Log in MLflow\n",
        "mlflow.set_experiment(\"Amazon_Delivery_Regression\")\n",
        "\n",
        "# Extract parameters from the best model within the pipeline\n",
        "best_rf_params = best_model.named_steps['model'].get_params()\n",
        "\n",
        "with mlflow.start_run(run_name=\"RandomForest_Tuned\"):\n",
        "    mlflow.log_param(\"Model\", \"RandomForestRegressor_Tuned\")\n",
        "    mlflow.log_param(\"n_estimators\", best_rf_params.get(\"n_estimators\"))\n",
        "    mlflow.log_param(\"max_depth\", best_rf_params.get(\"max_depth\"))\n",
        "    mlflow.log_param(\"min_samples_split\", best_rf_params.get(\"min_samples_split\"))\n",
        "    mlflow.log_param(\"min_samples_leaf\", best_rf_params.get(\"min_samples_leaf\"))\n",
        "    mlflow.log_param(\"max_features\", best_rf_params.get(\"max_features\"))\n",
        "    mlflow.log_param(\"bootstrap\", best_rf_params.get(\"bootstrap\"))\n",
        "\n",
        "\n",
        "    # Log metrics\n",
        "    mlflow.log_metric(\"MAE\", mae)\n",
        "    mlflow.log_metric(\"RMSE\", rmse)\n",
        "    mlflow.log_metric(\"R2\", r2)\n",
        "\n",
        "    # Log the model\n",
        "    mlflow.sklearn.log_model(best_model, \"pipeline_model\")\n",
        "\n",
        "    print(f\"✅ Tuned Random Forest logged successfully to MLflow!\")\n",
        "    print(f\"MAE: {mae:.4f} | RMSE: {rmse:.4f} | R²: {r2:.4f}\")"
      ],
      "metadata": {
        "id": "74cHiVV5hez0"
      },
      "execution_count": null,
      "outputs": []
    }
  ]
}