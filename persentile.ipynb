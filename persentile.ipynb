{
  "nbformat": 4,
  "nbformat_minor": 0,
  "metadata": {
    "colab": {
      "provenance": [],
      "authorship_tag": "ABX9TyPfOgbSL2lKbiVGsfvSI/D5",
      "include_colab_link": true
    },
    "kernelspec": {
      "name": "python3",
      "display_name": "Python 3"
    },
    "language_info": {
      "name": "python"
    }
  },
  "cells": [
    {
      "cell_type": "markdown",
      "metadata": {
        "id": "view-in-github",
        "colab_type": "text"
      },
      "source": [
        "<a href=\"https://colab.research.google.com/github/sreeproject/AI-/blob/main/persentile.ipynb\" target=\"_parent\"><img src=\"https://colab.research.google.com/assets/colab-badge.svg\" alt=\"Open In Colab\"/></a>"
      ]
    },
    {
      "cell_type": "code",
      "execution_count": 2,
      "metadata": {
        "colab": {
          "base_uri": "https://localhost:8080/"
        },
        "id": "VT_UHdYgxHCM",
        "outputId": "0c3c3aed-a1a2-480e-82bd-e110c8e3aa0a"
      },
      "outputs": [
        {
          "output_type": "execute_result",
          "data": {
            "text/plain": [
              "array([[10,  7,  4],\n",
              "       [ 3,  2,  1]])"
            ]
          },
          "metadata": {},
          "execution_count": 2
        }
      ],
      "source": [
        "import pandas as pd\n",
        "import numpy as np\n",
        "a=np.array([[10,7,4],[3,2,1]]) #10,7,4,3,2,1\n",
        "a"
      ]
    },
    {
      "cell_type": "code",
      "source": [
        "#median\n",
        "np.percentile(a,50) #4+3/2"
      ],
      "metadata": {
        "colab": {
          "base_uri": "https://localhost:8080/"
        },
        "id": "wTf_MmPDxhyb",
        "outputId": "15a46bf3-ce51-4616-c91e-7889e95c70be"
      },
      "execution_count": 7,
      "outputs": [
        {
          "output_type": "execute_result",
          "data": {
            "text/plain": [
              "3.5"
            ]
          },
          "metadata": {},
          "execution_count": 7
        }
      ]
    },
    {
      "cell_type": "code",
      "source": [
        "np.percentile(a,25)"
      ],
      "metadata": {
        "colab": {
          "base_uri": "https://localhost:8080/"
        },
        "id": "62LiXPdlx4tI",
        "outputId": "cd17626d-341f-49d6-87cd-8a0a8478800b"
      },
      "execution_count": 5,
      "outputs": [
        {
          "output_type": "execute_result",
          "data": {
            "text/plain": [
              "2.25"
            ]
          },
          "metadata": {},
          "execution_count": 5
        }
      ]
    },
    {
      "cell_type": "code",
      "source": [
        "np.percentile(a,75)"
      ],
      "metadata": {
        "colab": {
          "base_uri": "https://localhost:8080/"
        },
        "id": "SduCoM8lyAXx",
        "outputId": "d987b77d-0fd5-42ed-9b59-aa91bda08ec0"
      },
      "execution_count": 6,
      "outputs": [
        {
          "output_type": "execute_result",
          "data": {
            "text/plain": [
              "6.25"
            ]
          },
          "metadata": {},
          "execution_count": 6
        }
      ]
    },
    {
      "cell_type": "markdown",
      "source": [
        "#numpy array to dataframe"
      ],
      "metadata": {
        "id": "wOwA5bkAzC-4"
      }
    },
    {
      "cell_type": "code",
      "source": [
        "df = pd.DataFrame(a, columns=['Column_A', 'Column_B','Column_C'])\n",
        "\n",
        "\n",
        "print(df)\n",
        "print(type(df))"
      ],
      "metadata": {
        "colab": {
          "base_uri": "https://localhost:8080/"
        },
        "id": "9LkTIiUOzBC7",
        "outputId": "c791f1ba-338d-47e9-e832-4e61384cdbdb"
      },
      "execution_count": 13,
      "outputs": [
        {
          "output_type": "stream",
          "name": "stdout",
          "text": [
            "   Column_A  Column_B  Column_C\n",
            "0        10         7         4\n",
            "1         3         2         1\n",
            "<class 'pandas.core.frame.DataFrame'>\n"
          ]
        }
      ]
    },
    {
      "cell_type": "code",
      "source": [
        "df.mode"
      ],
      "metadata": {
        "colab": {
          "base_uri": "https://localhost:8080/"
        },
        "id": "O5O9C24dznnG",
        "outputId": "2200263a-cc3a-4a0f-ce9a-19e31fb4a39c"
      },
      "execution_count": 14,
      "outputs": [
        {
          "output_type": "execute_result",
          "data": {
            "text/plain": [
              "<bound method DataFrame.mode of    Column_A  Column_B  Column_C\n",
              "0        10         7         4\n",
              "1         3         2         1>"
            ]
          },
          "metadata": {},
          "execution_count": 14
        }
      ]
    },
    {
      "cell_type": "code",
      "source": [
        "df.median"
      ],
      "metadata": {
        "colab": {
          "base_uri": "https://localhost:8080/"
        },
        "id": "Dd6uWBqPzrK0",
        "outputId": "e62d7613-9306-4e6a-8fe2-83bc9ca4969b"
      },
      "execution_count": 15,
      "outputs": [
        {
          "output_type": "execute_result",
          "data": {
            "text/plain": [
              "<bound method NDFrame._add_numeric_operations.<locals>.median of    Column_A  Column_B  Column_C\n",
              "0        10         7         4\n",
              "1         3         2         1>"
            ]
          },
          "metadata": {},
          "execution_count": 15
        }
      ]
    }
  ]
}