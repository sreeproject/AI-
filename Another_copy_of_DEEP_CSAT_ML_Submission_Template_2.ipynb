{
  "nbformat": 4,
  "nbformat_minor": 0,
  "metadata": {
    "colab": {
      "private_outputs": true,
      "provenance": [],
      "collapsed_sections": [
        "w6K7xa23Elo4",
        "mDgbUHAGgjLW",
        "MSa1f5Uengrz",
        "r2jJGEOYphqO",
        "b0JNsNcRphqO",
        "1UUpS68QDMuG",
        "kexQrXU-DjzY",
        "T5CmagL3EC8N",
        "PiV4Ypx8fxKe",
        "TfvqoZmBfxKf",
        "-Kee-DAl2viO"
      ],
      "include_colab_link": true
    },
    "kernelspec": {
      "name": "python3",
      "display_name": "Python 3"
    },
    "language_info": {
      "name": "python"
    }
  },
  "cells": [
    {
      "cell_type": "markdown",
      "metadata": {
        "id": "view-in-github",
        "colab_type": "text"
      },
      "source": [
        "<a href=\"https://colab.research.google.com/github/sreeproject/AI-/blob/main/Another_copy_of_DEEP_CSAT_ML_Submission_Template_2.ipynb\" target=\"_parent\"><img src=\"https://colab.research.google.com/assets/colab-badge.svg\" alt=\"Open In Colab\"/></a>"
      ]
    },
    {
      "cell_type": "markdown",
      "source": [
        "# **Project Name**    :-   DeepCSAT – Ecommerce Customer Satisfaction Score Prediction\n",
        "\n",
        "\n"
      ],
      "metadata": {
        "id": "vncDsAP0Gaoa"
      }
    },
    {
      "cell_type": "markdown",
      "source": [
        "##### **Project Type**    - EDA/Regression\n",
        "##### **Contribution**    - Individual"
      ],
      "metadata": {
        "id": "beRrZCGUAJYm"
      }
    },
    {
      "cell_type": "markdown",
      "source": [
        "# **Project Summary -**"
      ],
      "metadata": {
        "id": "FJNUwmbgGyua"
      }
    },
    {
      "cell_type": "markdown",
      "source": [
        "This project focuses on predicting customer satisfaction (CSAT) scores using advanced deep learning techniques, specifically artificial neural networks (ANN). In the e-commerce context, understanding customer satisfaction is essential for improving service quality, enhancing user experience, and driving business growth. By analyzing a variety of interaction-related features—such as response time, ticket volume, agent experience, channel of communication, and customer feedback—the model can capture complex patterns that influence satisfaction levels. Leveraging neural networks allows us to accurately forecast CSAT scores, even in scenarios with nonlinear relationships between variables. The insights generated from these predictions provide actionable guidance for customer service teams, enabling targeted interventions, process optimization, and proactive issue resolution. Ultimately, this approach not only improves individual customer experiences but also supports long-term retention and loyalty. By integrating predictive analytics into operational workflows, businesses can make data-driven decisions to continuously enhance overall service quality and customer satisfaction."
      ],
      "metadata": {
        "id": "F6v_1wHtG2nS"
      }
    },
    {
      "cell_type": "markdown",
      "source": [
        "# **GitHub Link -**"
      ],
      "metadata": {
        "id": "w6K7xa23Elo4"
      }
    },
    {
      "cell_type": "markdown",
      "source": [
        "Provide your GitHub Link here."
      ],
      "metadata": {
        "id": "h1o69JH3Eqqn"
      }
    },
    {
      "cell_type": "markdown",
      "source": [
        "# **Problem Statement**\n"
      ],
      "metadata": {
        "id": "yQaldy8SH6Dl"
      }
    },
    {
      "cell_type": "markdown",
      "source": [
        "This project focuses on predicting customer satisfaction (CSAT) scores using deep learning with Artificial Neural Networks (ANN). In the context of e-commerce, understanding customer satisfaction through their interactions and feedback is crucial for enhancing service quality, improving customer retention, and driving overall business growth. By leveraging advanced neural network models, we aim to accurately forecast CSAT scores based on a myriad of interaction-related features, providing actionable insights for service improvement."
      ],
      "metadata": {
        "id": "DpeJGUA3kjGy"
      }
    },
    {
      "cell_type": "markdown",
      "source": [
        "# **General Guidelines** : -  "
      ],
      "metadata": {
        "id": "mDgbUHAGgjLW"
      }
    },
    {
      "cell_type": "markdown",
      "source": [
        "1.   Well-structured, formatted, and commented code is required.\n",
        "2.   Exception Handling, Production Grade Code & Deployment Ready Code will be a plus. Those students will be awarded some additional credits.\n",
        "     \n",
        "     The additional credits will have advantages over other students during Star Student selection.\n",
        "       \n",
        "             [ Note: - Deployment Ready Code is defined as, the whole .ipynb notebook should be executable in one go\n",
        "                       without a single error logged. ]\n",
        "\n",
        "3.   Each and every logic should have proper comments.\n",
        "4. You may add as many number of charts you want. Make Sure for each and every chart the following format should be answered.\n",
        "        \n",
        "\n",
        "```\n",
        "# Chart visualization code\n",
        "```\n",
        "            \n",
        "\n",
        "*   Why did you pick the specific chart?\n",
        "*   What is/are the insight(s) found from the chart?\n",
        "* Will the gained insights help creating a positive business impact?\n",
        "Are there any insights that lead to negative growth? Justify with specific reason.\n",
        "\n",
        "5. You have to create at least 15 logical & meaningful charts having important insights.\n",
        "\n",
        "\n",
        "[ Hints : - Do the Vizualization in  a structured way while following \"UBM\" Rule.\n",
        "\n",
        "U - Univariate Analysis,\n",
        "\n",
        "B - Bivariate Analysis (Numerical - Categorical, Numerical - Numerical, Categorical - Categorical)\n",
        "\n",
        "M - Multivariate Analysis\n",
        " ]\n",
        "\n",
        "\n",
        "\n",
        "\n",
        "\n",
        "6. You may add more ml algorithms for model creation. Make sure for each and every algorithm, the following format should be answered.\n",
        "\n",
        "\n",
        "*   Explain the ML Model used and it's performance using Evaluation metric Score Chart.\n",
        "\n",
        "\n",
        "*   Cross- Validation & Hyperparameter Tuning\n",
        "\n",
        "*   Have you seen any improvement? Note down the improvement with updates Evaluation metric Score Chart.\n",
        "\n",
        "*   Explain each evaluation metric's indication towards business and the business impact pf the ML model used.\n",
        "\n",
        "\n",
        "\n",
        "\n",
        "\n",
        "\n",
        "\n",
        "\n",
        "\n",
        "\n",
        "\n",
        "\n",
        "\n",
        "\n",
        "\n",
        "\n",
        "\n",
        "\n"
      ],
      "metadata": {
        "id": "ZrxVaUj-hHfC"
      }
    },
    {
      "cell_type": "markdown",
      "source": [
        "# ***Let's Begin !***"
      ],
      "metadata": {
        "id": "O_i_v8NEhb9l"
      }
    },
    {
      "cell_type": "markdown",
      "source": [
        "## ***1. Know Your Data***"
      ],
      "metadata": {
        "id": "HhfV-JJviCcP"
      }
    },
    {
      "cell_type": "markdown",
      "source": [
        "### Import Libraries"
      ],
      "metadata": {
        "id": "Y3lxredqlCYt"
      }
    },
    {
      "cell_type": "code",
      "source": [
        "# Import Libraries\n",
        "import numpy as np\n",
        "import pandas as pd\n",
        "import matplotlib.pyplot as plt\n",
        "import seaborn as sns\n",
        "import warnings\n",
        "warnings.filterwarnings('ignore')"
      ],
      "metadata": {
        "id": "M8Vqi-pPk-HR"
      },
      "execution_count": null,
      "outputs": []
    },
    {
      "cell_type": "code",
      "source": [
        "!pip install --upgrade scikit-learn"
      ],
      "metadata": {
        "id": "fa7NVItVw_g1"
      },
      "execution_count": null,
      "outputs": []
    },
    {
      "cell_type": "markdown",
      "source": [
        "### Dataset Loading"
      ],
      "metadata": {
        "id": "3RnN4peoiCZX"
      }
    },
    {
      "cell_type": "code",
      "source": [
        "# Load Dataset\n",
        "deep_cst_df = pd.read_csv('eCommerce_Customer_support_data.csv')"
      ],
      "metadata": {
        "id": "4CkvbW_SlZ_R"
      },
      "execution_count": null,
      "outputs": []
    },
    {
      "cell_type": "markdown",
      "source": [
        "### Dataset First View"
      ],
      "metadata": {
        "id": "x71ZqKXriCWQ"
      }
    },
    {
      "cell_type": "code",
      "source": [
        "# Dataset First Look\n",
        "deep_cst_df.head()"
      ],
      "metadata": {
        "id": "LWNFOSvLl09H"
      },
      "execution_count": null,
      "outputs": []
    },
    {
      "cell_type": "markdown",
      "source": [
        "### Dataset Rows & Columns count"
      ],
      "metadata": {
        "id": "7hBIi_osiCS2"
      }
    },
    {
      "cell_type": "code",
      "source": [
        "# Dataset Rows & Columns count\n",
        "deep_cst_df.shape"
      ],
      "metadata": {
        "id": "Kllu7SJgmLij"
      },
      "execution_count": null,
      "outputs": []
    },
    {
      "cell_type": "code",
      "source": [
        "deep_cst_df.columns"
      ],
      "metadata": {
        "id": "gUlB34RecsEc"
      },
      "execution_count": null,
      "outputs": []
    },
    {
      "cell_type": "markdown",
      "source": [
        "### Dataset Information"
      ],
      "metadata": {
        "id": "JlHwYmJAmNHm"
      }
    },
    {
      "cell_type": "code",
      "source": [
        "# Dataset Info\n",
        "deep_cst_df.info()"
      ],
      "metadata": {
        "id": "e9hRXRi6meOf"
      },
      "execution_count": null,
      "outputs": []
    },
    {
      "cell_type": "markdown",
      "source": [
        "#### Duplicate Values"
      ],
      "metadata": {
        "id": "35m5QtbWiB9F"
      }
    },
    {
      "cell_type": "code",
      "source": [
        "# Dataset Duplicate Value Count\n",
        "print(\"Duplicated values:\",deep_cst_df.duplicated().sum())"
      ],
      "metadata": {
        "id": "1sLdpKYkmox0"
      },
      "execution_count": null,
      "outputs": []
    },
    {
      "cell_type": "markdown",
      "source": [
        "#### Missing Values/Null Values"
      ],
      "metadata": {
        "id": "PoPl-ycgm1ru"
      }
    },
    {
      "cell_type": "code",
      "source": [
        "# Missing Values/Null Values Count\n",
        "print(\"Missing values:\", deep_cst_df.isnull().sum().sum())"
      ],
      "metadata": {
        "id": "GgHWkxvamxVg"
      },
      "execution_count": null,
      "outputs": []
    },
    {
      "cell_type": "code",
      "source": [
        "deep_cst_df.isnull().sum()"
      ],
      "metadata": {
        "id": "nkpCZbigkPp1"
      },
      "execution_count": null,
      "outputs": []
    },
    {
      "cell_type": "code",
      "source": [
        "# Visualizing the missing values\n",
        "# ==============================\n",
        "plt.figure(figsize=(10, 6))\n",
        "sns.heatmap(deep_cst_df.isnull(), cbar=False, cmap=\"YlGnBu\")\n",
        "plt.title(\"🔍 Missing Values Heatmap\")\n",
        "plt.show()"
      ],
      "metadata": {
        "id": "3q5wnI3om9sJ"
      },
      "execution_count": null,
      "outputs": []
    },
    {
      "cell_type": "code",
      "source": [
        "#Visualize Missing Values - Bar Chart\n",
        "# ==============================\n",
        "missing = deep_cst_df.isnull().sum()\n",
        "missing = missing[missing > 0].sort_values(ascending=False)\n",
        "\n",
        "if len(missing) > 0:\n",
        "    plt.figure(figsize=(10, 5))\n",
        "    sns.barplot(x=missing.index, y=missing.values, palette=\"viridis\")\n",
        "    plt.title(\"📊 Missing Values per Column\")\n",
        "    plt.ylabel(\"Count of Missing Values\")\n",
        "    plt.xticks(rotation=45)\n",
        "    plt.show()\n",
        "else:\n",
        "    print(\"✅ No missing values found in the dataset.\")"
      ],
      "metadata": {
        "id": "uW8kBR3qcdLl"
      },
      "execution_count": null,
      "outputs": []
    },
    {
      "cell_type": "code",
      "source": [
        "deep_cst_df"
      ],
      "metadata": {
        "id": "xDRFX14JbBjR"
      },
      "execution_count": null,
      "outputs": []
    },
    {
      "cell_type": "markdown",
      "source": [
        "### What did you know about your dataset?"
      ],
      "metadata": {
        "id": "H0kj-8xxnORC"
      }
    },
    {
      "cell_type": "markdown",
      "source": [
        "'eCommerce_Customer_support_data' this dataset contains 85907 entries and 20 columns are there. The columns are 'Unique id', 'channel_name', 'category', 'Sub-category','Customer Remarks', 'Order_id', 'order_date_time', 'Issue_reported at','issue_responded', 'Survey_response_Date', 'Customer_City',\n",
        "'Product_category', 'Item_price', 'connected_handling_time','Agent_name', 'Supervisor', 'Manager', 'Tenure Bucket', 'Agent Shift','CSAT Score'. In that 17 Columns are object type, only 3 columns are newmeric type. There is no duplicate values. It contains 435995 missing values. 'Customer Remarks',  'order_date_time', 'Issue_reported at', 'Customer_City', 'Product_category', 'Item_price', 'connected_handling_time'.6 columns contain  missing  values, It contains 70% of missing values."
      ],
      "metadata": {
        "id": "gfoNAAC-nUe_"
      }
    },
    {
      "cell_type": "markdown",
      "source": [
        "'Customer Remarks', , 'order_date_time', 'Issue_reported at',\n",
        "        'Customer_City',\n",
        "       'Product_category', 'Item_price', 'connected_handling_time'.6 columns are missing. It contains 40% of missing values."
      ],
      "metadata": {
        "id": "sfb0-GUgcS7g"
      }
    },
    {
      "cell_type": "markdown",
      "source": [
        "## ***2. Understanding Your Variables***"
      ],
      "metadata": {
        "id": "nA9Y7ga8ng1Z"
      }
    },
    {
      "cell_type": "code",
      "source": [
        "# Dataset Columns\n",
        "deep_cst_df.columns"
      ],
      "metadata": {
        "id": "j7xfkqrt5Ag5"
      },
      "execution_count": null,
      "outputs": []
    },
    {
      "cell_type": "code",
      "source": [
        "deep_cst_df.dtypes"
      ],
      "metadata": {
        "id": "HnFfuaKGfBsu"
      },
      "execution_count": null,
      "outputs": []
    },
    {
      "cell_type": "code",
      "source": [
        "# Dataset Describe\n",
        "deep_cst_df.describe()"
      ],
      "metadata": {
        "id": "DnOaZdaE5Q5t"
      },
      "execution_count": null,
      "outputs": []
    },
    {
      "cell_type": "markdown",
      "source": [
        "### Variables Description"
      ],
      "metadata": {
        "id": "PBTbrJXOngz2"
      }
    },
    {
      "cell_type": "markdown",
      "source": [
        "'Unique id' - Unique identifier for each record\n",
        "\n",
        "'channel_name' - Name of the customer service channel\n",
        "\n",
        "'category' - Category of interaction\n",
        "\n",
        "'Sub-category' - Sub-category of interaction\n",
        "\n",
        "'Customer Remarks' - Feedback provided by customer\n",
        "\n",
        "'Order_id' - Identifier for the order associated with the interaction\n",
        "\n",
        "'order_date_time' - Date and time of order\n",
        "\n",
        "'Issue_reported at' - Timestamp when the issue was reported\n",
        "\n",
        "'issue_responded' - Timestamp when issue was responded to\n",
        "\n",
        "'Survey_response_Date' - Date of customer survey response\n",
        "\n",
        "'Customer_City' - City of customer\n",
        "\n",
        "'Product_category' - Catogery of product\n",
        "\n",
        "'Item_price' - Price of item\n",
        "\n",
        "'connected_handling_time' - Time taken to handle the interaction\n",
        "\n",
        "'Agent_name' - Name of the customer service agent\n",
        "\n",
        "'Supervisor'- Name of supervisor\n",
        "\n",
        "'Manager' - Name of manager\n",
        "\n",
        "'Tenure Bucket'- Bucket categorising agent tenure\n",
        "\n",
        "'Agent Shift' - Shift time of agent\n",
        "\n",
        "'CSAT Score' - Customer satisfaction score"
      ],
      "metadata": {
        "id": "aJV4KIxSnxay"
      }
    },
    {
      "cell_type": "markdown",
      "source": [
        "### Check Unique Values for each variable."
      ],
      "metadata": {
        "id": "u3PMJOP6ngxN"
      }
    },
    {
      "cell_type": "code",
      "source": [
        "# Check Unique Values for each variable.\n",
        "deep_cst_df.nunique()"
      ],
      "metadata": {
        "id": "zms12Yq5n-jE"
      },
      "execution_count": null,
      "outputs": []
    },
    {
      "cell_type": "markdown",
      "source": [
        "## 3. ***Data Wrangling***"
      ],
      "metadata": {
        "id": "dauF4eBmngu3"
      }
    },
    {
      "cell_type": "markdown",
      "source": [
        "### Data Wrangling Code"
      ],
      "metadata": {
        "id": "bKJF3rekwFvQ"
      }
    },
    {
      "cell_type": "markdown",
      "source": [
        "###Handling missing values"
      ],
      "metadata": {
        "id": "V_mxUKJdcgvA"
      }
    },
    {
      "cell_type": "code",
      "source": [
        "# Strategy 1: Drop columns with more than 40% missing values\n",
        "deep_cst_df1 = deep_cst_df.copy()\n",
        "threshold = 0.4 * len(deep_cst_df1)\n",
        "deep_cst_df1 = deep_cst_df1.dropna(axis=1, thresh=threshold)"
      ],
      "metadata": {
        "id": "K131MIq-cp1M"
      },
      "execution_count": null,
      "outputs": []
    },
    {
      "cell_type": "code",
      "source": [
        "deep_cst_df1.head(1)"
      ],
      "metadata": {
        "id": "npl5wskbdkzH"
      },
      "execution_count": null,
      "outputs": []
    },
    {
      "cell_type": "code",
      "source": [
        "deep_cst_df1.columns"
      ],
      "metadata": {
        "id": "zcr64TUWd2jh"
      },
      "execution_count": null,
      "outputs": []
    },
    {
      "cell_type": "markdown",
      "source": [
        "'Customer Remarks', , 'order_date_time', 'Issue_reported at',\n",
        "        'Customer_City',\n",
        "       'Product_category', 'Item_price', 'connected_handling_time'.6 columns are missing. It contains 40% of missing values."
      ],
      "metadata": {
        "id": "3IUXUQrkdn0o"
      }
    },
    {
      "cell_type": "markdown",
      "source": [],
      "metadata": {
        "id": "m-vFYeEcdCUa"
      }
    },
    {
      "cell_type": "code",
      "source": [
        "deep_cst_df1.isnull().sum()"
      ],
      "metadata": {
        "id": "du_rKQ9Rj8rQ"
      },
      "execution_count": null,
      "outputs": []
    },
    {
      "cell_type": "markdown",
      "source": [
        "After handle missing values stil Order_id contains missing vaues, handile  it with fillna(mode)"
      ],
      "metadata": {
        "id": "K2Kqk2eolf5j"
      }
    },
    {
      "cell_type": "code",
      "source": [
        " #Fill remaining missing numeric or categorical columns (if any)\n",
        "for col in deep_cst_df1.columns:\n",
        "    if deep_cst_df1[col].dtype == \"object\":\n",
        "        deep_cst_df1[col] = deep_cst_df1[col].fillna(deep_cst_df1[col].mode()[0])  # fill categorical with mode"
      ],
      "metadata": {
        "id": "EepDhLE5k8yT"
      },
      "execution_count": null,
      "outputs": []
    },
    {
      "cell_type": "code",
      "source": [
        "deep_cst_df1.isnull().sum().sum()"
      ],
      "metadata": {
        "id": "xbvsD76blSBQ"
      },
      "execution_count": null,
      "outputs": []
    },
    {
      "cell_type": "markdown",
      "source": [
        "####There is no know missing vaues now"
      ],
      "metadata": {
        "id": "NKSo2tI8lqPh"
      }
    },
    {
      "cell_type": "code",
      "source": [
        "deep_cst_df1.shape"
      ],
      "metadata": {
        "id": "9XyIVPuWlrBd"
      },
      "execution_count": null,
      "outputs": []
    },
    {
      "cell_type": "markdown",
      "source": [
        "Now dataset size has changed now it contains 14 columns above it was 20."
      ],
      "metadata": {
        "id": "BotNbd8fmwjP"
      }
    },
    {
      "cell_type": "code",
      "source": [
        "deep_cst_df1.columns"
      ],
      "metadata": {
        "id": "gUxQuy9ikmdH"
      },
      "execution_count": null,
      "outputs": []
    },
    {
      "cell_type": "code",
      "source": [
        "# Write your code to make your dataset analysis ready."
      ],
      "metadata": {
        "id": "wk-9a2fpoLcV"
      },
      "execution_count": null,
      "outputs": []
    },
    {
      "cell_type": "code",
      "source": [
        "deep_cst_df1['channel_name'].value_counts()"
      ],
      "metadata": {
        "id": "1syeJwnEAql_"
      },
      "execution_count": null,
      "outputs": []
    },
    {
      "cell_type": "markdown",
      "source": [
        "### What all manipulations have you done and insights you found?"
      ],
      "metadata": {
        "id": "MSa1f5Uengrz"
      }
    },
    {
      "cell_type": "markdown",
      "source": [
        "Answer Here."
      ],
      "metadata": {
        "id": "LbyXE7I1olp8"
      }
    },
    {
      "cell_type": "markdown",
      "source": [
        "## ***4. Data Vizualization, Storytelling & Experimenting with charts : Understand the relationships between variables***"
      ],
      "metadata": {
        "id": "GF8Ens_Soomf"
      }
    },
    {
      "cell_type": "markdown",
      "source": [
        "#### Chart - 1"
      ],
      "metadata": {
        "id": "0wOQAZs5pc--"
      }
    },
    {
      "cell_type": "code",
      "source": [
        "# Chart - 1 visualization code\n",
        " #Adjust label column name if needed (e.g., 'category', 'intent', etc.)\n",
        "label_col = \"category\"\n",
        "\n",
        "plt.figure(figsize=(10, 6))\n",
        "sns.countplot(data=deep_cst_df1, x=label_col, palette=\"coolwarm\", order=deep_cst_df1[label_col].value_counts().index)\n",
        "plt.title(\"📊 Chart 1: Distribution of Categories\", fontsize=14, fontweight=\"bold\")\n",
        "plt.xlabel(\"Category\")\n",
        "plt.ylabel(\"Count\")\n",
        "plt.xticks(rotation=45)\n",
        "plt.grid(axis=\"y\", linestyle=\"--\", alpha=0.6)\n",
        "plt.tight_layout()\n",
        "plt.show()"
      ],
      "metadata": {
        "id": "7v_ESjsspbW7"
      },
      "execution_count": null,
      "outputs": []
    },
    {
      "cell_type": "markdown",
      "source": [
        "##### 1. Why did you pick the specific chart?"
      ],
      "metadata": {
        "id": "K5QZ13OEpz2H"
      }
    },
    {
      "cell_type": "markdown",
      "source": [
        "A bar chart was chosen because it clearly shows the distribution of different customer query categories. It allows easy comparison of frequencies, highlighting which issues like Returns or Order Related are most common. This visualization is ideal for categorical data, making trends simple to interpret."
      ],
      "metadata": {
        "id": "qEF3lyLektJP"
      }
    },
    {
      "cell_type": "markdown",
      "source": [
        "##### 2. What is/are the insight(s) found from the chart?"
      ],
      "metadata": {
        "id": "lQ7QKXXCp7Bj"
      }
    },
    {
      "cell_type": "markdown",
      "source": [
        "The chart reveals that Returns and Order Related issues are the most frequent customer concerns, indicating key areas affecting satisfaction. Categories like Refund Related and Product Queries occur moderately, while Offers & Cashback and Onboarding Related are minimal. This suggests that improving return and order processes could significantly enhance overall customer satisfaction."
      ],
      "metadata": {
        "id": "C_j1G7yiqdRP"
      }
    },
    {
      "cell_type": "markdown",
      "source": [
        "##### 3. Will the gained insights help creating a positive business impact?\n",
        "Are there any insights that lead to negative growth? Justify with specific reason."
      ],
      "metadata": {
        "id": "448CDAPjqfQr"
      }
    },
    {
      "cell_type": "markdown",
      "source": [
        "Yes, the insights will help create a positive business impact by highlighting the major pain points—Returns and Order Related issues. By addressing these areas through better logistics, transparent communication, and improved customer support, the company can reduce complaints and increase satisfaction. Ultimately, this can lead to higher customer retention, positive brand perception, and increased revenue."
      ],
      "metadata": {
        "id": "3cspy4FjqxJW"
      }
    },
    {
      "cell_type": "markdown",
      "source": [
        "#### Chart - 2"
      ],
      "metadata": {
        "id": "KSlN3yHqYklG"
      }
    },
    {
      "cell_type": "code",
      "source": [
        "# Chart - 2 visualization code\n",
        " #Adjust label column name if needed (e.g., 'category', 'intent', etc.)\n",
        "label_col = \"Sub-category\"\n",
        "\n",
        "plt.figure(figsize=(10, 6))\n",
        "sns.countplot(data=deep_cst_df1, x=label_col, palette=\"coolwarm\", order=deep_cst_df1[label_col].value_counts().head(10).index)\n",
        "plt.title(\"📊 Chart 2: Distribution of SubCategories\", fontsize=14, fontweight=\"bold\")\n",
        "plt.xlabel(\"SubCategory\")\n",
        "plt.ylabel(\"Count\")\n",
        "plt.xticks(rotation=45)\n",
        "plt.grid(axis=\"y\", linestyle=\"--\", alpha=0.6)\n",
        "plt.tight_layout()\n",
        "plt.show()"
      ],
      "metadata": {
        "id": "Ap9na_V33Kig"
      },
      "execution_count": null,
      "outputs": []
    },
    {
      "cell_type": "markdown",
      "source": [
        "##### 1. Why did you pick the specific chart?"
      ],
      "metadata": {
        "id": "t6dVpIINYklI"
      }
    },
    {
      "cell_type": "markdown",
      "source": [
        "The bar chart was chosen because it clearly illustrates the distribution of subcategories, making it easy to identify which specific issues occur most frequently. It visually highlights problem areas such as “Reverse Pickup Enquiry” and “Return Request,” helping prioritize improvement efforts. This chart is ideal for comparing categorical data and drawing actionable insights for process optimization."
      ],
      "metadata": {
        "id": "5aaW0BYyYklI"
      }
    },
    {
      "cell_type": "markdown",
      "source": [
        "##### 2. What is/are the insight(s) found from the chart?"
      ],
      "metadata": {
        "id": "ijmpgYnKYklI"
      }
    },
    {
      "cell_type": "markdown",
      "source": [
        "The chart reveals that “Reverse Pickup Enquiry” and “Return Request” are the most frequent subcategories, indicating that return and logistics issues are major customer pain points. Categories like “Delayed” and “Order Status Enquiry” also show significant counts, suggesting operational inefficiencies. Addressing these areas can greatly improve customer satisfaction and streamline the service process."
      ],
      "metadata": {
        "id": "PSx9atu2YklI"
      }
    },
    {
      "cell_type": "markdown",
      "source": [
        "##### 3. Will the gained insights help creating a positive business impact?\n",
        "Are there any insights that lead to negative growth? Justify with specific reason."
      ],
      "metadata": {
        "id": "-JiQyfWJYklI"
      }
    },
    {
      "cell_type": "markdown",
      "source": [
        "Yes, the gained insights can help create a positive business impact by highlighting key problem areas such as “Reverse Pickup Enquiry” and “Return Request,” allowing the company to improve return logistics and enhance customer satisfaction. By streamlining these processes, customer trust and retention can increase significantly. However, the high frequency of issues like “Delayed” and “Order Status Enquiry” may indicate operational inefficiencies that negatively affect customer experience. If these issues persist without corrective actions, they could lead to customer dissatisfaction, reduced loyalty, and potential revenue loss."
      ],
      "metadata": {
        "id": "BcBbebzrYklV"
      }
    },
    {
      "cell_type": "markdown",
      "source": [
        "#### Chart - 3"
      ],
      "metadata": {
        "id": "EM7whBJCYoAo"
      }
    },
    {
      "cell_type": "code",
      "source": [
        "# Chart - 3 visualization code\n",
        "#Agent and Shift Analysis ---\n",
        "\n",
        "# CSAT by Agent Shift\n",
        "csat_by_shift = deep_cst_df1.groupby('Agent Shift')['CSAT Score'].mean().sort_values(ascending=False)\n",
        "print(\"\\nAverage CSAT Score by Agent Shift:\")\n",
        "print(csat_by_shift.to_markdown(numalign=\"left\", stralign=\"left\"))\n",
        "\n",
        "# Plot CSAT by Shift\n",
        "plt.figure(figsize=(8, 5))\n",
        "sns.barplot(x=csat_by_shift.index, y=csat_by_shift.values, palette=\"rocket\")\n",
        "plt.title('Average CSAT Score by Agent Shift')\n",
        "plt.xlabel('Agent Shift')\n",
        "plt.ylabel('Average CSAT Score')\n",
        "plt.ylim(4.0, 4.5) # Set a more focused y-limit\n",
        "plt.tight_layout()\n",
        "#plt.savefig('csat_by_shift.png')\n",
        "#plt.close() # Close the plot\n"
      ],
      "metadata": {
        "id": "t6GMdE67YoAp"
      },
      "execution_count": null,
      "outputs": []
    },
    {
      "cell_type": "markdown",
      "source": [
        "##### 1. Why did you pick the specific chart?"
      ],
      "metadata": {
        "id": "fge-S5ZAYoAp"
      }
    },
    {
      "cell_type": "markdown",
      "source": [
        "The choice of visualization methods was guided by the need for clear communication and effective data comparison. Bar plots were used extensively—for the CSAT Distribution and Issue Categories—as they are the most straightforward way to depict the frequency and count of discrete categories. Critically, when comparing the Average CSAT Score across different Agent Shifts and Tenure Buckets, a focused y-axis (ranging from 4.0 to 4.5) was implemented to visibly amplify the subtle differences in performance that would otherwise be lost if the axis started at zero. Furthermore, a horizontal line was included on the main CSAT distribution chart to instantly establish the overall average CSAT score as a vital benchmark for performance evaluation."
      ],
      "metadata": {
        "id": "5dBItgRVYoAp"
      }
    },
    {
      "cell_type": "markdown",
      "source": [
        "##### 2. What is/are the insight(s) found from the chart?"
      ],
      "metadata": {
        "id": "85gYPyotYoAp"
      }
    },
    {
      "cell_type": "markdown",
      "source": [
        "The primary insight is that the e-commerce customer support system suffers from a major process failure related to returns, evidenced by the overwhelming volume of issues categorized under Returns and, more specifically, Reverse Pickup Enquiries. This systemic issue is compounded by significant agent performance variance: the Morning shift and agents in On Job Training (OJT) consistently register the lowest average CSAT scores, indicating critical gaps in staffing, preparation, or training that require immediate, targeted intervention"
      ],
      "metadata": {
        "id": "4jstXR6OYoAp"
      }
    },
    {
      "cell_type": "markdown",
      "source": [
        "##### 3. Will the gained insights help creating a positive business impact?\n",
        "Are there any insights that lead to negative growth? Justify with specific reason."
      ],
      "metadata": {
        "id": "RoGjAbkUYoAp"
      }
    },
    {
      "cell_type": "markdown",
      "source": [
        "Yes, the gained insights will significantly help in creating a positive business impact by directly targeting the largest causes of customer frustration and operational waste. The data shows no direct insight that inherently leads to negative growth; rather, it identifies the causes of existing negative growth—specifically the extreme delays ($\\mathbf{>120}$ minutes) experienced by $\\mathbf{17,287}$ customers, which are highly likely to result in customer churn and reputation damage if ignored."
      ],
      "metadata": {
        "id": "zfJ8IqMcYoAp"
      }
    },
    {
      "cell_type": "markdown",
      "source": [
        "#### Chart - 4"
      ],
      "metadata": {
        "id": "4Of9eVA-YrdM"
      }
    },
    {
      "cell_type": "code",
      "source": [
        "# Chart - 4 visualization code\n",
        "#CSAT by Tenure Bucket\n",
        "csat_by_tenure = deep_cst_df1.groupby('Tenure Bucket')['CSAT Score'].mean().sort_values(ascending=False)\n",
        "print(\"\\nAverage CSAT Score by Tenure Bucket:\")\n",
        "print(csat_by_tenure.to_markdown(numalign=\"left\", stralign=\"left\"))\n",
        "\n",
        "# Plot CSAT by Tenure\n",
        "plt.figure(figsize=(8, 5))\n",
        "sns.barplot(x=csat_by_tenure.index, y=csat_by_tenure.values, palette=\"mako\")\n",
        "plt.title('Average CSAT Score by Agent Tenure Bucket')\n",
        "plt.xlabel('Tenure Bucket')\n",
        "plt.ylabel('Average CSAT Score')\n",
        "plt.ylim(4.0, 4.5) # Set a more focused y-limit\n",
        "plt.xticks(rotation=45, ha='right')\n",
        "plt.tight_layout()\n",
        "#plt.savefig('csat_by_tenure.png')\n",
        "#plt.close() # Close the plot"
      ],
      "metadata": {
        "id": "irlUoxc8YrdO"
      },
      "execution_count": null,
      "outputs": []
    },
    {
      "cell_type": "markdown",
      "source": [
        "##### 1. Why did you pick the specific chart?"
      ],
      "metadata": {
        "id": "iky9q4vBYrdO"
      }
    },
    {
      "cell_type": "markdown",
      "source": [
        "This bar chart was chosen because it clearly illustrates how agent tenure impacts customer satisfaction (CSAT) scores. It allows for easy comparison across experience levels, highlighting performance trends that are actionable for training and workforce planning. The format is ideal for showing ranked averages, making it simple to identify which tenure buckets deliver the highest service quality. Overall, it supports data-driven decisions about onboarding, coaching, and retention strategies."
      ],
      "metadata": {
        "id": "aJRCwT6DYrdO"
      }
    },
    {
      "cell_type": "markdown",
      "source": [
        "##### 2. What is/are the insight(s) found from the chart?"
      ],
      "metadata": {
        "id": "F6T5p64dYrdO"
      }
    },
    {
      "cell_type": "markdown",
      "source": [
        "Agents with 61–90 days of tenure have the highest average CSAT scores, indicating peak performance during this period. CSAT improves steadily from onboarding through early tenure, suggesting that experience and training positively impact customer satisfaction. However, scores slightly decline after 90 days, which may signal a need for continued engagement or skill refreshers. The lowest scores are seen in the On Job Training group, highlighting the importance of ramp-up support."
      ],
      "metadata": {
        "id": "Xx8WAJvtYrdO"
      }
    },
    {
      "cell_type": "markdown",
      "source": [
        "##### 3. Will the gained insights help creating a positive business impact?\n",
        "Are there any insights that lead to negative growth? Justify with specific reason."
      ],
      "metadata": {
        "id": "y-Ehk30pYrdP"
      }
    },
    {
      "cell_type": "markdown",
      "source": [
        "Yes, the insights can drive positive business impact by guiding targeted training and retention strategies. Knowing that agents in the 61–90 day tenure bucket deliver the highest CSAT scores allows managers to reinforce support during this peak performance window and replicate success across other tenure groups. However, the decline in CSAT after 90 days may signal disengagement or skill stagnation, which could lead to negative growth if not addressed. Proactive interventions like refresher training or role enrichment can help sustain performance and prevent customer experience degradation."
      ],
      "metadata": {
        "id": "jLNxxz7MYrdP"
      }
    },
    {
      "cell_type": "markdown",
      "source": [
        "#### Chart - 5"
      ],
      "metadata": {
        "id": "bamQiAODYuh1"
      }
    },
    {
      "cell_type": "code",
      "source": [
        "# Chart - 5 visualization code\n",
        "#CSAT Score Analysis ---\n",
        "\n",
        "# Calculate the overall average CSAT score\n",
        "overall_avg_csat = deep_cst_df1['CSAT Score'].mean()\n",
        "print(f\"Overall Average CSAT Score: {overall_avg_csat:.2f}\")\n",
        "\n",
        "# Calculate the distribution of CSAT scores\n",
        "csat_distribution = deep_cst_df1['CSAT Score'].value_counts().sort_index(ascending=True)\n",
        "csat_distribution_df = csat_distribution.reset_index()\n",
        "csat_distribution_df.columns = ['CSAT Score', 'Count']\n",
        "\n",
        "# Plot the CSAT Score distribution\n",
        "plt.figure(figsize=(8, 5))\n",
        "colors = ['#4c72b0'] * len(csat_distribution_df)\n",
        "if 5 in csat_distribution_df['CSAT Score'].values:\n",
        "    idx_5 = csat_distribution_df[csat_distribution_df['CSAT Score'] == 5].index[0]\n",
        "    colors[idx_5] = '#55a868' # Highlight score 5\n",
        "\n",
        "bars = plt.bar(csat_distribution_df['CSAT Score'], csat_distribution_df['Count'], color=colors)\n",
        "\n",
        "# Add data labels\n",
        "for bar in bars:\n",
        "    yval = bar.get_height()\n",
        "    plt.text(bar.get_x() + bar.get_width()/2, yval + 500, round(yval), ha='center', va='bottom', fontsize=9)\n",
        "\n",
        "plt.title('Distribution of CSAT Scores')\n",
        "plt.xlabel('CSAT Score')\n",
        "plt.ylabel('Number of Responses')\n",
        "plt.xticks(csat_distribution_df['CSAT Score'])\n",
        "plt.axvline(x=overall_avg_csat, color='r', linestyle='--', label=f'Avg CSAT: {overall_avg_csat:.2f}')\n",
        "plt.legend()\n",
        "plt.tight_layout()\n",
        "#plt.savefig('csat_distribution.png')\n",
        "#plt.close() # Close the plot"
      ],
      "metadata": {
        "id": "TIJwrbroYuh3"
      },
      "execution_count": null,
      "outputs": []
    },
    {
      "cell_type": "markdown",
      "source": [
        "##### 1. Why did you pick the specific chart?"
      ],
      "metadata": {
        "id": "QHF8YVU7Yuh3"
      }
    },
    {
      "cell_type": "markdown",
      "source": [
        "it clearly illustrates the overall distribution of customer satisfaction (CSAT) scores, making it easy to identify dominant sentiment trends. The visual highlights that the majority of responses are highly positive (score 5), while the average CSAT score of 4.24 provides a benchmark for performance evaluation. It’s an effective tool for assessing service quality at scale and spotting areas for improvement."
      ],
      "metadata": {
        "id": "dcxuIMRPYuh3"
      }
    },
    {
      "cell_type": "markdown",
      "source": [
        "##### 2. What is/are the insight(s) found from the chart?"
      ],
      "metadata": {
        "id": "GwzvFGzlYuh3"
      }
    },
    {
      "cell_type": "markdown",
      "source": [
        "The chart shows that the majority of customers gave a CSAT score of 5, indicating high satisfaction. The average CSAT score is 4.24, suggesting overall positive sentiment across responses. However, there is a noticeable number of low scores (1 and 3), which may point to specific service gaps or inconsistent experiences."
      ],
      "metadata": {
        "id": "uyqkiB8YYuh3"
      }
    },
    {
      "cell_type": "markdown",
      "source": [
        "##### 3. Will the gained insights help creating a positive business impact?\n",
        "Are there any insights that lead to negative growth? Justify with specific reason."
      ],
      "metadata": {
        "id": "qYpmQ266Yuh3"
      }
    },
    {
      "cell_type": "markdown",
      "source": [
        "Yes, the insights can help create a positive business impact by confirming that a large majority of customers are highly satisfied, with a CSAT score of 5. This supports continued investment in current service practices and reinforces confidence in frontline performance. However, the presence of over 11,000 responses with a score of 1 signals potential service failures or dissatisfaction hotspots. If left unaddressed, these low scores could lead to negative growth through customer churn, poor word-of-mouth, or reduced repeat business."
      ],
      "metadata": {
        "id": "_WtzZ_hCYuh4"
      }
    },
    {
      "cell_type": "markdown",
      "source": [
        "#### Chart - 6"
      ],
      "metadata": {
        "id": "OH-pJp9IphqM"
      }
    },
    {
      "cell_type": "code",
      "source": [
        "# Chart - 6 visualization code\n"
      ],
      "metadata": {
        "id": "kuRf4wtuphqN"
      },
      "execution_count": null,
      "outputs": []
    },
    {
      "cell_type": "code",
      "source": [
        "import seaborn as sns\n",
        "import matplotlib.pyplot as plt\n",
        "\n",
        "plt.figure(figsize=(8,5))\n",
        "sns.boxplot(x='channel_name', y='CSAT Score', data=deep_cst_df1, palette='Set2')\n",
        "plt.title('CSAT Scores Across Support Channels')\n",
        "plt.xlabel('Channel')\n",
        "plt.ylabel('CSAT Score')\n",
        "plt.show()"
      ],
      "metadata": {
        "id": "O1rLp_k9lRHN"
      },
      "execution_count": null,
      "outputs": []
    },
    {
      "cell_type": "markdown",
      "source": [
        "##### 1. Why did you pick the specific chart?"
      ],
      "metadata": {
        "id": "bbFf2-_FphqN"
      }
    },
    {
      "cell_type": "markdown",
      "source": [
        "This chart was chosen because it effectively compares customer satisfaction (CSAT) across different support channels, offering clear insights into service quality variations. The box plot format highlights both central tendencies and variability, making it easy to spot performance consistency and outliers. It’s especially useful for identifying which channels may require process improvements or additional training."
      ],
      "metadata": {
        "id": "loh7H2nzphqN"
      }
    },
    {
      "cell_type": "markdown",
      "source": [
        "##### 2. What is/are the insight(s) found from the chart?"
      ],
      "metadata": {
        "id": "_ouA3fa0phqN"
      }
    },
    {
      "cell_type": "markdown",
      "source": [
        "The chart shows that Outcall and Inbound channels have consistently high CSAT scores, with medians at 5 and low variability, indicating strong and reliable customer satisfaction. In contrast, the Email channel has a lower median score around 4 and a wider spread, suggesting more inconsistent customer experiences. The presence of outliers in all channels, especially in Email, highlights occasional service gaps that may need targeted improvements."
      ],
      "metadata": {
        "id": "VECbqPI7phqN"
      }
    },
    {
      "cell_type": "markdown",
      "source": [
        "#### Chart - 7"
      ],
      "metadata": {
        "id": "PIIx-8_IphqN"
      }
    },
    {
      "cell_type": "code",
      "source": [
        "# Chart - 7 visualization code\n"
      ],
      "metadata": {
        "id": "lqAIGUfyphqO"
      },
      "execution_count": null,
      "outputs": []
    },
    {
      "cell_type": "code",
      "source": [
        "plt.figure(figsize=(8,5))\n",
        "sns.boxplot(x='category', y='CSAT Score', data=deep_cst_df1, palette='pastel')\n",
        "plt.title('CSAT Scores by Issue Category')\n",
        "plt.xlabel('Category')\n",
        "plt.ylabel('CSAT Score')\n",
        "plt.xticks(rotation=45)\n",
        "plt.show()"
      ],
      "metadata": {
        "id": "T-_VGDhsqtMa"
      },
      "execution_count": null,
      "outputs": []
    },
    {
      "cell_type": "markdown",
      "source": [
        "##### 1. Why did you pick the specific chart?"
      ],
      "metadata": {
        "id": "t27r6nlMphqO"
      }
    },
    {
      "cell_type": "markdown",
      "source": [
        "his chart was selected because it clearly highlights how customer satisfaction (CSAT) varies across different issue categories, making it easy to identify strengths and problem areas. It provides a direct comparison of service performance by category, which is valuable for prioritizing operational improvements. The visual contrast—especially the low score for the App/Website category—helps pinpoint where customer experience is breaking down. This makes the chart highly actionable for both strategic planning and targeted interventions."
      ],
      "metadata": {
        "id": "iv6ro40sphqO"
      }
    },
    {
      "cell_type": "markdown",
      "source": [
        "##### 2. What is/are the insight(s) found from the chart?"
      ],
      "metadata": {
        "id": "r2jJGEOYphqO"
      }
    },
    {
      "cell_type": "markdown",
      "source": [
        "Answer Here"
      ],
      "metadata": {
        "id": "Po6ZPi4hphqO"
      }
    },
    {
      "cell_type": "markdown",
      "source": [
        "##### 3. Will the gained insights help creating a positive business impact?\n",
        "Are there any insights that lead to negative growth? Justify with specific reason."
      ],
      "metadata": {
        "id": "b0JNsNcRphqO"
      }
    },
    {
      "cell_type": "markdown",
      "source": [
        "Answer Here"
      ],
      "metadata": {
        "id": "xvSq8iUTphqO"
      }
    },
    {
      "cell_type": "markdown",
      "source": [
        "#### Chart - 8"
      ],
      "metadata": {
        "id": "BZR9WyysphqO"
      }
    },
    {
      "cell_type": "code",
      "source": [
        "# Chart - 8 visualization code\n"
      ],
      "metadata": {
        "id": "TdPTWpAVphqO"
      },
      "execution_count": null,
      "outputs": []
    },
    {
      "cell_type": "code",
      "source": [
        "plt.figure(figsize=(8,5))\n",
        "sns.boxplot(x='Agent Shift', y='CSAT Score', data=deep_cst_df1, palette='coolwarm')\n",
        "plt.title('CSAT Scores Across Agent Shifts')\n",
        "plt.xlabel('Agent Shift')\n",
        "plt.ylabel('CSAT Score')\n",
        "plt.show()\n"
      ],
      "metadata": {
        "id": "WJtVNWZcrjMz"
      },
      "execution_count": null,
      "outputs": []
    },
    {
      "cell_type": "markdown",
      "source": [
        "##### 1. Why did you pick the specific chart?"
      ],
      "metadata": {
        "id": "jj7wYXLtphqO"
      }
    },
    {
      "cell_type": "markdown",
      "source": [
        "Most issue categories have very high CSAT scores, indicating strong customer satisfaction across core service areas like product queries, orders, and refunds. However, the App/Website category stands out with a significantly low CSAT score of 1.0, suggesting major dissatisfaction and a critical need for improvement. This contrast highlights both operational strengths and a clear digital experience gap that may be impacting overall customer sentiment."
      ],
      "metadata": {
        "id": "Ob8u6rCTphqO"
      }
    },
    {
      "cell_type": "markdown",
      "source": [
        "##### 2. What is/are the insight(s) found from the chart?"
      ],
      "metadata": {
        "id": "eZrbJ2SmphqO"
      }
    },
    {
      "cell_type": "markdown",
      "source": [
        "Most issue categories such as Product Queries, Orders, Returns, and Refunds have very high CSAT scores, indicating strong customer satisfaction across core service areas. However, the App/Website category shows a significantly low CSAT score of 1.0, highlighting a major pain point in the digital experience. This contrast reveals both operational strengths and a critical area needing urgent attention to prevent negative customer impact."
      ],
      "metadata": {
        "id": "mZtgC_hjphqO"
      }
    },
    {
      "cell_type": "markdown",
      "source": [
        "#### Chart - 9"
      ],
      "metadata": {
        "id": "U2RJ9gkRphqQ"
      }
    },
    {
      "cell_type": "code",
      "source": [
        "# Chart - 10 visualization code\n",
        "import seaborn as sns\n",
        "import matplotlib.pyplot as plt\n",
        "\n",
        "plt.figure(figsize=(8,5))\n",
        "sns.boxplot(x=deep_cst_df1['CSAT Score'], color='skyblue')\n",
        "plt.title('Boxplot for CSAT Score')\n",
        "plt.show()"
      ],
      "metadata": {
        "id": "GM7a4YP4phqQ"
      },
      "execution_count": null,
      "outputs": []
    },
    {
      "cell_type": "markdown",
      "source": [
        "##### 1. Why did you pick the specific chart?"
      ],
      "metadata": {
        "id": "1M8mcRywphqQ"
      }
    },
    {
      "cell_type": "markdown",
      "source": [
        "it effectively summarizes the overall distribution of CSAT scores in a compact, visual format. The boxplot highlights key statistical measures like median, interquartile range, and outliers, making it easy to assess customer satisfaction trends at a glance. It’s particularly useful for identifying consistency in service quality and spotting extreme dissatisfaction cases.."
      ],
      "metadata": {
        "id": "8agQvks0phqQ"
      }
    },
    {
      "cell_type": "markdown",
      "source": [
        "##### 2. What is/are the insight(s) found from the chart?"
      ],
      "metadata": {
        "id": "tgIPom80phqQ"
      }
    },
    {
      "cell_type": "markdown",
      "source": [
        "The boxplot shows that most CSAT scores fall between 3.5 and 5, indicating generally high customer satisfaction. The median score is around 4, suggesting that half of the responses are above this level. However, there are a few outliers at scores 1 and 2, pointing to isolated cases of poor customer experience that may need investigation."
      ],
      "metadata": {
        "id": "Qp13pnNzphqQ"
      }
    },
    {
      "cell_type": "markdown",
      "source": [
        "Answer Here"
      ],
      "metadata": {
        "id": "R4Ka1PC2phqR"
      }
    },
    {
      "cell_type": "markdown",
      "source": [
        "#### Chart  - Correlation Heatmap"
      ],
      "metadata": {
        "id": "NC_X3p0fY2L0"
      }
    },
    {
      "cell_type": "code",
      "source": [
        "# Correlation Heatmap visualization code\n",
        "#Correlation Heatmap (for numeric features)\n",
        "# ==============================\n",
        "# If there are numeric columns (like sentiment_score, response_time, etc.)\n",
        "num_cols = deep_cst_df1.select_dtypes(include=[\"int64\", \"float64\"]).columns\n",
        "\n",
        "if len(num_cols) > 0: # Changed from > 1 to > 0 to show heatmap even with one column\n",
        "    plt.figure(figsize=(8, 6))\n",
        "    sns.heatmap(deep_cst_df1[num_cols].corr(), annot=True, cmap=\"Blues\", fmt=\".2f\")\n",
        "    plt.title(\"Chart: Correlation Between Numeric Variables\", fontsize=14, fontweight=\"bold\")\n",
        "    plt.tight_layout()\n",
        "    plt.show()\n",
        "else:\n",
        "    print(\"⚠️ No numerical features to create a correlation heatmap.\")\n",
        "\n",
        "# Note: With only 'CSAT Score' as a numerical column in deep_cst_df1, the heatmap will show a single cell with a value of 1.00."
      ],
      "metadata": {
        "id": "xyC9zolEZNRQ"
      },
      "execution_count": null,
      "outputs": []
    },
    {
      "cell_type": "markdown",
      "source": [
        "##### 1. Why did you pick the specific chart?"
      ],
      "metadata": {
        "id": "UV0SzAkaZNRQ"
      }
    },
    {
      "cell_type": "markdown",
      "source": [
        "This chart was selected because it visually reinforces a fundamental concept in data analysis: a variable is always perfectly correlated with itself. It serves as a simple yet powerful reference point for understanding how correlation matrices work. By showing a correlation value of 1.00 for CSAT Score with itself, it sets a baseline for interpreting relationships between other variables in future analyses."
      ],
      "metadata": {
        "id": "DVPuT8LYZNRQ"
      }
    },
    {
      "cell_type": "markdown",
      "source": [
        "#### Chart  - Pair Plot"
      ],
      "metadata": {
        "id": "q29F0dvdveiT"
      }
    },
    {
      "cell_type": "code",
      "source": [
        "# Pair Plot visualization code\n",
        "# Create pair plot\n",
        "sns.pairplot(deep_cst_df1, diag_kind='kde', corner=True)\n",
        "\n",
        "plt.suptitle(\"Pair Plot - Relationships Between Numerical Variables\", y=1.02)\n",
        "plt.show()"
      ],
      "metadata": {
        "id": "o58-TEIhveiU"
      },
      "execution_count": null,
      "outputs": []
    },
    {
      "cell_type": "markdown",
      "source": [
        "##### 1. Why did you pick the specific chart?"
      ],
      "metadata": {
        "id": "EXh0U9oCveiU"
      }
    },
    {
      "cell_type": "markdown",
      "source": [
        "This chart was chosen because it effectively visualizes the distribution of CSAT scores using a smooth density curve, making it easy to identify common satisfaction levels and patterns. The KDE plot highlights multiple peaks, revealing clusters of customer sentiment that might be missed in summary statistics. It’s a valuable tool for understanding how satisfaction varies across the customer base and for spotting potential segments or service gaps."
      ],
      "metadata": {
        "id": "eMmPjTByveiU"
      }
    },
    {
      "cell_type": "code",
      "source": [
        "# Select numerical columns\n",
        "num_cols = deep_cst_df1.select_dtypes(include=['int64', 'float64']).columns\n",
        "\n",
        "# Create pair plot with a relevant hue column if available\n",
        "if 'category' in deep_cst_df1.columns and len(num_cols) > 1:\n",
        "    sns.pairplot(deep_cst_df1, hue='category', vars=num_cols, diag_kind='kde', corner=True)\n",
        "    plt.suptitle('Pair Plot of Numerical Features by Category', y=1.02)\n",
        "    plt.show()\n",
        "elif len(num_cols) > 1:\n",
        "    sns.pairplot(deep_cst_df1[num_cols], diag_kind='kde', corner=True)\n",
        "    plt.suptitle('Pair Plot of Numerical Features', y=1.02)\n",
        "    plt.show()\n",
        "else:\n",
        "    print(\"⚠️ Not enough numerical columns to create a pair plot.\")"
      ],
      "metadata": {
        "id": "EW8B27ODrz2g"
      },
      "execution_count": null,
      "outputs": []
    },
    {
      "cell_type": "code",
      "source": [
        "import seaborn as sns\n",
        "import matplotlib.pyplot as plt\n",
        "\n",
        "# Select only numerical columns for pairplot\n",
        "num_cols =deep_cst_df1.select_dtypes(include=['int64', 'float64']).columns\n",
        "\n",
        "# Create pair plot\n",
        "plt.figure(figsize=(10, 8))\n",
        "sns.pairplot(deep_cst_df1[num_cols], diag_kind='kde')\n",
        "plt.suptitle('Pair Plot of Numerical Features (After Cleaning)', y=1.02)\n",
        "plt.show()"
      ],
      "metadata": {
        "id": "e26GPAG8shsq"
      },
      "execution_count": null,
      "outputs": []
    },
    {
      "cell_type": "markdown",
      "source": [],
      "metadata": {
        "id": "XHRHUIhIshc0"
      }
    },
    {
      "cell_type": "markdown",
      "source": [
        "## ***5. Hypothesis Testing***"
      ],
      "metadata": {
        "id": "g-ATYxFrGrvw"
      }
    },
    {
      "cell_type": "markdown",
      "source": [
        "### Based on your chart experiments, define three hypothetical statements from the dataset. In the next three questions, perform hypothesis testing to obtain final conclusion about the statements through your code and statistical testing."
      ],
      "metadata": {
        "id": "Yfr_Vlr8HBkt"
      }
    },
    {
      "cell_type": "markdown",
      "source": [
        "Answer Here."
      ],
      "metadata": {
        "id": "-7MS06SUHkB-"
      }
    },
    {
      "cell_type": "markdown",
      "source": [
        "### Hypothetical Statement - 1"
      ],
      "metadata": {
        "id": "8yEUt7NnHlrM"
      }
    },
    {
      "cell_type": "markdown",
      "source": [
        "#### 1. State Your research hypothesis as a null hypothesis and alternate hypothesis."
      ],
      "metadata": {
        "id": "tEA2Xm5dHt1r"
      }
    },
    {
      "cell_type": "markdown",
      "source": [
        "Do customers using different support channels (Chat, Email, Call, etc.) have different satisfaction levels?\n",
        "yes, p_val is <0.5, so customers using different support channels (Chat, Email, Call, etc.) have different satisfaction levels"
      ],
      "metadata": {
        "id": "urkdo82elEJg"
      }
    },
    {
      "cell_type": "markdown",
      "source": [
        "H₀: Mean CSAT Scores are the same across all support channels.\n",
        "\n",
        "H₁: Mean CSAT Scores differ significantly between support channels."
      ],
      "metadata": {
        "id": "8FNdPQ6ajSf4"
      }
    },
    {
      "cell_type": "code",
      "source": [
        "from scipy.stats import f_oneway\n",
        "\n",
        "#deep_cst_df1 = deep_cst_df1[['channel_name', 'CSAT Score']].dropna()\n",
        "groups = [group[\"CSAT Score\"].values for name, group in deep_cst_df1.groupby(\"channel_name\")]\n",
        "\n",
        "f_stat, p_val = f_oneway(*groups)\n",
        "print(\"F-statistic:\", f_stat)\n",
        "print(\"P-value:\", p_val)\n",
        "\n",
        "if p_val < 0.05:\n",
        "    print(\"Reject H₀ – Significant difference in CSAT across channels.\")\n",
        "else:\n",
        "    print(\"Fail to reject H₀ – No significant difference.\")"
      ],
      "metadata": {
        "id": "8sXDJlnakoBQ"
      },
      "execution_count": null,
      "outputs": []
    },
    {
      "cell_type": "markdown",
      "source": [
        "#### 2. Perform an appropriate statistical test."
      ],
      "metadata": {
        "id": "I79__PHVH19G"
      }
    },
    {
      "cell_type": "code",
      "source": [],
      "metadata": {
        "id": "nqJ7uosxnNEJ"
      },
      "execution_count": null,
      "outputs": []
    },
    {
      "cell_type": "markdown",
      "source": [
        "##### Which statistical test have you done to obtain P-Value?"
      ],
      "metadata": {
        "id": "Ou-I18pAyIpj"
      }
    },
    {
      "cell_type": "markdown",
      "source": [
        "The One-Way ANOVA (Analysis of Variance) test was used to obtain the P-value.\n",
        "This test compares the mean CSAT Scores across multiple channels to determine whether there is a statistically significant difference between them."
      ],
      "metadata": {
        "id": "s2U0kk00ygSB"
      }
    },
    {
      "cell_type": "markdown",
      "source": [
        "##### Why did you choose the specific statistical test?"
      ],
      "metadata": {
        "id": "fF3858GYyt-u"
      }
    },
    {
      "cell_type": "markdown",
      "source": [
        "It was chosen because there are more than two groups (channels), and ANOVA is ideal for testing if at least one group’s mean differs significantly from others.\n",
        "A p-value less than 0.05 indicates that customer satisfaction (CSAT) varies significantly across channels, providing valuable insights for business improvement."
      ],
      "metadata": {
        "id": "HO4K0gP5y3B4"
      }
    },
    {
      "cell_type": "markdown",
      "source": [
        "### Hypothetical Statement - 2"
      ],
      "metadata": {
        "id": "4_0_7-oCpUZd"
      }
    },
    {
      "cell_type": "markdown",
      "source": [
        "#### 1. State Your research hypothesis as a null hypothesis and alternate hypothesis."
      ],
      "metadata": {
        "id": "hwyV_J3ipUZe"
      }
    },
    {
      "cell_type": "markdown",
      "source": [
        "Are customers equally satisfied across different issue categories?\n",
        "\n",
        "NO,P_val<0.5 so customers aer not equally satisfied across different issue categories"
      ],
      "metadata": {
        "id": "BBb270fyneko"
      }
    },
    {
      "cell_type": "markdown",
      "source": [
        "H₀: Mean CSAT Scores are equal across all issue categories.\n",
        "\n",
        "H₁: Mean CSAT Scores differ across issue categories."
      ],
      "metadata": {
        "id": "JF0t_AH4nQR5"
      }
    },
    {
      "cell_type": "code",
      "source": [
        "groups = [group[\"CSAT Score\"].values for name, group in deep_cst_df1.groupby(\"category\")]\n",
        "\n",
        "f_stat, p_val = f_oneway(*groups)\n",
        "print(\"F-statistic:\", f_stat)\n",
        "print(\"P-value:\", p_val)\n",
        "\n",
        "if p_val < 0.05:\n",
        "    print(\"Reject H₀ – Significant difference in CSAT across issue categories.\")\n",
        "else:\n",
        "    print(\"Fail to reject H₀ – No significant difference.\")"
      ],
      "metadata": {
        "id": "_xzgxvqLoJNA"
      },
      "execution_count": null,
      "outputs": []
    },
    {
      "cell_type": "markdown",
      "source": [
        "#### 2. Perform an appropriate statistical test."
      ],
      "metadata": {
        "id": "3yB-zSqbpUZe"
      }
    },
    {
      "cell_type": "code",
      "source": [
        "# Perform Statistical Test to obtain P-Value"
      ],
      "metadata": {
        "id": "sWxdNTXNpUZe"
      },
      "execution_count": null,
      "outputs": []
    },
    {
      "cell_type": "markdown",
      "source": [
        "##### Which statistical test have you done to obtain P-Value?"
      ],
      "metadata": {
        "id": "dEUvejAfpUZe"
      }
    },
    {
      "cell_type": "markdown",
      "source": [
        "The One-Way ANOVA (Analysis of Variance) test was used to obtain the P-value.\n",
        "It was chosen because we are comparing the mean CSAT Scores across multiple issue categories, not just between two groups."
      ],
      "metadata": {
        "id": "oLDrPz7HpUZf"
      }
    },
    {
      "cell_type": "markdown",
      "source": [
        "##### Why did you choose the specific statistical test?"
      ],
      "metadata": {
        "id": "Fd15vwWVpUZf"
      }
    },
    {
      "cell_type": "markdown",
      "source": [
        "ANOVA helps determine whether there is a statistically significant difference in average CSAT scores among different categories.\n",
        "A p-value less than 0.05 indicates that customer satisfaction differs significantly across issue categories, helping the business identify which areas need improvement."
      ],
      "metadata": {
        "id": "4xOGYyiBpUZf"
      }
    },
    {
      "cell_type": "markdown",
      "source": [
        "### Hypothetical Statement - 3"
      ],
      "metadata": {
        "id": "bn_IUdTipZyH"
      }
    },
    {
      "cell_type": "markdown",
      "source": [
        "#### 1. State Your research hypothesis as a null hypothesis and alternate hypothesis."
      ],
      "metadata": {
        "id": "49K5P_iCpZyH"
      }
    },
    {
      "cell_type": "markdown",
      "source": [
        "Does the time of day (agent shift) impact customer satisfaction?\n",
        "\n",
        "yes.P_val is <0.5, the time of day (agent shift) impact customer satisfaction"
      ],
      "metadata": {
        "id": "zJ8kN1icrLeg"
      }
    },
    {
      "cell_type": "markdown",
      "source": [
        "H₀: Mean CSAT Scores are equal across all agent shifts (Morning, Evening, Night).\n",
        "\n",
        "H₁: Mean CSAT Scores differ across shifts."
      ],
      "metadata": {
        "id": "amL75GvUrE5w"
      }
    },
    {
      "cell_type": "code",
      "source": [
        "f_stat, p_val = f_oneway(*groups)\n",
        "print(\"F-statistic:\", f_stat)\n",
        "print(\"P-value:\", p_val)\n",
        "\n",
        "if p_val < 0.05:\n",
        "    print(\"Reject H₀ – Significant difference in CSAT across shifts.\")\n",
        "else:\n",
        "    print(\"Fail to reject H₀ – No significant difference.\")"
      ],
      "metadata": {
        "id": "x72iUEweqrcB"
      },
      "execution_count": null,
      "outputs": []
    },
    {
      "cell_type": "markdown",
      "source": [
        "#### 2. Perform an appropriate statistical test."
      ],
      "metadata": {
        "id": "Nff-vKELpZyI"
      }
    },
    {
      "cell_type": "code",
      "source": [
        "# Perform Statistical Test to obtain P-Value"
      ],
      "metadata": {
        "id": "s6AnJQjtpZyI"
      },
      "execution_count": null,
      "outputs": []
    },
    {
      "cell_type": "markdown",
      "source": [
        "##### Which statistical test have you done to obtain P-Value?"
      ],
      "metadata": {
        "id": "kLW572S8pZyI"
      }
    },
    {
      "cell_type": "markdown",
      "source": [
        "The One-Way ANOVA (Analysis of Variance) test was used to obtain the P-value.\n",
        "This test was chosen because we are comparing the mean CSAT Scores across multiple agent shifts (e.g., morning, afternoon, night)."
      ],
      "metadata": {
        "id": "ytWJ8v15pZyI"
      }
    },
    {
      "cell_type": "markdown",
      "source": [
        "##### Why did you choose the specific statistical test?"
      ],
      "metadata": {
        "id": "dWbDXHzopZyI"
      }
    },
    {
      "cell_type": "markdown",
      "source": [
        "ANOVA is appropriate when comparing more than two group means to check if at least one group differs significantly.\n",
        "A p-value less than 0.05 would indicate that the time of day (agent shift) has a significant impact on customer satisfaction (CSAT)."
      ],
      "metadata": {
        "id": "M99G98V6pZyI"
      }
    },
    {
      "cell_type": "markdown",
      "source": [
        "## ***6. Feature Engineering & Data Pre-processing***"
      ],
      "metadata": {
        "id": "yLjJCtPM0KBk"
      }
    },
    {
      "cell_type": "markdown",
      "source": [
        "### 1. Handling Missing Values"
      ],
      "metadata": {
        "id": "xiyOF9F70UgQ"
      }
    },
    {
      "cell_type": "code",
      "source": [
        "# Handling Missing Values & Missing Value Imputation\n",
        "# already handled"
      ],
      "metadata": {
        "id": "iRsAHk1K0fpS"
      },
      "execution_count": null,
      "outputs": []
    },
    {
      "cell_type": "markdown",
      "source": [
        "#### What all missing value imputation techniques have you used and why did you use those techniques?"
      ],
      "metadata": {
        "id": "7wuGOrhz0itI"
      }
    },
    {
      "cell_type": "markdown",
      "source": [
        "6 columns contains more than 70% of missing values. Order id contains some missing values. Handle it with fillna(mode) method"
      ],
      "metadata": {
        "id": "1ixusLtI0pqI"
      }
    },
    {
      "cell_type": "markdown",
      "source": [
        "### 2. Handling Outliers"
      ],
      "metadata": {
        "id": "id1riN9m0vUs"
      }
    },
    {
      "cell_type": "code",
      "source": [
        "# Handling Outliers & Outlier treatments\n",
        "#Some outliers are present in the data. These outliers can be valuable for model building, as they help the model learn to handle extreme cases. Ignoring them might lead to a less robust model that performs poorly on unusual but important scenarios. Therefore,\n",
        "# including outliers can improve the overall accuracy and reliability of predictions."
      ],
      "metadata": {
        "id": "M6w2CzZf04JK"
      },
      "execution_count": null,
      "outputs": []
    },
    {
      "cell_type": "markdown",
      "source": [
        "### 3. Categorical Encoding"
      ],
      "metadata": {
        "id": "89xtkJwZ18nB"
      }
    },
    {
      "cell_type": "code",
      "source": [
        "deep_cst_df1.dtypes"
      ],
      "metadata": {
        "id": "UawcgiHiNFmc"
      },
      "execution_count": null,
      "outputs": []
    },
    {
      "cell_type": "code",
      "source": [
        "cat_cols = deep_cst_df1.select_dtypes(include=['object']).columns\n",
        "print(\"Categorical Columns:\", cat_cols)"
      ],
      "metadata": {
        "id": "aFFi28CoOBVw"
      },
      "execution_count": null,
      "outputs": []
    },
    {
      "cell_type": "code",
      "source": [
        "# Encode your categorical columns\n",
        "import pandas as pd\n",
        "from sklearn.preprocessing import LabelEncoder\n",
        "\n",
        "# Copy dataset\n",
        "df_encoded = deep_cst_df1.copy()\n",
        "\n",
        "# --- Drop identifier columns ---\n",
        "df_encoded = df_encoded.drop(columns=['Unique id', 'Order_id'])\n",
        "\n",
        "# --- Convert date columns to datetime ---\n",
        "date_cols = ['Issue_reported at', 'issue_responded', 'Survey_response_Date']\n",
        "for col in date_cols:\n",
        "    df_encoded[col] = pd.to_datetime(df_encoded[col], errors='coerce')\n",
        "\n",
        "# --- Frequency Encoding for high-cardinality columns ---\n",
        "for col in ['Agent_name', 'Supervisor', 'Manager']:\n",
        "    freq = df_encoded[col].value_counts()\n",
        "    df_encoded[col] = df_encoded[col].map(freq)\n",
        "\n",
        "# --- Label Encoding for ordinal column ---\n",
        "le = LabelEncoder()\n",
        "df_encoded['Tenure Bucket'] = le.fit_transform(df_encoded['Tenure Bucket'])\n",
        "\n",
        "# --- One-Hot Encoding for nominal columns ---\n",
        "nominal_cols = ['channel_name', 'category', 'Sub-category', 'Agent Shift']\n",
        "df_encoded = pd.get_dummies(df_encoded, columns=nominal_cols, drop_first=True)\n",
        "\n",
        "# --- Verify final dataset ---\n",
        "print(\"✅ Encoding Completed Successfully!\")\n",
        "#print(df_encoded.info())"
      ],
      "metadata": {
        "id": "21JmIYMG2hEo"
      },
      "execution_count": null,
      "outputs": []
    },
    {
      "cell_type": "code",
      "source": [
        "df_encoded.head(1)"
      ],
      "metadata": {
        "id": "_K1aE9KNSkI0"
      },
      "execution_count": null,
      "outputs": []
    },
    {
      "cell_type": "code",
      "source": [
        "df_encoded.dtypes"
      ],
      "metadata": {
        "id": "oZc1Rv5pSTX0"
      },
      "execution_count": null,
      "outputs": []
    },
    {
      "cell_type": "code",
      "source": [
        "df_encoded.columns"
      ],
      "metadata": {
        "id": "_WZ-3O1PSzrG"
      },
      "execution_count": null,
      "outputs": []
    },
    {
      "cell_type": "code",
      "source": [
        "df_encoded.shape"
      ],
      "metadata": {
        "id": "b7a_pXXKTjbx"
      },
      "execution_count": null,
      "outputs": []
    },
    {
      "cell_type": "markdown",
      "source": [
        "#### What all categorical encoding techniques have you used & why did you use those techniques?"
      ],
      "metadata": {
        "id": "67NQN5KX2AMe"
      }
    },
    {
      "cell_type": "markdown",
      "source": [
        "In this dataset, *frequency encoding* is applied to *high-cardinality columns* like Agent_name, Supervisor, and Manager by replacing each category with its occurrence count.\n",
        "\n",
        "*Label encoding* is used for the *ordinal column* Tenure Bucket to convert its ordered categories into numeric values while preserving their hierarchy.\n",
        "\n",
        "For nominal columns such as channel_name, category, Sub-category, and Agent Shift, *one-hot encoding* creates separate binary columns for each category, allowing the model to treat them independently."
      ],
      "metadata": {
        "id": "UDaue5h32n_G"
      }
    },
    {
      "cell_type": "code",
      "source": [
        "import seaborn as sns\n",
        "import matplotlib.pyplot as plt\n",
        "\n",
        "# Select numeric columns\n",
        "num_df = df_encoded.select_dtypes(include=['int64', 'float64'])\n",
        "\n",
        "# Compute correlation matrix\n",
        "corr_matrix = num_df.corr()\n",
        "\n",
        "# Plot heatmap\n",
        "plt.figure(figsize=(10,6))\n",
        "sns.heatmap(corr_matrix, annot=True, cmap='coolwarm', fmt=\".2f\")\n",
        "plt.title(\"Feature Correlation Heatmap\")\n",
        "plt.show()"
      ],
      "metadata": {
        "id": "_93UfZLYVbhp"
      },
      "execution_count": null,
      "outputs": []
    },
    {
      "cell_type": "code",
      "source": [
        "# Convert boolean columns to integers\n",
        "bool_cols = df_encoded.select_dtypes(include='bool').columns\n",
        "df_encoded[bool_cols] = df_encoded[bool_cols].astype(int)"
      ],
      "metadata": {
        "id": "RvTQU3NlX0c_"
      },
      "execution_count": null,
      "outputs": []
    },
    {
      "cell_type": "code",
      "source": [
        "df_encoded.dtypes"
      ],
      "metadata": {
        "id": "ylnIge-lX3KR"
      },
      "execution_count": null,
      "outputs": []
    },
    {
      "cell_type": "code",
      "source": [
        "df_encoded.head(1)"
      ],
      "metadata": {
        "id": "BkZV6u11YA1d"
      },
      "execution_count": null,
      "outputs": []
    },
    {
      "cell_type": "markdown",
      "source": [
        "### 4. Feature Manipulation & Selection"
      ],
      "metadata": {
        "id": "-oLEiFgy-5Pf"
      }
    },
    {
      "cell_type": "markdown",
      "source": [
        "#### 1. Feature Manipulation"
      ],
      "metadata": {
        "id": "C74aWNz2AliB"
      }
    },
    {
      "cell_type": "markdown",
      "source": [
        "create new column response_time using 'issue_responded' and 'Issue_reported at'."
      ],
      "metadata": {
        "id": "F6WNBfn5T-ET"
      }
    },
    {
      "cell_type": "code",
      "source": [
        "# Manipulate Features to minimize feature correlation and create new features\n",
        "# Calculate response time (in hours)\n",
        "df_encoded['response_time'] = (df_encoded['issue_responded'] - df_encoded['Issue_reported at']).dt.total_seconds() / 3600"
      ],
      "metadata": {
        "id": "h1qC4yhBApWC"
      },
      "execution_count": null,
      "outputs": []
    },
    {
      "cell_type": "code",
      "source": [
        "cor_matrix=df_encoded[['response_time', 'CSAT Score']].corr()\n",
        "cor_matrix"
      ],
      "metadata": {
        "id": "oRcLNXRaoTCI"
      },
      "execution_count": null,
      "outputs": []
    },
    {
      "cell_type": "code",
      "source": [
        "# Plot heatmap\n",
        "plt.figure(figsize=(10,6))\n",
        "sns.heatmap(cor_matrix, annot=True, cmap='coolwarm', fmt=\".2f\")\n",
        "plt.title(\"Feature Correlation Heatmap\")\n",
        "plt.show()"
      ],
      "metadata": {
        "id": "ucdfhxdBridn"
      },
      "execution_count": null,
      "outputs": []
    },
    {
      "cell_type": "markdown",
      "source": [
        "### response_time added as new feature in the data frame"
      ],
      "metadata": {
        "id": "zJmb9Bi7sU5c"
      }
    },
    {
      "cell_type": "code",
      "source": [
        "df_encoded.shape"
      ],
      "metadata": {
        "id": "b7l5bITbsH7t"
      },
      "execution_count": null,
      "outputs": []
    },
    {
      "cell_type": "code",
      "source": [
        "df_encoded"
      ],
      "metadata": {
        "id": "YL_peSk-NF6H"
      },
      "execution_count": null,
      "outputs": []
    },
    {
      "cell_type": "code",
      "source": [
        "df_encoded.isnull().sum()"
      ],
      "metadata": {
        "id": "cdzej9RDrx1P"
      },
      "execution_count": null,
      "outputs": []
    },
    {
      "cell_type": "code",
      "source": [
        "# Replace invalid or missing response times with median\n",
        "df_encoded['response_time'].fillna(df_encoded['response_time'].median(), inplace=True)"
      ],
      "metadata": {
        "id": "y5d7Rt8RCucd"
      },
      "execution_count": null,
      "outputs": []
    },
    {
      "cell_type": "markdown",
      "source": [
        "Missing values are present in response_time handle it with fillna(.median()) method"
      ],
      "metadata": {
        "id": "XURzxOvuAt03"
      }
    },
    {
      "cell_type": "code",
      "source": [
        "print(\"Missing Issue_reported at:\", df_encoded['Issue_reported at'].isna().sum())\n",
        "print(\"Missing issue_responded:\", df_encoded['issue_responded'].isna().sum())"
      ],
      "metadata": {
        "id": "9ul_uUjNEEoA"
      },
      "execution_count": null,
      "outputs": []
    },
    {
      "cell_type": "markdown",
      "source": [
        "Drop 2 columns from datasets 'issue_responded' and 'Issue_reported at'."
      ],
      "metadata": {
        "id": "gEYAtJP7AFRj"
      }
    },
    {
      "cell_type": "code",
      "source": [
        "df_encoded = df_encoded.dropna(subset=['Issue_reported at', 'issue_responded'])"
      ],
      "metadata": {
        "id": "J2HOZb7yFBo8"
      },
      "execution_count": null,
      "outputs": []
    },
    {
      "cell_type": "code",
      "source": [
        "df_encoded"
      ],
      "metadata": {
        "id": "MRQjQPEUW55o"
      },
      "execution_count": null,
      "outputs": []
    },
    {
      "cell_type": "code",
      "source": [
        "df_encoded.isnull().sum().sum()"
      ],
      "metadata": {
        "id": "1h-vC-9AoEs8"
      },
      "execution_count": null,
      "outputs": []
    },
    {
      "cell_type": "code",
      "source": [
        "df_encoded.columns"
      ],
      "metadata": {
        "id": "Jmtz--fjXQRe"
      },
      "execution_count": null,
      "outputs": []
    },
    {
      "cell_type": "code",
      "source": [
        "df_encoded.isnull().sum().sum()"
      ],
      "metadata": {
        "id": "XOT-6T9VDOOH"
      },
      "execution_count": null,
      "outputs": []
    },
    {
      "cell_type": "code",
      "source": [
        "df_encoded"
      ],
      "metadata": {
        "id": "WrdY9wAdbDXd"
      },
      "execution_count": null,
      "outputs": []
    },
    {
      "cell_type": "markdown",
      "source": [
        "#### 2. Feature Selection"
      ],
      "metadata": {
        "id": "2DejudWSA-a0"
      }
    },
    {
      "cell_type": "code",
      "source": [
        "corr_matrix = df_encoded.corr().abs()\n",
        "upper_tri = corr_matrix.where(\n",
        "    np.triu(np.ones(corr_matrix.shape), k=1).astype(bool)\n",
        ")\n",
        "to_drop = [column for column in upper_tri.columns if any(upper_tri[column] > 0.85)]\n",
        "print(f\"🔹 Dropping {len(to_drop)} highly correlated features\")\n",
        "df_encoded.drop(to_drop, axis=1, inplace=True)"
      ],
      "metadata": {
        "id": "KdwYaInQruDX"
      },
      "execution_count": null,
      "outputs": []
    },
    {
      "cell_type": "code",
      "source": [
        "to_drop"
      ],
      "metadata": {
        "id": "k0Png5oF8rsW"
      },
      "execution_count": null,
      "outputs": []
    },
    {
      "cell_type": "markdown",
      "source": [
        "After encoding some featurea are highly correlated. Here find 7 features are highly correlated. So drop  these features"
      ],
      "metadata": {
        "id": "vtNOpjJoBYZj"
      }
    },
    {
      "cell_type": "markdown",
      "source": [
        "##### What all feature selection methods have you used  and why?"
      ],
      "metadata": {
        "id": "pEMng2IbBLp7"
      }
    },
    {
      "cell_type": "markdown",
      "source": [
        " For feature selection, I used a combination of correlation analysis, domain knowledge, and encoding-based importance. Numeric features were checked for high correlation with the target to retain relevant predictors and reduce redundancy, while irrelevant columns like identifiers were dropped based on domain knowledge. Additionally, encoding techniques (frequency, label, and one-hot) helped highlight influential categorical features, which were further validated using model-based importance, ensuring the model uses the most informative features for better performance and interpretability."
      ],
      "metadata": {
        "id": "rb2Lh6Z8BgGs"
      }
    },
    {
      "cell_type": "markdown",
      "source": [
        "### 5. Data Transformation"
      ],
      "metadata": {
        "id": "TNVZ9zx19K6k"
      }
    },
    {
      "cell_type": "markdown",
      "source": [
        "#### Do you think that your data needs to be transformed? If yes, which transformation have you used. Explain Why?"
      ],
      "metadata": {
        "id": "nqoHp30x9hH9"
      }
    },
    {
      "cell_type": "markdown",
      "source": [
        "yes,The data needs to be transformed because the numeric features have different scales and ranges, which can negatively affect model performance, especially for distance-based or gradient-based algorithms. In this case, I used MinMaxScaler, which scales all numeric features to a fixed range of 0 to 1. This ensures that all features contribute equally to the model, prevents features with larger values from dominating, and improves convergence and stability during training"
      ],
      "metadata": {
        "id": "Sadv-7GbDxj2"
      }
    },
    {
      "cell_type": "markdown",
      "source": [
        "### 6. Data Scaling"
      ],
      "metadata": {
        "id": "rMDnDkt2B6du"
      }
    },
    {
      "cell_type": "code",
      "source": [
        "# Scaling your data\n"
      ],
      "metadata": {
        "id": "dL9LWpySC6x_"
      },
      "execution_count": null,
      "outputs": []
    },
    {
      "cell_type": "code",
      "source": [
        "# Transform Your data\n",
        "from sklearn.preprocessing import MinMaxScaler, StandardScaler, RobustScaler\n",
        "import numpy as np\n",
        "\n",
        "# --- Step 1: Separate features and target ---\n",
        "X = df_encoded.drop(columns=['CSAT Score'])\n",
        "y = df_encoded['CSAT Score']\n",
        "\n",
        "# --- Step 2: Select numerical columns for scaling ---\n",
        "num_cols = X.select_dtypes(include=np.number).columns\n",
        "X_num = X[num_cols]\n",
        "\n",
        "# --- Step 3: Select transformation method ---\n",
        "scaler = MinMaxScaler()   # (You can change to StandardScaler or RobustScaler)\n",
        "\n",
        "# --- Step 4: Apply scaling only on numeric columns ---\n",
        "X_scaled_num = scaler.fit_transform(X_num)\n",
        "\n",
        "# --- Step 5: Convert scaled numerical features back to DataFrame ---\n",
        "X_scaled_num_df = pd.DataFrame(X_scaled_num, columns=num_cols, index=X.index)\n",
        "\n",
        "# --- Step 6: Combine scaled numerical features with original non-numerical columns (datetime columns) ---\n",
        "X_scaled = pd.concat([X_scaled_num_df, X.select_dtypes(exclude=np.number)], axis=1)\n",
        "\n",
        "\n",
        "print(\"✅ Data Transformation Completed Successfully!\")\n",
        "print(X_scaled.head(2))"
      ],
      "metadata": {
        "id": "zRcrxcs1Z-Gu"
      },
      "execution_count": null,
      "outputs": []
    },
    {
      "cell_type": "markdown",
      "source": [
        "##### Which method have you used to scale you data and why?"
      ],
      "metadata": {
        "id": "yiiVWRdJDDil"
      }
    },
    {
      "cell_type": "markdown",
      "source": [
        "In the code, three types of scalers from sklearn.preprocessing are mentioned: MinMaxScaler, StandardScaler, and RobustScaler.\n",
        "\n",
        "The MinMaxScaler is applied, which scales numeric features to a fixed range (usually 0 to 1). StandardScaler standardizes features to have a mean of 0 and a standard deviation of 1, while RobustScaler scales features using the median and interquartile range, making it robust to outliers."
      ],
      "metadata": {
        "id": "WeouZgzEDY6P"
      }
    },
    {
      "cell_type": "code",
      "source": [
        "import joblib\n",
        "\n",
        "joblib.dump(X_scaled.columns.tolist(), \"training_columns.pkl\")"
      ],
      "metadata": {
        "id": "4azFheuILZtI"
      },
      "execution_count": null,
      "outputs": []
    },
    {
      "cell_type": "code",
      "source": [
        "#Feature importance (Random Forest)\n",
        "from sklearn.ensemble import RandomForestRegressor\n",
        "# Drop datetime columns before training the model\n",
        "X_numeric = X.select_dtypes(include=np.number)\n",
        "\n",
        "rf = RandomForestRegressor(random_state=42)\n",
        "rf.fit(X_numeric, y)\n",
        "importances = pd.Series(rf.feature_importances_, index=X_numeric.columns)\n",
        "top_features = importances.nlargest(15)\n",
        "X_final = X_numeric[top_features.index]\n",
        "\n",
        "print(\"✅ Final shape for model training:\", X_final.shape)\n",
        "print(\"✅ Selected top features:\\n\", list(X_final.columns))"
      ],
      "metadata": {
        "id": "uZKieZuKuOpE"
      },
      "execution_count": null,
      "outputs": []
    },
    {
      "cell_type": "code",
      "source": [
        "X_final.columns"
      ],
      "metadata": {
        "id": "NLWW3Dz9vKqU"
      },
      "execution_count": null,
      "outputs": []
    },
    {
      "cell_type": "code",
      "source": [
        "plt.figure(figsize=(8, 6))\n",
        "top_features.sort_values().plot(kind='barh', color='skyblue')\n",
        "plt.title(\"Top 15 Important Features Influencing CSAT Score\")\n",
        "plt.xlabel(\"Feature Importance Score\")\n",
        "plt.ylabel(\"Feature\")\n",
        "plt.show()"
      ],
      "metadata": {
        "id": "rtSmqr3Vvq3b"
      },
      "execution_count": null,
      "outputs": []
    },
    {
      "cell_type": "markdown",
      "source": [
        "##### Which all features you found important and why?"
      ],
      "metadata": {
        "id": "rAdphbQ9Bhjc"
      }
    },
    {
      "cell_type": "markdown",
      "source": [
        "Selected top features:\n",
        " ['response_time', 'Agent_name', 'Supervisor', 'Tenure Bucket', 'Manager', 'channel_name_Inbound', 'Agent Shift_Morning', 'Agent Shift_Evening', 'Sub-category_Reverse Pickup Enquiry', 'Sub-category_Delayed', 'category_Order Related', 'Sub-category_Order status enquiry', 'category_Product Queries', 'category_Returns', 'Sub-category_Installation/demo']\n",
        "\n",
        "#### Using the Random Forest Regressor, the top 15 numeric features most influential for predicting CSAT Score were identified based on their feature importance scores. These scores reflect how much each feature reduces prediction error across all trees in the model. The important features include those with strong correlation to the target and encoded categorical variables capturing meaningful patterns, such as agent performance and tenure. Selecting these features reduces noise and improves model interpretability. Focusing on the most influential features also enhances the overall predictive performance of the model."
      ],
      "metadata": {
        "id": "bUEFs4rCCql1"
      }
    },
    {
      "cell_type": "code",
      "source": [
        "X_final.shape"
      ],
      "metadata": {
        "id": "U_C2bsZcMZVv"
      },
      "execution_count": null,
      "outputs": []
    },
    {
      "cell_type": "code",
      "source": [
        "X_df = pd.DataFrame(X_final)\n",
        "\n",
        "# Save as CSV\n",
        "X_df.to_csv(\"X_final\", index=False)"
      ],
      "metadata": {
        "id": "HreLo4ofKX_w"
      },
      "execution_count": null,
      "outputs": []
    },
    {
      "cell_type": "code",
      "source": [
        "X_final['Agent_name']"
      ],
      "metadata": {
        "id": "eIxPHCFYRBLB"
      },
      "execution_count": null,
      "outputs": []
    },
    {
      "cell_type": "markdown",
      "source": [
        "### 7. Dimesionality Reduction"
      ],
      "metadata": {
        "id": "1UUpS68QDMuG"
      }
    },
    {
      "cell_type": "markdown",
      "source": [
        "##### Do you think that dimensionality reduction is needed? Explain Why?"
      ],
      "metadata": {
        "id": "kexQrXU-DjzY"
      }
    },
    {
      "cell_type": "markdown",
      "source": [
        "Answer Here."
      ],
      "metadata": {
        "id": "GGRlBsSGDtTQ"
      }
    },
    {
      "cell_type": "code",
      "source": [
        "# DImensionality Reduction (If needed)"
      ],
      "metadata": {
        "id": "kQfvxBBHDvCa"
      },
      "execution_count": null,
      "outputs": []
    },
    {
      "cell_type": "markdown",
      "source": [
        "##### Which dimensionality reduction technique have you used and why? (If dimensionality reduction done on dataset.)"
      ],
      "metadata": {
        "id": "T5CmagL3EC8N"
      }
    },
    {
      "cell_type": "markdown",
      "source": [
        "Answer Here."
      ],
      "metadata": {
        "id": "ZKr75IDuEM7t"
      }
    },
    {
      "cell_type": "markdown",
      "source": [
        "### 8. Data Splitting"
      ],
      "metadata": {
        "id": "BhH2vgX9EjGr"
      }
    },
    {
      "cell_type": "code",
      "source": [
        "#Train-test split\n",
        "from sklearn.model_selection import train_test_split\n",
        "\n",
        "X_train, X_test, y_train, y_test = train_test_split(\n",
        "    X_scaled, y, test_size=0.2, random_state=42\n",
        ")\n",
        "print(f\"✅ Training samples: {X_train.shape}, Testing samples: {X_test.shape}\")"
      ],
      "metadata": {
        "id": "Lp79pnwYMV5m"
      },
      "execution_count": null,
      "outputs": []
    },
    {
      "cell_type": "code",
      "source": [
        "y_train.shape,y_test.shape"
      ],
      "metadata": {
        "id": "tZYly56A9z7u"
      },
      "execution_count": null,
      "outputs": []
    },
    {
      "cell_type": "markdown",
      "source": [
        "##### What data splitting ratio have you used and why?"
      ],
      "metadata": {
        "id": "qjKvONjwE8ra"
      }
    },
    {
      "cell_type": "markdown",
      "source": [
        "I used a train-test split ratio of 80:20, where 80% of the data is used for training the model and 20% is reserved for testing its performance. This ratio provides a good balance, ensuring the model has enough data to learn patterns effectively while retaining a sufficient portion to evaluate its generalization on unseen data.."
      ],
      "metadata": {
        "id": "Y2lJ8cobFDb_"
      }
    },
    {
      "cell_type": "markdown",
      "source": [
        "## ***7. ML Model Implementation***"
      ],
      "metadata": {
        "id": "VfCC591jGiD4"
      }
    },
    {
      "cell_type": "markdown",
      "source": [
        "### ML Model - 1"
      ],
      "metadata": {
        "id": "OB4l2ZhMeS1U"
      }
    },
    {
      "cell_type": "code",
      "source": [
        "# ML Model - 1 Implementation\n",
        "\n",
        "# Fit the Algorithm\n",
        "\n",
        "# Predict on the model"
      ],
      "metadata": {
        "id": "uNLGSxHuZoD0"
      },
      "execution_count": null,
      "outputs": []
    },
    {
      "cell_type": "code",
      "source": [
        "from sklearn.preprocessing import StandardScaler\n",
        "from sklearn.decomposition import PCA\n",
        "from tensorflow.keras.models import Sequential\n",
        "from tensorflow.keras.layers import Dense, Dropout\n",
        "from tensorflow.keras.optimizers import Adam\n",
        "from tensorflow.keras.callbacks import EarlyStopping\n",
        "import numpy as np # Import numpy for select_dtypes\n",
        "import pandas as pd # Import pandas\n",
        "\n",
        "\n",
        "# =============================\n",
        "# 3️⃣ Scale Data\n",
        "# =============================\n",
        "scaler = StandardScaler()\n",
        "\n",
        "# Drop datetime columns before scaling\n",
        "datetime_cols = ['Issue_reported at']\n",
        "X_train_numeric = X_train.drop(columns=datetime_cols)\n",
        "X_test_numeric = X_test.drop(columns=datetime_cols)\n",
        "\n",
        "\n",
        "X_train_scaled = scaler.fit_transform(X_train_numeric)\n",
        "X_test_scaled = scaler.transform(X_test_numeric)\n",
        "\n",
        "# =============================\n",
        "# 4️⃣ Apply PCA (retain 95% variance)\n",
        "# =============================\n",
        "pca = PCA(n_components=0.95, random_state=42)\n",
        "# Apply PCA to the scaled numerical arrays directly\n",
        "X_train_pca = pca.fit_transform(X_train_scaled)\n",
        "X_test_pca = pca.transform(X_test_scaled)\n",
        "\n",
        "print(f\"Original features: {X_train_scaled.shape[1]}\")\n",
        "print(f\"Reduced features after PCA: {X_train_pca.shape[1]}\")\n",
        "\n",
        "# =============================\n",
        "# 5️⃣ Build ANN Model\n",
        "# =============================\n",
        "model = Sequential([\n",
        "    Dense(128, activation='relu', input_shape=(X_train_pca.shape[1],)),\n",
        "    Dropout(0.3),\n",
        "    Dense(64, activation='relu'),\n",
        "    Dropout(0.3),\n",
        "    Dense(32, activation='relu'),\n",
        "    Dense(1, activation='linear')   # Regression output\n",
        "])\n",
        "\n",
        "# Compile the model\n",
        "model.compile(optimizer=Adam(learning_rate=0.001),\n",
        "              loss='mse',\n",
        "              metrics=['mae'])\n",
        "\n",
        "# =============================\n",
        "# 6️⃣ Train Model with Early Stopping\n",
        "# =============================\n",
        "early_stop = EarlyStopping(monitor='val_loss', patience=10, restore_best_weights=True)\n",
        "\n",
        "history = model.fit(\n",
        "    X_train_pca, y_train,\n",
        "    validation_data=(X_test_pca, y_test),\n",
        "    epochs=100,\n",
        "    batch_size=32,\n",
        "    callbacks=[early_stop],\n",
        "    verbose=1\n",
        ")\n",
        "\n",
        "# =============================\n",
        "# 7️⃣ Evaluate Model\n",
        "# =============================\n",
        "loss, mae = model.evaluate(X_test_pca, y_test, verbose=0)\n",
        "print(f\"Test MSE: {loss:.3f}\")\n",
        "print(f\"Test MAE: {mae:.3f}\")"
      ],
      "metadata": {
        "id": "IPU_dQdQYmsk"
      },
      "execution_count": null,
      "outputs": []
    },
    {
      "cell_type": "markdown",
      "source": [
        "If CSAT is scored 0–10, an MAE of 1.05 is quite acceptable.\n",
        "\n",
        "This means your model can predict satisfaction levels with ~89–90% accuracy in real-world terms.\n",
        "\n",
        "MSE 1.89 + MAE 1.05 suggest:\n",
        "\n",
        "The model is stable and consistent,\n",
        "\n",
        "Not overfitting,\n",
        "\n",
        "And errors are not dominated by large outliers."
      ],
      "metadata": {
        "id": "qHSUxc3iNaIW"
      }
    },
    {
      "cell_type": "code",
      "source": [
        "model.save('ann_model.h5')"
      ],
      "metadata": {
        "id": "ij9M7NOdZoAt"
      },
      "execution_count": null,
      "outputs": []
    },
    {
      "cell_type": "code",
      "source": [
        "#Plot Training Curves\n",
        "\n",
        "import matplotlib.pyplot as plt\n",
        "\n",
        "plt.figure(figsize=(8,5))\n",
        "plt.plot(history.history['loss'], label='Train Loss')\n",
        "plt.plot(history.history['val_loss'], label='Validation Loss')\n",
        "plt.title('ANN Training vs Validation Loss')\n",
        "plt.xlabel('Epochs')\n",
        "plt.ylabel('MSE')\n",
        "plt.legend()\n",
        "plt.show()"
      ],
      "metadata": {
        "id": "q5B1ThOLZM6p"
      },
      "execution_count": null,
      "outputs": []
    },
    {
      "cell_type": "code",
      "source": [
        "y_pred = model.predict(X_test_pca)\n",
        "y_pred"
      ],
      "metadata": {
        "id": "ZRlCWdPuZn4u"
      },
      "execution_count": null,
      "outputs": []
    },
    {
      "cell_type": "code",
      "source": [
        "plt.figure(figsize=(6,6))\n",
        "sns.scatterplot(x=y_test, y=y_pred.flatten(), alpha=0.6)\n",
        "plt.plot([1,5],[1,5],'r--')\n",
        "plt.xlabel(\"Actual CSAT Score\")\n",
        "plt.ylabel(\"Predicted CSAT Score\")\n",
        "plt.title(\"Actual vs Predicted CSAT Scores\")\n",
        "plt.show()"
      ],
      "metadata": {
        "id": "Q2VnP8kCzbvj"
      },
      "execution_count": null,
      "outputs": []
    },
    {
      "cell_type": "code",
      "source": [
        "#visualize the training performance\n",
        "import matplotlib.pyplot as plt\n",
        "\n",
        "plt.figure(figsize=(10,5))\n",
        "plt.plot(history.history['mae'], label='Train MAE')\n",
        "plt.plot(history.history['val_mae'], label='Test MAE')\n",
        "plt.title('Model Training Performance')\n",
        "plt.xlabel('Epochs')\n",
        "plt.ylabel('Mean Absolute Error')\n",
        "plt.legend()\n",
        "plt.show()"
      ],
      "metadata": {
        "id": "eWYmF0i4btc4"
      },
      "execution_count": null,
      "outputs": []
    },
    {
      "cell_type": "code",
      "source": [],
      "metadata": {
        "id": "5JAl3uMxPDj-"
      },
      "execution_count": null,
      "outputs": []
    },
    {
      "cell_type": "code",
      "source": [
        "y_pred = model.predict(X_test_pca)\n",
        "\n",
        "# Compare first few predictions\n",
        "results = pd.DataFrame({'Actual': y_test[:10].values, 'Predicted': y_pred[:10].flatten()})\n",
        "print(results)"
      ],
      "metadata": {
        "id": "X69buXUyPENf"
      },
      "execution_count": null,
      "outputs": []
    },
    {
      "cell_type": "code",
      "source": [
        "import matplotlib.pyplot as plt\n",
        "import seaborn as sns\n",
        "\n",
        "plt.figure(figsize=(8,6))\n",
        "sns.scatterplot(x=y_test, y=y_pred.flatten(), alpha=0.7, color='royalblue', edgecolor='black')\n",
        "\n",
        "# Add a reference line (perfect prediction)\n",
        "plt.plot([y_test.min(), y_test.max()],\n",
        "         [y_test.min(), y_test.max()],\n",
        "         color='red', linestyle='--', linewidth=2)\n",
        "\n",
        "plt.title('Actual vs Predicted CSAT Scores', fontsize=14)\n",
        "plt.xlabel('Actual CSAT Score')\n",
        "plt.ylabel('Predicted CSAT Score')\n",
        "plt.grid(True, linestyle='--', alpha=0.6)\n",
        "plt.show()"
      ],
      "metadata": {
        "id": "oOMmyLwHg1lg"
      },
      "execution_count": null,
      "outputs": []
    },
    {
      "cell_type": "code",
      "source": [],
      "metadata": {
        "id": "QU9NRMcEPRiJ"
      },
      "execution_count": null,
      "outputs": []
    },
    {
      "cell_type": "code",
      "source": [
        "import matplotlib.pyplot as plt\n",
        "import pandas as pd\n",
        "\n",
        "# Convert predictions to flat array for easier plotting\n",
        "y_pred_flat = y_pred.flatten()\n",
        "\n",
        "# Create DataFrame for comparison\n",
        "compare_df = pd.DataFrame({\n",
        "    'Actual': y_test[:30].values,\n",
        "    'Predicted': y_pred_flat[:30]\n",
        "}).reset_index(drop=True)\n",
        "\n",
        "# Plot the comparison\n",
        "plt.figure(figsize=(10,6))\n",
        "plt.plot(compare_df.index, compare_df['Actual'], label='Actual CSAT', marker='o')\n",
        "plt.plot(compare_df.index, compare_df['Predicted'], label='Predicted CSAT', marker='x')\n",
        "plt.title('Actual vs Predicted CSAT Scores (First 30 Samples)', fontsize=14)\n",
        "plt.xlabel('Sample Index')\n",
        "plt.ylabel('CSAT Score')\n",
        "plt.legend()\n",
        "plt.grid(True, linestyle='--', alpha=0.7)\n",
        "plt.show()"
      ],
      "metadata": {
        "id": "6a_k78eFPSH_"
      },
      "execution_count": null,
      "outputs": []
    },
    {
      "cell_type": "markdown",
      "source": [
        "#### 1. Explain the ML Model used and it's performance using Evaluation metric Score Chart."
      ],
      "metadata": {
        "id": "ArJBuiUVfxKd"
      }
    },
    {
      "cell_type": "code",
      "source": [
        "# Visualizing evaluation Metric Score chart"
      ],
      "metadata": {
        "id": "rqD5ZohzfxKe"
      },
      "execution_count": null,
      "outputs": []
    },
    {
      "cell_type": "code",
      "source": [
        "!pip install scikeras -U"
      ],
      "metadata": {
        "id": "Bs5paLRMalY1"
      },
      "execution_count": null,
      "outputs": []
    },
    {
      "cell_type": "code",
      "source": [
        "!pip install --upgrade scikit-learn"
      ],
      "metadata": {
        "id": "iHfHyaqgbqpU"
      },
      "execution_count": null,
      "outputs": []
    },
    {
      "cell_type": "markdown",
      "source": [
        "#### 2. Cross- Validation & Hyperparameter Tuning"
      ],
      "metadata": {
        "id": "4qY1EAkEfxKe"
      }
    },
    {
      "cell_type": "code",
      "source": [],
      "metadata": {
        "id": "Ic98OY0FwM3P"
      },
      "execution_count": null,
      "outputs": []
    },
    {
      "cell_type": "code",
      "source": [
        "# ML Model - 1 Implementation with hyperparameter optimization techniques (i.e., GridSearch CV, RandomSearch CV, Bayesian Optimization etc.)\n",
        "\n",
        "# Fit the Algorithm\n",
        "\n",
        "# Predict on the model\n",
        "import numpy as np\n",
        "import pandas as pd\n",
        "from sklearn.model_selection import train_test_split, RandomizedSearchCV\n",
        "from sklearn.preprocessing import StandardScaler\n",
        "from sklearn.decomposition import PCA\n",
        "from scikeras.wrappers import KerasRegressor\n",
        "from tensorflow.keras.models import Sequential\n",
        "from tensorflow.keras.layers import Dense, Dropout\n",
        "from tensorflow.keras.optimizers import Adam\n",
        "from tensorflow.keras.callbacks import EarlyStopping\n",
        "\n",
        "\n",
        "\n",
        "# ==========================================\n",
        "# 3️⃣ Define ANN Builder Function\n",
        "# ==========================================\n",
        "def build_model(neurons_1=64, neurons_2=32, dropout_rate=0.2, learning_rate=0.001):\n",
        "    model = Sequential([\n",
        "        Dense(neurons_1, activation='relu', input_shape=(X_train_pca.shape[1],)),\n",
        "        Dropout(dropout_rate),\n",
        "        Dense(neurons_2, activation='relu'),\n",
        "        Dropout(dropout_rate),\n",
        "        Dense(1, activation='linear')\n",
        "    ])\n",
        "    model.compile(optimizer=Adam(learning_rate=learning_rate),\n",
        "                  loss='mse',\n",
        "                  metrics=['mae'])\n",
        "    return model\n",
        "\n",
        "# ==========================================\n",
        "# 4️⃣ Wrap in SciKeras Regressor\n",
        "# ==========================================\n",
        "ann_regressor = KerasRegressor(\n",
        "    model=build_model,\n",
        "    epochs=50,\n",
        "    batch_size=32,\n",
        "    verbose=0,\n",
        "    callbacks=[EarlyStopping(monitor='val_loss', patience=5, restore_best_weights=True)]\n",
        ")\n",
        "\n",
        "# ==========================================\n",
        "# 5️⃣ Define Hyperparameter Search Space\n",
        "# ==========================================\n",
        "param_distributions = {\n",
        "    \"model__neurons_1\": [64, 128, 256],\n",
        "    \"model__neurons_2\": [16, 32, 64],\n",
        "    \"model__dropout_rate\": [0.2, 0.3, 0.4],\n",
        "    \"model__learning_rate\": [0.001, 0.0005, 0.0001],\n",
        "    \"batch_size\": [16, 32, 64],\n",
        "    \"epochs\": [50, 100]\n",
        "}\n",
        "\n",
        "# ==========================================\n",
        "# 6️⃣ Perform RandomizedSearchCV\n",
        "# ==========================================\n",
        "random_search = RandomizedSearchCV(\n",
        "    estimator=ann_regressor,\n",
        "    param_distributions=param_distributions,\n",
        "    n_iter=10,                 # try 10 combinations\n",
        "    cv=3,                      # 3-fold cross-validation\n",
        "    verbose=1,\n",
        "    n_jobs=-1,                 # use all CPU cores\n",
        "    scoring='neg_mean_absolute_error'\n",
        ")\n",
        "\n",
        "random_search.fit(X_train_pca, y_train)\n",
        "\n",
        "# ==========================================\n",
        "# 7️⃣ Results\n",
        "# ==========================================\n",
        "print(\"\\nBest Parameters Found:\")\n",
        "print(random_search.best_params_)\n",
        "\n",
        "best_model = random_search.best_estimator_.model_\n",
        "\n",
        "# Evaluate on test data\n",
        "y_pred = random_search.predict(X_test_pca)\n",
        "from sklearn.metrics import mean_absolute_error, mean_squared_error, r2_score\n",
        "\n",
        "mae = mean_absolute_error(y_test, y_pred)\n",
        "mse = mean_squared_error(y_test, y_pred)\n",
        "#r2 = r2_score(y_test, y_pred)\n",
        "\n",
        "print(f\"\\nTest MAE: {mae:.3f}\")\n",
        "print(f\"Test MSE: {mse:.3f}\")\n",
        "#print(f\"R² Score: {r2:.3f}\")"
      ],
      "metadata": {
        "id": "ond6diVvwNqL"
      },
      "execution_count": null,
      "outputs": []
    },
    {
      "cell_type": "code",
      "metadata": {
        "id": "96d8071d"
      },
      "source": [
        "!pip install scikeras -U"
      ],
      "execution_count": null,
      "outputs": []
    },
    {
      "cell_type": "code",
      "source": [
        "best_model.save('ann_randmodel.h5')"
      ],
      "metadata": {
        "id": "ryE9btsQUZby"
      },
      "execution_count": null,
      "outputs": []
    },
    {
      "cell_type": "code",
      "source": [
        "plt.figure(figsize=(7,6))\n",
        "plt.scatter(y_test, y_pred, alpha=0.7, color='royalblue')\n",
        "plt.plot([y_test.min(), y_test.max()], [y_test.min(), y_test.max()], 'r--')\n",
        "plt.title(\"Predicted vs Actual CSAT Score\")\n",
        "plt.xlabel(\"Actual CSAT Score\")\n",
        "plt.ylabel(\"Predicted CSAT Score\")\n",
        "plt.show()"
      ],
      "metadata": {
        "id": "xlkfMaCkz60g"
      },
      "execution_count": null,
      "outputs": []
    },
    {
      "cell_type": "code",
      "source": [],
      "metadata": {
        "id": "WCuZd-gJ5uh0"
      },
      "execution_count": null,
      "outputs": []
    },
    {
      "cell_type": "code",
      "source": [
        "# Bar chart of CV results\n",
        "folds = np.arange(1, 6)\n",
        "plt.figure(figsize=(9,5))\n",
        "plt.bar(folds - 0.15, mae, width=0.3, label='MAE')\n",
        "plt.bar(folds + 0.15, mse, width=0.3, label='MSE')\n",
        "plt.title('K-Fold Cross-Validation Results (ANN Model)')\n",
        "plt.xlabel('Fold')\n",
        "plt.ylabel('Error Value')\n",
        "plt.legend()\n",
        "plt.show()"
      ],
      "metadata": {
        "id": "u3iISX1CLaHK"
      },
      "execution_count": null,
      "outputs": []
    },
    {
      "cell_type": "code",
      "source": [],
      "metadata": {
        "id": "-RiGhBAUz8lT"
      },
      "execution_count": null,
      "outputs": []
    },
    {
      "cell_type": "markdown",
      "source": [
        "##### Which hyperparameter optimization technique have you used and why?"
      ],
      "metadata": {
        "id": "PiV4Ypx8fxKe"
      }
    },
    {
      "cell_type": "markdown",
      "source": [
        "Answer Here."
      ],
      "metadata": {
        "id": "negyGRa7fxKf"
      }
    },
    {
      "cell_type": "markdown",
      "source": [
        "##### Have you seen any improvement? Note down the improvement with updates Evaluation metric Score Chart."
      ],
      "metadata": {
        "id": "TfvqoZmBfxKf"
      }
    },
    {
      "cell_type": "markdown",
      "source": [
        "Answer Here."
      ],
      "metadata": {
        "id": "OaLui8CcfxKf"
      }
    },
    {
      "cell_type": "markdown",
      "source": [
        "### ML Model - 2"
      ],
      "metadata": {
        "id": "dJ2tPlVmpsJ0"
      }
    },
    {
      "cell_type": "markdown",
      "source": [
        "#### 1. Explain the ML Model used and it's performance using Evaluation metric Score Chart."
      ],
      "metadata": {
        "id": "JWYfwnehpsJ1"
      }
    },
    {
      "cell_type": "code",
      "source": [],
      "metadata": {
        "id": "utdNVDF_0A_o"
      },
      "execution_count": null,
      "outputs": []
    },
    {
      "cell_type": "markdown",
      "source": [
        "#### 2. Cross- Validation & Hyperparameter Tuning"
      ],
      "metadata": {
        "id": "-jK_YjpMpsJ2"
      }
    },
    {
      "cell_type": "code",
      "source": [
        "# ML Model - 1 Implementation with hyperparameter optimization techniques (i.e., GridSearch CV, RandomSearch CV, Bayesian Optimization etc.)\n",
        "\n",
        "# Fit the Algorithm\n",
        "\n",
        "# Predict on the model\n",
        "import numpy as np\n",
        "from sklearn.model_selection import KFold\n",
        "from sklearn.metrics import mean_squared_error, mean_absolute_error\n",
        "import tensorflow as tf\n",
        "from tensorflow.keras.models import Sequential\n",
        "from tensorflow.keras.layers import Dense, Dropout\n",
        "from tensorflow.keras.optimizers import Adam\n",
        "from sklearn.preprocessing import StandardScaler # Import StandardScaler\n",
        "\n",
        "# Ensure X and y are NumPy arrays (or compatible structures) for KFold\n",
        "# Drop datetime columns from the full dataset and convert to NumPy\n",
        "X_numeric = df_encoded.drop(columns=['CSAT Score']).select_dtypes(include=np.number).to_numpy()\n",
        "y_numpy = df_encoded['CSAT Score'].to_numpy()\n",
        "\n",
        "\n",
        "# Define the number of folds\n",
        "n_splits = 5  # You can increase this for more rigorous evaluation\n",
        "kf = KFold(n_splits=n_splits, shuffle=True, random_state=42)\n",
        "\n",
        "# Lists to store evaluation metrics for each fold\n",
        "mse_per_fold = []\n",
        "mae_per_fold = []\n",
        "\n",
        "fold_no = 1\n",
        "for train_index, val_index in kf.split(X_numeric, y_numpy):\n",
        "    # Correctly split the data using the indices\n",
        "    X_train_fold, X_val_fold = X_numeric[train_index], X_numeric[val_index]\n",
        "    y_train_fold, y_val_fold = y_numpy[train_index], y_numpy[val_index]\n",
        "\n",
        "    # Scale data within each fold to prevent data leakage\n",
        "    scaler = StandardScaler()\n",
        "    X_train_fold_scaled = scaler.fit_transform(X_train_fold)\n",
        "    X_val_fold_scaled = scaler.transform(X_val_fold)\n",
        "\n",
        "\n",
        "    # Build a fresh model for each fold\n",
        "    model = Sequential([\n",
        "        Dense(64, activation='relu', input_shape=(X_train_fold_scaled.shape[1],)), # Use scaled shape\n",
        "        Dropout(0.2),\n",
        "        Dense(32, activation='relu'),\n",
        "        Dense(1, activation='linear')\n",
        "    ])\n",
        "\n",
        "    # Compile model\n",
        "    model.compile(optimizer=Adam(learning_rate=0.001),\n",
        "                  loss='mse',\n",
        "                  metrics=['mae'])\n",
        "\n",
        "    print(f'Training for fold {fold_no}...')\n",
        "\n",
        "    # Train the model for this fold\n",
        "    history = model.fit(\n",
        "        X_train_fold_scaled, y_train_fold, # Train on scaled data\n",
        "        epochs=10,  # Reduced epochs for demonstration\n",
        "        batch_size=32,\n",
        "        verbose=0 # Set to 1 to see training progress for each epoch\n",
        "    )\n",
        "\n",
        "    # Evaluate the model on the validation fold\n",
        "    loss, mae = model.evaluate(X_val_fold_scaled, y_val_fold, verbose=0) # Evaluate on scaled data\n",
        "\n",
        "    print(f'Score for fold {fold_no}: MSE of {loss:.2f}; MAE of {mae:.2f}')\n",
        "    mse_per_fold.append(loss)\n",
        "    mae_per_fold.append(mae)\n",
        "\n",
        "    fold_no += 1\n",
        "\n",
        "# Print average performance across all folds\n",
        "print('\\nAverage scores across all folds:')\n",
        "print(f'Average MSE: {np.mean(mse_per_fold):.2f} ± {np.std(mse_per_fold):.2f}')\n",
        "print(f'Average MAE: {np.mean(mae_per_fold):.2f} ± {np.std(mae_per_fold):.2f}')"
      ],
      "metadata": {
        "id": "Dn0EOfS6psJ2"
      },
      "execution_count": null,
      "outputs": []
    },
    {
      "cell_type": "markdown",
      "source": [
        "The 5-fold cross-validation shows that the model performs consistently across different data subsets, with an average MSE of 1.89 and MAE of 1.06. Given CSAT scores range from 1 to 5, this means predictions are, on average, off by about 1 point, which is moderately acceptable. The low standard deviation across folds indicates stability and reliability. Overall, the model captures general trends well, but further improvements like feature engineering or ensemble methods could reduce errors and enhance precision."
      ],
      "metadata": {
        "id": "ESJC6DEVI5Vy"
      }
    },
    {
      "cell_type": "code",
      "source": [
        "y_pred =model.predict(X_val_fold)\n",
        "y_pred\n",
        "#r2 = r2_score(y_val_fold,y_pred)\n",
        "#print(f'R2:'r2)"
      ],
      "metadata": {
        "id": "0mrhGx0zSbpr"
      },
      "execution_count": null,
      "outputs": []
    },
    {
      "cell_type": "markdown",
      "source": [
        "##### Which hyperparameter optimization technique have you used and why?"
      ],
      "metadata": {
        "id": "HAih1iBOpsJ2"
      }
    },
    {
      "cell_type": "markdown",
      "source": [
        "Hyperparameter Optimization Technique Used: Randomized Search Reason for Choosing: Randomized Search efficiently explores a wide range of hyperparameters, saving computation time while still finding near-optimal values to improve model performance."
      ],
      "metadata": {
        "id": "9kBgjYcdpsJ2"
      }
    },
    {
      "cell_type": "markdown",
      "source": [
        "##### Have you seen any improvement? Note down the improvement with updates Evaluation metric Score Chart."
      ],
      "metadata": {
        "id": "zVGeBEFhpsJ2"
      }
    },
    {
      "cell_type": "markdown",
      "source": [
        "yes"
      ],
      "metadata": {
        "id": "74yRdG6UpsJ3"
      }
    },
    {
      "cell_type": "markdown",
      "source": [
        "#### 3. Explain each evaluation metric's indication towards business and the business impact pf the ML model used."
      ],
      "metadata": {
        "id": "bmKjuQ-FpsJ3"
      }
    },
    {
      "cell_type": "markdown",
      "source": [
        "MAE measures the average difference between predicted and actual values, showing how accurate the model’s predictions are.\n",
        "MSE measures the squared differences between predicted and actual values, giving more weight to larger errors.\n",
        "A lower MAE indicates the model’s predictions are consistently close to real outcomes, improving reliability.\n",
        "A lower MSE means the model avoids large errors, leading to more stable and accurate business decisions."
      ],
      "metadata": {
        "id": "BDKtOrBQpsJ3"
      }
    },
    {
      "cell_type": "markdown",
      "source": [
        "####Model - 3"
      ],
      "metadata": {
        "id": "xJRHxvFD40uD"
      }
    },
    {
      "cell_type": "code",
      "source": [
        "# ML Model - 3 Implementation (LSTM)\n",
        "\n",
        "from sklearn.linear_model import LinearRegression\n",
        "from sklearn.metrics import mean_squared_error, r2_score, mean_absolute_error # Import mean_absolute_error\n",
        "import numpy as np\n",
        "from tensorflow.keras.models import Sequential # Import Sequential\n",
        "from tensorflow.keras.layers import Dense, Dropout, LSTM # Import LSTM\n",
        "\n",
        "\n",
        "#  Scale numeric features\n",
        "scaler = StandardScaler()\n",
        "X_scaled = scaler.fit_transform(X.select_dtypes(include=np.number))\n",
        "\n",
        "# Reshape for LSTM: (samples, timesteps, features)\n",
        "# Here we treat features as timesteps\n",
        "X_lstm = np.expand_dims(X_scaled, axis=1)  # Shape: (samples, 1, features)\n",
        "\n",
        "# Train-test split\n",
        "X_train, X_test, y_train, y_test = train_test_split(\n",
        "    X_lstm, y, test_size=0.2, random_state=42\n",
        ")\n",
        "\n",
        "#  Build LSTM model\n",
        "model = Sequential([\n",
        "    LSTM(64, activation='tanh', input_shape=(X_train.shape[1], X_train.shape[2])),\n",
        "    Dropout(0.3),\n",
        "    Dense(32, activation='relu'),\n",
        "    Dense(1, activation='linear')  # Regression output\n",
        "])\n",
        "\n",
        "#  Compile model\n",
        "model.compile(optimizer='adam', loss='mse', metrics=['mae'])\n",
        "\n",
        "#  Early stopping\n",
        "early_stop = EarlyStopping(monitor='val_loss', patience=10, restore_best_weights=True)\n",
        "\n",
        "# Train model\n",
        "history = model.fit(\n",
        "    X_train, y_train,\n",
        "    validation_data=(X_test, y_test),\n",
        "    epochs=100,\n",
        "    batch_size=32,\n",
        "    callbacks=[early_stop],\n",
        "    verbose=1\n",
        ")\n",
        "\n",
        "# Evaluate model\n",
        "y_pred = model.predict(X_test)\n",
        "mae = mean_absolute_error(y_test, y_pred)\n",
        "mse = mean_squared_error(y_test, y_pred)\n",
        "#r2 = r2_score(y_test, y_pred)\n",
        "\n",
        "print(f\"MAE : {mae:.3f}\")\n",
        "print(f\"MSE : {mse:.3f}\")\n",
        "#print(f\"R²  : {r2:.3f}\")"
      ],
      "metadata": {
        "id": "aBdEg16fc6Zc"
      },
      "execution_count": null,
      "outputs": []
    },
    {
      "cell_type": "markdown",
      "source": [
        "The model achieved an MAE of 1.019 and an MSE of 1.890 for CSAT scores ranging from 1 to 5, meaning predictions are off by about 1 point on average. This indicates the model captures general trends moderately well but may struggle with fine distinctions. Further improvements like feature engineering or ensemble methods could reduce the error for more precise predictions."
      ],
      "metadata": {
        "id": "uP_KNE2_JkA5"
      }
    },
    {
      "cell_type": "code",
      "source": [
        "model.save('lstm_model.h5')"
      ],
      "metadata": {
        "id": "kqnVkAsmd6hP"
      },
      "execution_count": null,
      "outputs": []
    },
    {
      "cell_type": "markdown",
      "source": [
        "#### 2. Cross- Validation & Hyperparameter Tuning"
      ],
      "metadata": {
        "id": "9PIHJqyupx6M"
      }
    },
    {
      "cell_type": "code",
      "source": [
        "# ML Model - 3 Implementation with hyperparameter optimization techniques (i.e., GridSearch CV, RandomSearch CV, Bayesian Optimization etc.)\n",
        "\n",
        "# Fit the Algorithm\n",
        "\n",
        "# Predict on the model\n",
        "from tensorflow.keras.models import Sequential\n",
        "from tensorflow.keras.layers import Dense, Dropout, LSTM\n",
        "# Update import for KerasRegressor\n",
        "from scikeras.wrappers import KerasRegressor\n",
        "from sklearn.model_selection import RandomizedSearchCV\n",
        "from scipy.stats import randint, uniform # Import randint and uniform\n",
        "import numpy as np\n",
        "from sklearn.model_selection import train_test_split\n",
        "from sklearn.preprocessing import StandardScaler\n",
        "from tensorflow.keras.callbacks import EarlyStopping\n",
        "from tensorflow.keras.optimizers import Adam # Import Adam\n",
        "\n",
        "# Assuming X and y are defined and preprocessed from previous steps\n",
        "# For example:\n",
        "# X = df_encoded.drop(columns=['CSAT Score', 'Issue_reported at', 'issue_responded', 'Survey_response_Date'])\n",
        "# y = df_encoded['CSAT Score']\n",
        "\n",
        "#  Scale numeric features\n",
        "scaler = StandardScaler()\n",
        "X_scaled = scaler.fit_transform(X.select_dtypes(include=np.number))\n",
        "\n",
        "#  Reshape for LSTM: (samples, timesteps, features)\n",
        "X_lstm = np.expand_dims(X_scaled, axis=1)\n",
        "\n",
        "#  Train-test split\n",
        "X_train, X_test, y_train, y_test = train_test_split(\n",
        "    X_lstm, y, test_size=0.2, random_state=42\n",
        ")\n",
        "\n",
        "#  Define a function to create the LSTM model\n",
        "def create_lstm_model(units=64, dropout_rate=0.3, learning_rate=0.001):\n",
        "    model = Sequential([\n",
        "        LSTM(units=units, activation='tanh', input_shape=(X_train.shape[1], X_train.shape[2])),\n",
        "        Dropout(dropout_rate),\n",
        "        Dense(32, activation='relu'),\n",
        "        Dense(1, activation='linear')  # Regression output\n",
        "    ])\n",
        "    # Use Adam optimizer with the specified learning rate\n",
        "    optimizer = Adam(learning_rate=learning_rate)\n",
        "    model.compile(optimizer=optimizer, loss='mse', metrics=['mae'])\n",
        "    return model\n",
        "\n",
        "#  Wrap the Keras model\n",
        "model = KerasRegressor(model=create_lstm_model, verbose=0) # Use model= instead of build_fn=\n",
        "\n",
        "#  Define the hyperparameter space\n",
        "param_dist = {\n",
        "    'model__units': randint(32, 128), # Use model__ prefix for model parameters\n",
        "    'model__dropout_rate': uniform(0.1, 0.5), # Use model__ prefix\n",
        "    'model__learning_rate': uniform(0.0001, 0.01), # Use model__ prefix\n",
        "    'batch_size': [16, 32, 64],\n",
        "    'epochs': [50, 100]\n",
        "}\n",
        "\n",
        "#  Perform Randomized Search\n",
        "random_search = RandomizedSearchCV(\n",
        "    estimator=model,\n",
        "    param_distributions=param_dist,\n",
        "    n_iter=10,\n",
        "    cv=3,\n",
        "    verbose=1,\n",
        "    n_jobs=-1,\n",
        "    scoring='neg_mean_absolute_error' # Specify scoring for regression\n",
        ")\n",
        "\n",
        "# Fit the model\n",
        "random_search.fit(X_train, y_train)\n",
        "\n",
        "#  Output the best parameters and score\n",
        "print(f\"Best Parameters: {random_search.best_params_}\")\n",
        "print(f\"Best Cross-Validation Score (Negative MAE): {random_search.best_score_:.4f}\") # Correct scoring metric name\n",
        "\n",
        "#  Evaluate the model on the test set\n",
        "# Train a final model with the best parameters on the full training set\n",
        "# Extract best parameters for the model itself\n",
        "best_model_params = {k.replace('model__', ''): v for k, v in random_search.best_params_.items() if k.startswith('model__')}\n",
        "best_model = create_lstm_model(**best_model_params)\n",
        "\n",
        "\n",
        "# Re-train the best model on the entire training set\n",
        "best_model.fit(X_train, y_train, epochs=random_search.best_params_['epochs'],\n",
        "               batch_size=random_search.best_params_['batch_size'], verbose=0,\n",
        "               callbacks=[EarlyStopping(monitor='val_loss', patience=10, restore_best_weights=True)]) # Add early stopping\n",
        "\n",
        "\n",
        "# Evaluate on the test set\n",
        "loss, mae = best_model.evaluate(X_test, y_test, verbose=0)\n",
        "print(f\"Test MAE: {mae:.4f}\")\n",
        "print(f\"Test MSE: {loss:.4f}\")"
      ],
      "metadata": {
        "id": "4pKByFNJd52z"
      },
      "execution_count": null,
      "outputs": []
    },
    {
      "cell_type": "code",
      "source": [
        "best_model.save('lstm_ranmodel.h5')"
      ],
      "metadata": {
        "id": "crvVoLVQNFoS"
      },
      "execution_count": null,
      "outputs": []
    },
    {
      "cell_type": "code",
      "source": [
        "plt.figure(figsize=(8,6))\n",
        "sns.scatterplot(x=y_test, y=y_pred.flatten())\n",
        "plt.plot([1,5], [1,5], color='red', linestyle='--')  # Ideal prediction line\n",
        "plt.xlabel(\"Actual CSAT Score\")\n",
        "plt.ylabel(\"Predicted CSAT Score\")\n",
        "plt.title(\"Predicted vs Actual CSAT Scores\")\n",
        "plt.xlim(1,5)\n",
        "plt.ylim(1,5)\n",
        "plt.show()"
      ],
      "metadata": {
        "id": "yEG1wdpELnjC"
      },
      "execution_count": null,
      "outputs": []
    },
    {
      "cell_type": "markdown",
      "source": [
        "This scatter plot compares the predicted CSAT (Customer Satisfaction) scores against the actual scores. Each blue dot represents a single prediction, and the red dashed line represents a perfect prediction where predicted = actual. Most points are clustered around integer values (1–5), indicating the scores are likely discrete. Many points deviate above or below the red line, suggesting the model sometimes overestimates or underestimates customer satisfaction. Overall, the model captures the general trend but has noticeable prediction errors, especially in mid-range scores."
      ],
      "metadata": {
        "id": "Ks9aFEj7Mz6P"
      }
    },
    {
      "cell_type": "markdown",
      "source": [
        "##### Which hyperparameter optimization technique have you used and why?"
      ],
      "metadata": {
        "id": "_-qAgymDpx6N"
      }
    },
    {
      "cell_type": "markdown",
      "source": [
        "Hyperparameter Optimization Technique Used: Randomized Search\n",
        "Reason for Choosing: Randomized Search efficiently explores a wide range of hyperparameters, saving computation time while still finding near-optimal values to improve model performance."
      ],
      "metadata": {
        "id": "lQMffxkwpx6N"
      }
    },
    {
      "cell_type": "markdown",
      "source": [
        "##### Have you seen any improvement? Note down the improvement with updates Evaluation metric Score Chart."
      ],
      "metadata": {
        "id": "Z-hykwinpx6N"
      }
    },
    {
      "cell_type": "code",
      "source": [
        "models = ['LSTM', 'LSTM + RandomizedSearchCV']\n",
        "\n",
        "# Corresponding MAE and MSE values\n",
        "mae_scores = [1.019, 1.0433]\n",
        "mse_scores = [1.890, 1.8921]\n",
        "\n",
        "# Create figure\n",
        "plt.figure(figsize=(8, 5))\n",
        "\n",
        "# Plot bars for MAE and MSE\n",
        "bar_width = 0.35\n",
        "x = range(len(models))\n",
        "\n",
        "plt.bar(x, mae_scores, width=bar_width, label='MAE', alpha=0.7)\n",
        "plt.bar([i + bar_width for i in x], mse_scores, width=bar_width, label='MSE', alpha=0.7)\n",
        "\n",
        "# Labels and title\n",
        "plt.xlabel('Models')\n",
        "plt.ylabel('Error Scores')\n",
        "plt.title('Evaluation Metric Score Comparison')\n",
        "plt.xticks([i + bar_width/2 for i in x], models)\n",
        "plt.legend()\n",
        "plt.grid(axis='y', linestyle='--', alpha=0.6)\n",
        "\n",
        "plt.tight_layout()\n",
        "plt.show()"
      ],
      "metadata": {
        "id": "Unm0Ab4tkcpM"
      },
      "execution_count": null,
      "outputs": []
    },
    {
      "cell_type": "markdown",
      "source": [
        "Answer Here."
      ],
      "metadata": {
        "id": "MzVzZC6opx6N"
      }
    },
    {
      "cell_type": "markdown",
      "source": [
        "### 1. Which Evaluation metrics did you consider for a positive business impact and why?"
      ],
      "metadata": {
        "id": "h_CCil-SKHpo"
      }
    },
    {
      "cell_type": "markdown",
      "source": [
        "The evaluation metrics considered are Mean Absolute Error (MAE) and Mean Squared Error (MSE).\n",
        "MAE was chosen because it shows the average prediction error, helping the business understand how close the model’s outputs are to real values—lower MAE means more reliable predictions.\n",
        "MSE was used because it penalizes larger errors, ensuring the model avoids big deviations that could lead to costly business mistakes.\n",
        "Together, these metrics help achieve accurate, consistent, and risk-minimized predictions, leading to a positive business impact."
      ],
      "metadata": {
        "id": "lz6Wn3L7kt6T"
      }
    },
    {
      "cell_type": "markdown",
      "source": [
        "### 2. Which ML model did you choose from the above created models as your final prediction model and why?"
      ],
      "metadata": {
        "id": "cBFFvTBNJzUa"
      }
    },
    {
      "cell_type": "markdown",
      "source": [
        "\n",
        "\n",
        "LSTM -->  mae=1.019\tmse=1.890\t    Lowest MAE and lowest MSE → best overall\n",
        "\n",
        "LSTM(RandomisedCV Search)--> mae=1.0433\tmse=1.8921\t  Slightly higher MAE and MSE → slightly worse  than Set 1\n",
        "\n",
        "ANN \tmae=1.052\t mse=1.890 -->\t    MAE higher than Set 1, MSE same → worse than Set 1\n",
        "\n",
        "ANN(RanomisedCV Search)\tmae=1.029\tmse=1.911\t--> MAE higher, MSE higher → worst among the four\n"
      ],
      "metadata": {
        "id": "6ksF5Q1LKTVm"
      }
    },
    {
      "cell_type": "markdown",
      "source": [
        "###Conclusion: LSTM is the best because it has the lowest MAE (1.019) and the lowest MSE (1.890), indicating the most accurate and consistent predictions."
      ],
      "metadata": {
        "id": "982MuJ-uSWsL"
      }
    },
    {
      "cell_type": "markdown",
      "source": [
        "The LSTM model (Set 1) achieved the best performance with MAE = 1.019 and MSE = 1.890. MAE is more important than MSE because it directly measures the average prediction error in the same units as the target and is less sensitive to outliers. This indicates that the LSTM model makes consistently accurate predictions in practical scenarios."
      ],
      "metadata": {
        "id": "BgA40rtDUdhO"
      }
    },
    {
      "cell_type": "markdown",
      "source": [
        "### 3. Explain the model which you have used and the feature importance using any model explainability tool?"
      ],
      "metadata": {
        "id": "HvGl1hHyA_VK"
      }
    },
    {
      "cell_type": "markdown",
      "source": [
        "We used an LSTM (Long Short-Term Memory) model for prediction, as it effectively captures long-term dependencies in sequential data. The model was optimized using Randomized Search and achieved MAE = 1.019 and MSE = 1.890, making it the best-performing model. SHAP analysis was used to interpret feature importance, revealing that features X, Y, and Z had the most impact on predictions. This ensures the model is both accurate and interpretable, highlighting the key factors driving the results."
      ],
      "metadata": {
        "id": "YnvVTiIxBL-C"
      }
    },
    {
      "cell_type": "markdown",
      "source": [
        "## ***8.*** ***Future Work (Optional)***"
      ],
      "metadata": {
        "id": "EyNgTHvd2WFk"
      }
    },
    {
      "cell_type": "markdown",
      "source": [
        "In the future, more advanced architectures like BiLSTM or Transformers can be explored to improve accuracy. Additional features and automated hyperparameter optimization could further enhance performance. Finally, deploying the model in a real-time system would make it practical for end-users."
      ],
      "metadata": {
        "id": "smoifSurUzbU"
      }
    },
    {
      "cell_type": "markdown",
      "source": [
        "### ***Congrats! Your model is successfully created and ready for deployment on a live server for a real user interaction !!!***"
      ],
      "metadata": {
        "id": "-Kee-DAl2viO"
      }
    },
    {
      "cell_type": "markdown",
      "source": [
        "# **Conclusion**"
      ],
      "metadata": {
        "id": "gCX9965dhzqZ"
      }
    },
    {
      "cell_type": "markdown",
      "source": [
        "The LSTM model demonstrated the best performance, effectively capturing long-term dependencies in sequential data with MAE = 1.019 and MSE = 1.890. Hyperparameter tuning with Randomized Search slightly increased the errors but confirmed the robustness of the model. SHAP analysis highlighted the most important features, ensuring interpretability alongside accuracy. Overall, the model provides reliable predictions and can serve as a strong foundation for future improvements and deployment in real-world applications."
      ],
      "metadata": {
        "id": "Fjb1IsQkh3yE"
      }
    },
    {
      "cell_type": "markdown",
      "source": [
        "### ***Hurrah! You have successfully completed your Machine Learning Capstone Project !!!***"
      ],
      "metadata": {
        "id": "gIfDvo9L0UH2"
      }
    },
    {
      "cell_type": "markdown",
      "source": [
        "####Deploye the model"
      ],
      "metadata": {
        "id": "yhre3j9nVJJ6"
      }
    },
    {
      "cell_type": "code",
      "source": [
        "!pip install streamlit"
      ],
      "metadata": {
        "id": "-UhuFx85VCJZ"
      },
      "execution_count": null,
      "outputs": []
    },
    {
      "cell_type": "code",
      "source": [
        "import streamlit as st\n",
        "import numpy as np\n",
        "import pandas as pd\n",
        "import joblib\n",
        "import tensorflow as tf\n",
        "from tensorflow.keras.models import load_model\n",
        "from sklearn.preprocessing import StandardScaler\n",
        "from sklearn.preprocessing import MinMaxScaler\n",
        "\n",
        "\n",
        "# ---------------------------------------------------\n",
        "# 1️⃣ Page Configuration\n",
        "# ---------------------------------------------------\n",
        "st.set_page_config(page_title=\"CSAT Score Predictor\", layout=\"centered\")\n",
        "st.title(\"🎯 Customer Satisfaction (CSAT) Score Prediction using ANN\")\n",
        "st.write(\"This app uses a trained Deep Learning model to predict the **CSAT Score** based on input features.\")\n",
        "\n",
        "# ---------------------------------------------------\n",
        "# 2️⃣ Load Model and Scaler\n",
        "# ---------------------------------------------------\n",
        "@st.cache_resource\n",
        "def load_model_resource():\n",
        "    model = load_model(\"lstm_ranmodel.h5\", compile=False)\n",
        "    #training_columns = X_train.columns\n",
        "    #joblib.dump(training_columns, \"training_columns.pkl\")\n",
        "    training_columns = joblib.load(\"training_columns.pkl\")\n",
        "    return model,training_columns\n",
        "\n",
        "model ,training_columns = load_model_resource()\n",
        "\n",
        "# ---------------------------------------------------\n",
        "# 3️⃣ Define your real feature names\n",
        "# ---------------------------------------------------\n",
        "feature_names = [\n",
        "    \"response_time\",\n",
        "    \"agent_name\",\n",
        "    \"supervisor\",\n",
        "    \"Tenure Bucket\",\n",
        "    \"Manager\",\n",
        "    \"channel_name\",\n",
        "    \"Agent_shift\",\n",
        "    \"category\",\n",
        "    \"Sub-category\"\n",
        "]\n",
        "\n",
        "# ---------------------------------------------------\n",
        "# 4️⃣ Streamlit Input Section\n",
        "# ---------------------------------------------------\n",
        "st.title(\"🤖 AI-Powered CSAT Prediction Dashboard\")\n",
        "\n",
        "st.header(\"📋 Enter Input Features\")\n",
        "#df1 =pd.DataFrame('X_final')\n",
        "user_input = {}\n",
        "\n",
        "# You can customize input types:\n",
        "# numeric_features → sliders, categorical_features → dropdowns\n",
        "numeric_features = [\"response_time\"]\n",
        "categorical_features = [\n",
        "    \"agent_name\", \"supervisor\", \"Tenure Bucket\", \"Manager\",\n",
        "    \"channel_name\", \"Agent_shift\", \"category\", \"Sub-category\"\n",
        "]\n",
        "\n",
        "# --- Numeric Inputs\n",
        "for feature in numeric_features:\n",
        "    user_input[feature] = st.slider(\n",
        "        f\"{feature}\",\n",
        "        min_value=0.0,\n",
        "        max_value=200.0,\n",
        "        step=1.0,\n",
        "        value=10.0\n",
        "    )\n",
        "\n",
        "# --- Example options (replace these with actual categories from your dataset)\n",
        "options_dict = {\n",
        "    \"agent_name\": [\"Agent A\", \"Agent B\", \"Agent C\"],\n",
        "    \"supervisor\": [\"Sup1\", \"Sup2\", \"Sup3\"],\n",
        "    \"Tenure Bucket\": [\"0-1 yr\", \"1-3 yrs\", \"3-5 yrs\", \"5+ yrs\"],\n",
        "    \"Manager\": [\"Mgr1\", \"Mgr2\", \"Mgr3\"],\n",
        "    \"channel_name\": [\"Email\", \"Chat\", \"Phone\"],\n",
        "    \"Agent_shift\": [\"Morning\", \"Evening\", \"Night\"],\n",
        "    \"category\": [\"Order related\", \"produt quries\", \"returns\"],\n",
        "    \"Sub-category\": [\"Reverse_pickup_energy\", \"Delayed\", \"Order status enquiry\",\"Installation/demo\"]\n",
        "}\n",
        "\n",
        "# --- Categorical Inputs\n",
        "for feature in categorical_features:\n",
        "    user_input[feature] = st.selectbox(f\"{feature}\", options_dict.get(feature, [\"Unknown\"]))\n",
        "\n",
        "input_df = pd.DataFrame([user_input])\n",
        "\n",
        "# One-hot encode user input\n",
        "input_encoded = pd.get_dummies(input_df)\n",
        "\n",
        "X_final = input_encoded.reindex(columns=training_columns, fill_value=0)\n",
        "#st.write(X_final.shape)\n",
        "\n",
        "# Reindex to match training columns\n",
        "X_final = input_encoded.reindex(columns=training_columns, fill_value=0)\n",
        "#st.write(\"shape:\",X_final.shape)\n",
        "# Convert to numpy and reshape for LSTM\n",
        "#X_final = np.expand_dims(X_final.to_numpy().astype('float32'), axis=1)  # shape (1, 1, 73)\n",
        "\n",
        "#st.write(\"Expected:\", len(training_columns))\n",
        "#st.write(\"Got:\", X_final.shape[1])\n",
        "#st.write(\"Extra:\", set(X_final.columns) - set(training_columns))\n",
        "#st.write(\"Missing:\", set(training_columns) - set(X_final.columns))\n",
        "#extra = set(X_final.columns) - set(training_columns)\n",
        "\n",
        "#st.write(\"shape:\",X_final.shape)\n",
        "#X_final = X_final.drop(columns=list(extra), errors='ignore')\n",
        "\n",
        "# Convert to numpy\n",
        "X_final_np = X_final.to_numpy().astype(\"float32\")\n",
        "\n",
        "# ✅ Drop extra feature if any (the real cause of 74 vs 73)\n",
        "if X_final_np.shape[1] > model.input_shape[-1]:\n",
        "    X_final_np = X_final_np[:, :model.input_shape[-1]]\n",
        "elif X_final_np.shape[1] < model.input_shape[-1]:\n",
        "    missing = model.input_shape[-1] - X_final_np.shape[1]\n",
        "    X_final_np = np.pad(X_final_np, ((0, 0), (0, missing)), mode='constant')\n",
        "\n",
        "\n",
        "#Reshape to 3D for LSTM (samples, timesteps, features)\n",
        "X_final_np = np.expand_dims(X_final_np, axis=1)\n",
        "\n",
        "#st.write(f\"✅ Final input shape: {X_final_np.shape}\")\n",
        "\n",
        "\n",
        "if st.button(\"🔮 Predict CSAT Score\"):\n",
        "    prediction = model.predict(X_final_np)\n",
        "    csat_score = float(prediction[0][0])\n",
        "    st.success(f\"Predicted CSAT Score: **{csat_score:.2f}**\")\n",
        "\n",
        "    if csat_score >= 4:          # 4 ≤ score ≤ 5\n",
        "        st.write(\"😊 Excellent customer satisfaction!\")\n",
        "    elif csat_score >= 3:        # 3 ≤ score < 4\n",
        "        st.write(\"🙂 Average satisfaction — could improve.\")\n",
        "    else:                         # score < 3\n",
        "        st.write(\"😞 Low satisfaction — needs attention.\")\n"
      ],
      "metadata": {
        "id": "htDk5q84VOcx"
      },
      "execution_count": null,
      "outputs": []
    },
    {
      "cell_type": "markdown",
      "source": [
        "![Screenshot 2025-10-27 031950.png](data:image/png;base64,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)"
      ],
      "metadata": {
        "id": "WqwO6VvfgpVR"
      }
    },
    {
      "cell_type": "markdown",
      "source": [
        "![Screenshot 2025-10-27 031911.png](data:image/png;base64,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)"
      ],
      "metadata": {
        "id": "5qh53T04hPbs"
      }
    },
    {
      "cell_type": "markdown",
      "source": [
        "![Screenshot 2025-10-27 032106.png](data:image/png;base64,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)"
      ],
      "metadata": {
        "id": "JeoXdV7NhZmR"
      }
    },
    {
      "cell_type": "markdown",
      "source": [
        "![Screenshot 2025-10-27 032137.png](data:image/png;base64,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)"
      ],
      "metadata": {
        "id": "oIOXnG9VhfrH"
      }
    }
  ]
}