{
 "cells": [
  {
   "cell_type": "markdown",
   "id": "f7d65b60",
   "metadata": {
    "id": "zHkQgpcF9Vnn",
    "papermill": {
     "duration": 0.019953,
     "end_time": "2023-11-21T22:05:37.001244",
     "exception": false,
     "start_time": "2023-11-21T22:05:36.981291",
     "status": "completed"
    },
    "tags": []
   },
   "source": [
    "#UBC Ovarian Cancer Subtype Classification and Outlier Detection (UBC-OCEAN)\n",
    "**Navigating Ovarian Cancer: Unveiling Common Histotypes and Unearthing Rare Variants**"
   ]
  },
  {
   "cell_type": "code",
   "execution_count": 1,
   "id": "b0ce7eff",
   "metadata": {
    "execution": {
     "iopub.execute_input": "2023-11-21T22:05:37.046596Z",
     "iopub.status.busy": "2023-11-21T22:05:37.044880Z",
     "iopub.status.idle": "2023-11-21T22:05:38.244533Z",
     "shell.execute_reply": "2023-11-21T22:05:38.242797Z"
    },
    "id": "YYUe_T0J9KnV",
    "outputId": "086bccc0-e767-4be4-d191-c526da370665",
    "papermill": {
     "duration": 1.22675,
     "end_time": "2023-11-21T22:05:38.249713",
     "exception": false,
     "start_time": "2023-11-21T22:05:37.022963",
     "status": "completed"
    },
    "tags": []
   },
   "outputs": [
    {
     "data": {
      "text/html": [
       "<div>\n",
       "<style scoped>\n",
       "    .dataframe tbody tr th:only-of-type {\n",
       "        vertical-align: middle;\n",
       "    }\n",
       "\n",
       "    .dataframe tbody tr th {\n",
       "        vertical-align: top;\n",
       "    }\n",
       "\n",
       "    .dataframe thead th {\n",
       "        text-align: right;\n",
       "    }\n",
       "</style>\n",
       "<table border=\"1\" class=\"dataframe\">\n",
       "  <thead>\n",
       "    <tr style=\"text-align: right;\">\n",
       "      <th></th>\n",
       "      <th>image_id</th>\n",
       "      <th>label</th>\n",
       "      <th>image_width</th>\n",
       "      <th>image_height</th>\n",
       "      <th>is_tma</th>\n",
       "    </tr>\n",
       "  </thead>\n",
       "  <tbody>\n",
       "    <tr>\n",
       "      <th>0</th>\n",
       "      <td>4</td>\n",
       "      <td>HGSC</td>\n",
       "      <td>23785</td>\n",
       "      <td>20008</td>\n",
       "      <td>False</td>\n",
       "    </tr>\n",
       "    <tr>\n",
       "      <th>1</th>\n",
       "      <td>66</td>\n",
       "      <td>LGSC</td>\n",
       "      <td>48871</td>\n",
       "      <td>48195</td>\n",
       "      <td>False</td>\n",
       "    </tr>\n",
       "    <tr>\n",
       "      <th>2</th>\n",
       "      <td>91</td>\n",
       "      <td>HGSC</td>\n",
       "      <td>3388</td>\n",
       "      <td>3388</td>\n",
       "      <td>True</td>\n",
       "    </tr>\n",
       "    <tr>\n",
       "      <th>3</th>\n",
       "      <td>281</td>\n",
       "      <td>LGSC</td>\n",
       "      <td>42309</td>\n",
       "      <td>15545</td>\n",
       "      <td>False</td>\n",
       "    </tr>\n",
       "    <tr>\n",
       "      <th>4</th>\n",
       "      <td>286</td>\n",
       "      <td>EC</td>\n",
       "      <td>37204</td>\n",
       "      <td>30020</td>\n",
       "      <td>False</td>\n",
       "    </tr>\n",
       "  </tbody>\n",
       "</table>\n",
       "</div>"
      ],
      "text/plain": [
       "   image_id label  image_width  image_height  is_tma\n",
       "0         4  HGSC        23785         20008   False\n",
       "1        66  LGSC        48871         48195   False\n",
       "2        91  HGSC         3388          3388    True\n",
       "3       281  LGSC        42309         15545   False\n",
       "4       286    EC        37204         30020   False"
      ]
     },
     "execution_count": 1,
     "metadata": {},
     "output_type": "execute_result"
    }
   ],
   "source": [
    "import pandas as pd\n",
    "train=pd.read_csv('/kaggle/input/UBC-OCEAN/train.csv')\n",
    "train.head()"
   ]
  },
  {
   "cell_type": "code",
   "execution_count": null,
   "id": "ed9d2b58",
   "metadata": {
    "papermill": {
     "duration": 0.017894,
     "end_time": "2023-11-21T22:05:38.290459",
     "exception": false,
     "start_time": "2023-11-21T22:05:38.272565",
     "status": "completed"
    },
    "tags": []
   },
   "outputs": [],
   "source": []
  },
  {
   "cell_type": "code",
   "execution_count": 2,
   "id": "e1e36486",
   "metadata": {
    "execution": {
     "iopub.execute_input": "2023-11-21T22:05:38.329399Z",
     "iopub.status.busy": "2023-11-21T22:05:38.328961Z",
     "iopub.status.idle": "2023-11-21T22:05:38.339111Z",
     "shell.execute_reply": "2023-11-21T22:05:38.336527Z"
    },
    "id": "PR-CkLRDFA6k",
    "outputId": "a51c7a15-0fc1-44b3-90d9-00cf021a3bc0",
    "papermill": {
     "duration": 0.034422,
     "end_time": "2023-11-21T22:05:38.343143",
     "exception": false,
     "start_time": "2023-11-21T22:05:38.308721",
     "status": "completed"
    },
    "tags": []
   },
   "outputs": [
    {
     "data": {
      "text/plain": [
       "(538, 5)"
      ]
     },
     "execution_count": 2,
     "metadata": {},
     "output_type": "execute_result"
    }
   ],
   "source": [
    "train.shape"
   ]
  },
  {
   "cell_type": "code",
   "execution_count": 3,
   "id": "6504b937",
   "metadata": {
    "execution": {
     "iopub.execute_input": "2023-11-21T22:05:38.390188Z",
     "iopub.status.busy": "2023-11-21T22:05:38.388915Z",
     "iopub.status.idle": "2023-11-21T22:05:38.426955Z",
     "shell.execute_reply": "2023-11-21T22:05:38.424427Z"
    },
    "id": "V70z0Hj6FEJ3",
    "outputId": "d5653dbb-ded7-4873-8df8-347fff4b7741",
    "papermill": {
     "duration": 0.063481,
     "end_time": "2023-11-21T22:05:38.429829",
     "exception": false,
     "start_time": "2023-11-21T22:05:38.366348",
     "status": "completed"
    },
    "tags": []
   },
   "outputs": [
    {
     "name": "stdout",
     "output_type": "stream",
     "text": [
      "<class 'pandas.core.frame.DataFrame'>\n",
      "RangeIndex: 538 entries, 0 to 537\n",
      "Data columns (total 5 columns):\n",
      " #   Column        Non-Null Count  Dtype \n",
      "---  ------        --------------  ----- \n",
      " 0   image_id      538 non-null    int64 \n",
      " 1   label         538 non-null    object\n",
      " 2   image_width   538 non-null    int64 \n",
      " 3   image_height  538 non-null    int64 \n",
      " 4   is_tma        538 non-null    bool  \n",
      "dtypes: bool(1), int64(3), object(1)\n",
      "memory usage: 17.5+ KB\n"
     ]
    }
   ],
   "source": [
    "train.info()"
   ]
  },
  {
   "cell_type": "code",
   "execution_count": 4,
   "id": "ed7851fd",
   "metadata": {
    "execution": {
     "iopub.execute_input": "2023-11-21T22:05:38.469976Z",
     "iopub.status.busy": "2023-11-21T22:05:38.469340Z",
     "iopub.status.idle": "2023-11-21T22:05:38.478700Z",
     "shell.execute_reply": "2023-11-21T22:05:38.477200Z"
    },
    "id": "NOZkEaVMFO4_",
    "outputId": "3df3d42a-cfe5-4ec0-b709-ae1c94e5aa8f",
    "papermill": {
     "duration": 0.032543,
     "end_time": "2023-11-21T22:05:38.481399",
     "exception": false,
     "start_time": "2023-11-21T22:05:38.448856",
     "status": "completed"
    },
    "tags": []
   },
   "outputs": [
    {
     "data": {
      "text/plain": [
       "image_id         int64\n",
       "label           object\n",
       "image_width      int64\n",
       "image_height     int64\n",
       "is_tma            bool\n",
       "dtype: object"
      ]
     },
     "execution_count": 4,
     "metadata": {},
     "output_type": "execute_result"
    }
   ],
   "source": [
    "train.dtypes"
   ]
  },
  {
   "cell_type": "code",
   "execution_count": 5,
   "id": "42c22ecb",
   "metadata": {
    "execution": {
     "iopub.execute_input": "2023-11-21T22:05:38.520744Z",
     "iopub.status.busy": "2023-11-21T22:05:38.520057Z",
     "iopub.status.idle": "2023-11-21T22:05:38.546299Z",
     "shell.execute_reply": "2023-11-21T22:05:38.544991Z"
    },
    "id": "3qYnB8FaFXlf",
    "outputId": "378c1341-fc7b-405b-a36c-f0d39741e713",
    "papermill": {
     "duration": 0.048874,
     "end_time": "2023-11-21T22:05:38.548981",
     "exception": false,
     "start_time": "2023-11-21T22:05:38.500107",
     "status": "completed"
    },
    "tags": []
   },
   "outputs": [
    {
     "data": {
      "text/html": [
       "<div>\n",
       "<style scoped>\n",
       "    .dataframe tbody tr th:only-of-type {\n",
       "        vertical-align: middle;\n",
       "    }\n",
       "\n",
       "    .dataframe tbody tr th {\n",
       "        vertical-align: top;\n",
       "    }\n",
       "\n",
       "    .dataframe thead th {\n",
       "        text-align: right;\n",
       "    }\n",
       "</style>\n",
       "<table border=\"1\" class=\"dataframe\">\n",
       "  <thead>\n",
       "    <tr style=\"text-align: right;\">\n",
       "      <th></th>\n",
       "      <th>image_id</th>\n",
       "      <th>image_width</th>\n",
       "      <th>image_height</th>\n",
       "    </tr>\n",
       "  </thead>\n",
       "  <tbody>\n",
       "    <tr>\n",
       "      <th>count</th>\n",
       "      <td>538.000000</td>\n",
       "      <td>538.000000</td>\n",
       "      <td>538.000000</td>\n",
       "    </tr>\n",
       "    <tr>\n",
       "      <th>mean</th>\n",
       "      <td>32194.340149</td>\n",
       "      <td>48859.533457</td>\n",
       "      <td>29729.460967</td>\n",
       "    </tr>\n",
       "    <tr>\n",
       "      <th>std</th>\n",
       "      <td>18774.950592</td>\n",
       "      <td>20040.989927</td>\n",
       "      <td>10762.899796</td>\n",
       "    </tr>\n",
       "    <tr>\n",
       "      <th>min</th>\n",
       "      <td>4.000000</td>\n",
       "      <td>2964.000000</td>\n",
       "      <td>2964.000000</td>\n",
       "    </tr>\n",
       "    <tr>\n",
       "      <th>25%</th>\n",
       "      <td>15881.250000</td>\n",
       "      <td>34509.000000</td>\n",
       "      <td>22089.500000</td>\n",
       "    </tr>\n",
       "    <tr>\n",
       "      <th>50%</th>\n",
       "      <td>32152.000000</td>\n",
       "      <td>48160.000000</td>\n",
       "      <td>29732.000000</td>\n",
       "    </tr>\n",
       "    <tr>\n",
       "      <th>75%</th>\n",
       "      <td>47892.500000</td>\n",
       "      <td>64143.750000</td>\n",
       "      <td>37880.750000</td>\n",
       "    </tr>\n",
       "    <tr>\n",
       "      <th>max</th>\n",
       "      <td>65533.000000</td>\n",
       "      <td>105763.000000</td>\n",
       "      <td>50155.000000</td>\n",
       "    </tr>\n",
       "  </tbody>\n",
       "</table>\n",
       "</div>"
      ],
      "text/plain": [
       "           image_id    image_width  image_height\n",
       "count    538.000000     538.000000    538.000000\n",
       "mean   32194.340149   48859.533457  29729.460967\n",
       "std    18774.950592   20040.989927  10762.899796\n",
       "min        4.000000    2964.000000   2964.000000\n",
       "25%    15881.250000   34509.000000  22089.500000\n",
       "50%    32152.000000   48160.000000  29732.000000\n",
       "75%    47892.500000   64143.750000  37880.750000\n",
       "max    65533.000000  105763.000000  50155.000000"
      ]
     },
     "execution_count": 5,
     "metadata": {},
     "output_type": "execute_result"
    }
   ],
   "source": [
    "train.describe()"
   ]
  },
  {
   "cell_type": "code",
   "execution_count": 6,
   "id": "39293975",
   "metadata": {
    "execution": {
     "iopub.execute_input": "2023-11-21T22:05:38.589169Z",
     "iopub.status.busy": "2023-11-21T22:05:38.588716Z",
     "iopub.status.idle": "2023-11-21T22:05:38.598679Z",
     "shell.execute_reply": "2023-11-21T22:05:38.597322Z"
    },
    "id": "hVIbLw0IGXMG",
    "outputId": "8a4e45f0-f0a5-4a46-fe47-5b402cc2e73a",
    "papermill": {
     "duration": 0.033059,
     "end_time": "2023-11-21T22:05:38.600904",
     "exception": false,
     "start_time": "2023-11-21T22:05:38.567845",
     "status": "completed"
    },
    "tags": []
   },
   "outputs": [
    {
     "data": {
      "text/plain": [
       "0"
      ]
     },
     "execution_count": 6,
     "metadata": {},
     "output_type": "execute_result"
    }
   ],
   "source": [
    "train.isnull().sum().sum()"
   ]
  },
  {
   "cell_type": "code",
   "execution_count": 7,
   "id": "7f92d54a",
   "metadata": {
    "execution": {
     "iopub.execute_input": "2023-11-21T22:05:38.641039Z",
     "iopub.status.busy": "2023-11-21T22:05:38.640567Z",
     "iopub.status.idle": "2023-11-21T22:05:38.660730Z",
     "shell.execute_reply": "2023-11-21T22:05:38.659363Z"
    },
    "papermill": {
     "duration": 0.043553,
     "end_time": "2023-11-21T22:05:38.663373",
     "exception": false,
     "start_time": "2023-11-21T22:05:38.619820",
     "status": "completed"
    },
    "tags": []
   },
   "outputs": [
    {
     "data": {
      "text/html": [
       "<div>\n",
       "<style scoped>\n",
       "    .dataframe tbody tr th:only-of-type {\n",
       "        vertical-align: middle;\n",
       "    }\n",
       "\n",
       "    .dataframe tbody tr th {\n",
       "        vertical-align: top;\n",
       "    }\n",
       "\n",
       "    .dataframe thead th {\n",
       "        text-align: right;\n",
       "    }\n",
       "</style>\n",
       "<table border=\"1\" class=\"dataframe\">\n",
       "  <thead>\n",
       "    <tr style=\"text-align: right;\">\n",
       "      <th></th>\n",
       "      <th>image_id</th>\n",
       "      <th>label</th>\n",
       "      <th>image_width</th>\n",
       "      <th>image_height</th>\n",
       "    </tr>\n",
       "  </thead>\n",
       "  <tbody>\n",
       "    <tr>\n",
       "      <th>0</th>\n",
       "      <td>4</td>\n",
       "      <td>HGSC</td>\n",
       "      <td>23785</td>\n",
       "      <td>20008</td>\n",
       "    </tr>\n",
       "    <tr>\n",
       "      <th>1</th>\n",
       "      <td>66</td>\n",
       "      <td>LGSC</td>\n",
       "      <td>48871</td>\n",
       "      <td>48195</td>\n",
       "    </tr>\n",
       "    <tr>\n",
       "      <th>2</th>\n",
       "      <td>91</td>\n",
       "      <td>HGSC</td>\n",
       "      <td>3388</td>\n",
       "      <td>3388</td>\n",
       "    </tr>\n",
       "    <tr>\n",
       "      <th>3</th>\n",
       "      <td>281</td>\n",
       "      <td>LGSC</td>\n",
       "      <td>42309</td>\n",
       "      <td>15545</td>\n",
       "    </tr>\n",
       "    <tr>\n",
       "      <th>4</th>\n",
       "      <td>286</td>\n",
       "      <td>EC</td>\n",
       "      <td>37204</td>\n",
       "      <td>30020</td>\n",
       "    </tr>\n",
       "  </tbody>\n",
       "</table>\n",
       "</div>"
      ],
      "text/plain": [
       "   image_id label  image_width  image_height\n",
       "0         4  HGSC        23785         20008\n",
       "1        66  LGSC        48871         48195\n",
       "2        91  HGSC         3388          3388\n",
       "3       281  LGSC        42309         15545\n",
       "4       286    EC        37204         30020"
      ]
     },
     "execution_count": 7,
     "metadata": {},
     "output_type": "execute_result"
    }
   ],
   "source": [
    "train.drop('is_tma',axis=1,inplace=True)\n",
    "train.head()"
   ]
  },
  {
   "cell_type": "code",
   "execution_count": 8,
   "id": "508bd048",
   "metadata": {
    "execution": {
     "iopub.execute_input": "2023-11-21T22:05:38.704444Z",
     "iopub.status.busy": "2023-11-21T22:05:38.704052Z",
     "iopub.status.idle": "2023-11-21T22:05:38.715334Z",
     "shell.execute_reply": "2023-11-21T22:05:38.714046Z"
    },
    "id": "wXgaGrweFoZ7",
    "outputId": "2926d915-aa72-409d-cc8d-670c9badd450",
    "papermill": {
     "duration": 0.03502,
     "end_time": "2023-11-21T22:05:38.717838",
     "exception": false,
     "start_time": "2023-11-21T22:05:38.682818",
     "status": "completed"
    },
    "tags": []
   },
   "outputs": [
    {
     "data": {
      "text/plain": [
       "label\n",
       "HGSC    0.412639\n",
       "EC      0.230483\n",
       "CC      0.184015\n",
       "LGSC    0.087361\n",
       "MC      0.085502\n",
       "Name: proportion, dtype: float64"
      ]
     },
     "execution_count": 8,
     "metadata": {},
     "output_type": "execute_result"
    }
   ],
   "source": [
    "train['label'].value_counts(normalize=True) #label is the target variable"
   ]
  },
  {
   "cell_type": "code",
   "execution_count": 9,
   "id": "2e14e925",
   "metadata": {
    "execution": {
     "iopub.execute_input": "2023-11-21T22:05:38.758279Z",
     "iopub.status.busy": "2023-11-21T22:05:38.757847Z",
     "iopub.status.idle": "2023-11-21T22:05:38.764225Z",
     "shell.execute_reply": "2023-11-21T22:05:38.762838Z"
    },
    "id": "LcEj7bhWBu73",
    "papermill": {
     "duration": 0.029702,
     "end_time": "2023-11-21T22:05:38.766869",
     "exception": false,
     "start_time": "2023-11-21T22:05:38.737167",
     "status": "completed"
    },
    "tags": []
   },
   "outputs": [],
   "source": [
    "#CC (Clear Cell Carcinoma): Clear Cell Carcinoma is a type of ovarian cancer characterized by cells that appear clear under a microscope.\n",
    "#EC (Endometrioid Carcinoma):Endometrioid Carcinoma is a type of ovarian cancer that resembles the tissue lining the uterus (endometrium).\n",
    "#HGSC (High-Grade Serous Carcinoma): High-Grade Serous Carcinoma is an aggressive form of ovarian cancer that is typically diagnosed at an advanced stage.\n",
    "#LGSC (Low-Grade Serous Carcinoma): Low-Grade Serous Carcinoma is a less aggressive form of ovarian cancer, often diagnosed at an earlier stage.\n",
    "#MC (Mucinous Carcinoma): Mucinous Carcinoma is a type of ovarian cancer that arises from cells that produce mucus."
   ]
  },
  {
   "cell_type": "code",
   "execution_count": 10,
   "id": "03913c93",
   "metadata": {
    "execution": {
     "iopub.execute_input": "2023-11-21T22:05:38.877206Z",
     "iopub.status.busy": "2023-11-21T22:05:38.876717Z",
     "iopub.status.idle": "2023-11-21T22:05:40.806941Z",
     "shell.execute_reply": "2023-11-21T22:05:40.805789Z"
    },
    "papermill": {
     "duration": 1.955017,
     "end_time": "2023-11-21T22:05:40.810574",
     "exception": false,
     "start_time": "2023-11-21T22:05:38.855557",
     "status": "completed"
    },
    "tags": []
   },
   "outputs": [
    {
     "data": {
      "text/plain": [
       "([<matplotlib.patches.Wedge at 0x7bbf02f227d0>,\n",
       "  <matplotlib.patches.Wedge at 0x7bbf02f22710>,\n",
       "  <matplotlib.patches.Wedge at 0x7bbf02f230a0>,\n",
       "  <matplotlib.patches.Wedge at 0x7bbf02f23520>,\n",
       "  <matplotlib.patches.Wedge at 0x7bbf0305ab60>],\n",
       " [Text(0.2981207899754956, 1.0588314287857092, 'MC'),\n",
       "  Text(-1.0831643577013341, -0.19171586842370836, 'EC'),\n",
       "  Text(-0.10262375040094325, -1.0952024314498416, 'LGSC'),\n",
       "  Text(0.7571124488572663, -0.7979854257975852, 'HGSC'),\n",
       "  Text(1.0605542357588946, -0.29193272001244946, 'CC')])"
      ]
     },
     "execution_count": 10,
     "metadata": {},
     "output_type": "execute_result"
    },
    {
     "data": {
      "image/png": "[encoded data removed]",
      "text/plain": [
       "<Figure size 640x480 with 1 Axes>"
      ]
     },
     "metadata": {},
     "output_type": "display_data"
    }
   ],
   "source": [
    "import seaborn as sns\n",
    "import matplotlib.pyplot as plt\n",
    "plt.pie(x=train['label'].value_counts(),labels={'HGSC','EC','CC','LGSC','MC'})"
   ]
  },
  {
   "cell_type": "code",
   "execution_count": 11,
   "id": "b9b346b6",
   "metadata": {
    "execution": {
     "iopub.execute_input": "2023-11-21T22:05:40.871863Z",
     "iopub.status.busy": "2023-11-21T22:05:40.871359Z",
     "iopub.status.idle": "2023-11-21T22:05:40.890925Z",
     "shell.execute_reply": "2023-11-21T22:05:40.889783Z"
    },
    "id": "Xu236fT8H9iC",
    "outputId": "74c50822-4a97-4690-f56c-1cdaca838722",
    "papermill": {
     "duration": 0.053003,
     "end_time": "2023-11-21T22:05:40.893557",
     "exception": false,
     "start_time": "2023-11-21T22:05:40.840554",
     "status": "completed"
    },
    "tags": []
   },
   "outputs": [
    {
     "data": {
      "text/html": [
       "<div>\n",
       "<style scoped>\n",
       "    .dataframe tbody tr th:only-of-type {\n",
       "        vertical-align: middle;\n",
       "    }\n",
       "\n",
       "    .dataframe tbody tr th {\n",
       "        vertical-align: top;\n",
       "    }\n",
       "\n",
       "    .dataframe thead th {\n",
       "        text-align: right;\n",
       "    }\n",
       "</style>\n",
       "<table border=\"1\" class=\"dataframe\">\n",
       "  <thead>\n",
       "    <tr style=\"text-align: right;\">\n",
       "      <th></th>\n",
       "      <th>image_id</th>\n",
       "      <th>label</th>\n",
       "    </tr>\n",
       "  </thead>\n",
       "  <tbody>\n",
       "    <tr>\n",
       "      <th>0</th>\n",
       "      <td>41</td>\n",
       "      <td>HGSC</td>\n",
       "    </tr>\n",
       "  </tbody>\n",
       "</table>\n",
       "</div>"
      ],
      "text/plain": [
       "   image_id label\n",
       "0        41  HGSC"
      ]
     },
     "execution_count": 11,
     "metadata": {},
     "output_type": "execute_result"
    }
   ],
   "source": [
    "sample_submission_url='/kaggle/input/UBC-OCEAN/sample_submission.csv'\n",
    "sample_submission_df=pd.read_csv(sample_submission_url)\n",
    "sample_submission_df\n",
    "#sample_submission_df.shape"
   ]
  },
  {
   "cell_type": "code",
   "execution_count": 12,
   "id": "b4cd2533",
   "metadata": {
    "execution": {
     "iopub.execute_input": "2023-11-21T22:05:40.940897Z",
     "iopub.status.busy": "2023-11-21T22:05:40.940273Z",
     "iopub.status.idle": "2023-11-21T22:05:40.949810Z",
     "shell.execute_reply": "2023-11-21T22:05:40.948481Z"
    },
    "id": "byU4CrMhHi-0",
    "papermill": {
     "duration": 0.037974,
     "end_time": "2023-11-21T22:05:40.953637",
     "exception": false,
     "start_time": "2023-11-21T22:05:40.915663",
     "status": "completed"
    },
    "tags": []
   },
   "outputs": [
    {
     "data": {
      "text/plain": [
       "(538, 4)"
      ]
     },
     "execution_count": 12,
     "metadata": {},
     "output_type": "execute_result"
    }
   ],
   "source": [
    "train.shape"
   ]
  },
  {
   "cell_type": "code",
   "execution_count": 13,
   "id": "8bfd33a7",
   "metadata": {
    "execution": {
     "iopub.execute_input": "2023-11-21T22:05:41.004932Z",
     "iopub.status.busy": "2023-11-21T22:05:41.003957Z",
     "iopub.status.idle": "2023-11-21T22:05:41.021209Z",
     "shell.execute_reply": "2023-11-21T22:05:41.019804Z"
    },
    "papermill": {
     "duration": 0.044274,
     "end_time": "2023-11-21T22:05:41.023934",
     "exception": false,
     "start_time": "2023-11-21T22:05:40.979660",
     "status": "completed"
    },
    "tags": []
   },
   "outputs": [
    {
     "data": {
      "text/html": [
       "<div>\n",
       "<style scoped>\n",
       "    .dataframe tbody tr th:only-of-type {\n",
       "        vertical-align: middle;\n",
       "    }\n",
       "\n",
       "    .dataframe tbody tr th {\n",
       "        vertical-align: top;\n",
       "    }\n",
       "\n",
       "    .dataframe thead th {\n",
       "        text-align: right;\n",
       "    }\n",
       "</style>\n",
       "<table border=\"1\" class=\"dataframe\">\n",
       "  <thead>\n",
       "    <tr style=\"text-align: right;\">\n",
       "      <th></th>\n",
       "      <th>image_id</th>\n",
       "      <th>label</th>\n",
       "      <th>image_width</th>\n",
       "      <th>image_height</th>\n",
       "    </tr>\n",
       "  </thead>\n",
       "  <tbody>\n",
       "    <tr>\n",
       "      <th>0</th>\n",
       "      <td>4</td>\n",
       "      <td>HGSC</td>\n",
       "      <td>23785</td>\n",
       "      <td>20008</td>\n",
       "    </tr>\n",
       "    <tr>\n",
       "      <th>1</th>\n",
       "      <td>66</td>\n",
       "      <td>LGSC</td>\n",
       "      <td>48871</td>\n",
       "      <td>48195</td>\n",
       "    </tr>\n",
       "    <tr>\n",
       "      <th>2</th>\n",
       "      <td>91</td>\n",
       "      <td>HGSC</td>\n",
       "      <td>3388</td>\n",
       "      <td>3388</td>\n",
       "    </tr>\n",
       "    <tr>\n",
       "      <th>3</th>\n",
       "      <td>281</td>\n",
       "      <td>LGSC</td>\n",
       "      <td>42309</td>\n",
       "      <td>15545</td>\n",
       "    </tr>\n",
       "    <tr>\n",
       "      <th>4</th>\n",
       "      <td>286</td>\n",
       "      <td>EC</td>\n",
       "      <td>37204</td>\n",
       "      <td>30020</td>\n",
       "    </tr>\n",
       "    <tr>\n",
       "      <th>...</th>\n",
       "      <td>...</td>\n",
       "      <td>...</td>\n",
       "      <td>...</td>\n",
       "      <td>...</td>\n",
       "    </tr>\n",
       "    <tr>\n",
       "      <th>533</th>\n",
       "      <td>65022</td>\n",
       "      <td>LGSC</td>\n",
       "      <td>53355</td>\n",
       "      <td>46675</td>\n",
       "    </tr>\n",
       "    <tr>\n",
       "      <th>534</th>\n",
       "      <td>65094</td>\n",
       "      <td>MC</td>\n",
       "      <td>55042</td>\n",
       "      <td>45080</td>\n",
       "    </tr>\n",
       "    <tr>\n",
       "      <th>535</th>\n",
       "      <td>65300</td>\n",
       "      <td>HGSC</td>\n",
       "      <td>75860</td>\n",
       "      <td>27503</td>\n",
       "    </tr>\n",
       "    <tr>\n",
       "      <th>536</th>\n",
       "      <td>65371</td>\n",
       "      <td>HGSC</td>\n",
       "      <td>42551</td>\n",
       "      <td>41800</td>\n",
       "    </tr>\n",
       "    <tr>\n",
       "      <th>537</th>\n",
       "      <td>65533</td>\n",
       "      <td>HGSC</td>\n",
       "      <td>45190</td>\n",
       "      <td>33980</td>\n",
       "    </tr>\n",
       "  </tbody>\n",
       "</table>\n",
       "<p>538 rows × 4 columns</p>\n",
       "</div>"
      ],
      "text/plain": [
       "     image_id label  image_width  image_height\n",
       "0           4  HGSC        23785         20008\n",
       "1          66  LGSC        48871         48195\n",
       "2          91  HGSC         3388          3388\n",
       "3         281  LGSC        42309         15545\n",
       "4         286    EC        37204         30020\n",
       "..        ...   ...          ...           ...\n",
       "533     65022  LGSC        53355         46675\n",
       "534     65094    MC        55042         45080\n",
       "535     65300  HGSC        75860         27503\n",
       "536     65371  HGSC        42551         41800\n",
       "537     65533  HGSC        45190         33980\n",
       "\n",
       "[538 rows x 4 columns]"
      ]
     },
     "execution_count": 13,
     "metadata": {},
     "output_type": "execute_result"
    }
   ],
   "source": [
    "train"
   ]
  },
  {
   "cell_type": "code",
   "execution_count": 14,
   "id": "147754e1",
   "metadata": {
    "execution": {
     "iopub.execute_input": "2023-11-21T22:05:41.073133Z",
     "iopub.status.busy": "2023-11-21T22:05:41.071750Z",
     "iopub.status.idle": "2023-11-21T22:05:41.077792Z",
     "shell.execute_reply": "2023-11-21T22:05:41.076732Z"
    },
    "id": "CEnadhepc3kT",
    "papermill": {
     "duration": 0.032716,
     "end_time": "2023-11-21T22:05:41.080541",
     "exception": false,
     "start_time": "2023-11-21T22:05:41.047825",
     "status": "completed"
    },
    "tags": []
   },
   "outputs": [],
   "source": [
    "traget='label'\n"
   ]
  },
  {
   "cell_type": "code",
   "execution_count": 15,
   "id": "80576b95",
   "metadata": {
    "execution": {
     "iopub.execute_input": "2023-11-21T22:05:41.129047Z",
     "iopub.status.busy": "2023-11-21T22:05:41.127546Z",
     "iopub.status.idle": "2023-11-21T22:05:41.425248Z",
     "shell.execute_reply": "2023-11-21T22:05:41.423759Z"
    },
    "id": "alJVMxDt1A7C",
    "outputId": "ef21362a-2602-4dc0-815a-1ac80b5ebc4b",
    "papermill": {
     "duration": 0.325197,
     "end_time": "2023-11-21T22:05:41.428300",
     "exception": false,
     "start_time": "2023-11-21T22:05:41.103103",
     "status": "completed"
    },
    "tags": []
   },
   "outputs": [
    {
     "data": {
      "text/plain": [
       "Text(0.5, 1.0, 'Distribution of Test')"
      ]
     },
     "execution_count": 15,
     "metadata": {},
     "output_type": "execute_result"
    },
    {
     "data": {
      "image/png": "[encoded data removed]",
      "text/plain": [
       "<Figure size 640x480 with 1 Axes>"
      ]
     },
     "metadata": {},
     "output_type": "display_data"
    }
   ],
   "source": [
    "import matplotlib.pyplot as plt\n",
    "\n",
    "plt.hist(train['label'])\n",
    "\n",
    "plt.ylabel('Frequency')\n",
    "plt.title(r'Distribution of Test')"
   ]
  },
  {
   "cell_type": "code",
   "execution_count": 16,
   "id": "2005642a",
   "metadata": {
    "execution": {
     "iopub.execute_input": "2023-11-21T22:05:41.476960Z",
     "iopub.status.busy": "2023-11-21T22:05:41.476499Z",
     "iopub.status.idle": "2023-11-21T22:05:41.771037Z",
     "shell.execute_reply": "2023-11-21T22:05:41.769037Z"
    },
    "id": "ssbZkkkwYMmo",
    "outputId": "3207f484-2850-447e-cd0b-1cff65b5b0ce",
    "papermill": {
     "duration": 0.324256,
     "end_time": "2023-11-21T22:05:41.775020",
     "exception": false,
     "start_time": "2023-11-21T22:05:41.450764",
     "status": "completed"
    },
    "tags": []
   },
   "outputs": [
    {
     "data": {
      "text/plain": [
       "Text(0.5, 1.0, 'Box Plot of All Columns')"
      ]
     },
     "execution_count": 16,
     "metadata": {},
     "output_type": "execute_result"
    },
    {
     "data": {
      "image/png": "[encoded data removed]",
      "text/plain": [
       "<Figure size 640x480 with 1 Axes>"
      ]
     },
     "metadata": {},
     "output_type": "display_data"
    }
   ],
   "source": [
    "import seaborn  as sns\n",
    "import matplotlib.pyplot as plt\n",
    "outlin=['image_id', 'label', 'image_width','image_height']\n",
    "\n",
    "sns.boxplot(data=train[outlin], orient='h')  # 'orient' is set to 'h' for horizontal box plots\n",
    "\n",
    "plt.xlabel('Values')\n",
    "plt.title('Box Plot of All Columns')"
   ]
  },
  {
   "cell_type": "code",
   "execution_count": 17,
   "id": "617f6c49",
   "metadata": {
    "execution": {
     "iopub.execute_input": "2023-11-21T22:05:41.828774Z",
     "iopub.status.busy": "2023-11-21T22:05:41.827787Z",
     "iopub.status.idle": "2023-11-21T22:05:41.835050Z",
     "shell.execute_reply": "2023-11-21T22:05:41.834085Z"
    },
    "id": "TJBJNuXENU8k",
    "papermill": {
     "duration": 0.037389,
     "end_time": "2023-11-21T22:05:41.837822",
     "exception": false,
     "start_time": "2023-11-21T22:05:41.800433",
     "status": "completed"
    },
    "tags": []
   },
   "outputs": [],
   "source": [
    "#split X,y\n",
    "X=train.drop('label',axis=1)\n",
    "y=train['label']"
   ]
  },
  {
   "cell_type": "code",
   "execution_count": 18,
   "id": "84895b1f",
   "metadata": {
    "execution": {
     "iopub.execute_input": "2023-11-21T22:05:41.887412Z",
     "iopub.status.busy": "2023-11-21T22:05:41.886060Z",
     "iopub.status.idle": "2023-11-21T22:05:41.894752Z",
     "shell.execute_reply": "2023-11-21T22:05:41.893437Z"
    },
    "id": "4K9gtM2VNf0K",
    "outputId": "0de0b9b7-0e09-471e-b1dc-6ee85082b84c",
    "papermill": {
     "duration": 0.036664,
     "end_time": "2023-11-21T22:05:41.897545",
     "exception": false,
     "start_time": "2023-11-21T22:05:41.860881",
     "status": "completed"
    },
    "tags": []
   },
   "outputs": [
    {
     "data": {
      "text/plain": [
       "((538, 3), (538,))"
      ]
     },
     "execution_count": 18,
     "metadata": {},
     "output_type": "execute_result"
    }
   ],
   "source": [
    "X.shape,y.shape"
   ]
  },
  {
   "cell_type": "code",
   "execution_count": 19,
   "id": "e876e057",
   "metadata": {
    "execution": {
     "iopub.execute_input": "2023-11-21T22:05:41.944849Z",
     "iopub.status.busy": "2023-11-21T22:05:41.944443Z",
     "iopub.status.idle": "2023-11-21T22:05:41.956005Z",
     "shell.execute_reply": "2023-11-21T22:05:41.955085Z"
    },
    "id": "CRqIvC9RNpMA",
    "outputId": "3bdfe914-b576-437e-9e92-b0e064d07746",
    "papermill": {
     "duration": 0.037917,
     "end_time": "2023-11-21T22:05:41.958334",
     "exception": false,
     "start_time": "2023-11-21T22:05:41.920417",
     "status": "completed"
    },
    "tags": []
   },
   "outputs": [
    {
     "data": {
      "text/html": [
       "<div>\n",
       "<style scoped>\n",
       "    .dataframe tbody tr th:only-of-type {\n",
       "        vertical-align: middle;\n",
       "    }\n",
       "\n",
       "    .dataframe tbody tr th {\n",
       "        vertical-align: top;\n",
       "    }\n",
       "\n",
       "    .dataframe thead th {\n",
       "        text-align: right;\n",
       "    }\n",
       "</style>\n",
       "<table border=\"1\" class=\"dataframe\">\n",
       "  <thead>\n",
       "    <tr style=\"text-align: right;\">\n",
       "      <th></th>\n",
       "      <th>image_id</th>\n",
       "      <th>image_width</th>\n",
       "      <th>image_height</th>\n",
       "    </tr>\n",
       "  </thead>\n",
       "  <tbody>\n",
       "    <tr>\n",
       "      <th>0</th>\n",
       "      <td>4</td>\n",
       "      <td>23785</td>\n",
       "      <td>20008</td>\n",
       "    </tr>\n",
       "    <tr>\n",
       "      <th>1</th>\n",
       "      <td>66</td>\n",
       "      <td>48871</td>\n",
       "      <td>48195</td>\n",
       "    </tr>\n",
       "    <tr>\n",
       "      <th>2</th>\n",
       "      <td>91</td>\n",
       "      <td>3388</td>\n",
       "      <td>3388</td>\n",
       "    </tr>\n",
       "    <tr>\n",
       "      <th>3</th>\n",
       "      <td>281</td>\n",
       "      <td>42309</td>\n",
       "      <td>15545</td>\n",
       "    </tr>\n",
       "    <tr>\n",
       "      <th>4</th>\n",
       "      <td>286</td>\n",
       "      <td>37204</td>\n",
       "      <td>30020</td>\n",
       "    </tr>\n",
       "  </tbody>\n",
       "</table>\n",
       "</div>"
      ],
      "text/plain": [
       "   image_id  image_width  image_height\n",
       "0         4        23785         20008\n",
       "1        66        48871         48195\n",
       "2        91         3388          3388\n",
       "3       281        42309         15545\n",
       "4       286        37204         30020"
      ]
     },
     "execution_count": 19,
     "metadata": {},
     "output_type": "execute_result"
    }
   ],
   "source": [
    "X.head()"
   ]
  },
  {
   "cell_type": "code",
   "execution_count": 20,
   "id": "0a25d365",
   "metadata": {
    "execution": {
     "iopub.execute_input": "2023-11-21T22:05:42.011310Z",
     "iopub.status.busy": "2023-11-21T22:05:42.010454Z",
     "iopub.status.idle": "2023-11-21T22:05:42.019608Z",
     "shell.execute_reply": "2023-11-21T22:05:42.018197Z"
    },
    "id": "8sj0teWCNuJE",
    "papermill": {
     "duration": 0.039622,
     "end_time": "2023-11-21T22:05:42.022184",
     "exception": false,
     "start_time": "2023-11-21T22:05:41.982562",
     "status": "completed"
    },
    "tags": []
   },
   "outputs": [
    {
     "data": {
      "text/plain": [
       "0    HGSC\n",
       "1    LGSC\n",
       "2    HGSC\n",
       "3    LGSC\n",
       "4      EC\n",
       "Name: label, dtype: object"
      ]
     },
     "execution_count": 20,
     "metadata": {},
     "output_type": "execute_result"
    }
   ],
   "source": [
    "y.head()"
   ]
  },
  {
   "cell_type": "code",
   "execution_count": 21,
   "id": "648b01b9",
   "metadata": {
    "execution": {
     "iopub.execute_input": "2023-11-21T22:05:42.071433Z",
     "iopub.status.busy": "2023-11-21T22:05:42.071029Z",
     "iopub.status.idle": "2023-11-21T22:05:42.359952Z",
     "shell.execute_reply": "2023-11-21T22:05:42.359001Z"
    },
    "id": "74o-VyqfOHPV",
    "papermill": {
     "duration": 0.316557,
     "end_time": "2023-11-21T22:05:42.362841",
     "exception": false,
     "start_time": "2023-11-21T22:05:42.046284",
     "status": "completed"
    },
    "tags": []
   },
   "outputs": [],
   "source": [
    "from sklearn.model_selection import train_test_split\n",
    "X_train, X_val, y_train, y_val = train_test_split(\n",
    "    X, y, test_size=0.2, random_state=1)"
   ]
  },
  {
   "cell_type": "code",
   "execution_count": 22,
   "id": "9194f730",
   "metadata": {
    "execution": {
     "iopub.execute_input": "2023-11-21T22:05:42.413280Z",
     "iopub.status.busy": "2023-11-21T22:05:42.412150Z",
     "iopub.status.idle": "2023-11-21T22:05:42.419114Z",
     "shell.execute_reply": "2023-11-21T22:05:42.418249Z"
    },
    "id": "wmLe-OjMOoPX",
    "outputId": "58a918e8-2cae-47f2-8f3e-43d4142bc6ed",
    "papermill": {
     "duration": 0.035187,
     "end_time": "2023-11-21T22:05:42.421429",
     "exception": false,
     "start_time": "2023-11-21T22:05:42.386242",
     "status": "completed"
    },
    "tags": []
   },
   "outputs": [
    {
     "data": {
      "text/plain": [
       "((430, 3), (430,), (108, 3), (108,))"
      ]
     },
     "execution_count": 22,
     "metadata": {},
     "output_type": "execute_result"
    }
   ],
   "source": [
    "X_train.shape,y_train.shape,X_val.shape,y_val.shape"
   ]
  },
  {
   "cell_type": "code",
   "execution_count": 23,
   "id": "5c942977",
   "metadata": {
    "execution": {
     "iopub.execute_input": "2023-11-21T22:05:42.471224Z",
     "iopub.status.busy": "2023-11-21T22:05:42.470026Z",
     "iopub.status.idle": "2023-11-21T22:05:42.480807Z",
     "shell.execute_reply": "2023-11-21T22:05:42.479949Z"
    },
    "id": "fAGMh9wgO3vO",
    "outputId": "9f66ac52-1cee-4183-a0c8-43af20bbf3c6",
    "papermill": {
     "duration": 0.037952,
     "end_time": "2023-11-21T22:05:42.483196",
     "exception": false,
     "start_time": "2023-11-21T22:05:42.445244",
     "status": "completed"
    },
    "tags": []
   },
   "outputs": [
    {
     "data": {
      "text/html": [
       "<div>\n",
       "<style scoped>\n",
       "    .dataframe tbody tr th:only-of-type {\n",
       "        vertical-align: middle;\n",
       "    }\n",
       "\n",
       "    .dataframe tbody tr th {\n",
       "        vertical-align: top;\n",
       "    }\n",
       "\n",
       "    .dataframe thead th {\n",
       "        text-align: right;\n",
       "    }\n",
       "</style>\n",
       "<table border=\"1\" class=\"dataframe\">\n",
       "  <thead>\n",
       "    <tr style=\"text-align: right;\">\n",
       "      <th></th>\n",
       "      <th>image_id</th>\n",
       "      <th>image_width</th>\n",
       "      <th>image_height</th>\n",
       "    </tr>\n",
       "  </thead>\n",
       "  <tbody>\n",
       "    <tr>\n",
       "      <th>85</th>\n",
       "      <td>9341</td>\n",
       "      <td>69320</td>\n",
       "      <td>36671</td>\n",
       "    </tr>\n",
       "    <tr>\n",
       "      <th>515</th>\n",
       "      <td>62641</td>\n",
       "      <td>16662</td>\n",
       "      <td>32055</td>\n",
       "    </tr>\n",
       "    <tr>\n",
       "      <th>146</th>\n",
       "      <td>17365</td>\n",
       "      <td>43902</td>\n",
       "      <td>26689</td>\n",
       "    </tr>\n",
       "    <tr>\n",
       "      <th>522</th>\n",
       "      <td>63367</td>\n",
       "      <td>62905</td>\n",
       "      <td>24783</td>\n",
       "    </tr>\n",
       "    <tr>\n",
       "      <th>223</th>\n",
       "      <td>27747</td>\n",
       "      <td>47487</td>\n",
       "      <td>28122</td>\n",
       "    </tr>\n",
       "  </tbody>\n",
       "</table>\n",
       "</div>"
      ],
      "text/plain": [
       "     image_id  image_width  image_height\n",
       "85       9341        69320         36671\n",
       "515     62641        16662         32055\n",
       "146     17365        43902         26689\n",
       "522     63367        62905         24783\n",
       "223     27747        47487         28122"
      ]
     },
     "execution_count": 23,
     "metadata": {},
     "output_type": "execute_result"
    }
   ],
   "source": [
    "X_train.head()"
   ]
  },
  {
   "cell_type": "code",
   "execution_count": 24,
   "id": "65de27a9",
   "metadata": {
    "execution": {
     "iopub.execute_input": "2023-11-21T22:05:42.533567Z",
     "iopub.status.busy": "2023-11-21T22:05:42.533112Z",
     "iopub.status.idle": "2023-11-21T22:05:42.546042Z",
     "shell.execute_reply": "2023-11-21T22:05:42.544550Z"
    },
    "id": "idILq3-8PArj",
    "outputId": "9b7692ae-c7e8-4952-db90-18563d3e19a8",
    "papermill": {
     "duration": 0.041955,
     "end_time": "2023-11-21T22:05:42.548695",
     "exception": false,
     "start_time": "2023-11-21T22:05:42.506740",
     "status": "completed"
    },
    "tags": []
   },
   "outputs": [
    {
     "data": {
      "text/html": [
       "<div>\n",
       "<style scoped>\n",
       "    .dataframe tbody tr th:only-of-type {\n",
       "        vertical-align: middle;\n",
       "    }\n",
       "\n",
       "    .dataframe tbody tr th {\n",
       "        vertical-align: top;\n",
       "    }\n",
       "\n",
       "    .dataframe thead th {\n",
       "        text-align: right;\n",
       "    }\n",
       "</style>\n",
       "<table border=\"1\" class=\"dataframe\">\n",
       "  <thead>\n",
       "    <tr style=\"text-align: right;\">\n",
       "      <th></th>\n",
       "      <th>image_id</th>\n",
       "      <th>image_width</th>\n",
       "      <th>image_height</th>\n",
       "    </tr>\n",
       "  </thead>\n",
       "  <tbody>\n",
       "    <tr>\n",
       "      <th>159</th>\n",
       "      <td>18813</td>\n",
       "      <td>54671</td>\n",
       "      <td>32443</td>\n",
       "    </tr>\n",
       "    <tr>\n",
       "      <th>397</th>\n",
       "      <td>46815</td>\n",
       "      <td>40640</td>\n",
       "      <td>45411</td>\n",
       "    </tr>\n",
       "    <tr>\n",
       "      <th>323</th>\n",
       "      <td>38669</td>\n",
       "      <td>41105</td>\n",
       "      <td>27185</td>\n",
       "    </tr>\n",
       "    <tr>\n",
       "      <th>400</th>\n",
       "      <td>47105</td>\n",
       "      <td>39020</td>\n",
       "      <td>39353</td>\n",
       "    </tr>\n",
       "    <tr>\n",
       "      <th>237</th>\n",
       "      <td>29147</td>\n",
       "      <td>38610</td>\n",
       "      <td>26181</td>\n",
       "    </tr>\n",
       "  </tbody>\n",
       "</table>\n",
       "</div>"
      ],
      "text/plain": [
       "     image_id  image_width  image_height\n",
       "159     18813        54671         32443\n",
       "397     46815        40640         45411\n",
       "323     38669        41105         27185\n",
       "400     47105        39020         39353\n",
       "237     29147        38610         26181"
      ]
     },
     "execution_count": 24,
     "metadata": {},
     "output_type": "execute_result"
    }
   ],
   "source": [
    "X_val.head()"
   ]
  },
  {
   "cell_type": "code",
   "execution_count": 25,
   "id": "9d92b8e8",
   "metadata": {
    "execution": {
     "iopub.execute_input": "2023-11-21T22:05:42.598798Z",
     "iopub.status.busy": "2023-11-21T22:05:42.598111Z",
     "iopub.status.idle": "2023-11-21T22:05:42.617188Z",
     "shell.execute_reply": "2023-11-21T22:05:42.615540Z"
    },
    "id": "Pro3MYuTSEkn",
    "outputId": "04e1aa5f-b63a-49ef-b6fc-505b527561eb",
    "papermill": {
     "duration": 0.047181,
     "end_time": "2023-11-21T22:05:42.620313",
     "exception": false,
     "start_time": "2023-11-21T22:05:42.573132",
     "status": "completed"
    },
    "tags": []
   },
   "outputs": [
    {
     "data": {
      "text/html": [
       "<div>\n",
       "<style scoped>\n",
       "    .dataframe tbody tr th:only-of-type {\n",
       "        vertical-align: middle;\n",
       "    }\n",
       "\n",
       "    .dataframe tbody tr th {\n",
       "        vertical-align: top;\n",
       "    }\n",
       "\n",
       "    .dataframe thead th {\n",
       "        text-align: right;\n",
       "    }\n",
       "</style>\n",
       "<table border=\"1\" class=\"dataframe\">\n",
       "  <thead>\n",
       "    <tr style=\"text-align: right;\">\n",
       "      <th></th>\n",
       "      <th>image_id</th>\n",
       "      <th>image_width</th>\n",
       "      <th>image_height</th>\n",
       "    </tr>\n",
       "  </thead>\n",
       "  <tbody>\n",
       "    <tr>\n",
       "      <th>0</th>\n",
       "      <td>41</td>\n",
       "      <td>28469</td>\n",
       "      <td>16987</td>\n",
       "    </tr>\n",
       "  </tbody>\n",
       "</table>\n",
       "</div>"
      ],
      "text/plain": [
       "   image_id  image_width  image_height\n",
       "0        41        28469         16987"
      ]
     },
     "execution_count": 25,
     "metadata": {},
     "output_type": "execute_result"
    }
   ],
   "source": [
    "#test data\n",
    "test=pd.read_csv('/kaggle/input/UBC-OCEAN/test.csv')\n",
    "test.head()"
   ]
  },
  {
   "cell_type": "code",
   "execution_count": 26,
   "id": "b2d4ab93",
   "metadata": {
    "execution": {
     "iopub.execute_input": "2023-11-21T22:05:42.669621Z",
     "iopub.status.busy": "2023-11-21T22:05:42.669191Z",
     "iopub.status.idle": "2023-11-21T22:05:42.677023Z",
     "shell.execute_reply": "2023-11-21T22:05:42.675835Z"
    },
    "id": "Rt26ofN_437F",
    "outputId": "9dd6f105-09a5-467d-f5b0-a7651ce19c18",
    "papermill": {
     "duration": 0.035624,
     "end_time": "2023-11-21T22:05:42.679659",
     "exception": false,
     "start_time": "2023-11-21T22:05:42.644035",
     "status": "completed"
    },
    "tags": []
   },
   "outputs": [
    {
     "data": {
      "text/plain": [
       "(1, 3)"
      ]
     },
     "execution_count": 26,
     "metadata": {},
     "output_type": "execute_result"
    }
   ],
   "source": [
    "test.shape"
   ]
  },
  {
   "cell_type": "code",
   "execution_count": 27,
   "id": "610989c4",
   "metadata": {
    "execution": {
     "iopub.execute_input": "2023-11-21T22:05:42.731480Z",
     "iopub.status.busy": "2023-11-21T22:05:42.730194Z",
     "iopub.status.idle": "2023-11-21T22:05:42.738136Z",
     "shell.execute_reply": "2023-11-21T22:05:42.736901Z"
    },
    "id": "sZ5z6jqc4ri9",
    "outputId": "5f452a50-7922-4738-801b-160fb44d8490",
    "papermill": {
     "duration": 0.036785,
     "end_time": "2023-11-21T22:05:42.740739",
     "exception": false,
     "start_time": "2023-11-21T22:05:42.703954",
     "status": "completed"
    },
    "tags": []
   },
   "outputs": [
    {
     "data": {
      "text/plain": [
       "(1, 3)"
      ]
     },
     "execution_count": 27,
     "metadata": {},
     "output_type": "execute_result"
    }
   ],
   "source": [
    "test.shape"
   ]
  },
  {
   "cell_type": "code",
   "execution_count": 28,
   "id": "348ebf8d",
   "metadata": {
    "execution": {
     "iopub.execute_input": "2023-11-21T22:05:42.792792Z",
     "iopub.status.busy": "2023-11-21T22:05:42.792251Z",
     "iopub.status.idle": "2023-11-21T22:05:42.797873Z",
     "shell.execute_reply": "2023-11-21T22:05:42.796738Z"
    },
    "papermill": {
     "duration": 0.034759,
     "end_time": "2023-11-21T22:05:42.800181",
     "exception": false,
     "start_time": "2023-11-21T22:05:42.765422",
     "status": "completed"
    },
    "tags": []
   },
   "outputs": [],
   "source": [
    "X_test=test"
   ]
  },
  {
   "cell_type": "code",
   "execution_count": 29,
   "id": "361cecae",
   "metadata": {
    "execution": {
     "iopub.execute_input": "2023-11-21T22:05:42.851623Z",
     "iopub.status.busy": "2023-11-21T22:05:42.851148Z",
     "iopub.status.idle": "2023-11-21T22:05:42.857549Z",
     "shell.execute_reply": "2023-11-21T22:05:42.856732Z"
    },
    "id": "K6X92yuU5SzU",
    "outputId": "728f4081-36a3-496c-bf4e-1de19c5a399c",
    "papermill": {
     "duration": 0.034939,
     "end_time": "2023-11-21T22:05:42.859824",
     "exception": false,
     "start_time": "2023-11-21T22:05:42.824885",
     "status": "completed"
    },
    "tags": []
   },
   "outputs": [
    {
     "data": {
      "text/plain": [
       "(1, 3)"
      ]
     },
     "execution_count": 29,
     "metadata": {},
     "output_type": "execute_result"
    }
   ],
   "source": [
    "X_test.shape"
   ]
  },
  {
   "cell_type": "code",
   "execution_count": 30,
   "id": "bc04a6de",
   "metadata": {
    "execution": {
     "iopub.execute_input": "2023-11-21T22:05:42.911060Z",
     "iopub.status.busy": "2023-11-21T22:05:42.909610Z",
     "iopub.status.idle": "2023-11-21T22:05:42.920815Z",
     "shell.execute_reply": "2023-11-21T22:05:42.919783Z"
    },
    "id": "LS67_AeM5ePi",
    "outputId": "05d748d1-5697-4f88-d3c1-5b151ab49775",
    "papermill": {
     "duration": 0.039611,
     "end_time": "2023-11-21T22:05:42.923132",
     "exception": false,
     "start_time": "2023-11-21T22:05:42.883521",
     "status": "completed"
    },
    "tags": []
   },
   "outputs": [
    {
     "data": {
      "text/html": [
       "<div>\n",
       "<style scoped>\n",
       "    .dataframe tbody tr th:only-of-type {\n",
       "        vertical-align: middle;\n",
       "    }\n",
       "\n",
       "    .dataframe tbody tr th {\n",
       "        vertical-align: top;\n",
       "    }\n",
       "\n",
       "    .dataframe thead th {\n",
       "        text-align: right;\n",
       "    }\n",
       "</style>\n",
       "<table border=\"1\" class=\"dataframe\">\n",
       "  <thead>\n",
       "    <tr style=\"text-align: right;\">\n",
       "      <th></th>\n",
       "      <th>image_id</th>\n",
       "      <th>image_width</th>\n",
       "      <th>image_height</th>\n",
       "    </tr>\n",
       "  </thead>\n",
       "  <tbody>\n",
       "    <tr>\n",
       "      <th>0</th>\n",
       "      <td>41</td>\n",
       "      <td>28469</td>\n",
       "      <td>16987</td>\n",
       "    </tr>\n",
       "  </tbody>\n",
       "</table>\n",
       "</div>"
      ],
      "text/plain": [
       "   image_id  image_width  image_height\n",
       "0        41        28469         16987"
      ]
     },
     "execution_count": 30,
     "metadata": {},
     "output_type": "execute_result"
    }
   ],
   "source": [
    "X_test.head()"
   ]
  },
  {
   "cell_type": "code",
   "execution_count": 31,
   "id": "3195073c",
   "metadata": {
    "execution": {
     "iopub.execute_input": "2023-11-21T22:05:42.975077Z",
     "iopub.status.busy": "2023-11-21T22:05:42.974076Z",
     "iopub.status.idle": "2023-11-21T22:05:42.991069Z",
     "shell.execute_reply": "2023-11-21T22:05:42.990080Z"
    },
    "id": "yWxQ37AKkdBU",
    "papermill": {
     "duration": 0.046174,
     "end_time": "2023-11-21T22:05:42.993676",
     "exception": false,
     "start_time": "2023-11-21T22:05:42.947502",
     "status": "completed"
    },
    "tags": []
   },
   "outputs": [
    {
     "data": {
      "text/html": [
       "<div>\n",
       "<style scoped>\n",
       "    .dataframe tbody tr th:only-of-type {\n",
       "        vertical-align: middle;\n",
       "    }\n",
       "\n",
       "    .dataframe tbody tr th {\n",
       "        vertical-align: top;\n",
       "    }\n",
       "\n",
       "    .dataframe thead th {\n",
       "        text-align: right;\n",
       "    }\n",
       "</style>\n",
       "<table border=\"1\" class=\"dataframe\">\n",
       "  <thead>\n",
       "    <tr style=\"text-align: right;\">\n",
       "      <th></th>\n",
       "      <th>image_id</th>\n",
       "      <th>label</th>\n",
       "    </tr>\n",
       "  </thead>\n",
       "  <tbody>\n",
       "    <tr>\n",
       "      <th>0</th>\n",
       "      <td>41</td>\n",
       "      <td>HGSC</td>\n",
       "    </tr>\n",
       "  </tbody>\n",
       "</table>\n",
       "</div>"
      ],
      "text/plain": [
       "   image_id label\n",
       "0        41  HGSC"
      ]
     },
     "execution_count": 31,
     "metadata": {},
     "output_type": "execute_result"
    }
   ],
   "source": [
    "#y_pred='functional'\n",
    "#y_pred\n",
    "from sklearn.metrics import accuracy_score\n",
    "import numpy as np\n",
    "#y_pred = pd.DataFrame(np.zeros((len(X_test)),dtype=int))\n",
    "#y_pred\n",
    "#y_pred=[0,0,0,0]\n",
    "#y_true=[0,1,2,0]\n",
    "#accuracy_score(y_true,y_pred)\n",
    "submission=sample_submission_df[['image_id','label']]\n",
    "\n",
    "submission.to_csv('submission.csv',index=False)\n",
    "submission\n",
    "#submission=submission.head(1)"
   ]
  },
  {
   "cell_type": "code",
   "execution_count": 32,
   "id": "7bcd30a6",
   "metadata": {
    "execution": {
     "iopub.execute_input": "2023-11-21T22:05:43.049430Z",
     "iopub.status.busy": "2023-11-21T22:05:43.048180Z",
     "iopub.status.idle": "2023-11-21T22:05:43.054997Z",
     "shell.execute_reply": "2023-11-21T22:05:43.053526Z"
    },
    "id": "gUa0Et0YjLSZ",
    "outputId": "3a7b8525-d196-4c42-d299-3f8cfb2e66fd",
    "papermill": {
     "duration": 0.03793,
     "end_time": "2023-11-21T22:05:43.058133",
     "exception": false,
     "start_time": "2023-11-21T22:05:43.020203",
     "status": "completed"
    },
    "tags": []
   },
   "outputs": [
    {
     "name": "stdout",
     "output_type": "stream",
     "text": [
      "Baseline Accuracy Score: 0.82\n"
     ]
    }
   ],
   "source": [
    "baseline_acc = 0.82\n",
    "print('Baseline Accuracy Score:', baseline_acc)"
   ]
  },
  {
   "cell_type": "code",
   "execution_count": 33,
   "id": "b108c11d",
   "metadata": {
    "execution": {
     "iopub.execute_input": "2023-11-21T22:05:43.111247Z",
     "iopub.status.busy": "2023-11-21T22:05:43.110746Z",
     "iopub.status.idle": "2023-11-21T22:05:43.885591Z",
     "shell.execute_reply": "2023-11-21T22:05:43.883890Z"
    },
    "id": "UafHV1nhH4Yl",
    "outputId": "0f17598f-52f2-42c7-f5d4-e0287f46f830",
    "papermill": {
     "duration": 0.804512,
     "end_time": "2023-11-21T22:05:43.888353",
     "exception": false,
     "start_time": "2023-11-21T22:05:43.083841",
     "status": "completed"
    },
    "tags": []
   },
   "outputs": [
    {
     "name": "stdout",
     "output_type": "stream",
     "text": [
      "train Validation Accuracy 0.47674418604651164\n"
     ]
    }
   ],
   "source": [
    "#Building our first model (DecisionTreeClassifier)\n",
    "\n",
    "import category_encoders as ce\n",
    "from sklearn.pipeline import make_pipeline\n",
    "from sklearn.tree import DecisionTreeClassifier\n",
    "\n",
    "pipeline=make_pipeline(\n",
    "   #ce.OrdinalEncoder(),\n",
    "   DecisionTreeClassifier(max_depth=3,max_features=100,random_state=41)\n",
    ")\n",
    "pipeline.fit(X_train,y_train)\n",
    "print(\"train Validation Accuracy\",pipeline.score(X_train,y_train))"
   ]
  },
  {
   "cell_type": "code",
   "execution_count": 34,
   "id": "17949cd8",
   "metadata": {
    "execution": {
     "iopub.execute_input": "2023-11-21T22:05:43.940885Z",
     "iopub.status.busy": "2023-11-21T22:05:43.940045Z",
     "iopub.status.idle": "2023-11-21T22:05:43.949451Z",
     "shell.execute_reply": "2023-11-21T22:05:43.948442Z"
    },
    "papermill": {
     "duration": 0.037965,
     "end_time": "2023-11-21T22:05:43.951771",
     "exception": false,
     "start_time": "2023-11-21T22:05:43.913806",
     "status": "completed"
    },
    "tags": []
   },
   "outputs": [
    {
     "data": {
      "text/plain": [
       "array(['HGSC'], dtype=object)"
      ]
     },
     "execution_count": 34,
     "metadata": {},
     "output_type": "execute_result"
    }
   ],
   "source": [
    "y_pred=pipeline.predict(X_test)\n",
    "y_pred"
   ]
  },
  {
   "cell_type": "code",
   "execution_count": 35,
   "id": "3386d772",
   "metadata": {
    "execution": {
     "iopub.execute_input": "2023-11-21T22:05:44.004511Z",
     "iopub.status.busy": "2023-11-21T22:05:44.003843Z",
     "iopub.status.idle": "2023-11-21T22:05:44.013724Z",
     "shell.execute_reply": "2023-11-21T22:05:44.011567Z"
    },
    "id": "2i13pga1Rlp4",
    "outputId": "eb0413bf-9239-4343-cfe0-9ae2a3a4c4e4",
    "papermill": {
     "duration": 0.039696,
     "end_time": "2023-11-21T22:05:44.016395",
     "exception": false,
     "start_time": "2023-11-21T22:05:43.976699",
     "status": "completed"
    },
    "tags": []
   },
   "outputs": [
    {
     "name": "stdout",
     "output_type": "stream",
     "text": [
      "val Accuracy 0.32407407407407407\n"
     ]
    }
   ],
   "source": [
    "#print(\"test Accuracy\",pipeline.score(X_test,y_test))\n",
    "print(\"val Accuracy\",pipeline.score(X_val,y_val))"
   ]
  },
  {
   "cell_type": "code",
   "execution_count": null,
   "id": "3d716999",
   "metadata": {
    "id": "EfQYKKdO9K7c",
    "papermill": {
     "duration": 0.027153,
     "end_time": "2023-11-21T22:05:44.069058",
     "exception": false,
     "start_time": "2023-11-21T22:05:44.041905",
     "status": "completed"
    },
    "tags": []
   },
   "outputs": [],
   "source": []
  },
  {
   "cell_type": "code",
   "execution_count": 36,
   "id": "1a0598a6",
   "metadata": {
    "execution": {
     "iopub.execute_input": "2023-11-21T22:05:44.120380Z",
     "iopub.status.busy": "2023-11-21T22:05:44.119946Z",
     "iopub.status.idle": "2023-11-21T22:05:44.394352Z",
     "shell.execute_reply": "2023-11-21T22:05:44.392732Z"
    },
    "id": "Nkj33MbDZcny",
    "outputId": "7073c926-cd0d-43e3-b21a-a7ac37bbf46d",
    "papermill": {
     "duration": 0.303169,
     "end_time": "2023-11-21T22:05:44.396911",
     "exception": false,
     "start_time": "2023-11-21T22:05:44.093742",
     "status": "completed"
    },
    "tags": []
   },
   "outputs": [
    {
     "data": {
      "image/svg+xml": [
       "<?xml version=\"1.0\" encoding=\"UTF-8\" standalone=\"no\"?>\n",
       "<!DOCTYPE svg PUBLIC \"-//W3C//DTD SVG 1.1//EN\"\n",
       " \"http://www.w3.org/Graphics/SVG/1.1/DTD/svg11.dtd\">\n",
       "<!-- Generated by graphviz version 8.1.0 (20230707.2238)\n",
       " -->\n",
       "<!-- Title: Tree Pages: 1 -->\n",
       "<svg width=\"2276pt\" height=\"407pt\"\n",
       " viewBox=\"0.00 0.00 2275.50 406.75\" xmlns=\"http://www.w3.org/2000/svg\" xmlns:xlink=\"http://www.w3.org/1999/xlink\">\n",
       "<g id=\"graph0\" class=\"graph\" transform=\"scale(1 1) rotate(0) translate(4 402.75)\">\n",
       "<title>Tree</title>\n",
       "<polygon fill=\"white\" stroke=\"none\" points=\"-4,4 -4,-402.75 2271.5,-402.75 2271.5,4 -4,4\"/>\n",
       "<!-- 0 -->\n",
       "<g id=\"node1\" class=\"node\">\n",
       "<title>0</title>\n",
       "<polygon fill=\"#c7f8ef\" stroke=\"black\" points=\"1243,-398.75 928.5,-398.75 928.5,-321.75 1243,-321.75 1243,-398.75\"/>\n",
       "<text text-anchor=\"middle\" x=\"1085.75\" y=\"-381.45\" font-family=\"Helvetica,sans-Serif\" font-size=\"14.00\">image_height &lt;= 44985.5</text>\n",
       "<text text-anchor=\"middle\" x=\"1085.75\" y=\"-364.2\" font-family=\"Helvetica,sans-Serif\" font-size=\"14.00\">samples = 100.0%</text>\n",
       "<text text-anchor=\"middle\" x=\"1085.75\" y=\"-346.95\" font-family=\"Helvetica,sans-Serif\" font-size=\"14.00\">value = [0.17, 0.221, 0.442, 0.088, 0.079]</text>\n",
       "<text text-anchor=\"middle\" x=\"1085.75\" y=\"-329.7\" font-family=\"Helvetica,sans-Serif\" font-size=\"14.00\">class = CC</text>\n",
       "</g>\n",
       "<!-- 1 -->\n",
       "<g id=\"node2\" class=\"node\">\n",
       "<title>1</title>\n",
       "<polygon fill=\"#c3f7ee\" stroke=\"black\" points=\"998,-285.75 683.5,-285.75 683.5,-208.75 998,-208.75 998,-285.75\"/>\n",
       "<text text-anchor=\"middle\" x=\"840.75\" y=\"-268.45\" font-family=\"Helvetica,sans-Serif\" font-size=\"14.00\">image_width &lt;= 81553.5</text>\n",
       "<text text-anchor=\"middle\" x=\"840.75\" y=\"-251.2\" font-family=\"Helvetica,sans-Serif\" font-size=\"14.00\">samples = 93.0%</text>\n",
       "<text text-anchor=\"middle\" x=\"840.75\" y=\"-233.95\" font-family=\"Helvetica,sans-Serif\" font-size=\"14.00\">value = [0.168, 0.228, 0.46, 0.088, 0.058]</text>\n",
       "<text text-anchor=\"middle\" x=\"840.75\" y=\"-216.7\" font-family=\"Helvetica,sans-Serif\" font-size=\"14.00\">class = CC</text>\n",
       "</g>\n",
       "<!-- 0&#45;&gt;1 -->\n",
       "<g id=\"edge1\" class=\"edge\">\n",
       "<title>0&#45;&gt;1</title>\n",
       "<path fill=\"none\" stroke=\"black\" d=\"M1002.12,-321.36C980.26,-311.46 956.57,-300.72 934.23,-290.6\"/>\n",
       "<polygon fill=\"black\" stroke=\"black\" points=\"935.97,-287.1 925.42,-286.16 933.08,-293.47 935.97,-287.1\"/>\n",
       "<text text-anchor=\"middle\" x=\"933.23\" y=\"-304.88\" font-family=\"Helvetica,sans-Serif\" font-size=\"14.00\">True</text>\n",
       "</g>\n",
       "<!-- 8 -->\n",
       "<g id=\"node9\" class=\"node\">\n",
       "<title>8</title>\n",
       "<polygon fill=\"#fad6f2\" stroke=\"black\" points=\"1497.5,-285.75 1228,-285.75 1228,-208.75 1497.5,-208.75 1497.5,-285.75\"/>\n",
       "<text text-anchor=\"middle\" x=\"1362.75\" y=\"-268.45\" font-family=\"Helvetica,sans-Serif\" font-size=\"14.00\">image_width &lt;= 51639.5</text>\n",
       "<text text-anchor=\"middle\" x=\"1362.75\" y=\"-251.2\" font-family=\"Helvetica,sans-Serif\" font-size=\"14.00\">samples = 7.0%</text>\n",
       "<text text-anchor=\"middle\" x=\"1362.75\" y=\"-233.95\" font-family=\"Helvetica,sans-Serif\" font-size=\"14.00\">value = [0.2, 0.133, 0.2, 0.1, 0.367]</text>\n",
       "<text text-anchor=\"middle\" x=\"1362.75\" y=\"-216.7\" font-family=\"Helvetica,sans-Serif\" font-size=\"14.00\">class = LGSC</text>\n",
       "</g>\n",
       "<!-- 0&#45;&gt;8 -->\n",
       "<g id=\"edge8\" class=\"edge\">\n",
       "<title>0&#45;&gt;8</title>\n",
       "<path fill=\"none\" stroke=\"black\" d=\"M1180.3,-321.36C1205.35,-311.33 1232.53,-300.43 1258.08,-290.2\"/>\n",
       "<polygon fill=\"black\" stroke=\"black\" points=\"1259.17,-293.13 1267.15,-286.16 1256.57,-286.63 1259.17,-293.13\"/>\n",
       "<text text-anchor=\"middle\" x=\"1258.32\" y=\"-304.47\" font-family=\"Helvetica,sans-Serif\" font-size=\"14.00\">False</text>\n",
       "</g>\n",
       "<!-- 2 -->\n",
       "<g id=\"node3\" class=\"node\">\n",
       "<title>2</title>\n",
       "<polygon fill=\"#c4f7ee\" stroke=\"black\" points=\"598,-172.75 283.5,-172.75 283.5,-95.75 598,-95.75 598,-172.75\"/>\n",
       "<text text-anchor=\"middle\" x=\"440.75\" y=\"-155.45\" font-family=\"Helvetica,sans-Serif\" font-size=\"14.00\">image_id &lt;= 1804.5</text>\n",
       "<text text-anchor=\"middle\" x=\"440.75\" y=\"-138.2\" font-family=\"Helvetica,sans-Serif\" font-size=\"14.00\">samples = 90.5%</text>\n",
       "<text text-anchor=\"middle\" x=\"440.75\" y=\"-120.95\" font-family=\"Helvetica,sans-Serif\" font-size=\"14.00\">value = [0.154, 0.234, 0.463, 0.09, 0.059]</text>\n",
       "<text text-anchor=\"middle\" x=\"440.75\" y=\"-103.7\" font-family=\"Helvetica,sans-Serif\" font-size=\"14.00\">class = CC</text>\n",
       "</g>\n",
       "<!-- 1&#45;&gt;2 -->\n",
       "<g id=\"edge2\" class=\"edge\">\n",
       "<title>1&#45;&gt;2</title>\n",
       "<path fill=\"none\" stroke=\"black\" d=\"M703.93,-208.28C666.45,-197.88 625.66,-186.56 587.63,-176.01\"/>\n",
       "<polygon fill=\"black\" stroke=\"black\" points=\"589.08,-172.5 578.51,-173.2 587.21,-179.25 589.08,-172.5\"/>\n",
       "</g>\n",
       "<!-- 5 -->\n",
       "<g id=\"node6\" class=\"node\">\n",
       "<title>5</title>\n",
       "<polygon fill=\"#f4c9aa\" stroke=\"black\" points=\"975.5,-172.75 706,-172.75 706,-95.75 975.5,-95.75 975.5,-172.75\"/>\n",
       "<text text-anchor=\"middle\" x=\"840.75\" y=\"-155.45\" font-family=\"Helvetica,sans-Serif\" font-size=\"14.00\">image_width &lt;= 83972.0</text>\n",
       "<text text-anchor=\"middle\" x=\"840.75\" y=\"-138.2\" font-family=\"Helvetica,sans-Serif\" font-size=\"14.00\">samples = 2.6%</text>\n",
       "<text text-anchor=\"middle\" x=\"840.75\" y=\"-120.95\" font-family=\"Helvetica,sans-Serif\" font-size=\"14.00\">value = [0.636, 0.0, 0.364, 0.0, 0.0]</text>\n",
       "<text text-anchor=\"middle\" x=\"840.75\" y=\"-103.7\" font-family=\"Helvetica,sans-Serif\" font-size=\"14.00\">class = HGSC</text>\n",
       "</g>\n",
       "<!-- 1&#45;&gt;5 -->\n",
       "<g id=\"edge5\" class=\"edge\">\n",
       "<title>1&#45;&gt;5</title>\n",
       "<path fill=\"none\" stroke=\"black\" d=\"M840.75,-208.36C840.75,-200.5 840.75,-192.12 840.75,-183.94\"/>\n",
       "<polygon fill=\"black\" stroke=\"black\" points=\"844.25,-183.97 840.75,-173.97 837.25,-183.97 844.25,-183.97\"/>\n",
       "</g>\n",
       "<!-- 3 -->\n",
       "<g id=\"node4\" class=\"node\">\n",
       "<title>3</title>\n",
       "<polygon fill=\"#4de8cb\" stroke=\"black\" points=\"269.5,-59.75 0,-59.75 0,0 269.5,0 269.5,-59.75\"/>\n",
       "<text text-anchor=\"middle\" x=\"134.75\" y=\"-42.45\" font-family=\"Helvetica,sans-Serif\" font-size=\"14.00\">samples = 2.6%</text>\n",
       "<text text-anchor=\"middle\" x=\"134.75\" y=\"-25.2\" font-family=\"Helvetica,sans-Serif\" font-size=\"14.00\">value = [0.0, 0.0, 0.909, 0.091, 0.0]</text>\n",
       "<text text-anchor=\"middle\" x=\"134.75\" y=\"-7.95\" font-family=\"Helvetica,sans-Serif\" font-size=\"14.00\">class = CC</text>\n",
       "</g>\n",
       "<!-- 2&#45;&gt;3 -->\n",
       "<g id=\"edge3\" class=\"edge\">\n",
       "<title>2&#45;&gt;3</title>\n",
       "<path fill=\"none\" stroke=\"black\" d=\"M327.24,-95.27C296.07,-84.85 262.55,-73.63 232.35,-63.53\"/>\n",
       "<polygon fill=\"black\" stroke=\"black\" points=\"233.84,-60 223.25,-60.15 231.62,-66.64 233.84,-60\"/>\n",
       "</g>\n",
       "<!-- 4 -->\n",
       "<g id=\"node5\" class=\"node\">\n",
       "<title>4</title>\n",
       "<polygon fill=\"#c8f8ef\" stroke=\"black\" points=\"593.5,-59.75 288,-59.75 288,0 593.5,0 593.5,-59.75\"/>\n",
       "<text text-anchor=\"middle\" x=\"440.75\" y=\"-42.45\" font-family=\"Helvetica,sans-Serif\" font-size=\"14.00\">samples = 87.9%</text>\n",
       "<text text-anchor=\"middle\" x=\"440.75\" y=\"-25.2\" font-family=\"Helvetica,sans-Serif\" font-size=\"14.00\">value = [0.159, 0.241, 0.45, 0.09, 0.061]</text>\n",
       "<text text-anchor=\"middle\" x=\"440.75\" y=\"-7.95\" font-family=\"Helvetica,sans-Serif\" font-size=\"14.00\">class = CC</text>\n",
       "</g>\n",
       "<!-- 2&#45;&gt;4 -->\n",
       "<g id=\"edge4\" class=\"edge\">\n",
       "<title>2&#45;&gt;4</title>\n",
       "<path fill=\"none\" stroke=\"black\" d=\"M440.75,-95.42C440.75,-87.52 440.75,-79.17 440.75,-71.19\"/>\n",
       "<polygon fill=\"black\" stroke=\"black\" points=\"444.25,-71.23 440.75,-61.23 437.25,-71.23 444.25,-71.23\"/>\n",
       "</g>\n",
       "<!-- 6 -->\n",
       "<g id=\"node7\" class=\"node\">\n",
       "<title>6</title>\n",
       "<polygon fill=\"#e58139\" stroke=\"black\" points=\"845.5,-59.75 612,-59.75 612,0 845.5,0 845.5,-59.75\"/>\n",
       "<text text-anchor=\"middle\" x=\"728.75\" y=\"-42.45\" font-family=\"Helvetica,sans-Serif\" font-size=\"14.00\">samples = 0.7%</text>\n",
       "<text text-anchor=\"middle\" x=\"728.75\" y=\"-25.2\" font-family=\"Helvetica,sans-Serif\" font-size=\"14.00\">value = [1.0, 0.0, 0.0, 0.0, 0.0]</text>\n",
       "<text text-anchor=\"middle\" x=\"728.75\" y=\"-7.95\" font-family=\"Helvetica,sans-Serif\" font-size=\"14.00\">class = HGSC</text>\n",
       "</g>\n",
       "<!-- 5&#45;&gt;6 -->\n",
       "<g id=\"edge6\" class=\"edge\">\n",
       "<title>5&#45;&gt;6</title>\n",
       "<path fill=\"none\" stroke=\"black\" d=\"M799.36,-95.42C789.43,-86.34 778.84,-76.66 768.96,-67.63\"/>\n",
       "<polygon fill=\"black\" stroke=\"black\" points=\"771.61,-65.39 761.87,-61.23 766.89,-70.56 771.61,-65.39\"/>\n",
       "</g>\n",
       "<!-- 7 -->\n",
       "<g id=\"node8\" class=\"node\">\n",
       "<title>7</title>\n",
       "<polygon fill=\"#ffffff\" stroke=\"black\" points=\"1097.5,-59.75 864,-59.75 864,0 1097.5,0 1097.5,-59.75\"/>\n",
       "<text text-anchor=\"middle\" x=\"980.75\" y=\"-42.45\" font-family=\"Helvetica,sans-Serif\" font-size=\"14.00\">samples = 1.9%</text>\n",
       "<text text-anchor=\"middle\" x=\"980.75\" y=\"-25.2\" font-family=\"Helvetica,sans-Serif\" font-size=\"14.00\">value = [0.5, 0.0, 0.5, 0.0, 0.0]</text>\n",
       "<text text-anchor=\"middle\" x=\"980.75\" y=\"-7.95\" font-family=\"Helvetica,sans-Serif\" font-size=\"14.00\">class = HGSC</text>\n",
       "</g>\n",
       "<!-- 5&#45;&gt;7 -->\n",
       "<g id=\"edge7\" class=\"edge\">\n",
       "<title>5&#45;&gt;7</title>\n",
       "<path fill=\"none\" stroke=\"black\" d=\"M892.48,-95.42C905.39,-85.98 919.2,-75.89 931.96,-66.55\"/>\n",
       "<polygon fill=\"black\" stroke=\"black\" points=\"933.6,-68.96 939.61,-60.23 929.47,-63.31 933.6,-68.96\"/>\n",
       "</g>\n",
       "<!-- 9 -->\n",
       "<g id=\"node10\" class=\"node\">\n",
       "<title>9</title>\n",
       "<polygon fill=\"#cef8f0\" stroke=\"black\" points=\"1515.5,-172.75 1210,-172.75 1210,-95.75 1515.5,-95.75 1515.5,-172.75\"/>\n",
       "<text text-anchor=\"middle\" x=\"1362.75\" y=\"-155.45\" font-family=\"Helvetica,sans-Serif\" font-size=\"14.00\">image_height &lt;= 46230.5</text>\n",
       "<text text-anchor=\"middle\" x=\"1362.75\" y=\"-138.2\" font-family=\"Helvetica,sans-Serif\" font-size=\"14.00\">samples = 2.6%</text>\n",
       "<text text-anchor=\"middle\" x=\"1362.75\" y=\"-120.95\" font-family=\"Helvetica,sans-Serif\" font-size=\"14.00\">value = [0.182, 0.0, 0.455, 0.273, 0.091]</text>\n",
       "<text text-anchor=\"middle\" x=\"1362.75\" y=\"-103.7\" font-family=\"Helvetica,sans-Serif\" font-size=\"14.00\">class = CC</text>\n",
       "</g>\n",
       "<!-- 8&#45;&gt;9 -->\n",
       "<g id=\"edge9\" class=\"edge\">\n",
       "<title>8&#45;&gt;9</title>\n",
       "<path fill=\"none\" stroke=\"black\" d=\"M1362.75,-208.36C1362.75,-200.5 1362.75,-192.12 1362.75,-183.94\"/>\n",
       "<polygon fill=\"black\" stroke=\"black\" points=\"1366.25,-183.97 1362.75,-173.97 1359.25,-183.97 1366.25,-183.97\"/>\n",
       "</g>\n",
       "<!-- 12 -->\n",
       "<g id=\"node13\" class=\"node\">\n",
       "<title>12</title>\n",
       "<polygon fill=\"#f5b0e6\" stroke=\"black\" points=\"1961.5,-172.75 1656,-172.75 1656,-95.75 1961.5,-95.75 1961.5,-172.75\"/>\n",
       "<text text-anchor=\"middle\" x=\"1808.75\" y=\"-155.45\" font-family=\"Helvetica,sans-Serif\" font-size=\"14.00\">image_id &lt;= 17758.5</text>\n",
       "<text text-anchor=\"middle\" x=\"1808.75\" y=\"-138.2\" font-family=\"Helvetica,sans-Serif\" font-size=\"14.00\">samples = 4.4%</text>\n",
       "<text text-anchor=\"middle\" x=\"1808.75\" y=\"-120.95\" font-family=\"Helvetica,sans-Serif\" font-size=\"14.00\">value = [0.211, 0.211, 0.053, 0.0, 0.526]</text>\n",
       "<text text-anchor=\"middle\" x=\"1808.75\" y=\"-103.7\" font-family=\"Helvetica,sans-Serif\" font-size=\"14.00\">class = LGSC</text>\n",
       "</g>\n",
       "<!-- 8&#45;&gt;12 -->\n",
       "<g id=\"edge12\" class=\"edge\">\n",
       "<title>8&#45;&gt;12</title>\n",
       "<path fill=\"none\" stroke=\"black\" d=\"M1497.78,-212.65C1544.35,-201.05 1597.03,-187.94 1645.61,-175.85\"/>\n",
       "<polygon fill=\"black\" stroke=\"black\" points=\"1646.38,-179.02 1655.23,-173.21 1644.69,-172.23 1646.38,-179.02\"/>\n",
       "</g>\n",
       "<!-- 10 -->\n",
       "<g id=\"node11\" class=\"node\">\n",
       "<title>10</title>\n",
       "<polygon fill=\"#f6d5bd\" stroke=\"black\" points=\"1367.5,-59.75 1116,-59.75 1116,0 1367.5,0 1367.5,-59.75\"/>\n",
       "<text text-anchor=\"middle\" x=\"1241.75\" y=\"-42.45\" font-family=\"Helvetica,sans-Serif\" font-size=\"14.00\">samples = 0.9%</text>\n",
       "<text text-anchor=\"middle\" x=\"1241.75\" y=\"-25.2\" font-family=\"Helvetica,sans-Serif\" font-size=\"14.00\">value = [0.5, 0.0, 0.25, 0.0, 0.25]</text>\n",
       "<text text-anchor=\"middle\" x=\"1241.75\" y=\"-7.95\" font-family=\"Helvetica,sans-Serif\" font-size=\"14.00\">class = HGSC</text>\n",
       "</g>\n",
       "<!-- 9&#45;&gt;10 -->\n",
       "<g id=\"edge10\" class=\"edge\">\n",
       "<title>9&#45;&gt;10</title>\n",
       "<path fill=\"none\" stroke=\"black\" d=\"M1318.04,-95.42C1307.09,-86.16 1295.41,-76.27 1284.56,-67.09\"/>\n",
       "<polygon fill=\"black\" stroke=\"black\" points=\"1287.34,-64.02 1277.45,-60.23 1282.82,-69.36 1287.34,-64.02\"/>\n",
       "</g>\n",
       "<!-- 11 -->\n",
       "<g id=\"node12\" class=\"node\">\n",
       "<title>11</title>\n",
       "<polygon fill=\"#cef8f0\" stroke=\"black\" points=\"1655.5,-59.75 1386,-59.75 1386,0 1655.5,0 1655.5,-59.75\"/>\n",
       "<text text-anchor=\"middle\" x=\"1520.75\" y=\"-42.45\" font-family=\"Helvetica,sans-Serif\" font-size=\"14.00\">samples = 1.6%</text>\n",
       "<text text-anchor=\"middle\" x=\"1520.75\" y=\"-25.2\" font-family=\"Helvetica,sans-Serif\" font-size=\"14.00\">value = [0.0, 0.0, 0.571, 0.429, 0.0]</text>\n",
       "<text text-anchor=\"middle\" x=\"1520.75\" y=\"-7.95\" font-family=\"Helvetica,sans-Serif\" font-size=\"14.00\">class = CC</text>\n",
       "</g>\n",
       "<!-- 9&#45;&gt;11 -->\n",
       "<g id=\"edge11\" class=\"edge\">\n",
       "<title>9&#45;&gt;11</title>\n",
       "<path fill=\"none\" stroke=\"black\" d=\"M1421.13,-95.42C1435.99,-85.8 1451.88,-75.5 1466.52,-66.02\"/>\n",
       "<polygon fill=\"black\" stroke=\"black\" points=\"1467.95,-68.61 1474.44,-60.23 1464.15,-62.73 1467.95,-68.61\"/>\n",
       "</g>\n",
       "<!-- 13 -->\n",
       "<g id=\"node14\" class=\"node\">\n",
       "<title>13</title>\n",
       "<polygon fill=\"#bdf29c\" stroke=\"black\" points=\"1943.5,-59.75 1674,-59.75 1674,0 1943.5,0 1943.5,-59.75\"/>\n",
       "<text text-anchor=\"middle\" x=\"1808.75\" y=\"-42.45\" font-family=\"Helvetica,sans-Serif\" font-size=\"14.00\">samples = 0.7%</text>\n",
       "<text text-anchor=\"middle\" x=\"1808.75\" y=\"-25.2\" font-family=\"Helvetica,sans-Serif\" font-size=\"14.00\">value = [0.333, 0.667, 0.0, 0.0, 0.0]</text>\n",
       "<text text-anchor=\"middle\" x=\"1808.75\" y=\"-7.95\" font-family=\"Helvetica,sans-Serif\" font-size=\"14.00\">class = EC</text>\n",
       "</g>\n",
       "<!-- 12&#45;&gt;13 -->\n",
       "<g id=\"edge13\" class=\"edge\">\n",
       "<title>12&#45;&gt;13</title>\n",
       "<path fill=\"none\" stroke=\"black\" d=\"M1808.75,-95.42C1808.75,-87.52 1808.75,-79.17 1808.75,-71.19\"/>\n",
       "<polygon fill=\"black\" stroke=\"black\" points=\"1812.25,-71.23 1808.75,-61.23 1805.25,-71.23 1812.25,-71.23\"/>\n",
       "</g>\n",
       "<!-- 14 -->\n",
       "<g id=\"node15\" class=\"node\">\n",
       "<title>14</title>\n",
       "<polygon fill=\"#f194dd\" stroke=\"black\" points=\"2267.5,-59.75 1962,-59.75 1962,0 2267.5,0 2267.5,-59.75\"/>\n",
       "<text text-anchor=\"middle\" x=\"2114.75\" y=\"-42.45\" font-family=\"Helvetica,sans-Serif\" font-size=\"14.00\">samples = 3.7%</text>\n",
       "<text text-anchor=\"middle\" x=\"2114.75\" y=\"-25.2\" font-family=\"Helvetica,sans-Serif\" font-size=\"14.00\">value = [0.188, 0.125, 0.062, 0.0, 0.625]</text>\n",
       "<text text-anchor=\"middle\" x=\"2114.75\" y=\"-7.95\" font-family=\"Helvetica,sans-Serif\" font-size=\"14.00\">class = LGSC</text>\n",
       "</g>\n",
       "<!-- 12&#45;&gt;14 -->\n",
       "<g id=\"edge14\" class=\"edge\">\n",
       "<title>12&#45;&gt;14</title>\n",
       "<path fill=\"none\" stroke=\"black\" d=\"M1922.26,-95.27C1953.43,-84.85 1986.95,-73.63 2017.15,-63.53\"/>\n",
       "<polygon fill=\"black\" stroke=\"black\" points=\"2017.88,-66.64 2026.25,-60.15 2015.66,-60 2017.88,-66.64\"/>\n",
       "</g>\n",
       "</g>\n",
       "</svg>\n"
      ],
      "text/plain": [
       "<graphviz.sources.Source at 0x7bbf030f09d0>"
      ]
     },
     "execution_count": 36,
     "metadata": {},
     "output_type": "execute_result"
    }
   ],
   "source": [
    "#This score is too good to be true.\n",
    "# Visualize the decision tree, to see what the model 'learned'\n",
    "\n",
    "import graphviz\n",
    "from sklearn.tree import export_graphviz\n",
    "tree = pipeline.named_steps['decisiontreeclassifier']\n",
    "dot_data= export_graphviz(\n",
    "    tree,\n",
    "    out_file=None,\n",
    "    feature_names = X_train.columns,\n",
    "    class_names = y_train.unique().astype(str),\n",
    "    filled = True,\n",
    "    impurity= False,\n",
    "    proportion = True\n",
    "\n",
    ")\n",
    "graphviz.Source(dot_data)"
   ]
  },
  {
   "cell_type": "code",
   "execution_count": null,
   "id": "9e524a03",
   "metadata": {
    "id": "nHe4FBwz9gKf",
    "papermill": {
     "duration": 0.025788,
     "end_time": "2023-11-21T22:05:44.448165",
     "exception": false,
     "start_time": "2023-11-21T22:05:44.422377",
     "status": "completed"
    },
    "tags": []
   },
   "outputs": [],
   "source": []
  },
  {
   "cell_type": "code",
   "execution_count": null,
   "id": "3575e309",
   "metadata": {
    "id": "hMwQHlJz9gTj",
    "papermill": {
     "duration": 0.024817,
     "end_time": "2023-11-21T22:05:44.498040",
     "exception": false,
     "start_time": "2023-11-21T22:05:44.473223",
     "status": "completed"
    },
    "tags": []
   },
   "outputs": [],
   "source": []
  },
  {
   "cell_type": "code",
   "execution_count": 37,
   "id": "ade96f91",
   "metadata": {
    "execution": {
     "iopub.execute_input": "2023-11-21T22:05:44.551350Z",
     "iopub.status.busy": "2023-11-21T22:05:44.550870Z",
     "iopub.status.idle": "2023-11-21T22:05:44.722196Z",
     "shell.execute_reply": "2023-11-21T22:05:44.720690Z"
    },
    "id": "cY1SBJXw8xMV",
    "outputId": "7833df64-f0ef-4826-f8eb-3b7eec1e763f",
    "papermill": {
     "duration": 0.201965,
     "end_time": "2023-11-21T22:05:44.725388",
     "exception": false,
     "start_time": "2023-11-21T22:05:44.523423",
     "status": "completed"
    },
    "tags": []
   },
   "outputs": [
    {
     "name": "stdout",
     "output_type": "stream",
     "text": [
      "trainValidation Accuracy 0.8674418604651163\n"
     ]
    }
   ],
   "source": [
    "'''T6. Build a pipeline `model` with encoder and tree-based predictor.'''\n",
    "\n",
    "# YOUR CODE HERE\n",
    "#raise NotImplementedError()\n",
    "\n",
    "from sklearn.preprocessing import OrdinalEncoder\n",
    "import category_encoders as ce\n",
    "from sklearn.impute import SimpleImputer\n",
    "from sklearn.pipeline import make_pipeline\n",
    "from sklearn.ensemble import RandomForestClassifier #RandomForest\n",
    "model= make_pipeline(\n",
    "    #ce.OrdinalEncoder(),\n",
    "    SimpleImputer(strategy='mean'),\n",
    "    RandomForestClassifier(n_estimators=3,random_state=41,max_features=2)\n",
    ")\n",
    "model.fit(X_train,y_train);\n",
    "print(\"trainValidation Accuracy\",model.score(X_train,y_train))"
   ]
  },
  {
   "cell_type": "code",
   "execution_count": 38,
   "id": "5884fc2c",
   "metadata": {
    "execution": {
     "iopub.execute_input": "2023-11-21T22:05:44.779785Z",
     "iopub.status.busy": "2023-11-21T22:05:44.779363Z",
     "iopub.status.idle": "2023-11-21T22:05:44.789653Z",
     "shell.execute_reply": "2023-11-21T22:05:44.788615Z"
    },
    "id": "S52QdbQb9s7o",
    "papermill": {
     "duration": 0.040209,
     "end_time": "2023-11-21T22:05:44.792037",
     "exception": false,
     "start_time": "2023-11-21T22:05:44.751828",
     "status": "completed"
    },
    "tags": []
   },
   "outputs": [
    {
     "name": "stdout",
     "output_type": "stream",
     "text": [
      "Validation Accuracy 0.24074074074074073\n"
     ]
    }
   ],
   "source": [
    "print(\"Validation Accuracy\", model.score(X_val,y_val))"
   ]
  },
  {
   "cell_type": "code",
   "execution_count": null,
   "id": "2931d495",
   "metadata": {
    "id": "rFOFFx6QHM5u",
    "papermill": {
     "duration": 0.026818,
     "end_time": "2023-11-21T22:05:44.845600",
     "exception": false,
     "start_time": "2023-11-21T22:05:44.818782",
     "status": "completed"
    },
    "tags": []
   },
   "outputs": [],
   "source": []
  },
  {
   "cell_type": "code",
   "execution_count": 39,
   "id": "f31126d6",
   "metadata": {
    "execution": {
     "iopub.execute_input": "2023-11-21T22:05:44.902556Z",
     "iopub.status.busy": "2023-11-21T22:05:44.902112Z",
     "iopub.status.idle": "2023-11-21T22:05:44.918299Z",
     "shell.execute_reply": "2023-11-21T22:05:44.917085Z"
    },
    "id": "gIUBSMU6mAE5",
    "papermill": {
     "duration": 0.047946,
     "end_time": "2023-11-21T22:05:44.921454",
     "exception": false,
     "start_time": "2023-11-21T22:05:44.873508",
     "status": "completed"
    },
    "tags": []
   },
   "outputs": [],
   "source": [
    "y_train_pred=model.predict(X_train)\n",
    "y_val_pred=model.predict(X_val)\n",
    "y_test_pred=model.predict(X_test)"
   ]
  },
  {
   "cell_type": "code",
   "execution_count": 40,
   "id": "8e25b1fc",
   "metadata": {
    "execution": {
     "iopub.execute_input": "2023-11-21T22:05:44.977945Z",
     "iopub.status.busy": "2023-11-21T22:05:44.977548Z",
     "iopub.status.idle": "2023-11-21T22:05:44.987839Z",
     "shell.execute_reply": "2023-11-21T22:05:44.986455Z"
    },
    "id": "h82Fj2o2KUC4",
    "papermill": {
     "duration": 0.041462,
     "end_time": "2023-11-21T22:05:44.990640",
     "exception": false,
     "start_time": "2023-11-21T22:05:44.949178",
     "status": "completed"
    },
    "tags": []
   },
   "outputs": [
    {
     "data": {
      "text/plain": [
       "array(['HGSC', 'HGSC', 'HGSC', 'EC', 'HGSC', 'HGSC', 'EC', 'HGSC', 'CC',\n",
       "       'EC', 'CC', 'HGSC', 'CC', 'MC', 'LGSC', 'HGSC', 'LGSC', 'HGSC',\n",
       "       'HGSC', 'CC', 'LGSC', 'HGSC', 'CC', 'CC', 'EC', 'EC', 'HGSC',\n",
       "       'HGSC', 'LGSC', 'EC', 'CC', 'HGSC', 'CC', 'EC', 'CC', 'LGSC', 'CC',\n",
       "       'MC', 'CC', 'CC', 'CC', 'CC', 'LGSC', 'HGSC', 'EC', 'CC', 'HGSC',\n",
       "       'CC', 'LGSC', 'HGSC', 'LGSC', 'EC', 'EC', 'HGSC', 'HGSC', 'EC',\n",
       "       'HGSC', 'EC', 'HGSC', 'CC', 'EC', 'CC', 'CC', 'CC', 'HGSC', 'MC',\n",
       "       'HGSC', 'EC', 'HGSC', 'EC', 'HGSC', 'EC', 'HGSC', 'EC', 'HGSC',\n",
       "       'HGSC', 'HGSC', 'HGSC', 'LGSC', 'CC', 'CC', 'EC', 'EC', 'HGSC',\n",
       "       'CC', 'CC', 'HGSC', 'HGSC', 'HGSC', 'EC', 'CC', 'HGSC', 'CC',\n",
       "       'LGSC', 'EC', 'HGSC', 'MC', 'EC', 'CC', 'HGSC', 'HGSC', 'MC',\n",
       "       'HGSC', 'MC', 'HGSC', 'HGSC', 'EC', 'EC', 'HGSC', 'EC', 'EC',\n",
       "       'HGSC', 'HGSC', 'MC', 'HGSC', 'CC', 'HGSC', 'MC', 'EC', 'MC',\n",
       "       'HGSC', 'MC', 'HGSC', 'HGSC', 'EC', 'HGSC', 'CC', 'EC', 'EC',\n",
       "       'HGSC', 'EC', 'HGSC', 'HGSC', 'LGSC', 'EC', 'LGSC', 'CC', 'CC',\n",
       "       'CC', 'CC', 'HGSC', 'CC', 'HGSC', 'HGSC', 'LGSC', 'CC', 'HGSC',\n",
       "       'CC', 'EC', 'CC', 'HGSC', 'HGSC', 'HGSC', 'LGSC', 'MC', 'EC',\n",
       "       'LGSC', 'HGSC', 'CC', 'EC', 'HGSC', 'HGSC', 'HGSC', 'HGSC', 'EC',\n",
       "       'HGSC', 'EC', 'EC', 'HGSC', 'HGSC', 'CC', 'CC', 'HGSC', 'HGSC',\n",
       "       'EC', 'CC', 'EC', 'HGSC', 'LGSC', 'HGSC', 'HGSC', 'EC', 'HGSC',\n",
       "       'HGSC', 'HGSC', 'HGSC', 'CC', 'HGSC', 'HGSC', 'EC', 'HGSC', 'HGSC',\n",
       "       'CC', 'EC', 'EC', 'HGSC', 'HGSC', 'EC', 'LGSC', 'HGSC', 'HGSC',\n",
       "       'EC', 'EC', 'CC', 'MC', 'HGSC', 'EC', 'HGSC', 'HGSC', 'MC', 'MC',\n",
       "       'HGSC', 'HGSC', 'HGSC', 'EC', 'HGSC', 'HGSC', 'LGSC', 'HGSC', 'EC',\n",
       "       'HGSC', 'EC', 'HGSC', 'HGSC', 'HGSC', 'EC', 'CC', 'HGSC', 'EC',\n",
       "       'HGSC', 'MC', 'EC', 'CC', 'EC', 'EC', 'HGSC', 'MC', 'HGSC', 'HGSC',\n",
       "       'HGSC', 'EC', 'HGSC', 'CC', 'HGSC', 'MC', 'HGSC', 'CC', 'LGSC',\n",
       "       'HGSC', 'EC', 'HGSC', 'EC', 'EC', 'HGSC', 'CC', 'HGSC', 'CC',\n",
       "       'HGSC', 'LGSC', 'MC', 'MC', 'EC', 'HGSC', 'CC', 'EC', 'EC', 'MC',\n",
       "       'HGSC', 'HGSC', 'EC', 'HGSC', 'HGSC', 'EC', 'MC', 'HGSC', 'CC',\n",
       "       'HGSC', 'MC', 'LGSC', 'EC', 'MC', 'EC', 'LGSC', 'EC', 'EC', 'CC',\n",
       "       'HGSC', 'HGSC', 'CC', 'HGSC', 'HGSC', 'HGSC', 'CC', 'CC', 'CC',\n",
       "       'MC', 'HGSC', 'EC', 'LGSC', 'CC', 'EC', 'EC', 'HGSC', 'HGSC', 'CC',\n",
       "       'HGSC', 'HGSC', 'EC', 'EC', 'HGSC', 'EC', 'HGSC', 'EC', 'CC',\n",
       "       'HGSC', 'HGSC', 'HGSC', 'CC', 'HGSC', 'CC', 'HGSC', 'EC', 'EC',\n",
       "       'MC', 'HGSC', 'HGSC', 'HGSC', 'LGSC', 'HGSC', 'EC', 'EC', 'LGSC',\n",
       "       'HGSC', 'CC', 'LGSC', 'EC', 'HGSC', 'HGSC', 'EC', 'CC', 'HGSC',\n",
       "       'HGSC', 'EC', 'CC', 'EC', 'CC', 'HGSC', 'CC', 'EC', 'CC', 'CC',\n",
       "       'MC', 'HGSC', 'HGSC', 'MC', 'HGSC', 'HGSC', 'HGSC', 'HGSC', 'HGSC',\n",
       "       'MC', 'HGSC', 'LGSC', 'CC', 'LGSC', 'CC', 'EC', 'EC', 'HGSC', 'MC',\n",
       "       'EC', 'HGSC', 'EC', 'EC', 'HGSC', 'HGSC', 'HGSC', 'CC', 'HGSC',\n",
       "       'LGSC', 'HGSC', 'HGSC', 'HGSC', 'HGSC', 'HGSC', 'HGSC', 'EC',\n",
       "       'LGSC', 'CC', 'HGSC', 'HGSC', 'EC', 'HGSC', 'CC', 'CC', 'HGSC',\n",
       "       'HGSC', 'EC', 'EC', 'CC', 'CC', 'LGSC', 'LGSC', 'LGSC', 'EC',\n",
       "       'HGSC', 'EC', 'HGSC', 'EC', 'CC', 'HGSC', 'HGSC', 'HGSC', 'HGSC',\n",
       "       'HGSC', 'HGSC', 'CC', 'EC', 'CC', 'HGSC', 'EC', 'LGSC', 'HGSC',\n",
       "       'EC', 'HGSC', 'CC', 'HGSC', 'LGSC', 'HGSC', 'MC'], dtype=object)"
      ]
     },
     "execution_count": 40,
     "metadata": {},
     "output_type": "execute_result"
    }
   ],
   "source": [
    "y_train_pred"
   ]
  },
  {
   "cell_type": "code",
   "execution_count": 41,
   "id": "16a434bb",
   "metadata": {
    "execution": {
     "iopub.execute_input": "2023-11-21T22:05:45.051911Z",
     "iopub.status.busy": "2023-11-21T22:05:45.051529Z",
     "iopub.status.idle": "2023-11-21T22:05:45.058834Z",
     "shell.execute_reply": "2023-11-21T22:05:45.057453Z"
    },
    "papermill": {
     "duration": 0.040533,
     "end_time": "2023-11-21T22:05:45.061488",
     "exception": false,
     "start_time": "2023-11-21T22:05:45.020955",
     "status": "completed"
    },
    "tags": []
   },
   "outputs": [
    {
     "data": {
      "text/plain": [
       "array(['HGSC'], dtype=object)"
      ]
     },
     "execution_count": 41,
     "metadata": {},
     "output_type": "execute_result"
    }
   ],
   "source": [
    "y_test_pred"
   ]
  },
  {
   "cell_type": "code",
   "execution_count": 42,
   "id": "b01dde42",
   "metadata": {
    "execution": {
     "iopub.execute_input": "2023-11-21T22:05:45.117260Z",
     "iopub.status.busy": "2023-11-21T22:05:45.116837Z",
     "iopub.status.idle": "2023-11-21T22:05:45.126962Z",
     "shell.execute_reply": "2023-11-21T22:05:45.125455Z"
    },
    "id": "j7bcRU4qbuAX",
    "outputId": "cf074d61-dd6e-4b12-de16-338216dd1441",
    "papermill": {
     "duration": 0.042149,
     "end_time": "2023-11-21T22:05:45.130199",
     "exception": false,
     "start_time": "2023-11-21T22:05:45.088050",
     "status": "completed"
    },
    "tags": []
   },
   "outputs": [
    {
     "name": "stdout",
     "output_type": "stream",
     "text": [
      "Training Accuracy Score: 0.8674418604651163\n",
      "val Accuracy Score: 0.24074074074074073\n"
     ]
    }
   ],
   "source": [
    "from sklearn.metrics import accuracy_score\n",
    "\n",
    "train_acc =  accuracy_score(y_train_pred,y_train)\n",
    "#test_acc =  accuracy_score(y_test_pred,X_test)\n",
    "val_acc= accuracy_score(y_val_pred,y_val)\n",
    "print('Training Accuracy Score:', train_acc)\n",
    "#print('Testing Accuracy Score:', test_acc)\n",
    "print('val Accuracy Score:', val_acc)"
   ]
  },
  {
   "cell_type": "code",
   "execution_count": 43,
   "id": "048fd0a9",
   "metadata": {
    "execution": {
     "iopub.execute_input": "2023-11-21T22:05:45.188612Z",
     "iopub.status.busy": "2023-11-21T22:05:45.188111Z",
     "iopub.status.idle": "2023-11-21T22:05:45.226298Z",
     "shell.execute_reply": "2023-11-21T22:05:45.224397Z"
    },
    "papermill": {
     "duration": 0.070967,
     "end_time": "2023-11-21T22:05:45.229496",
     "exception": false,
     "start_time": "2023-11-21T22:05:45.158529",
     "status": "completed"
    },
    "tags": []
   },
   "outputs": [
    {
     "name": "stdout",
     "output_type": "stream",
     "text": [
      "              precision    recall  f1-score   support\n",
      "\n",
      "          CC       0.78      0.86      0.82        73\n",
      "          EC       0.83      0.87      0.85        95\n",
      "        HGSC       0.91      0.88      0.90       190\n",
      "        LGSC       0.89      0.82      0.85        38\n",
      "          MC       0.93      0.82      0.87        34\n",
      "\n",
      "    accuracy                           0.87       430\n",
      "   macro avg       0.87      0.85      0.86       430\n",
      "weighted avg       0.87      0.87      0.87       430\n",
      "\n"
     ]
    }
   ],
   "source": [
    "# Print classification report\n",
    "from sklearn.metrics import classification_report\n",
    "print(classification_report(y_train,model.predict(X_train)))"
   ]
  },
  {
   "cell_type": "code",
   "execution_count": 44,
   "id": "212b71f4",
   "metadata": {
    "execution": {
     "iopub.execute_input": "2023-11-21T22:05:45.286244Z",
     "iopub.status.busy": "2023-11-21T22:05:45.285762Z",
     "iopub.status.idle": "2023-11-21T22:05:45.699653Z",
     "shell.execute_reply": "2023-11-21T22:05:45.698664Z"
    },
    "papermill": {
     "duration": 0.445471,
     "end_time": "2023-11-21T22:05:45.702155",
     "exception": false,
     "start_time": "2023-11-21T22:05:45.256684",
     "status": "completed"
    },
    "tags": []
   },
   "outputs": [
    {
     "name": "stdout",
     "output_type": "stream",
     "text": [
      "\n",
      "XGBClassifier(base_score=None, booster=None, callbacks=None,\n",
      "              colsample_bylevel=None, colsample_bynode=None,\n",
      "              colsample_bytree=None, early_stopping_rounds=None,\n",
      "              enable_categorical=False, eval_metric=None, feature_types=None,\n",
      "              gamma=None, gpu_id=None, grow_policy=None, importance_type=None,\n",
      "              interaction_constraints=None, learning_rate=None, max_bin=None,\n",
      "              max_cat_threshold=None, max_cat_to_onehot=None,\n",
      "              max_delta_step=None, max_depth=3, max_leaves=None,\n",
      "              min_child_weight=None, missing=nan, monotone_constraints=None,\n",
      "              n_estimators=80, n_jobs=-1, num_parallel_tree=None,\n",
      "              objective='multi:softprob', predictor=None, ...)\n",
      "train accuracy: 0.9395348837209302\n"
     ]
    }
   ],
   "source": [
    "from  xgboost import XGBClassifier\n",
    "from sklearn.preprocessing import LabelEncoder\n",
    "\n",
    "model11 = XGBClassifier(max_depth=3,n_estimators=80,random_state=42,n_jobs=-1)\n",
    "# Initialize LabelEncoder\n",
    "label_encoder = LabelEncoder()\n",
    "\n",
    "# Fit and transform the target variable in the training set\n",
    "y_train_encoded = label_encoder.fit_transform(y_train)\n",
    "\n",
    "# Now, you can fit the model using the encoded target variable\n",
    "model11.fit(X_train, y_train_encoded)\n",
    "\n",
    "# Print the model and its accuracy\n",
    "print()\n",
    "print(model11)\n",
    "print(\"train accuracy:\", model11.score(X_train, y_train_encoded))"
   ]
  },
  {
   "cell_type": "code",
   "execution_count": 45,
   "id": "94d69c32",
   "metadata": {
    "execution": {
     "iopub.execute_input": "2023-11-21T22:05:45.756953Z",
     "iopub.status.busy": "2023-11-21T22:05:45.756476Z",
     "iopub.status.idle": "2023-11-21T22:05:45.770240Z",
     "shell.execute_reply": "2023-11-21T22:05:45.768934Z"
    },
    "papermill": {
     "duration": 0.04464,
     "end_time": "2023-11-21T22:05:45.773787",
     "exception": false,
     "start_time": "2023-11-21T22:05:45.729147",
     "status": "completed"
    },
    "tags": []
   },
   "outputs": [
    {
     "name": "stdout",
     "output_type": "stream",
     "text": [
      "0.39814814814814814\n"
     ]
    }
   ],
   "source": [
    "# Initialize LabelEncoder\n",
    "label_encoder = LabelEncoder()\n",
    "\n",
    "# Fit and transform the target variable in the training set\n",
    "y_val_encoded = label_encoder.fit_transform(y_val)\n",
    "\n",
    "scoreval = model11.score(X_val,y_val_encoded)\n",
    "\n",
    "print(scoreval)\n"
   ]
  },
  {
   "cell_type": "code",
   "execution_count": 46,
   "id": "fcc9e9da",
   "metadata": {
    "execution": {
     "iopub.execute_input": "2023-11-21T22:05:45.831879Z",
     "iopub.status.busy": "2023-11-21T22:05:45.831405Z",
     "iopub.status.idle": "2023-11-21T22:05:45.869314Z",
     "shell.execute_reply": "2023-11-21T22:05:45.867884Z"
    },
    "id": "fwPt91jUKiNE",
    "jupyter": {
     "source_hidden": true
    },
    "papermill": {
     "duration": 0.069556,
     "end_time": "2023-11-21T22:05:45.872001",
     "exception": false,
     "start_time": "2023-11-21T22:05:45.802445",
     "status": "completed"
    },
    "tags": []
   },
   "outputs": [
    {
     "name": "stdout",
     "output_type": "stream",
     "text": [
      "              precision    recall  f1-score   support\n",
      "\n",
      "          CC       0.78      0.86      0.82        73\n",
      "          EC       0.83      0.87      0.85        95\n",
      "        HGSC       0.91      0.88      0.90       190\n",
      "        LGSC       0.89      0.82      0.85        38\n",
      "          MC       0.93      0.82      0.87        34\n",
      "\n",
      "    accuracy                           0.87       430\n",
      "   macro avg       0.87      0.85      0.86       430\n",
      "weighted avg       0.87      0.87      0.87       430\n",
      "\n"
     ]
    }
   ],
   "source": [
    "# Print classification report\n",
    "from sklearn.metrics import classification_report\n",
    "print(classification_report(y_train,model.predict(X_train)))"
   ]
  },
  {
   "cell_type": "code",
   "execution_count": 47,
   "id": "53373c23",
   "metadata": {
    "execution": {
     "iopub.execute_input": "2023-11-21T22:05:45.930135Z",
     "iopub.status.busy": "2023-11-21T22:05:45.928739Z",
     "iopub.status.idle": "2023-11-21T22:05:45.948848Z",
     "shell.execute_reply": "2023-11-21T22:05:45.947096Z"
    },
    "id": "NsnGap-RK_2O",
    "outputId": "bac70952-2f33-451f-fdb9-44fed6dd4bc3",
    "papermill": {
     "duration": 0.051815,
     "end_time": "2023-11-21T22:05:45.951501",
     "exception": false,
     "start_time": "2023-11-21T22:05:45.899686",
     "status": "completed"
    },
    "tags": []
   },
   "outputs": [
    {
     "name": "stdout",
     "output_type": "stream",
     "text": [
      "Confusion Matrix:\n",
      "[[10 15  8]\n",
      " [10  9 14]\n",
      " [12 15  7]]\n",
      "\n",
      "Classification Report:\n",
      "              precision    recall  f1-score   support\n",
      "\n",
      "           0       0.31      0.30      0.31        33\n",
      "           1       0.23      0.27      0.25        33\n",
      "           2       0.24      0.21      0.22        34\n",
      "\n",
      "    accuracy                           0.26       100\n",
      "   macro avg       0.26      0.26      0.26       100\n",
      "weighted avg       0.26      0.26      0.26       100\n",
      "\n"
     ]
    }
   ],
   "source": [
    "from sklearn.metrics import confusion_matrix, classification_report\n",
    "import random\n",
    "\n",
    "# Generate some sample true and predicted labels for demonstration purposes\n",
    "y_true = np.random.randint(0, 3, size=100)\n",
    "y_pred = np.random.randint(0, 3, size=100)\n",
    "\n",
    "# 1. Confusion Matrix\n",
    "conf_matrix = confusion_matrix(y_true, y_pred)\n",
    "print(\"Confusion Matrix:\")\n",
    "print(conf_matrix)\n",
    "\n",
    "# 2. Classification Report\n",
    "class_report = classification_report(y_true, y_pred)\n",
    "print(\"\\nClassification Report:\")\n",
    "print(class_report)"
   ]
  },
  {
   "cell_type": "code",
   "execution_count": null,
   "id": "1c1558a2",
   "metadata": {
    "id": "2VFgp4NML5TW",
    "papermill": {
     "duration": 0.030318,
     "end_time": "2023-11-21T22:05:46.010343",
     "exception": false,
     "start_time": "2023-11-21T22:05:45.980025",
     "status": "completed"
    },
    "tags": []
   },
   "outputs": [],
   "source": []
  },
  {
   "cell_type": "code",
   "execution_count": 48,
   "id": "eb212737",
   "metadata": {
    "execution": {
     "iopub.execute_input": "2023-11-21T22:05:46.070101Z",
     "iopub.status.busy": "2023-11-21T22:05:46.069127Z",
     "iopub.status.idle": "2023-11-21T22:05:46.073360Z",
     "shell.execute_reply": "2023-11-21T22:05:46.072519Z"
    },
    "id": "2BEaS2PW1Gh1",
    "papermill": {
     "duration": 0.037576,
     "end_time": "2023-11-21T22:05:46.075701",
     "exception": false,
     "start_time": "2023-11-21T22:05:46.038125",
     "status": "completed"
    },
    "tags": []
   },
   "outputs": [],
   "source": [
    "\n",
    "#y_pred1 = pd.DataFrame(y_pred)\n",
    "#y_pred1=y_pred1.replace({'CC ':2,'EC':5,'HGSC':6,'LGSC':4,'MC':3})\n",
    "#y_pred1.head()"
   ]
  },
  {
   "cell_type": "code",
   "execution_count": 49,
   "id": "916e0c02",
   "metadata": {
    "execution": {
     "iopub.execute_input": "2023-11-21T22:05:46.134258Z",
     "iopub.status.busy": "2023-11-21T22:05:46.133821Z",
     "iopub.status.idle": "2023-11-21T22:05:46.137751Z",
     "shell.execute_reply": "2023-11-21T22:05:46.137014Z"
    },
    "papermill": {
     "duration": 0.036742,
     "end_time": "2023-11-21T22:05:46.139953",
     "exception": false,
     "start_time": "2023-11-21T22:05:46.103211",
     "status": "completed"
    },
    "tags": []
   },
   "outputs": [],
   "source": [
    "#image_id,label\n",
    "#2,CC\n",
    "#5,EC\n",
    "#6,HGSC\n",
    "#etc."
   ]
  },
  {
   "cell_type": "code",
   "execution_count": 50,
   "id": "b17b4d8e",
   "metadata": {
    "execution": {
     "iopub.execute_input": "2023-11-21T22:05:46.197438Z",
     "iopub.status.busy": "2023-11-21T22:05:46.196703Z",
     "iopub.status.idle": "2023-11-21T22:05:46.201750Z",
     "shell.execute_reply": "2023-11-21T22:05:46.200849Z"
    },
    "id": "21932x15HSOL",
    "papermill": {
     "duration": 0.036367,
     "end_time": "2023-11-21T22:05:46.204080",
     "exception": false,
     "start_time": "2023-11-21T22:05:46.167713",
     "status": "completed"
    },
    "tags": []
   },
   "outputs": [],
   "source": [
    "# Create a submission file\n",
    "#submission = pd.DataFrame({'image_id':X_train['image_id'], 'label': y_train_pred})\n",
    "#submission\n",
    "#submission.to_csv('submission.csv', index=False)"
   ]
  },
  {
   "cell_type": "code",
   "execution_count": 51,
   "id": "f9c624f6",
   "metadata": {
    "execution": {
     "iopub.execute_input": "2023-11-21T22:05:46.263275Z",
     "iopub.status.busy": "2023-11-21T22:05:46.262586Z",
     "iopub.status.idle": "2023-11-21T22:05:46.267526Z",
     "shell.execute_reply": "2023-11-21T22:05:46.266297Z"
    },
    "id": "kKQE8m1R0zAp",
    "papermill": {
     "duration": 0.03752,
     "end_time": "2023-11-21T22:05:46.270211",
     "exception": false,
     "start_time": "2023-11-21T22:05:46.232691",
     "status": "completed"
    },
    "tags": []
   },
   "outputs": [],
   "source": [
    "import pandas as pd\n",
    "\n",
    "# Sample data\n",
    "#data = [[\n",
    "    #'image_id': [2, 5, 6,4,3],\n",
    "    #'label': ['CC', 'EC', 'HGSC','LGSC','MC']\n",
    "#]]\n",
    "#data=sample_submission_df[['image_id','label']]\n",
    "#df=pd.DataFrame(data)\n",
    "\n",
    "# Creating a DataFrame\n",
    "#df = pd.DataFrame(data)\n",
    "#df=y_pred1\n",
    "#submission['label']\n",
    "#submission\n",
    "#submission.to_csv('submission.csv',index=False)\n"
   ]
  },
  {
   "cell_type": "code",
   "execution_count": 52,
   "id": "cedc4dbc",
   "metadata": {
    "execution": {
     "iopub.execute_input": "2023-11-21T22:05:46.328112Z",
     "iopub.status.busy": "2023-11-21T22:05:46.327610Z",
     "iopub.status.idle": "2023-11-21T22:05:46.341380Z",
     "shell.execute_reply": "2023-11-21T22:05:46.340351Z"
    },
    "papermill": {
     "duration": 0.045896,
     "end_time": "2023-11-21T22:05:46.344103",
     "exception": false,
     "start_time": "2023-11-21T22:05:46.298207",
     "status": "completed"
    },
    "tags": []
   },
   "outputs": [
    {
     "data": {
      "text/plain": [
       "array(['HGSC', 'HGSC', 'HGSC', 'EC', 'HGSC', 'HGSC', 'EC', 'HGSC', 'CC',\n",
       "       'EC', 'CC', 'HGSC', 'CC', 'MC', 'LGSC', 'HGSC', 'LGSC', 'HGSC',\n",
       "       'HGSC', 'CC', 'LGSC', 'HGSC', 'CC', 'CC', 'EC', 'EC', 'HGSC',\n",
       "       'HGSC', 'LGSC', 'EC', 'CC', 'HGSC', 'CC', 'EC', 'CC', 'LGSC', 'CC',\n",
       "       'MC', 'CC', 'CC', 'CC', 'CC', 'LGSC', 'HGSC', 'EC', 'CC', 'HGSC',\n",
       "       'CC', 'LGSC', 'HGSC', 'LGSC', 'EC', 'EC', 'HGSC', 'HGSC', 'EC',\n",
       "       'HGSC', 'EC', 'HGSC', 'CC', 'EC', 'CC', 'CC', 'CC', 'HGSC', 'MC',\n",
       "       'HGSC', 'EC', 'HGSC', 'EC', 'HGSC', 'EC', 'HGSC', 'EC', 'HGSC',\n",
       "       'HGSC', 'HGSC', 'HGSC', 'LGSC', 'CC', 'CC', 'EC', 'EC', 'HGSC',\n",
       "       'CC', 'CC', 'HGSC', 'HGSC', 'HGSC', 'EC', 'CC', 'HGSC', 'CC',\n",
       "       'LGSC', 'EC', 'HGSC', 'MC', 'EC', 'CC', 'HGSC', 'HGSC', 'MC',\n",
       "       'HGSC', 'MC', 'HGSC', 'HGSC', 'EC', 'EC', 'HGSC', 'EC', 'EC',\n",
       "       'HGSC', 'HGSC', 'MC', 'HGSC', 'CC', 'HGSC', 'MC', 'EC', 'MC',\n",
       "       'HGSC', 'MC', 'HGSC', 'HGSC', 'EC', 'HGSC', 'CC', 'EC', 'EC',\n",
       "       'HGSC', 'EC', 'HGSC', 'HGSC', 'LGSC', 'EC', 'LGSC', 'CC', 'CC',\n",
       "       'CC', 'CC', 'HGSC', 'CC', 'HGSC', 'HGSC', 'LGSC', 'CC', 'HGSC',\n",
       "       'CC', 'EC', 'CC', 'HGSC', 'HGSC', 'HGSC', 'LGSC', 'MC', 'EC',\n",
       "       'LGSC', 'HGSC', 'CC', 'EC', 'HGSC', 'HGSC', 'HGSC', 'HGSC', 'EC',\n",
       "       'HGSC', 'EC', 'EC', 'HGSC', 'HGSC', 'CC', 'CC', 'HGSC', 'HGSC',\n",
       "       'EC', 'CC', 'EC', 'HGSC', 'LGSC', 'HGSC', 'HGSC', 'EC', 'HGSC',\n",
       "       'HGSC', 'HGSC', 'HGSC', 'CC', 'HGSC', 'HGSC', 'EC', 'HGSC', 'HGSC',\n",
       "       'CC', 'EC', 'EC', 'HGSC', 'HGSC', 'EC', 'LGSC', 'HGSC', 'HGSC',\n",
       "       'EC', 'EC', 'CC', 'MC', 'HGSC', 'EC', 'HGSC', 'HGSC', 'MC', 'MC',\n",
       "       'HGSC', 'HGSC', 'HGSC', 'EC', 'HGSC', 'HGSC', 'LGSC', 'HGSC', 'EC',\n",
       "       'HGSC', 'EC', 'HGSC', 'HGSC', 'HGSC', 'EC', 'CC', 'HGSC', 'EC',\n",
       "       'HGSC', 'MC', 'EC', 'CC', 'EC', 'EC', 'HGSC', 'MC', 'HGSC', 'HGSC',\n",
       "       'HGSC', 'EC', 'HGSC', 'CC', 'HGSC', 'MC', 'HGSC', 'CC', 'LGSC',\n",
       "       'HGSC', 'EC', 'HGSC', 'EC', 'EC', 'HGSC', 'CC', 'HGSC', 'CC',\n",
       "       'HGSC', 'LGSC', 'MC', 'MC', 'EC', 'HGSC', 'CC', 'EC', 'EC', 'MC',\n",
       "       'HGSC', 'HGSC', 'EC', 'HGSC', 'HGSC', 'EC', 'MC', 'HGSC', 'CC',\n",
       "       'HGSC', 'MC', 'LGSC', 'EC', 'MC', 'EC', 'LGSC', 'EC', 'EC', 'CC',\n",
       "       'HGSC', 'HGSC', 'CC', 'HGSC', 'HGSC', 'HGSC', 'CC', 'CC', 'CC',\n",
       "       'MC', 'HGSC', 'EC', 'LGSC', 'CC', 'EC', 'EC', 'HGSC', 'HGSC', 'CC',\n",
       "       'HGSC', 'HGSC', 'EC', 'EC', 'HGSC', 'EC', 'HGSC', 'EC', 'CC',\n",
       "       'HGSC', 'HGSC', 'HGSC', 'CC', 'HGSC', 'CC', 'HGSC', 'EC', 'EC',\n",
       "       'MC', 'HGSC', 'HGSC', 'HGSC', 'LGSC', 'HGSC', 'EC', 'EC', 'LGSC',\n",
       "       'HGSC', 'CC', 'LGSC', 'EC', 'HGSC', 'HGSC', 'EC', 'CC', 'HGSC',\n",
       "       'HGSC', 'EC', 'CC', 'EC', 'CC', 'HGSC', 'CC', 'EC', 'CC', 'CC',\n",
       "       'MC', 'HGSC', 'HGSC', 'MC', 'HGSC', 'HGSC', 'HGSC', 'HGSC', 'HGSC',\n",
       "       'MC', 'HGSC', 'LGSC', 'CC', 'LGSC', 'CC', 'EC', 'EC', 'HGSC', 'MC',\n",
       "       'EC', 'HGSC', 'EC', 'EC', 'HGSC', 'HGSC', 'HGSC', 'CC', 'HGSC',\n",
       "       'LGSC', 'HGSC', 'HGSC', 'HGSC', 'HGSC', 'HGSC', 'HGSC', 'EC',\n",
       "       'LGSC', 'CC', 'HGSC', 'HGSC', 'EC', 'HGSC', 'CC', 'CC', 'HGSC',\n",
       "       'HGSC', 'EC', 'EC', 'CC', 'CC', 'LGSC', 'LGSC', 'LGSC', 'EC',\n",
       "       'HGSC', 'EC', 'HGSC', 'EC', 'CC', 'HGSC', 'HGSC', 'HGSC', 'HGSC',\n",
       "       'HGSC', 'HGSC', 'CC', 'EC', 'CC', 'HGSC', 'EC', 'LGSC', 'HGSC',\n",
       "       'EC', 'HGSC', 'CC', 'HGSC', 'LGSC', 'HGSC', 'MC'], dtype=object)"
      ]
     },
     "execution_count": 52,
     "metadata": {},
     "output_type": "execute_result"
    }
   ],
   "source": [
    "y_predictions= model.predict(X_train)\n",
    "y_predictions"
   ]
  },
  {
   "cell_type": "code",
   "execution_count": 53,
   "id": "e62f5b4f",
   "metadata": {
    "execution": {
     "iopub.execute_input": "2023-11-21T22:05:46.401849Z",
     "iopub.status.busy": "2023-11-21T22:05:46.400471Z",
     "iopub.status.idle": "2023-11-21T22:05:46.409147Z",
     "shell.execute_reply": "2023-11-21T22:05:46.408244Z"
    },
    "papermill": {
     "duration": 0.039964,
     "end_time": "2023-11-21T22:05:46.411772",
     "exception": false,
     "start_time": "2023-11-21T22:05:46.371808",
     "status": "completed"
    },
    "tags": []
   },
   "outputs": [],
   "source": [
    "import pandas as pd\n",
    "\n",
    "# Sample data\n",
    "#data = [[\n",
    "    #'image_id': [2, 5, 6,4,3],\n",
    "    #'label': ['CC', 'EC', 'HGSC','LGSC','MC']\n",
    "#]]\n",
    "data=sample_submission_df[['image_id','label']]\n",
    "df=pd.DataFrame(data)\n",
    "\n",
    "# Creating a DataFrame\n",
    "#df = pd.DataFrame(data)\n",
    "#df=y_pred1\n",
    "submission= df\n",
    "submission\n",
    "submission.to_csv('submission.csv',index=False)"
   ]
  }
 ],
 "metadata": {
  "kaggle": {
   "accelerator": "none",
   "dataSources": [
    {
     "databundleVersionId": 6924515,
     "sourceId": 45867,
     "sourceType": "competition"
    }
   ],
   "dockerImageVersionId": 30558,
   "isGpuEnabled": false,
   "isInternetEnabled": false,
   "language": "python",
   "sourceType": "notebook"
  },
  "kernelspec": {
   "display_name": "Python 3",
   "language": "python",
   "name": "python3"
  },
  "language_info": {
   "codemirror_mode": {
    "name": "ipython",
    "version": 3
   },
   "file_extension": ".py",
   "mimetype": "text/x-python",
   "name": "python",
   "nbconvert_exporter": "python",
   "pygments_lexer": "ipython3",
   "version": "3.10.12"
  },
  "papermill": {
   "default_parameters": {},
   "duration": 14.896488,
   "end_time": "2023-11-21T22:05:47.163948",
   "environment_variables": {},
   "exception": null,
   "input_path": "__notebook__.ipynb",
   "output_path": "__notebook__.ipynb",
   "parameters": {},
   "start_time": "2023-11-21T22:05:32.267460",
   "version": "2.4.0"
  }
 },
 "nbformat": 4,
 "nbformat_minor": 5
}
