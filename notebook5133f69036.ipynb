{
 "cells": [
  {
   "cell_type": "markdown",
   "id": "bf60c131",
   "metadata": {
    "id": "zHkQgpcF9Vnn",
    "papermill": {
     "duration": 0.011235,
     "end_time": "2023-11-20T00:32:44.067600",
     "exception": false,
     "start_time": "2023-11-20T00:32:44.056365",
     "status": "completed"
    },
    "tags": []
   },
   "source": [
    "#UBC Ovarian Cancer Subtype Classification and Outlier Detection (UBC-OCEAN)\n",
    "**Navigating Ovarian Cancer: Unveiling Common Histotypes and Unearthing Rare Variants**"
   ]
  },
  {
   "cell_type": "code",
   "execution_count": 1,
   "id": "1eb8304a",
   "metadata": {
    "execution": {
     "iopub.execute_input": "2023-11-20T00:32:44.091485Z",
     "iopub.status.busy": "2023-11-20T00:32:44.090461Z",
     "iopub.status.idle": "2023-11-20T00:32:45.003557Z",
     "shell.execute_reply": "2023-11-20T00:32:45.002134Z"
    },
    "id": "YYUe_T0J9KnV",
    "outputId": "086bccc0-e767-4be4-d191-c526da370665",
    "papermill": {
     "duration": 0.927176,
     "end_time": "2023-11-20T00:32:45.005588",
     "exception": false,
     "start_time": "2023-11-20T00:32:44.078412",
     "status": "completed"
    },
    "tags": []
   },
   "outputs": [
    {
     "data": {
      "text/html": [
       "<div>\n",
       "<style scoped>\n",
       "    .dataframe tbody tr th:only-of-type {\n",
       "        vertical-align: middle;\n",
       "    }\n",
       "\n",
       "    .dataframe tbody tr th {\n",
       "        vertical-align: top;\n",
       "    }\n",
       "\n",
       "    .dataframe thead th {\n",
       "        text-align: right;\n",
       "    }\n",
       "</style>\n",
       "<table border=\"1\" class=\"dataframe\">\n",
       "  <thead>\n",
       "    <tr style=\"text-align: right;\">\n",
       "      <th></th>\n",
       "      <th>image_id</th>\n",
       "      <th>label</th>\n",
       "      <th>image_width</th>\n",
       "      <th>image_height</th>\n",
       "      <th>is_tma</th>\n",
       "    </tr>\n",
       "  </thead>\n",
       "  <tbody>\n",
       "    <tr>\n",
       "      <th>0</th>\n",
       "      <td>4</td>\n",
       "      <td>HGSC</td>\n",
       "      <td>23785</td>\n",
       "      <td>20008</td>\n",
       "      <td>False</td>\n",
       "    </tr>\n",
       "    <tr>\n",
       "      <th>1</th>\n",
       "      <td>66</td>\n",
       "      <td>LGSC</td>\n",
       "      <td>48871</td>\n",
       "      <td>48195</td>\n",
       "      <td>False</td>\n",
       "    </tr>\n",
       "    <tr>\n",
       "      <th>2</th>\n",
       "      <td>91</td>\n",
       "      <td>HGSC</td>\n",
       "      <td>3388</td>\n",
       "      <td>3388</td>\n",
       "      <td>True</td>\n",
       "    </tr>\n",
       "    <tr>\n",
       "      <th>3</th>\n",
       "      <td>281</td>\n",
       "      <td>LGSC</td>\n",
       "      <td>42309</td>\n",
       "      <td>15545</td>\n",
       "      <td>False</td>\n",
       "    </tr>\n",
       "    <tr>\n",
       "      <th>4</th>\n",
       "      <td>286</td>\n",
       "      <td>EC</td>\n",
       "      <td>37204</td>\n",
       "      <td>30020</td>\n",
       "      <td>False</td>\n",
       "    </tr>\n",
       "  </tbody>\n",
       "</table>\n",
       "</div>"
      ],
      "text/plain": [
       "   image_id label  image_width  image_height  is_tma\n",
       "0         4  HGSC        23785         20008   False\n",
       "1        66  LGSC        48871         48195   False\n",
       "2        91  HGSC         3388          3388    True\n",
       "3       281  LGSC        42309         15545   False\n",
       "4       286    EC        37204         30020   False"
      ]
     },
     "execution_count": 1,
     "metadata": {},
     "output_type": "execute_result"
    }
   ],
   "source": [
    "import pandas as pd\n",
    "train=pd.read_csv('/kaggle/input/UBC-OCEAN/train.csv')\n",
    "train.head()"
   ]
  },
  {
   "cell_type": "code",
   "execution_count": null,
   "id": "4ce7d849",
   "metadata": {
    "papermill": {
     "duration": 0.010884,
     "end_time": "2023-11-20T00:32:45.027627",
     "exception": false,
     "start_time": "2023-11-20T00:32:45.016743",
     "status": "completed"
    },
    "tags": []
   },
   "outputs": [],
   "source": []
  },
  {
   "cell_type": "code",
   "execution_count": 2,
   "id": "f09d5c04",
   "metadata": {
    "execution": {
     "iopub.execute_input": "2023-11-20T00:32:45.052273Z",
     "iopub.status.busy": "2023-11-20T00:32:45.051603Z",
     "iopub.status.idle": "2023-11-20T00:32:45.058274Z",
     "shell.execute_reply": "2023-11-20T00:32:45.057022Z"
    },
    "id": "PR-CkLRDFA6k",
    "outputId": "a51c7a15-0fc1-44b3-90d9-00cf021a3bc0",
    "papermill": {
     "duration": 0.021787,
     "end_time": "2023-11-20T00:32:45.060602",
     "exception": false,
     "start_time": "2023-11-20T00:32:45.038815",
     "status": "completed"
    },
    "tags": []
   },
   "outputs": [
    {
     "data": {
      "text/plain": [
       "(538, 5)"
      ]
     },
     "execution_count": 2,
     "metadata": {},
     "output_type": "execute_result"
    }
   ],
   "source": [
    "train.shape"
   ]
  },
  {
   "cell_type": "code",
   "execution_count": 3,
   "id": "ff745aa6",
   "metadata": {
    "execution": {
     "iopub.execute_input": "2023-11-20T00:32:45.086961Z",
     "iopub.status.busy": "2023-11-20T00:32:45.085697Z",
     "iopub.status.idle": "2023-11-20T00:32:45.116408Z",
     "shell.execute_reply": "2023-11-20T00:32:45.114713Z"
    },
    "id": "V70z0Hj6FEJ3",
    "outputId": "d5653dbb-ded7-4873-8df8-347fff4b7741",
    "papermill": {
     "duration": 0.046377,
     "end_time": "2023-11-20T00:32:45.118497",
     "exception": false,
     "start_time": "2023-11-20T00:32:45.072120",
     "status": "completed"
    },
    "tags": []
   },
   "outputs": [
    {
     "name": "stdout",
     "output_type": "stream",
     "text": [
      "<class 'pandas.core.frame.DataFrame'>\n",
      "RangeIndex: 538 entries, 0 to 537\n",
      "Data columns (total 5 columns):\n",
      " #   Column        Non-Null Count  Dtype \n",
      "---  ------        --------------  ----- \n",
      " 0   image_id      538 non-null    int64 \n",
      " 1   label         538 non-null    object\n",
      " 2   image_width   538 non-null    int64 \n",
      " 3   image_height  538 non-null    int64 \n",
      " 4   is_tma        538 non-null    bool  \n",
      "dtypes: bool(1), int64(3), object(1)\n",
      "memory usage: 17.5+ KB\n"
     ]
    }
   ],
   "source": [
    "train.info()"
   ]
  },
  {
   "cell_type": "code",
   "execution_count": 4,
   "id": "2a713620",
   "metadata": {
    "execution": {
     "iopub.execute_input": "2023-11-20T00:32:45.143526Z",
     "iopub.status.busy": "2023-11-20T00:32:45.142920Z",
     "iopub.status.idle": "2023-11-20T00:32:45.149725Z",
     "shell.execute_reply": "2023-11-20T00:32:45.148604Z"
    },
    "id": "NOZkEaVMFO4_",
    "outputId": "3df3d42a-cfe5-4ec0-b709-ae1c94e5aa8f",
    "papermill": {
     "duration": 0.021779,
     "end_time": "2023-11-20T00:32:45.152006",
     "exception": false,
     "start_time": "2023-11-20T00:32:45.130227",
     "status": "completed"
    },
    "tags": []
   },
   "outputs": [
    {
     "data": {
      "text/plain": [
       "image_id         int64\n",
       "label           object\n",
       "image_width      int64\n",
       "image_height     int64\n",
       "is_tma            bool\n",
       "dtype: object"
      ]
     },
     "execution_count": 4,
     "metadata": {},
     "output_type": "execute_result"
    }
   ],
   "source": [
    "train.dtypes"
   ]
  },
  {
   "cell_type": "code",
   "execution_count": 5,
   "id": "5fee2c36",
   "metadata": {
    "execution": {
     "iopub.execute_input": "2023-11-20T00:32:45.177686Z",
     "iopub.status.busy": "2023-11-20T00:32:45.177080Z",
     "iopub.status.idle": "2023-11-20T00:32:45.196515Z",
     "shell.execute_reply": "2023-11-20T00:32:45.194936Z"
    },
    "id": "3qYnB8FaFXlf",
    "outputId": "378c1341-fc7b-405b-a36c-f0d39741e713",
    "papermill": {
     "duration": 0.034117,
     "end_time": "2023-11-20T00:32:45.198373",
     "exception": false,
     "start_time": "2023-11-20T00:32:45.164256",
     "status": "completed"
    },
    "tags": []
   },
   "outputs": [
    {
     "data": {
      "text/html": [
       "<div>\n",
       "<style scoped>\n",
       "    .dataframe tbody tr th:only-of-type {\n",
       "        vertical-align: middle;\n",
       "    }\n",
       "\n",
       "    .dataframe tbody tr th {\n",
       "        vertical-align: top;\n",
       "    }\n",
       "\n",
       "    .dataframe thead th {\n",
       "        text-align: right;\n",
       "    }\n",
       "</style>\n",
       "<table border=\"1\" class=\"dataframe\">\n",
       "  <thead>\n",
       "    <tr style=\"text-align: right;\">\n",
       "      <th></th>\n",
       "      <th>image_id</th>\n",
       "      <th>image_width</th>\n",
       "      <th>image_height</th>\n",
       "    </tr>\n",
       "  </thead>\n",
       "  <tbody>\n",
       "    <tr>\n",
       "      <th>count</th>\n",
       "      <td>538.000000</td>\n",
       "      <td>538.000000</td>\n",
       "      <td>538.000000</td>\n",
       "    </tr>\n",
       "    <tr>\n",
       "      <th>mean</th>\n",
       "      <td>32194.340149</td>\n",
       "      <td>48859.533457</td>\n",
       "      <td>29729.460967</td>\n",
       "    </tr>\n",
       "    <tr>\n",
       "      <th>std</th>\n",
       "      <td>18774.950592</td>\n",
       "      <td>20040.989927</td>\n",
       "      <td>10762.899796</td>\n",
       "    </tr>\n",
       "    <tr>\n",
       "      <th>min</th>\n",
       "      <td>4.000000</td>\n",
       "      <td>2964.000000</td>\n",
       "      <td>2964.000000</td>\n",
       "    </tr>\n",
       "    <tr>\n",
       "      <th>25%</th>\n",
       "      <td>15881.250000</td>\n",
       "      <td>34509.000000</td>\n",
       "      <td>22089.500000</td>\n",
       "    </tr>\n",
       "    <tr>\n",
       "      <th>50%</th>\n",
       "      <td>32152.000000</td>\n",
       "      <td>48160.000000</td>\n",
       "      <td>29732.000000</td>\n",
       "    </tr>\n",
       "    <tr>\n",
       "      <th>75%</th>\n",
       "      <td>47892.500000</td>\n",
       "      <td>64143.750000</td>\n",
       "      <td>37880.750000</td>\n",
       "    </tr>\n",
       "    <tr>\n",
       "      <th>max</th>\n",
       "      <td>65533.000000</td>\n",
       "      <td>105763.000000</td>\n",
       "      <td>50155.000000</td>\n",
       "    </tr>\n",
       "  </tbody>\n",
       "</table>\n",
       "</div>"
      ],
      "text/plain": [
       "           image_id    image_width  image_height\n",
       "count    538.000000     538.000000    538.000000\n",
       "mean   32194.340149   48859.533457  29729.460967\n",
       "std    18774.950592   20040.989927  10762.899796\n",
       "min        4.000000    2964.000000   2964.000000\n",
       "25%    15881.250000   34509.000000  22089.500000\n",
       "50%    32152.000000   48160.000000  29732.000000\n",
       "75%    47892.500000   64143.750000  37880.750000\n",
       "max    65533.000000  105763.000000  50155.000000"
      ]
     },
     "execution_count": 5,
     "metadata": {},
     "output_type": "execute_result"
    }
   ],
   "source": [
    "train.describe()"
   ]
  },
  {
   "cell_type": "code",
   "execution_count": 6,
   "id": "45a50e0c",
   "metadata": {
    "execution": {
     "iopub.execute_input": "2023-11-20T00:32:45.222301Z",
     "iopub.status.busy": "2023-11-20T00:32:45.221941Z",
     "iopub.status.idle": "2023-11-20T00:32:45.229326Z",
     "shell.execute_reply": "2023-11-20T00:32:45.228099Z"
    },
    "id": "hVIbLw0IGXMG",
    "outputId": "8a4e45f0-f0a5-4a46-fe47-5b402cc2e73a",
    "papermill": {
     "duration": 0.022011,
     "end_time": "2023-11-20T00:32:45.231726",
     "exception": false,
     "start_time": "2023-11-20T00:32:45.209715",
     "status": "completed"
    },
    "tags": []
   },
   "outputs": [
    {
     "data": {
      "text/plain": [
       "0"
      ]
     },
     "execution_count": 6,
     "metadata": {},
     "output_type": "execute_result"
    }
   ],
   "source": [
    "train.isnull().sum().sum()"
   ]
  },
  {
   "cell_type": "code",
   "execution_count": 7,
   "id": "7bab7256",
   "metadata": {
    "execution": {
     "iopub.execute_input": "2023-11-20T00:32:45.257724Z",
     "iopub.status.busy": "2023-11-20T00:32:45.257382Z",
     "iopub.status.idle": "2023-11-20T00:32:45.272133Z",
     "shell.execute_reply": "2023-11-20T00:32:45.270636Z"
    },
    "papermill": {
     "duration": 0.030109,
     "end_time": "2023-11-20T00:32:45.274450",
     "exception": false,
     "start_time": "2023-11-20T00:32:45.244341",
     "status": "completed"
    },
    "tags": []
   },
   "outputs": [
    {
     "data": {
      "text/html": [
       "<div>\n",
       "<style scoped>\n",
       "    .dataframe tbody tr th:only-of-type {\n",
       "        vertical-align: middle;\n",
       "    }\n",
       "\n",
       "    .dataframe tbody tr th {\n",
       "        vertical-align: top;\n",
       "    }\n",
       "\n",
       "    .dataframe thead th {\n",
       "        text-align: right;\n",
       "    }\n",
       "</style>\n",
       "<table border=\"1\" class=\"dataframe\">\n",
       "  <thead>\n",
       "    <tr style=\"text-align: right;\">\n",
       "      <th></th>\n",
       "      <th>image_id</th>\n",
       "      <th>label</th>\n",
       "      <th>image_width</th>\n",
       "      <th>image_height</th>\n",
       "    </tr>\n",
       "  </thead>\n",
       "  <tbody>\n",
       "    <tr>\n",
       "      <th>0</th>\n",
       "      <td>4</td>\n",
       "      <td>HGSC</td>\n",
       "      <td>23785</td>\n",
       "      <td>20008</td>\n",
       "    </tr>\n",
       "    <tr>\n",
       "      <th>1</th>\n",
       "      <td>66</td>\n",
       "      <td>LGSC</td>\n",
       "      <td>48871</td>\n",
       "      <td>48195</td>\n",
       "    </tr>\n",
       "    <tr>\n",
       "      <th>2</th>\n",
       "      <td>91</td>\n",
       "      <td>HGSC</td>\n",
       "      <td>3388</td>\n",
       "      <td>3388</td>\n",
       "    </tr>\n",
       "    <tr>\n",
       "      <th>3</th>\n",
       "      <td>281</td>\n",
       "      <td>LGSC</td>\n",
       "      <td>42309</td>\n",
       "      <td>15545</td>\n",
       "    </tr>\n",
       "    <tr>\n",
       "      <th>4</th>\n",
       "      <td>286</td>\n",
       "      <td>EC</td>\n",
       "      <td>37204</td>\n",
       "      <td>30020</td>\n",
       "    </tr>\n",
       "  </tbody>\n",
       "</table>\n",
       "</div>"
      ],
      "text/plain": [
       "   image_id label  image_width  image_height\n",
       "0         4  HGSC        23785         20008\n",
       "1        66  LGSC        48871         48195\n",
       "2        91  HGSC         3388          3388\n",
       "3       281  LGSC        42309         15545\n",
       "4       286    EC        37204         30020"
      ]
     },
     "execution_count": 7,
     "metadata": {},
     "output_type": "execute_result"
    }
   ],
   "source": [
    "train.drop('is_tma',axis=1,inplace=True)\n",
    "train.head()"
   ]
  },
  {
   "cell_type": "code",
   "execution_count": 8,
   "id": "67037c24",
   "metadata": {
    "execution": {
     "iopub.execute_input": "2023-11-20T00:32:45.301807Z",
     "iopub.status.busy": "2023-11-20T00:32:45.300629Z",
     "iopub.status.idle": "2023-11-20T00:32:45.309929Z",
     "shell.execute_reply": "2023-11-20T00:32:45.309060Z"
    },
    "id": "wXgaGrweFoZ7",
    "outputId": "2926d915-aa72-409d-cc8d-670c9badd450",
    "papermill": {
     "duration": 0.025364,
     "end_time": "2023-11-20T00:32:45.311857",
     "exception": false,
     "start_time": "2023-11-20T00:32:45.286493",
     "status": "completed"
    },
    "tags": []
   },
   "outputs": [
    {
     "data": {
      "text/plain": [
       "label\n",
       "HGSC    0.412639\n",
       "EC      0.230483\n",
       "CC      0.184015\n",
       "LGSC    0.087361\n",
       "MC      0.085502\n",
       "Name: proportion, dtype: float64"
      ]
     },
     "execution_count": 8,
     "metadata": {},
     "output_type": "execute_result"
    }
   ],
   "source": [
    "train['label'].value_counts(normalize=True) #label is the target variable"
   ]
  },
  {
   "cell_type": "code",
   "execution_count": 9,
   "id": "4f4008b8",
   "metadata": {
    "execution": {
     "iopub.execute_input": "2023-11-20T00:32:45.339387Z",
     "iopub.status.busy": "2023-11-20T00:32:45.339059Z",
     "iopub.status.idle": "2023-11-20T00:32:45.342786Z",
     "shell.execute_reply": "2023-11-20T00:32:45.342128Z"
    },
    "id": "LcEj7bhWBu73",
    "papermill": {
     "duration": 0.019865,
     "end_time": "2023-11-20T00:32:45.344441",
     "exception": false,
     "start_time": "2023-11-20T00:32:45.324576",
     "status": "completed"
    },
    "tags": []
   },
   "outputs": [],
   "source": [
    "#CC (Clear Cell Carcinoma): Clear Cell Carcinoma is a type of ovarian cancer characterized by cells that appear clear under a microscope.\n",
    "#EC (Endometrioid Carcinoma):Endometrioid Carcinoma is a type of ovarian cancer that resembles the tissue lining the uterus (endometrium).\n",
    "#HGSC (High-Grade Serous Carcinoma): High-Grade Serous Carcinoma is an aggressive form of ovarian cancer that is typically diagnosed at an advanced stage.\n",
    "#LGSC (Low-Grade Serous Carcinoma): Low-Grade Serous Carcinoma is a less aggressive form of ovarian cancer, often diagnosed at an earlier stage.\n",
    "#MC (Mucinous Carcinoma): Mucinous Carcinoma is a type of ovarian cancer that arises from cells that produce mucus."
   ]
  },
  {
   "cell_type": "code",
   "execution_count": 10,
   "id": "0831ad16",
   "metadata": {
    "execution": {
     "iopub.execute_input": "2023-11-20T00:32:45.426979Z",
     "iopub.status.busy": "2023-11-20T00:32:45.426545Z",
     "iopub.status.idle": "2023-11-20T00:32:47.131670Z",
     "shell.execute_reply": "2023-11-20T00:32:47.130914Z"
    },
    "papermill": {
     "duration": 1.777525,
     "end_time": "2023-11-20T00:32:47.133973",
     "exception": false,
     "start_time": "2023-11-20T00:32:45.356448",
     "status": "completed"
    },
    "tags": []
   },
   "outputs": [
    {
     "data": {
      "text/plain": [
       "([<matplotlib.patches.Wedge at 0x7e613c8858d0>,\n",
       "  <matplotlib.patches.Wedge at 0x7e613c885990>,\n",
       "  <matplotlib.patches.Wedge at 0x7e613c885000>,\n",
       "  <matplotlib.patches.Wedge at 0x7e613c884b80>,\n",
       "  <matplotlib.patches.Wedge at 0x7e613c9cec50>],\n",
       " [Text(0.2981207899754956, 1.0588314287857092, 'MC'),\n",
       "  Text(-1.0831643577013341, -0.19171586842370836, 'CC'),\n",
       "  Text(-0.10262375040094325, -1.0952024314498416, 'EC'),\n",
       "  Text(0.7571124488572663, -0.7979854257975852, 'LGSC'),\n",
       "  Text(1.0605542357588946, -0.29193272001244946, 'HGSC')])"
      ]
     },
     "execution_count": 10,
     "metadata": {},
     "output_type": "execute_result"
    },
    {
     "data": {
      "image/png": "[encoded data removed]",
      "text/plain": [
       "<Figure size 640x480 with 1 Axes>"
      ]
     },
     "metadata": {},
     "output_type": "display_data"
    }
   ],
   "source": [
    "import seaborn as sns\n",
    "import matplotlib.pyplot as plt\n",
    "plt.pie(x=train['label'].value_counts(),labels={'HGSC','EC','CC','LGSC','MC'})"
   ]
  },
  {
   "cell_type": "code",
   "execution_count": 11,
   "id": "1622c506",
   "metadata": {
    "execution": {
     "iopub.execute_input": "2023-11-20T00:32:47.171637Z",
     "iopub.status.busy": "2023-11-20T00:32:47.170650Z",
     "iopub.status.idle": "2023-11-20T00:32:47.182368Z",
     "shell.execute_reply": "2023-11-20T00:32:47.181664Z"
    },
    "id": "Xu236fT8H9iC",
    "outputId": "74c50822-4a97-4690-f56c-1cdaca838722",
    "papermill": {
     "duration": 0.033273,
     "end_time": "2023-11-20T00:32:47.185211",
     "exception": false,
     "start_time": "2023-11-20T00:32:47.151938",
     "status": "completed"
    },
    "tags": []
   },
   "outputs": [
    {
     "data": {
      "text/plain": [
       "(1, 2)"
      ]
     },
     "execution_count": 11,
     "metadata": {},
     "output_type": "execute_result"
    }
   ],
   "source": [
    "sample_submission_url='/kaggle/input/UBC-OCEAN/sample_submission.csv'\n",
    "sample_submission_df=pd.read_csv(sample_submission_url)\n",
    "sample_submission_df\n",
    "sample_submission_df.shape"
   ]
  },
  {
   "cell_type": "code",
   "execution_count": 12,
   "id": "eda91fb2",
   "metadata": {
    "execution": {
     "iopub.execute_input": "2023-11-20T00:32:47.222397Z",
     "iopub.status.busy": "2023-11-20T00:32:47.222000Z",
     "iopub.status.idle": "2023-11-20T00:32:47.227669Z",
     "shell.execute_reply": "2023-11-20T00:32:47.226907Z"
    },
    "id": "byU4CrMhHi-0",
    "papermill": {
     "duration": 0.026292,
     "end_time": "2023-11-20T00:32:47.229789",
     "exception": false,
     "start_time": "2023-11-20T00:32:47.203497",
     "status": "completed"
    },
    "tags": []
   },
   "outputs": [
    {
     "data": {
      "text/plain": [
       "(538, 4)"
      ]
     },
     "execution_count": 12,
     "metadata": {},
     "output_type": "execute_result"
    }
   ],
   "source": [
    "train.shape"
   ]
  },
  {
   "cell_type": "code",
   "execution_count": 13,
   "id": "84b3f25f",
   "metadata": {
    "execution": {
     "iopub.execute_input": "2023-11-20T00:32:47.262288Z",
     "iopub.status.busy": "2023-11-20T00:32:47.261259Z",
     "iopub.status.idle": "2023-11-20T00:32:47.269651Z",
     "shell.execute_reply": "2023-11-20T00:32:47.267090Z"
    },
    "id": "CEnadhepc3kT",
    "papermill": {
     "duration": 0.029088,
     "end_time": "2023-11-20T00:32:47.273788",
     "exception": false,
     "start_time": "2023-11-20T00:32:47.244700",
     "status": "completed"
    },
    "tags": []
   },
   "outputs": [],
   "source": [
    "traget='label'\n"
   ]
  },
  {
   "cell_type": "code",
   "execution_count": 14,
   "id": "54e0fe5f",
   "metadata": {
    "execution": {
     "iopub.execute_input": "2023-11-20T00:32:47.306692Z",
     "iopub.status.busy": "2023-11-20T00:32:47.306069Z",
     "iopub.status.idle": "2023-11-20T00:32:47.508799Z",
     "shell.execute_reply": "2023-11-20T00:32:47.507603Z"
    },
    "id": "alJVMxDt1A7C",
    "outputId": "ef21362a-2602-4dc0-815a-1ac80b5ebc4b",
    "papermill": {
     "duration": 0.221807,
     "end_time": "2023-11-20T00:32:47.510846",
     "exception": false,
     "start_time": "2023-11-20T00:32:47.289039",
     "status": "completed"
    },
    "tags": []
   },
   "outputs": [
    {
     "data": {
      "text/plain": [
       "Text(0.5, 1.0, 'Distribution of Test')"
      ]
     },
     "execution_count": 14,
     "metadata": {},
     "output_type": "execute_result"
    },
    {
     "data": {
      "image/png": "[encoded data removed]",
      "text/plain": [
       "<Figure size 640x480 with 1 Axes>"
      ]
     },
     "metadata": {},
     "output_type": "display_data"
    }
   ],
   "source": [
    "import matplotlib.pyplot as plt\n",
    "\n",
    "plt.hist(train['label'])\n",
    "\n",
    "plt.ylabel('Frequency')\n",
    "plt.title(r'Distribution of Test')"
   ]
  },
  {
   "cell_type": "code",
   "execution_count": 15,
   "id": "716e4bbe",
   "metadata": {
    "execution": {
     "iopub.execute_input": "2023-11-20T00:32:47.543104Z",
     "iopub.status.busy": "2023-11-20T00:32:47.542409Z",
     "iopub.status.idle": "2023-11-20T00:32:47.716076Z",
     "shell.execute_reply": "2023-11-20T00:32:47.715271Z"
    },
    "id": "ssbZkkkwYMmo",
    "outputId": "3207f484-2850-447e-cd0b-1cff65b5b0ce",
    "papermill": {
     "duration": 0.193416,
     "end_time": "2023-11-20T00:32:47.718193",
     "exception": false,
     "start_time": "2023-11-20T00:32:47.524777",
     "status": "completed"
    },
    "tags": []
   },
   "outputs": [
    {
     "data": {
      "text/plain": [
       "Text(0.5, 1.0, 'Box Plot of All Columns')"
      ]
     },
     "execution_count": 15,
     "metadata": {},
     "output_type": "execute_result"
    },
    {
     "data": {
      "image/png": "[encoded data removed]",
      "text/plain": [
       "<Figure size 640x480 with 1 Axes>"
      ]
     },
     "metadata": {},
     "output_type": "display_data"
    }
   ],
   "source": [
    "import seaborn  as sns\n",
    "import matplotlib.pyplot as plt\n",
    "outlin=['image_id', 'label', 'image_width','image_height']\n",
    "\n",
    "sns.boxplot(data=train[outlin], orient='h')  # 'orient' is set to 'h' for horizontal box plots\n",
    "\n",
    "plt.xlabel('Values')\n",
    "plt.title('Box Plot of All Columns')"
   ]
  },
  {
   "cell_type": "code",
   "execution_count": 16,
   "id": "e2d11ae9",
   "metadata": {
    "execution": {
     "iopub.execute_input": "2023-11-20T00:32:47.746917Z",
     "iopub.status.busy": "2023-11-20T00:32:47.746346Z",
     "iopub.status.idle": "2023-11-20T00:32:47.751253Z",
     "shell.execute_reply": "2023-11-20T00:32:47.750340Z"
    },
    "id": "TJBJNuXENU8k",
    "papermill": {
     "duration": 0.021871,
     "end_time": "2023-11-20T00:32:47.753406",
     "exception": false,
     "start_time": "2023-11-20T00:32:47.731535",
     "status": "completed"
    },
    "tags": []
   },
   "outputs": [],
   "source": [
    "#split X,y\n",
    "X=train.drop('label',axis=1)\n",
    "y=train['label']"
   ]
  },
  {
   "cell_type": "code",
   "execution_count": 17,
   "id": "a679e414",
   "metadata": {
    "execution": {
     "iopub.execute_input": "2023-11-20T00:32:47.781893Z",
     "iopub.status.busy": "2023-11-20T00:32:47.781504Z",
     "iopub.status.idle": "2023-11-20T00:32:47.787514Z",
     "shell.execute_reply": "2023-11-20T00:32:47.786661Z"
    },
    "id": "4K9gtM2VNf0K",
    "outputId": "0de0b9b7-0e09-471e-b1dc-6ee85082b84c",
    "papermill": {
     "duration": 0.022348,
     "end_time": "2023-11-20T00:32:47.789264",
     "exception": false,
     "start_time": "2023-11-20T00:32:47.766916",
     "status": "completed"
    },
    "tags": []
   },
   "outputs": [
    {
     "data": {
      "text/plain": [
       "((538, 3), (538,))"
      ]
     },
     "execution_count": 17,
     "metadata": {},
     "output_type": "execute_result"
    }
   ],
   "source": [
    "X.shape,y.shape"
   ]
  },
  {
   "cell_type": "code",
   "execution_count": 18,
   "id": "75db2f66",
   "metadata": {
    "execution": {
     "iopub.execute_input": "2023-11-20T00:32:47.817059Z",
     "iopub.status.busy": "2023-11-20T00:32:47.816703Z",
     "iopub.status.idle": "2023-11-20T00:32:47.825539Z",
     "shell.execute_reply": "2023-11-20T00:32:47.824646Z"
    },
    "id": "CRqIvC9RNpMA",
    "outputId": "3bdfe914-b576-437e-9e92-b0e064d07746",
    "papermill": {
     "duration": 0.024704,
     "end_time": "2023-11-20T00:32:47.827469",
     "exception": false,
     "start_time": "2023-11-20T00:32:47.802765",
     "status": "completed"
    },
    "tags": []
   },
   "outputs": [
    {
     "data": {
      "text/html": [
       "<div>\n",
       "<style scoped>\n",
       "    .dataframe tbody tr th:only-of-type {\n",
       "        vertical-align: middle;\n",
       "    }\n",
       "\n",
       "    .dataframe tbody tr th {\n",
       "        vertical-align: top;\n",
       "    }\n",
       "\n",
       "    .dataframe thead th {\n",
       "        text-align: right;\n",
       "    }\n",
       "</style>\n",
       "<table border=\"1\" class=\"dataframe\">\n",
       "  <thead>\n",
       "    <tr style=\"text-align: right;\">\n",
       "      <th></th>\n",
       "      <th>image_id</th>\n",
       "      <th>image_width</th>\n",
       "      <th>image_height</th>\n",
       "    </tr>\n",
       "  </thead>\n",
       "  <tbody>\n",
       "    <tr>\n",
       "      <th>0</th>\n",
       "      <td>4</td>\n",
       "      <td>23785</td>\n",
       "      <td>20008</td>\n",
       "    </tr>\n",
       "    <tr>\n",
       "      <th>1</th>\n",
       "      <td>66</td>\n",
       "      <td>48871</td>\n",
       "      <td>48195</td>\n",
       "    </tr>\n",
       "    <tr>\n",
       "      <th>2</th>\n",
       "      <td>91</td>\n",
       "      <td>3388</td>\n",
       "      <td>3388</td>\n",
       "    </tr>\n",
       "    <tr>\n",
       "      <th>3</th>\n",
       "      <td>281</td>\n",
       "      <td>42309</td>\n",
       "      <td>15545</td>\n",
       "    </tr>\n",
       "    <tr>\n",
       "      <th>4</th>\n",
       "      <td>286</td>\n",
       "      <td>37204</td>\n",
       "      <td>30020</td>\n",
       "    </tr>\n",
       "  </tbody>\n",
       "</table>\n",
       "</div>"
      ],
      "text/plain": [
       "   image_id  image_width  image_height\n",
       "0         4        23785         20008\n",
       "1        66        48871         48195\n",
       "2        91         3388          3388\n",
       "3       281        42309         15545\n",
       "4       286        37204         30020"
      ]
     },
     "execution_count": 18,
     "metadata": {},
     "output_type": "execute_result"
    }
   ],
   "source": [
    "X.head()"
   ]
  },
  {
   "cell_type": "code",
   "execution_count": 19,
   "id": "3d6c253a",
   "metadata": {
    "execution": {
     "iopub.execute_input": "2023-11-20T00:32:47.855687Z",
     "iopub.status.busy": "2023-11-20T00:32:47.855343Z",
     "iopub.status.idle": "2023-11-20T00:32:47.862598Z",
     "shell.execute_reply": "2023-11-20T00:32:47.861520Z"
    },
    "id": "8sj0teWCNuJE",
    "papermill": {
     "duration": 0.023704,
     "end_time": "2023-11-20T00:32:47.864583",
     "exception": false,
     "start_time": "2023-11-20T00:32:47.840879",
     "status": "completed"
    },
    "tags": []
   },
   "outputs": [
    {
     "data": {
      "text/plain": [
       "0    HGSC\n",
       "1    LGSC\n",
       "2    HGSC\n",
       "3    LGSC\n",
       "4      EC\n",
       "Name: label, dtype: object"
      ]
     },
     "execution_count": 19,
     "metadata": {},
     "output_type": "execute_result"
    }
   ],
   "source": [
    "y.head()"
   ]
  },
  {
   "cell_type": "code",
   "execution_count": 20,
   "id": "b81e8fa0",
   "metadata": {
    "execution": {
     "iopub.execute_input": "2023-11-20T00:32:47.893763Z",
     "iopub.status.busy": "2023-11-20T00:32:47.893389Z",
     "iopub.status.idle": "2023-11-20T00:32:48.208138Z",
     "shell.execute_reply": "2023-11-20T00:32:48.207349Z"
    },
    "id": "74o-VyqfOHPV",
    "papermill": {
     "duration": 0.331895,
     "end_time": "2023-11-20T00:32:48.210445",
     "exception": false,
     "start_time": "2023-11-20T00:32:47.878550",
     "status": "completed"
    },
    "tags": []
   },
   "outputs": [],
   "source": [
    "from sklearn.model_selection import train_test_split\n",
    "X_train, X_val, y_train, y_val = train_test_split(\n",
    "    X, y, test_size=0.2, random_state=1)"
   ]
  },
  {
   "cell_type": "code",
   "execution_count": 21,
   "id": "e9d94681",
   "metadata": {
    "execution": {
     "iopub.execute_input": "2023-11-20T00:32:48.239605Z",
     "iopub.status.busy": "2023-11-20T00:32:48.238568Z",
     "iopub.status.idle": "2023-11-20T00:32:48.245326Z",
     "shell.execute_reply": "2023-11-20T00:32:48.244394Z"
    },
    "id": "wmLe-OjMOoPX",
    "outputId": "58a918e8-2cae-47f2-8f3e-43d4142bc6ed",
    "papermill": {
     "duration": 0.023424,
     "end_time": "2023-11-20T00:32:48.247596",
     "exception": false,
     "start_time": "2023-11-20T00:32:48.224172",
     "status": "completed"
    },
    "tags": []
   },
   "outputs": [
    {
     "data": {
      "text/plain": [
       "((430, 3), (430,), (108, 3), (108,))"
      ]
     },
     "execution_count": 21,
     "metadata": {},
     "output_type": "execute_result"
    }
   ],
   "source": [
    "X_train.shape,y_train.shape,X_val.shape,y_val.shape"
   ]
  },
  {
   "cell_type": "code",
   "execution_count": 22,
   "id": "dbd43633",
   "metadata": {
    "execution": {
     "iopub.execute_input": "2023-11-20T00:32:48.278207Z",
     "iopub.status.busy": "2023-11-20T00:32:48.277422Z",
     "iopub.status.idle": "2023-11-20T00:32:48.286860Z",
     "shell.execute_reply": "2023-11-20T00:32:48.285383Z"
    },
    "id": "fAGMh9wgO3vO",
    "outputId": "9f66ac52-1cee-4183-a0c8-43af20bbf3c6",
    "papermill": {
     "duration": 0.027783,
     "end_time": "2023-11-20T00:32:48.289318",
     "exception": false,
     "start_time": "2023-11-20T00:32:48.261535",
     "status": "completed"
    },
    "tags": []
   },
   "outputs": [
    {
     "data": {
      "text/html": [
       "<div>\n",
       "<style scoped>\n",
       "    .dataframe tbody tr th:only-of-type {\n",
       "        vertical-align: middle;\n",
       "    }\n",
       "\n",
       "    .dataframe tbody tr th {\n",
       "        vertical-align: top;\n",
       "    }\n",
       "\n",
       "    .dataframe thead th {\n",
       "        text-align: right;\n",
       "    }\n",
       "</style>\n",
       "<table border=\"1\" class=\"dataframe\">\n",
       "  <thead>\n",
       "    <tr style=\"text-align: right;\">\n",
       "      <th></th>\n",
       "      <th>image_id</th>\n",
       "      <th>image_width</th>\n",
       "      <th>image_height</th>\n",
       "    </tr>\n",
       "  </thead>\n",
       "  <tbody>\n",
       "    <tr>\n",
       "      <th>85</th>\n",
       "      <td>9341</td>\n",
       "      <td>69320</td>\n",
       "      <td>36671</td>\n",
       "    </tr>\n",
       "    <tr>\n",
       "      <th>515</th>\n",
       "      <td>62641</td>\n",
       "      <td>16662</td>\n",
       "      <td>32055</td>\n",
       "    </tr>\n",
       "    <tr>\n",
       "      <th>146</th>\n",
       "      <td>17365</td>\n",
       "      <td>43902</td>\n",
       "      <td>26689</td>\n",
       "    </tr>\n",
       "    <tr>\n",
       "      <th>522</th>\n",
       "      <td>63367</td>\n",
       "      <td>62905</td>\n",
       "      <td>24783</td>\n",
       "    </tr>\n",
       "    <tr>\n",
       "      <th>223</th>\n",
       "      <td>27747</td>\n",
       "      <td>47487</td>\n",
       "      <td>28122</td>\n",
       "    </tr>\n",
       "  </tbody>\n",
       "</table>\n",
       "</div>"
      ],
      "text/plain": [
       "     image_id  image_width  image_height\n",
       "85       9341        69320         36671\n",
       "515     62641        16662         32055\n",
       "146     17365        43902         26689\n",
       "522     63367        62905         24783\n",
       "223     27747        47487         28122"
      ]
     },
     "execution_count": 22,
     "metadata": {},
     "output_type": "execute_result"
    }
   ],
   "source": [
    "X_train.head()"
   ]
  },
  {
   "cell_type": "code",
   "execution_count": 23,
   "id": "9b80fc58",
   "metadata": {
    "execution": {
     "iopub.execute_input": "2023-11-20T00:32:48.319188Z",
     "iopub.status.busy": "2023-11-20T00:32:48.318726Z",
     "iopub.status.idle": "2023-11-20T00:32:48.326791Z",
     "shell.execute_reply": "2023-11-20T00:32:48.325852Z"
    },
    "id": "idILq3-8PArj",
    "outputId": "9b7692ae-c7e8-4952-db90-18563d3e19a8",
    "papermill": {
     "duration": 0.02521,
     "end_time": "2023-11-20T00:32:48.328876",
     "exception": false,
     "start_time": "2023-11-20T00:32:48.303666",
     "status": "completed"
    },
    "tags": []
   },
   "outputs": [
    {
     "data": {
      "text/html": [
       "<div>\n",
       "<style scoped>\n",
       "    .dataframe tbody tr th:only-of-type {\n",
       "        vertical-align: middle;\n",
       "    }\n",
       "\n",
       "    .dataframe tbody tr th {\n",
       "        vertical-align: top;\n",
       "    }\n",
       "\n",
       "    .dataframe thead th {\n",
       "        text-align: right;\n",
       "    }\n",
       "</style>\n",
       "<table border=\"1\" class=\"dataframe\">\n",
       "  <thead>\n",
       "    <tr style=\"text-align: right;\">\n",
       "      <th></th>\n",
       "      <th>image_id</th>\n",
       "      <th>image_width</th>\n",
       "      <th>image_height</th>\n",
       "    </tr>\n",
       "  </thead>\n",
       "  <tbody>\n",
       "    <tr>\n",
       "      <th>159</th>\n",
       "      <td>18813</td>\n",
       "      <td>54671</td>\n",
       "      <td>32443</td>\n",
       "    </tr>\n",
       "    <tr>\n",
       "      <th>397</th>\n",
       "      <td>46815</td>\n",
       "      <td>40640</td>\n",
       "      <td>45411</td>\n",
       "    </tr>\n",
       "    <tr>\n",
       "      <th>323</th>\n",
       "      <td>38669</td>\n",
       "      <td>41105</td>\n",
       "      <td>27185</td>\n",
       "    </tr>\n",
       "    <tr>\n",
       "      <th>400</th>\n",
       "      <td>47105</td>\n",
       "      <td>39020</td>\n",
       "      <td>39353</td>\n",
       "    </tr>\n",
       "    <tr>\n",
       "      <th>237</th>\n",
       "      <td>29147</td>\n",
       "      <td>38610</td>\n",
       "      <td>26181</td>\n",
       "    </tr>\n",
       "  </tbody>\n",
       "</table>\n",
       "</div>"
      ],
      "text/plain": [
       "     image_id  image_width  image_height\n",
       "159     18813        54671         32443\n",
       "397     46815        40640         45411\n",
       "323     38669        41105         27185\n",
       "400     47105        39020         39353\n",
       "237     29147        38610         26181"
      ]
     },
     "execution_count": 23,
     "metadata": {},
     "output_type": "execute_result"
    }
   ],
   "source": [
    "X_val.head()"
   ]
  },
  {
   "cell_type": "code",
   "execution_count": 24,
   "id": "7bb75f4f",
   "metadata": {
    "execution": {
     "iopub.execute_input": "2023-11-20T00:32:48.359472Z",
     "iopub.status.busy": "2023-11-20T00:32:48.359050Z",
     "iopub.status.idle": "2023-11-20T00:32:48.377533Z",
     "shell.execute_reply": "2023-11-20T00:32:48.376593Z"
    },
    "id": "Pro3MYuTSEkn",
    "outputId": "04e1aa5f-b63a-49ef-b6fc-505b527561eb",
    "papermill": {
     "duration": 0.036788,
     "end_time": "2023-11-20T00:32:48.379932",
     "exception": false,
     "start_time": "2023-11-20T00:32:48.343144",
     "status": "completed"
    },
    "tags": []
   },
   "outputs": [
    {
     "data": {
      "text/html": [
       "<div>\n",
       "<style scoped>\n",
       "    .dataframe tbody tr th:only-of-type {\n",
       "        vertical-align: middle;\n",
       "    }\n",
       "\n",
       "    .dataframe tbody tr th {\n",
       "        vertical-align: top;\n",
       "    }\n",
       "\n",
       "    .dataframe thead th {\n",
       "        text-align: right;\n",
       "    }\n",
       "</style>\n",
       "<table border=\"1\" class=\"dataframe\">\n",
       "  <thead>\n",
       "    <tr style=\"text-align: right;\">\n",
       "      <th></th>\n",
       "      <th>image_id</th>\n",
       "      <th>image_width</th>\n",
       "      <th>image_height</th>\n",
       "    </tr>\n",
       "  </thead>\n",
       "  <tbody>\n",
       "    <tr>\n",
       "      <th>0</th>\n",
       "      <td>41</td>\n",
       "      <td>28469</td>\n",
       "      <td>16987</td>\n",
       "    </tr>\n",
       "  </tbody>\n",
       "</table>\n",
       "</div>"
      ],
      "text/plain": [
       "   image_id  image_width  image_height\n",
       "0        41        28469         16987"
      ]
     },
     "execution_count": 24,
     "metadata": {},
     "output_type": "execute_result"
    }
   ],
   "source": [
    "#test data\n",
    "test=pd.read_csv('/kaggle/input/UBC-OCEAN/test.csv')\n",
    "test.head()"
   ]
  },
  {
   "cell_type": "code",
   "execution_count": 25,
   "id": "3ed945ed",
   "metadata": {
    "execution": {
     "iopub.execute_input": "2023-11-20T00:32:48.410579Z",
     "iopub.status.busy": "2023-11-20T00:32:48.409907Z",
     "iopub.status.idle": "2023-11-20T00:32:48.416074Z",
     "shell.execute_reply": "2023-11-20T00:32:48.415010Z"
    },
    "id": "Rt26ofN_437F",
    "outputId": "9dd6f105-09a5-467d-f5b0-a7651ce19c18",
    "papermill": {
     "duration": 0.024192,
     "end_time": "2023-11-20T00:32:48.418743",
     "exception": false,
     "start_time": "2023-11-20T00:32:48.394551",
     "status": "completed"
    },
    "tags": []
   },
   "outputs": [
    {
     "data": {
      "text/plain": [
       "(1, 3)"
      ]
     },
     "execution_count": 25,
     "metadata": {},
     "output_type": "execute_result"
    }
   ],
   "source": [
    "test.shape"
   ]
  },
  {
   "cell_type": "code",
   "execution_count": 26,
   "id": "ff85857c",
   "metadata": {
    "execution": {
     "iopub.execute_input": "2023-11-20T00:32:48.449534Z",
     "iopub.status.busy": "2023-11-20T00:32:48.449188Z",
     "iopub.status.idle": "2023-11-20T00:32:48.456446Z",
     "shell.execute_reply": "2023-11-20T00:32:48.455007Z"
    },
    "id": "sZ5z6jqc4ri9",
    "outputId": "5f452a50-7922-4738-801b-160fb44d8490",
    "papermill": {
     "duration": 0.025195,
     "end_time": "2023-11-20T00:32:48.458509",
     "exception": false,
     "start_time": "2023-11-20T00:32:48.433314",
     "status": "completed"
    },
    "tags": []
   },
   "outputs": [
    {
     "data": {
      "text/plain": [
       "(1, 3)"
      ]
     },
     "execution_count": 26,
     "metadata": {},
     "output_type": "execute_result"
    }
   ],
   "source": [
    "test.shape"
   ]
  },
  {
   "cell_type": "code",
   "execution_count": 27,
   "id": "25d99d2c",
   "metadata": {
    "execution": {
     "iopub.execute_input": "2023-11-20T00:32:48.489979Z",
     "iopub.status.busy": "2023-11-20T00:32:48.489627Z",
     "iopub.status.idle": "2023-11-20T00:32:48.493740Z",
     "shell.execute_reply": "2023-11-20T00:32:48.492911Z"
    },
    "papermill": {
     "duration": 0.022329,
     "end_time": "2023-11-20T00:32:48.495437",
     "exception": false,
     "start_time": "2023-11-20T00:32:48.473108",
     "status": "completed"
    },
    "tags": []
   },
   "outputs": [],
   "source": [
    "X_test=test"
   ]
  },
  {
   "cell_type": "code",
   "execution_count": 28,
   "id": "3ebf15b3",
   "metadata": {
    "execution": {
     "iopub.execute_input": "2023-11-20T00:32:48.526359Z",
     "iopub.status.busy": "2023-11-20T00:32:48.526009Z",
     "iopub.status.idle": "2023-11-20T00:32:48.532739Z",
     "shell.execute_reply": "2023-11-20T00:32:48.531206Z"
    },
    "id": "K6X92yuU5SzU",
    "outputId": "728f4081-36a3-496c-bf4e-1de19c5a399c",
    "papermill": {
     "duration": 0.02514,
     "end_time": "2023-11-20T00:32:48.535185",
     "exception": false,
     "start_time": "2023-11-20T00:32:48.510045",
     "status": "completed"
    },
    "tags": []
   },
   "outputs": [
    {
     "data": {
      "text/plain": [
       "(1, 3)"
      ]
     },
     "execution_count": 28,
     "metadata": {},
     "output_type": "execute_result"
    }
   ],
   "source": [
    "X_test.shape"
   ]
  },
  {
   "cell_type": "code",
   "execution_count": 29,
   "id": "f04758f9",
   "metadata": {
    "execution": {
     "iopub.execute_input": "2023-11-20T00:32:48.566509Z",
     "iopub.status.busy": "2023-11-20T00:32:48.566203Z",
     "iopub.status.idle": "2023-11-20T00:32:48.575718Z",
     "shell.execute_reply": "2023-11-20T00:32:48.574618Z"
    },
    "id": "LS67_AeM5ePi",
    "outputId": "05d748d1-5697-4f88-d3c1-5b151ab49775",
    "papermill": {
     "duration": 0.028138,
     "end_time": "2023-11-20T00:32:48.578238",
     "exception": false,
     "start_time": "2023-11-20T00:32:48.550100",
     "status": "completed"
    },
    "tags": []
   },
   "outputs": [
    {
     "data": {
      "text/html": [
       "<div>\n",
       "<style scoped>\n",
       "    .dataframe tbody tr th:only-of-type {\n",
       "        vertical-align: middle;\n",
       "    }\n",
       "\n",
       "    .dataframe tbody tr th {\n",
       "        vertical-align: top;\n",
       "    }\n",
       "\n",
       "    .dataframe thead th {\n",
       "        text-align: right;\n",
       "    }\n",
       "</style>\n",
       "<table border=\"1\" class=\"dataframe\">\n",
       "  <thead>\n",
       "    <tr style=\"text-align: right;\">\n",
       "      <th></th>\n",
       "      <th>image_id</th>\n",
       "      <th>image_width</th>\n",
       "      <th>image_height</th>\n",
       "    </tr>\n",
       "  </thead>\n",
       "  <tbody>\n",
       "    <tr>\n",
       "      <th>0</th>\n",
       "      <td>41</td>\n",
       "      <td>28469</td>\n",
       "      <td>16987</td>\n",
       "    </tr>\n",
       "  </tbody>\n",
       "</table>\n",
       "</div>"
      ],
      "text/plain": [
       "   image_id  image_width  image_height\n",
       "0        41        28469         16987"
      ]
     },
     "execution_count": 29,
     "metadata": {},
     "output_type": "execute_result"
    }
   ],
   "source": [
    "X_test.head()"
   ]
  },
  {
   "cell_type": "code",
   "execution_count": 30,
   "id": "31cc39bb",
   "metadata": {
    "execution": {
     "iopub.execute_input": "2023-11-20T00:32:48.609404Z",
     "iopub.status.busy": "2023-11-20T00:32:48.609052Z",
     "iopub.status.idle": "2023-11-20T00:32:48.616517Z",
     "shell.execute_reply": "2023-11-20T00:32:48.615644Z"
    },
    "id": "yWxQ37AKkdBU",
    "papermill": {
     "duration": 0.025861,
     "end_time": "2023-11-20T00:32:48.618861",
     "exception": false,
     "start_time": "2023-11-20T00:32:48.593000",
     "status": "completed"
    },
    "tags": []
   },
   "outputs": [
    {
     "data": {
      "text/plain": [
       "85      9341\n",
       "515    62641\n",
       "146    17365\n",
       "522    63367\n",
       "223    27747\n",
       "       ...  \n",
       "129    15470\n",
       "144    17174\n",
       "72      8130\n",
       "235    28922\n",
       "37      4134\n",
       "Name: image_id, Length: 430, dtype: int64"
      ]
     },
     "execution_count": 30,
     "metadata": {},
     "output_type": "execute_result"
    }
   ],
   "source": [
    "#y_pred='functional'\n",
    "#y_pred\n",
    "from sklearn.metrics import accuracy_score\n",
    "import numpy as np\n",
    "#y_pred = pd.DataFrame(np.zeros((len(X_test)),dtype=int))\n",
    "#y_pred\n",
    "#y_pred=[0,0,0,0]\n",
    "#y_true=[0,1,2,0]\n",
    "#accuracy_score(y_true,y_pred)\n",
    "submission= X_train['image_id']\n",
    "\n",
    "#submission.to_csv('submission.csv',index=False)\n",
    "submission"
   ]
  },
  {
   "cell_type": "code",
   "execution_count": 31,
   "id": "f5051fe1",
   "metadata": {
    "execution": {
     "iopub.execute_input": "2023-11-20T00:32:48.651241Z",
     "iopub.status.busy": "2023-11-20T00:32:48.650877Z",
     "iopub.status.idle": "2023-11-20T00:32:48.656123Z",
     "shell.execute_reply": "2023-11-20T00:32:48.654754Z"
    },
    "id": "gUa0Et0YjLSZ",
    "outputId": "3a7b8525-d196-4c42-d299-3f8cfb2e66fd",
    "papermill": {
     "duration": 0.023669,
     "end_time": "2023-11-20T00:32:48.657973",
     "exception": false,
     "start_time": "2023-11-20T00:32:48.634304",
     "status": "completed"
    },
    "tags": []
   },
   "outputs": [
    {
     "name": "stdout",
     "output_type": "stream",
     "text": [
      "Baseline Accuracy Score: 0.82\n"
     ]
    }
   ],
   "source": [
    "baseline_acc = 0.82\n",
    "print('Baseline Accuracy Score:', baseline_acc)"
   ]
  },
  {
   "cell_type": "code",
   "execution_count": 32,
   "id": "fbb06104",
   "metadata": {
    "execution": {
     "iopub.execute_input": "2023-11-20T00:32:48.689451Z",
     "iopub.status.busy": "2023-11-20T00:32:48.688692Z",
     "iopub.status.idle": "2023-11-20T00:32:49.377977Z",
     "shell.execute_reply": "2023-11-20T00:32:49.376505Z"
    },
    "id": "UafHV1nhH4Yl",
    "outputId": "0f17598f-52f2-42c7-f5d4-e0287f46f830",
    "papermill": {
     "duration": 0.707679,
     "end_time": "2023-11-20T00:32:49.380389",
     "exception": false,
     "start_time": "2023-11-20T00:32:48.672710",
     "status": "completed"
    },
    "tags": []
   },
   "outputs": [
    {
     "name": "stdout",
     "output_type": "stream",
     "text": [
      "train Validation Accuracy 0.47674418604651164\n"
     ]
    }
   ],
   "source": [
    "#Building our first model (DecisionTreeClassifier)\n",
    "\n",
    "import category_encoders as ce\n",
    "from sklearn.pipeline import make_pipeline\n",
    "from sklearn.tree import DecisionTreeClassifier\n",
    "\n",
    "pipeline=make_pipeline(\n",
    "   #ce.OrdinalEncoder(),\n",
    "   DecisionTreeClassifier(max_depth=3,max_features=100,random_state=41)\n",
    ")\n",
    "pipeline.fit(X_train,y_train)\n",
    "print(\"train Validation Accuracy\",pipeline.score(X_train,y_train))"
   ]
  },
  {
   "cell_type": "code",
   "execution_count": 33,
   "id": "dfde45d2",
   "metadata": {
    "execution": {
     "iopub.execute_input": "2023-11-20T00:32:49.413564Z",
     "iopub.status.busy": "2023-11-20T00:32:49.413208Z",
     "iopub.status.idle": "2023-11-20T00:32:49.420683Z",
     "shell.execute_reply": "2023-11-20T00:32:49.420062Z"
    },
    "papermill": {
     "duration": 0.026376,
     "end_time": "2023-11-20T00:32:49.422490",
     "exception": false,
     "start_time": "2023-11-20T00:32:49.396114",
     "status": "completed"
    },
    "tags": []
   },
   "outputs": [
    {
     "data": {
      "text/plain": [
       "array(['HGSC'], dtype=object)"
      ]
     },
     "execution_count": 33,
     "metadata": {},
     "output_type": "execute_result"
    }
   ],
   "source": [
    "y_pred=pipeline.predict(X_test)\n",
    "y_pred"
   ]
  },
  {
   "cell_type": "code",
   "execution_count": 34,
   "id": "c444f211",
   "metadata": {
    "execution": {
     "iopub.execute_input": "2023-11-20T00:32:49.454550Z",
     "iopub.status.busy": "2023-11-20T00:32:49.454163Z",
     "iopub.status.idle": "2023-11-20T00:32:49.462869Z",
     "shell.execute_reply": "2023-11-20T00:32:49.461903Z"
    },
    "id": "2i13pga1Rlp4",
    "outputId": "eb0413bf-9239-4343-cfe0-9ae2a3a4c4e4",
    "papermill": {
     "duration": 0.027202,
     "end_time": "2023-11-20T00:32:49.464783",
     "exception": false,
     "start_time": "2023-11-20T00:32:49.437581",
     "status": "completed"
    },
    "tags": []
   },
   "outputs": [
    {
     "name": "stdout",
     "output_type": "stream",
     "text": [
      "val Accuracy 0.32407407407407407\n"
     ]
    }
   ],
   "source": [
    "#print(\"test Accuracy\",pipeline.score(X_test,y_test))\n",
    "print(\"val Accuracy\",pipeline.score(X_val,y_val))"
   ]
  },
  {
   "cell_type": "code",
   "execution_count": null,
   "id": "68171804",
   "metadata": {
    "id": "EfQYKKdO9K7c",
    "papermill": {
     "duration": 0.015705,
     "end_time": "2023-11-20T00:32:49.496375",
     "exception": false,
     "start_time": "2023-11-20T00:32:49.480670",
     "status": "completed"
    },
    "tags": []
   },
   "outputs": [],
   "source": []
  },
  {
   "cell_type": "code",
   "execution_count": 35,
   "id": "e11b81c4",
   "metadata": {
    "execution": {
     "iopub.execute_input": "2023-11-20T00:32:49.529701Z",
     "iopub.status.busy": "2023-11-20T00:32:49.529334Z",
     "iopub.status.idle": "2023-11-20T00:32:49.783098Z",
     "shell.execute_reply": "2023-11-20T00:32:49.781984Z"
    },
    "id": "Nkj33MbDZcny",
    "outputId": "7073c926-cd0d-43e3-b21a-a7ac37bbf46d",
    "papermill": {
     "duration": 0.273247,
     "end_time": "2023-11-20T00:32:49.785651",
     "exception": false,
     "start_time": "2023-11-20T00:32:49.512404",
     "status": "completed"
    },
    "tags": []
   },
   "outputs": [
    {
     "data": {
      "image/svg+xml": [
       "<?xml version=\"1.0\" encoding=\"UTF-8\" standalone=\"no\"?>\n",
       "<!DOCTYPE svg PUBLIC \"-//W3C//DTD SVG 1.1//EN\"\n",
       " \"http://www.w3.org/Graphics/SVG/1.1/DTD/svg11.dtd\">\n",
       "<!-- Generated by graphviz version 8.1.0 (20230707.2238)\n",
       " -->\n",
       "<!-- Title: Tree Pages: 1 -->\n",
       "<svg width=\"2276pt\" height=\"407pt\"\n",
       " viewBox=\"0.00 0.00 2275.50 406.75\" xmlns=\"http://www.w3.org/2000/svg\" xmlns:xlink=\"http://www.w3.org/1999/xlink\">\n",
       "<g id=\"graph0\" class=\"graph\" transform=\"scale(1 1) rotate(0) translate(4 402.75)\">\n",
       "<title>Tree</title>\n",
       "<polygon fill=\"white\" stroke=\"none\" points=\"-4,4 -4,-402.75 2271.5,-402.75 2271.5,4 -4,4\"/>\n",
       "<!-- 0 -->\n",
       "<g id=\"node1\" class=\"node\">\n",
       "<title>0</title>\n",
       "<polygon fill=\"#c7f8ef\" stroke=\"black\" points=\"1243,-398.75 928.5,-398.75 928.5,-321.75 1243,-321.75 1243,-398.75\"/>\n",
       "<text text-anchor=\"middle\" x=\"1085.75\" y=\"-381.45\" font-family=\"Helvetica,sans-Serif\" font-size=\"14.00\">image_height &lt;= 44985.5</text>\n",
       "<text text-anchor=\"middle\" x=\"1085.75\" y=\"-364.2\" font-family=\"Helvetica,sans-Serif\" font-size=\"14.00\">samples = 100.0%</text>\n",
       "<text text-anchor=\"middle\" x=\"1085.75\" y=\"-346.95\" font-family=\"Helvetica,sans-Serif\" font-size=\"14.00\">value = [0.17, 0.221, 0.442, 0.088, 0.079]</text>\n",
       "<text text-anchor=\"middle\" x=\"1085.75\" y=\"-329.7\" font-family=\"Helvetica,sans-Serif\" font-size=\"14.00\">class = CC</text>\n",
       "</g>\n",
       "<!-- 1 -->\n",
       "<g id=\"node2\" class=\"node\">\n",
       "<title>1</title>\n",
       "<polygon fill=\"#c3f7ee\" stroke=\"black\" points=\"998,-285.75 683.5,-285.75 683.5,-208.75 998,-208.75 998,-285.75\"/>\n",
       "<text text-anchor=\"middle\" x=\"840.75\" y=\"-268.45\" font-family=\"Helvetica,sans-Serif\" font-size=\"14.00\">image_width &lt;= 81553.5</text>\n",
       "<text text-anchor=\"middle\" x=\"840.75\" y=\"-251.2\" font-family=\"Helvetica,sans-Serif\" font-size=\"14.00\">samples = 93.0%</text>\n",
       "<text text-anchor=\"middle\" x=\"840.75\" y=\"-233.95\" font-family=\"Helvetica,sans-Serif\" font-size=\"14.00\">value = [0.168, 0.228, 0.46, 0.088, 0.058]</text>\n",
       "<text text-anchor=\"middle\" x=\"840.75\" y=\"-216.7\" font-family=\"Helvetica,sans-Serif\" font-size=\"14.00\">class = CC</text>\n",
       "</g>\n",
       "<!-- 0&#45;&gt;1 -->\n",
       "<g id=\"edge1\" class=\"edge\">\n",
       "<title>0&#45;&gt;1</title>\n",
       "<path fill=\"none\" stroke=\"black\" d=\"M1002.12,-321.36C980.26,-311.46 956.57,-300.72 934.23,-290.6\"/>\n",
       "<polygon fill=\"black\" stroke=\"black\" points=\"935.97,-287.1 925.42,-286.16 933.08,-293.47 935.97,-287.1\"/>\n",
       "<text text-anchor=\"middle\" x=\"933.23\" y=\"-304.88\" font-family=\"Helvetica,sans-Serif\" font-size=\"14.00\">True</text>\n",
       "</g>\n",
       "<!-- 8 -->\n",
       "<g id=\"node9\" class=\"node\">\n",
       "<title>8</title>\n",
       "<polygon fill=\"#fad6f2\" stroke=\"black\" points=\"1497.5,-285.75 1228,-285.75 1228,-208.75 1497.5,-208.75 1497.5,-285.75\"/>\n",
       "<text text-anchor=\"middle\" x=\"1362.75\" y=\"-268.45\" font-family=\"Helvetica,sans-Serif\" font-size=\"14.00\">image_width &lt;= 51639.5</text>\n",
       "<text text-anchor=\"middle\" x=\"1362.75\" y=\"-251.2\" font-family=\"Helvetica,sans-Serif\" font-size=\"14.00\">samples = 7.0%</text>\n",
       "<text text-anchor=\"middle\" x=\"1362.75\" y=\"-233.95\" font-family=\"Helvetica,sans-Serif\" font-size=\"14.00\">value = [0.2, 0.133, 0.2, 0.1, 0.367]</text>\n",
       "<text text-anchor=\"middle\" x=\"1362.75\" y=\"-216.7\" font-family=\"Helvetica,sans-Serif\" font-size=\"14.00\">class = LGSC</text>\n",
       "</g>\n",
       "<!-- 0&#45;&gt;8 -->\n",
       "<g id=\"edge8\" class=\"edge\">\n",
       "<title>0&#45;&gt;8</title>\n",
       "<path fill=\"none\" stroke=\"black\" d=\"M1180.3,-321.36C1205.35,-311.33 1232.53,-300.43 1258.08,-290.2\"/>\n",
       "<polygon fill=\"black\" stroke=\"black\" points=\"1259.17,-293.13 1267.15,-286.16 1256.57,-286.63 1259.17,-293.13\"/>\n",
       "<text text-anchor=\"middle\" x=\"1258.32\" y=\"-304.47\" font-family=\"Helvetica,sans-Serif\" font-size=\"14.00\">False</text>\n",
       "</g>\n",
       "<!-- 2 -->\n",
       "<g id=\"node3\" class=\"node\">\n",
       "<title>2</title>\n",
       "<polygon fill=\"#c4f7ee\" stroke=\"black\" points=\"598,-172.75 283.5,-172.75 283.5,-95.75 598,-95.75 598,-172.75\"/>\n",
       "<text text-anchor=\"middle\" x=\"440.75\" y=\"-155.45\" font-family=\"Helvetica,sans-Serif\" font-size=\"14.00\">image_id &lt;= 1804.5</text>\n",
       "<text text-anchor=\"middle\" x=\"440.75\" y=\"-138.2\" font-family=\"Helvetica,sans-Serif\" font-size=\"14.00\">samples = 90.5%</text>\n",
       "<text text-anchor=\"middle\" x=\"440.75\" y=\"-120.95\" font-family=\"Helvetica,sans-Serif\" font-size=\"14.00\">value = [0.154, 0.234, 0.463, 0.09, 0.059]</text>\n",
       "<text text-anchor=\"middle\" x=\"440.75\" y=\"-103.7\" font-family=\"Helvetica,sans-Serif\" font-size=\"14.00\">class = CC</text>\n",
       "</g>\n",
       "<!-- 1&#45;&gt;2 -->\n",
       "<g id=\"edge2\" class=\"edge\">\n",
       "<title>1&#45;&gt;2</title>\n",
       "<path fill=\"none\" stroke=\"black\" d=\"M703.93,-208.28C666.45,-197.88 625.66,-186.56 587.63,-176.01\"/>\n",
       "<polygon fill=\"black\" stroke=\"black\" points=\"589.08,-172.5 578.51,-173.2 587.21,-179.25 589.08,-172.5\"/>\n",
       "</g>\n",
       "<!-- 5 -->\n",
       "<g id=\"node6\" class=\"node\">\n",
       "<title>5</title>\n",
       "<polygon fill=\"#f4c9aa\" stroke=\"black\" points=\"975.5,-172.75 706,-172.75 706,-95.75 975.5,-95.75 975.5,-172.75\"/>\n",
       "<text text-anchor=\"middle\" x=\"840.75\" y=\"-155.45\" font-family=\"Helvetica,sans-Serif\" font-size=\"14.00\">image_width &lt;= 83972.0</text>\n",
       "<text text-anchor=\"middle\" x=\"840.75\" y=\"-138.2\" font-family=\"Helvetica,sans-Serif\" font-size=\"14.00\">samples = 2.6%</text>\n",
       "<text text-anchor=\"middle\" x=\"840.75\" y=\"-120.95\" font-family=\"Helvetica,sans-Serif\" font-size=\"14.00\">value = [0.636, 0.0, 0.364, 0.0, 0.0]</text>\n",
       "<text text-anchor=\"middle\" x=\"840.75\" y=\"-103.7\" font-family=\"Helvetica,sans-Serif\" font-size=\"14.00\">class = HGSC</text>\n",
       "</g>\n",
       "<!-- 1&#45;&gt;5 -->\n",
       "<g id=\"edge5\" class=\"edge\">\n",
       "<title>1&#45;&gt;5</title>\n",
       "<path fill=\"none\" stroke=\"black\" d=\"M840.75,-208.36C840.75,-200.5 840.75,-192.12 840.75,-183.94\"/>\n",
       "<polygon fill=\"black\" stroke=\"black\" points=\"844.25,-183.97 840.75,-173.97 837.25,-183.97 844.25,-183.97\"/>\n",
       "</g>\n",
       "<!-- 3 -->\n",
       "<g id=\"node4\" class=\"node\">\n",
       "<title>3</title>\n",
       "<polygon fill=\"#4de8cb\" stroke=\"black\" points=\"269.5,-59.75 0,-59.75 0,0 269.5,0 269.5,-59.75\"/>\n",
       "<text text-anchor=\"middle\" x=\"134.75\" y=\"-42.45\" font-family=\"Helvetica,sans-Serif\" font-size=\"14.00\">samples = 2.6%</text>\n",
       "<text text-anchor=\"middle\" x=\"134.75\" y=\"-25.2\" font-family=\"Helvetica,sans-Serif\" font-size=\"14.00\">value = [0.0, 0.0, 0.909, 0.091, 0.0]</text>\n",
       "<text text-anchor=\"middle\" x=\"134.75\" y=\"-7.95\" font-family=\"Helvetica,sans-Serif\" font-size=\"14.00\">class = CC</text>\n",
       "</g>\n",
       "<!-- 2&#45;&gt;3 -->\n",
       "<g id=\"edge3\" class=\"edge\">\n",
       "<title>2&#45;&gt;3</title>\n",
       "<path fill=\"none\" stroke=\"black\" d=\"M327.24,-95.27C296.07,-84.85 262.55,-73.63 232.35,-63.53\"/>\n",
       "<polygon fill=\"black\" stroke=\"black\" points=\"233.84,-60 223.25,-60.15 231.62,-66.64 233.84,-60\"/>\n",
       "</g>\n",
       "<!-- 4 -->\n",
       "<g id=\"node5\" class=\"node\">\n",
       "<title>4</title>\n",
       "<polygon fill=\"#c8f8ef\" stroke=\"black\" points=\"593.5,-59.75 288,-59.75 288,0 593.5,0 593.5,-59.75\"/>\n",
       "<text text-anchor=\"middle\" x=\"440.75\" y=\"-42.45\" font-family=\"Helvetica,sans-Serif\" font-size=\"14.00\">samples = 87.9%</text>\n",
       "<text text-anchor=\"middle\" x=\"440.75\" y=\"-25.2\" font-family=\"Helvetica,sans-Serif\" font-size=\"14.00\">value = [0.159, 0.241, 0.45, 0.09, 0.061]</text>\n",
       "<text text-anchor=\"middle\" x=\"440.75\" y=\"-7.95\" font-family=\"Helvetica,sans-Serif\" font-size=\"14.00\">class = CC</text>\n",
       "</g>\n",
       "<!-- 2&#45;&gt;4 -->\n",
       "<g id=\"edge4\" class=\"edge\">\n",
       "<title>2&#45;&gt;4</title>\n",
       "<path fill=\"none\" stroke=\"black\" d=\"M440.75,-95.42C440.75,-87.52 440.75,-79.17 440.75,-71.19\"/>\n",
       "<polygon fill=\"black\" stroke=\"black\" points=\"444.25,-71.23 440.75,-61.23 437.25,-71.23 444.25,-71.23\"/>\n",
       "</g>\n",
       "<!-- 6 -->\n",
       "<g id=\"node7\" class=\"node\">\n",
       "<title>6</title>\n",
       "<polygon fill=\"#e58139\" stroke=\"black\" points=\"845.5,-59.75 612,-59.75 612,0 845.5,0 845.5,-59.75\"/>\n",
       "<text text-anchor=\"middle\" x=\"728.75\" y=\"-42.45\" font-family=\"Helvetica,sans-Serif\" font-size=\"14.00\">samples = 0.7%</text>\n",
       "<text text-anchor=\"middle\" x=\"728.75\" y=\"-25.2\" font-family=\"Helvetica,sans-Serif\" font-size=\"14.00\">value = [1.0, 0.0, 0.0, 0.0, 0.0]</text>\n",
       "<text text-anchor=\"middle\" x=\"728.75\" y=\"-7.95\" font-family=\"Helvetica,sans-Serif\" font-size=\"14.00\">class = HGSC</text>\n",
       "</g>\n",
       "<!-- 5&#45;&gt;6 -->\n",
       "<g id=\"edge6\" class=\"edge\">\n",
       "<title>5&#45;&gt;6</title>\n",
       "<path fill=\"none\" stroke=\"black\" d=\"M799.36,-95.42C789.43,-86.34 778.84,-76.66 768.96,-67.63\"/>\n",
       "<polygon fill=\"black\" stroke=\"black\" points=\"771.61,-65.39 761.87,-61.23 766.89,-70.56 771.61,-65.39\"/>\n",
       "</g>\n",
       "<!-- 7 -->\n",
       "<g id=\"node8\" class=\"node\">\n",
       "<title>7</title>\n",
       "<polygon fill=\"#ffffff\" stroke=\"black\" points=\"1097.5,-59.75 864,-59.75 864,0 1097.5,0 1097.5,-59.75\"/>\n",
       "<text text-anchor=\"middle\" x=\"980.75\" y=\"-42.45\" font-family=\"Helvetica,sans-Serif\" font-size=\"14.00\">samples = 1.9%</text>\n",
       "<text text-anchor=\"middle\" x=\"980.75\" y=\"-25.2\" font-family=\"Helvetica,sans-Serif\" font-size=\"14.00\">value = [0.5, 0.0, 0.5, 0.0, 0.0]</text>\n",
       "<text text-anchor=\"middle\" x=\"980.75\" y=\"-7.95\" font-family=\"Helvetica,sans-Serif\" font-size=\"14.00\">class = HGSC</text>\n",
       "</g>\n",
       "<!-- 5&#45;&gt;7 -->\n",
       "<g id=\"edge7\" class=\"edge\">\n",
       "<title>5&#45;&gt;7</title>\n",
       "<path fill=\"none\" stroke=\"black\" d=\"M892.48,-95.42C905.39,-85.98 919.2,-75.89 931.96,-66.55\"/>\n",
       "<polygon fill=\"black\" stroke=\"black\" points=\"933.6,-68.96 939.61,-60.23 929.47,-63.31 933.6,-68.96\"/>\n",
       "</g>\n",
       "<!-- 9 -->\n",
       "<g id=\"node10\" class=\"node\">\n",
       "<title>9</title>\n",
       "<polygon fill=\"#cef8f0\" stroke=\"black\" points=\"1515.5,-172.75 1210,-172.75 1210,-95.75 1515.5,-95.75 1515.5,-172.75\"/>\n",
       "<text text-anchor=\"middle\" x=\"1362.75\" y=\"-155.45\" font-family=\"Helvetica,sans-Serif\" font-size=\"14.00\">image_height &lt;= 46230.5</text>\n",
       "<text text-anchor=\"middle\" x=\"1362.75\" y=\"-138.2\" font-family=\"Helvetica,sans-Serif\" font-size=\"14.00\">samples = 2.6%</text>\n",
       "<text text-anchor=\"middle\" x=\"1362.75\" y=\"-120.95\" font-family=\"Helvetica,sans-Serif\" font-size=\"14.00\">value = [0.182, 0.0, 0.455, 0.273, 0.091]</text>\n",
       "<text text-anchor=\"middle\" x=\"1362.75\" y=\"-103.7\" font-family=\"Helvetica,sans-Serif\" font-size=\"14.00\">class = CC</text>\n",
       "</g>\n",
       "<!-- 8&#45;&gt;9 -->\n",
       "<g id=\"edge9\" class=\"edge\">\n",
       "<title>8&#45;&gt;9</title>\n",
       "<path fill=\"none\" stroke=\"black\" d=\"M1362.75,-208.36C1362.75,-200.5 1362.75,-192.12 1362.75,-183.94\"/>\n",
       "<polygon fill=\"black\" stroke=\"black\" points=\"1366.25,-183.97 1362.75,-173.97 1359.25,-183.97 1366.25,-183.97\"/>\n",
       "</g>\n",
       "<!-- 12 -->\n",
       "<g id=\"node13\" class=\"node\">\n",
       "<title>12</title>\n",
       "<polygon fill=\"#f5b0e6\" stroke=\"black\" points=\"1961.5,-172.75 1656,-172.75 1656,-95.75 1961.5,-95.75 1961.5,-172.75\"/>\n",
       "<text text-anchor=\"middle\" x=\"1808.75\" y=\"-155.45\" font-family=\"Helvetica,sans-Serif\" font-size=\"14.00\">image_id &lt;= 17758.5</text>\n",
       "<text text-anchor=\"middle\" x=\"1808.75\" y=\"-138.2\" font-family=\"Helvetica,sans-Serif\" font-size=\"14.00\">samples = 4.4%</text>\n",
       "<text text-anchor=\"middle\" x=\"1808.75\" y=\"-120.95\" font-family=\"Helvetica,sans-Serif\" font-size=\"14.00\">value = [0.211, 0.211, 0.053, 0.0, 0.526]</text>\n",
       "<text text-anchor=\"middle\" x=\"1808.75\" y=\"-103.7\" font-family=\"Helvetica,sans-Serif\" font-size=\"14.00\">class = LGSC</text>\n",
       "</g>\n",
       "<!-- 8&#45;&gt;12 -->\n",
       "<g id=\"edge12\" class=\"edge\">\n",
       "<title>8&#45;&gt;12</title>\n",
       "<path fill=\"none\" stroke=\"black\" d=\"M1497.78,-212.65C1544.35,-201.05 1597.03,-187.94 1645.61,-175.85\"/>\n",
       "<polygon fill=\"black\" stroke=\"black\" points=\"1646.38,-179.02 1655.23,-173.21 1644.69,-172.23 1646.38,-179.02\"/>\n",
       "</g>\n",
       "<!-- 10 -->\n",
       "<g id=\"node11\" class=\"node\">\n",
       "<title>10</title>\n",
       "<polygon fill=\"#f6d5bd\" stroke=\"black\" points=\"1367.5,-59.75 1116,-59.75 1116,0 1367.5,0 1367.5,-59.75\"/>\n",
       "<text text-anchor=\"middle\" x=\"1241.75\" y=\"-42.45\" font-family=\"Helvetica,sans-Serif\" font-size=\"14.00\">samples = 0.9%</text>\n",
       "<text text-anchor=\"middle\" x=\"1241.75\" y=\"-25.2\" font-family=\"Helvetica,sans-Serif\" font-size=\"14.00\">value = [0.5, 0.0, 0.25, 0.0, 0.25]</text>\n",
       "<text text-anchor=\"middle\" x=\"1241.75\" y=\"-7.95\" font-family=\"Helvetica,sans-Serif\" font-size=\"14.00\">class = HGSC</text>\n",
       "</g>\n",
       "<!-- 9&#45;&gt;10 -->\n",
       "<g id=\"edge10\" class=\"edge\">\n",
       "<title>9&#45;&gt;10</title>\n",
       "<path fill=\"none\" stroke=\"black\" d=\"M1318.04,-95.42C1307.09,-86.16 1295.41,-76.27 1284.56,-67.09\"/>\n",
       "<polygon fill=\"black\" stroke=\"black\" points=\"1287.34,-64.02 1277.45,-60.23 1282.82,-69.36 1287.34,-64.02\"/>\n",
       "</g>\n",
       "<!-- 11 -->\n",
       "<g id=\"node12\" class=\"node\">\n",
       "<title>11</title>\n",
       "<polygon fill=\"#cef8f0\" stroke=\"black\" points=\"1655.5,-59.75 1386,-59.75 1386,0 1655.5,0 1655.5,-59.75\"/>\n",
       "<text text-anchor=\"middle\" x=\"1520.75\" y=\"-42.45\" font-family=\"Helvetica,sans-Serif\" font-size=\"14.00\">samples = 1.6%</text>\n",
       "<text text-anchor=\"middle\" x=\"1520.75\" y=\"-25.2\" font-family=\"Helvetica,sans-Serif\" font-size=\"14.00\">value = [0.0, 0.0, 0.571, 0.429, 0.0]</text>\n",
       "<text text-anchor=\"middle\" x=\"1520.75\" y=\"-7.95\" font-family=\"Helvetica,sans-Serif\" font-size=\"14.00\">class = CC</text>\n",
       "</g>\n",
       "<!-- 9&#45;&gt;11 -->\n",
       "<g id=\"edge11\" class=\"edge\">\n",
       "<title>9&#45;&gt;11</title>\n",
       "<path fill=\"none\" stroke=\"black\" d=\"M1421.13,-95.42C1435.99,-85.8 1451.88,-75.5 1466.52,-66.02\"/>\n",
       "<polygon fill=\"black\" stroke=\"black\" points=\"1467.95,-68.61 1474.44,-60.23 1464.15,-62.73 1467.95,-68.61\"/>\n",
       "</g>\n",
       "<!-- 13 -->\n",
       "<g id=\"node14\" class=\"node\">\n",
       "<title>13</title>\n",
       "<polygon fill=\"#bdf29c\" stroke=\"black\" points=\"1943.5,-59.75 1674,-59.75 1674,0 1943.5,0 1943.5,-59.75\"/>\n",
       "<text text-anchor=\"middle\" x=\"1808.75\" y=\"-42.45\" font-family=\"Helvetica,sans-Serif\" font-size=\"14.00\">samples = 0.7%</text>\n",
       "<text text-anchor=\"middle\" x=\"1808.75\" y=\"-25.2\" font-family=\"Helvetica,sans-Serif\" font-size=\"14.00\">value = [0.333, 0.667, 0.0, 0.0, 0.0]</text>\n",
       "<text text-anchor=\"middle\" x=\"1808.75\" y=\"-7.95\" font-family=\"Helvetica,sans-Serif\" font-size=\"14.00\">class = EC</text>\n",
       "</g>\n",
       "<!-- 12&#45;&gt;13 -->\n",
       "<g id=\"edge13\" class=\"edge\">\n",
       "<title>12&#45;&gt;13</title>\n",
       "<path fill=\"none\" stroke=\"black\" d=\"M1808.75,-95.42C1808.75,-87.52 1808.75,-79.17 1808.75,-71.19\"/>\n",
       "<polygon fill=\"black\" stroke=\"black\" points=\"1812.25,-71.23 1808.75,-61.23 1805.25,-71.23 1812.25,-71.23\"/>\n",
       "</g>\n",
       "<!-- 14 -->\n",
       "<g id=\"node15\" class=\"node\">\n",
       "<title>14</title>\n",
       "<polygon fill=\"#f194dd\" stroke=\"black\" points=\"2267.5,-59.75 1962,-59.75 1962,0 2267.5,0 2267.5,-59.75\"/>\n",
       "<text text-anchor=\"middle\" x=\"2114.75\" y=\"-42.45\" font-family=\"Helvetica,sans-Serif\" font-size=\"14.00\">samples = 3.7%</text>\n",
       "<text text-anchor=\"middle\" x=\"2114.75\" y=\"-25.2\" font-family=\"Helvetica,sans-Serif\" font-size=\"14.00\">value = [0.188, 0.125, 0.062, 0.0, 0.625]</text>\n",
       "<text text-anchor=\"middle\" x=\"2114.75\" y=\"-7.95\" font-family=\"Helvetica,sans-Serif\" font-size=\"14.00\">class = LGSC</text>\n",
       "</g>\n",
       "<!-- 12&#45;&gt;14 -->\n",
       "<g id=\"edge14\" class=\"edge\">\n",
       "<title>12&#45;&gt;14</title>\n",
       "<path fill=\"none\" stroke=\"black\" d=\"M1922.26,-95.27C1953.43,-84.85 1986.95,-73.63 2017.15,-63.53\"/>\n",
       "<polygon fill=\"black\" stroke=\"black\" points=\"2017.88,-66.64 2026.25,-60.15 2015.66,-60 2017.88,-66.64\"/>\n",
       "</g>\n",
       "</g>\n",
       "</svg>\n"
      ],
      "text/plain": [
       "<graphviz.sources.Source at 0x7e613cabc760>"
      ]
     },
     "execution_count": 35,
     "metadata": {},
     "output_type": "execute_result"
    }
   ],
   "source": [
    "#This score is too good to be true.\n",
    "# Visualize the decision tree, to see what the model 'learned'\n",
    "\n",
    "import graphviz\n",
    "from sklearn.tree import export_graphviz\n",
    "tree = pipeline.named_steps['decisiontreeclassifier']\n",
    "dot_data= export_graphviz(\n",
    "    tree,\n",
    "    out_file=None,\n",
    "    feature_names = X_train.columns,\n",
    "    class_names = y_train.unique().astype(str),\n",
    "    filled = True,\n",
    "    impurity= False,\n",
    "    proportion = True\n",
    "\n",
    ")\n",
    "graphviz.Source(dot_data)"
   ]
  },
  {
   "cell_type": "code",
   "execution_count": null,
   "id": "01e78e9e",
   "metadata": {
    "id": "nHe4FBwz9gKf",
    "papermill": {
     "duration": 0.015219,
     "end_time": "2023-11-20T00:32:49.816530",
     "exception": false,
     "start_time": "2023-11-20T00:32:49.801311",
     "status": "completed"
    },
    "tags": []
   },
   "outputs": [],
   "source": []
  },
  {
   "cell_type": "code",
   "execution_count": null,
   "id": "ea7798e8",
   "metadata": {
    "id": "hMwQHlJz9gTj",
    "papermill": {
     "duration": 0.015252,
     "end_time": "2023-11-20T00:32:49.847498",
     "exception": false,
     "start_time": "2023-11-20T00:32:49.832246",
     "status": "completed"
    },
    "tags": []
   },
   "outputs": [],
   "source": []
  },
  {
   "cell_type": "code",
   "execution_count": 36,
   "id": "b805f007",
   "metadata": {
    "execution": {
     "iopub.execute_input": "2023-11-20T00:32:49.880170Z",
     "iopub.status.busy": "2023-11-20T00:32:49.879784Z",
     "iopub.status.idle": "2023-11-20T00:32:50.027122Z",
     "shell.execute_reply": "2023-11-20T00:32:50.025884Z"
    },
    "id": "cY1SBJXw8xMV",
    "outputId": "7833df64-f0ef-4826-f8eb-3b7eec1e763f",
    "papermill": {
     "duration": 0.166611,
     "end_time": "2023-11-20T00:32:50.029702",
     "exception": false,
     "start_time": "2023-11-20T00:32:49.863091",
     "status": "completed"
    },
    "tags": []
   },
   "outputs": [
    {
     "name": "stdout",
     "output_type": "stream",
     "text": [
      "trainValidation Accuracy 0.8674418604651163\n"
     ]
    }
   ],
   "source": [
    "'''T6. Build a pipeline `model` with encoder and tree-based predictor.'''\n",
    "\n",
    "# YOUR CODE HERE\n",
    "#raise NotImplementedError()\n",
    "\n",
    "from sklearn.preprocessing import OrdinalEncoder\n",
    "import category_encoders as ce\n",
    "from sklearn.impute import SimpleImputer\n",
    "from sklearn.pipeline import make_pipeline\n",
    "from sklearn.ensemble import RandomForestClassifier #RandomForest\n",
    "model= make_pipeline(\n",
    "    #ce.OrdinalEncoder(),\n",
    "    SimpleImputer(strategy='mean'),\n",
    "    RandomForestClassifier(n_estimators=3,random_state=41,max_features=2)\n",
    ")\n",
    "model.fit(X_train,y_train);\n",
    "print(\"trainValidation Accuracy\",model.score(X_train,y_train))"
   ]
  },
  {
   "cell_type": "code",
   "execution_count": 37,
   "id": "0a73e4c1",
   "metadata": {
    "execution": {
     "iopub.execute_input": "2023-11-20T00:32:50.063145Z",
     "iopub.status.busy": "2023-11-20T00:32:50.062761Z",
     "iopub.status.idle": "2023-11-20T00:32:50.071097Z",
     "shell.execute_reply": "2023-11-20T00:32:50.069541Z"
    },
    "id": "S52QdbQb9s7o",
    "papermill": {
     "duration": 0.028132,
     "end_time": "2023-11-20T00:32:50.073679",
     "exception": false,
     "start_time": "2023-11-20T00:32:50.045547",
     "status": "completed"
    },
    "tags": []
   },
   "outputs": [
    {
     "name": "stdout",
     "output_type": "stream",
     "text": [
      "Validation Accuracy 0.24074074074074073\n"
     ]
    }
   ],
   "source": [
    "print(\"Validation Accuracy\", model.score(X_val,y_val))"
   ]
  },
  {
   "cell_type": "code",
   "execution_count": null,
   "id": "1e1820d0",
   "metadata": {
    "id": "rFOFFx6QHM5u",
    "papermill": {
     "duration": 0.015772,
     "end_time": "2023-11-20T00:32:50.105406",
     "exception": false,
     "start_time": "2023-11-20T00:32:50.089634",
     "status": "completed"
    },
    "tags": []
   },
   "outputs": [],
   "source": []
  },
  {
   "cell_type": "code",
   "execution_count": 38,
   "id": "4bd647d0",
   "metadata": {
    "execution": {
     "iopub.execute_input": "2023-11-20T00:32:50.138604Z",
     "iopub.status.busy": "2023-11-20T00:32:50.138220Z",
     "iopub.status.idle": "2023-11-20T00:32:50.151766Z",
     "shell.execute_reply": "2023-11-20T00:32:50.150714Z"
    },
    "id": "gIUBSMU6mAE5",
    "papermill": {
     "duration": 0.032962,
     "end_time": "2023-11-20T00:32:50.154238",
     "exception": false,
     "start_time": "2023-11-20T00:32:50.121276",
     "status": "completed"
    },
    "tags": []
   },
   "outputs": [],
   "source": [
    "y_train_pred=model.predict(X_train)\n",
    "y_val_pred=model.predict(X_val)\n",
    "y_test_pred=model.predict(X_test)"
   ]
  },
  {
   "cell_type": "code",
   "execution_count": 39,
   "id": "f087de88",
   "metadata": {
    "execution": {
     "iopub.execute_input": "2023-11-20T00:32:50.186387Z",
     "iopub.status.busy": "2023-11-20T00:32:50.186022Z",
     "iopub.status.idle": "2023-11-20T00:32:50.192692Z",
     "shell.execute_reply": "2023-11-20T00:32:50.191995Z"
    },
    "id": "h82Fj2o2KUC4",
    "papermill": {
     "duration": 0.025237,
     "end_time": "2023-11-20T00:32:50.194530",
     "exception": false,
     "start_time": "2023-11-20T00:32:50.169293",
     "status": "completed"
    },
    "tags": []
   },
   "outputs": [
    {
     "data": {
      "text/plain": [
       "array(['HGSC', 'HGSC', 'HGSC', 'EC', 'HGSC', 'HGSC', 'EC', 'HGSC', 'CC',\n",
       "       'EC', 'CC', 'HGSC', 'CC', 'MC', 'LGSC', 'HGSC', 'LGSC', 'HGSC',\n",
       "       'HGSC', 'CC', 'LGSC', 'HGSC', 'CC', 'CC', 'EC', 'EC', 'HGSC',\n",
       "       'HGSC', 'LGSC', 'EC', 'CC', 'HGSC', 'CC', 'EC', 'CC', 'LGSC', 'CC',\n",
       "       'MC', 'CC', 'CC', 'CC', 'CC', 'LGSC', 'HGSC', 'EC', 'CC', 'HGSC',\n",
       "       'CC', 'LGSC', 'HGSC', 'LGSC', 'EC', 'EC', 'HGSC', 'HGSC', 'EC',\n",
       "       'HGSC', 'EC', 'HGSC', 'CC', 'EC', 'CC', 'CC', 'CC', 'HGSC', 'MC',\n",
       "       'HGSC', 'EC', 'HGSC', 'EC', 'HGSC', 'EC', 'HGSC', 'EC', 'HGSC',\n",
       "       'HGSC', 'HGSC', 'HGSC', 'LGSC', 'CC', 'CC', 'EC', 'EC', 'HGSC',\n",
       "       'CC', 'CC', 'HGSC', 'HGSC', 'HGSC', 'EC', 'CC', 'HGSC', 'CC',\n",
       "       'LGSC', 'EC', 'HGSC', 'MC', 'EC', 'CC', 'HGSC', 'HGSC', 'MC',\n",
       "       'HGSC', 'MC', 'HGSC', 'HGSC', 'EC', 'EC', 'HGSC', 'EC', 'EC',\n",
       "       'HGSC', 'HGSC', 'MC', 'HGSC', 'CC', 'HGSC', 'MC', 'EC', 'MC',\n",
       "       'HGSC', 'MC', 'HGSC', 'HGSC', 'EC', 'HGSC', 'CC', 'EC', 'EC',\n",
       "       'HGSC', 'EC', 'HGSC', 'HGSC', 'LGSC', 'EC', 'LGSC', 'CC', 'CC',\n",
       "       'CC', 'CC', 'HGSC', 'CC', 'HGSC', 'HGSC', 'LGSC', 'CC', 'HGSC',\n",
       "       'CC', 'EC', 'CC', 'HGSC', 'HGSC', 'HGSC', 'LGSC', 'MC', 'EC',\n",
       "       'LGSC', 'HGSC', 'CC', 'EC', 'HGSC', 'HGSC', 'HGSC', 'HGSC', 'EC',\n",
       "       'HGSC', 'EC', 'EC', 'HGSC', 'HGSC', 'CC', 'CC', 'HGSC', 'HGSC',\n",
       "       'EC', 'CC', 'EC', 'HGSC', 'LGSC', 'HGSC', 'HGSC', 'EC', 'HGSC',\n",
       "       'HGSC', 'HGSC', 'HGSC', 'CC', 'HGSC', 'HGSC', 'EC', 'HGSC', 'HGSC',\n",
       "       'CC', 'EC', 'EC', 'HGSC', 'HGSC', 'EC', 'LGSC', 'HGSC', 'HGSC',\n",
       "       'EC', 'EC', 'CC', 'MC', 'HGSC', 'EC', 'HGSC', 'HGSC', 'MC', 'MC',\n",
       "       'HGSC', 'HGSC', 'HGSC', 'EC', 'HGSC', 'HGSC', 'LGSC', 'HGSC', 'EC',\n",
       "       'HGSC', 'EC', 'HGSC', 'HGSC', 'HGSC', 'EC', 'CC', 'HGSC', 'EC',\n",
       "       'HGSC', 'MC', 'EC', 'CC', 'EC', 'EC', 'HGSC', 'MC', 'HGSC', 'HGSC',\n",
       "       'HGSC', 'EC', 'HGSC', 'CC', 'HGSC', 'MC', 'HGSC', 'CC', 'LGSC',\n",
       "       'HGSC', 'EC', 'HGSC', 'EC', 'EC', 'HGSC', 'CC', 'HGSC', 'CC',\n",
       "       'HGSC', 'LGSC', 'MC', 'MC', 'EC', 'HGSC', 'CC', 'EC', 'EC', 'MC',\n",
       "       'HGSC', 'HGSC', 'EC', 'HGSC', 'HGSC', 'EC', 'MC', 'HGSC', 'CC',\n",
       "       'HGSC', 'MC', 'LGSC', 'EC', 'MC', 'EC', 'LGSC', 'EC', 'EC', 'CC',\n",
       "       'HGSC', 'HGSC', 'CC', 'HGSC', 'HGSC', 'HGSC', 'CC', 'CC', 'CC',\n",
       "       'MC', 'HGSC', 'EC', 'LGSC', 'CC', 'EC', 'EC', 'HGSC', 'HGSC', 'CC',\n",
       "       'HGSC', 'HGSC', 'EC', 'EC', 'HGSC', 'EC', 'HGSC', 'EC', 'CC',\n",
       "       'HGSC', 'HGSC', 'HGSC', 'CC', 'HGSC', 'CC', 'HGSC', 'EC', 'EC',\n",
       "       'MC', 'HGSC', 'HGSC', 'HGSC', 'LGSC', 'HGSC', 'EC', 'EC', 'LGSC',\n",
       "       'HGSC', 'CC', 'LGSC', 'EC', 'HGSC', 'HGSC', 'EC', 'CC', 'HGSC',\n",
       "       'HGSC', 'EC', 'CC', 'EC', 'CC', 'HGSC', 'CC', 'EC', 'CC', 'CC',\n",
       "       'MC', 'HGSC', 'HGSC', 'MC', 'HGSC', 'HGSC', 'HGSC', 'HGSC', 'HGSC',\n",
       "       'MC', 'HGSC', 'LGSC', 'CC', 'LGSC', 'CC', 'EC', 'EC', 'HGSC', 'MC',\n",
       "       'EC', 'HGSC', 'EC', 'EC', 'HGSC', 'HGSC', 'HGSC', 'CC', 'HGSC',\n",
       "       'LGSC', 'HGSC', 'HGSC', 'HGSC', 'HGSC', 'HGSC', 'HGSC', 'EC',\n",
       "       'LGSC', 'CC', 'HGSC', 'HGSC', 'EC', 'HGSC', 'CC', 'CC', 'HGSC',\n",
       "       'HGSC', 'EC', 'EC', 'CC', 'CC', 'LGSC', 'LGSC', 'LGSC', 'EC',\n",
       "       'HGSC', 'EC', 'HGSC', 'EC', 'CC', 'HGSC', 'HGSC', 'HGSC', 'HGSC',\n",
       "       'HGSC', 'HGSC', 'CC', 'EC', 'CC', 'HGSC', 'EC', 'LGSC', 'HGSC',\n",
       "       'EC', 'HGSC', 'CC', 'HGSC', 'LGSC', 'HGSC', 'MC'], dtype=object)"
      ]
     },
     "execution_count": 39,
     "metadata": {},
     "output_type": "execute_result"
    }
   ],
   "source": [
    "y_train_pred"
   ]
  },
  {
   "cell_type": "code",
   "execution_count": 40,
   "id": "daf529a9",
   "metadata": {
    "execution": {
     "iopub.execute_input": "2023-11-20T00:32:50.227310Z",
     "iopub.status.busy": "2023-11-20T00:32:50.226929Z",
     "iopub.status.idle": "2023-11-20T00:32:50.233785Z",
     "shell.execute_reply": "2023-11-20T00:32:50.232696Z"
    },
    "papermill": {
     "duration": 0.026067,
     "end_time": "2023-11-20T00:32:50.236213",
     "exception": false,
     "start_time": "2023-11-20T00:32:50.210146",
     "status": "completed"
    },
    "tags": []
   },
   "outputs": [
    {
     "data": {
      "text/plain": [
       "array(['HGSC'], dtype=object)"
      ]
     },
     "execution_count": 40,
     "metadata": {},
     "output_type": "execute_result"
    }
   ],
   "source": [
    "y_test_pred"
   ]
  },
  {
   "cell_type": "code",
   "execution_count": 41,
   "id": "dc845d8a",
   "metadata": {
    "execution": {
     "iopub.execute_input": "2023-11-20T00:32:50.271301Z",
     "iopub.status.busy": "2023-11-20T00:32:50.269715Z",
     "iopub.status.idle": "2023-11-20T00:32:50.278856Z",
     "shell.execute_reply": "2023-11-20T00:32:50.277323Z"
    },
    "id": "j7bcRU4qbuAX",
    "outputId": "cf074d61-dd6e-4b12-de16-338216dd1441",
    "papermill": {
     "duration": 0.028562,
     "end_time": "2023-11-20T00:32:50.280973",
     "exception": false,
     "start_time": "2023-11-20T00:32:50.252411",
     "status": "completed"
    },
    "tags": []
   },
   "outputs": [
    {
     "name": "stdout",
     "output_type": "stream",
     "text": [
      "Training Accuracy Score: 0.8674418604651163\n",
      "val Accuracy Score: 0.24074074074074073\n"
     ]
    }
   ],
   "source": [
    "from sklearn.metrics import accuracy_score\n",
    "\n",
    "train_acc =  accuracy_score(y_train_pred,y_train)\n",
    "#test_acc =  accuracy_score(y_test_pred,X_test)\n",
    "val_acc= accuracy_score(y_val_pred,y_val)\n",
    "print('Training Accuracy Score:', train_acc)\n",
    "#print('Testing Accuracy Score:', test_acc)\n",
    "print('val Accuracy Score:', val_acc)"
   ]
  },
  {
   "cell_type": "code",
   "execution_count": 42,
   "id": "8d82bf8e",
   "metadata": {
    "execution": {
     "iopub.execute_input": "2023-11-20T00:32:50.315743Z",
     "iopub.status.busy": "2023-11-20T00:32:50.315380Z",
     "iopub.status.idle": "2023-11-20T00:32:57.190540Z",
     "shell.execute_reply": "2023-11-20T00:32:57.188992Z"
    },
    "papermill": {
     "duration": 6.895233,
     "end_time": "2023-11-20T00:32:57.192880",
     "exception": false,
     "start_time": "2023-11-20T00:32:50.297647",
     "status": "completed"
    },
    "tags": []
   },
   "outputs": [
    {
     "name": "stdout",
     "output_type": "stream",
     "text": [
      "\n",
      "XGBClassifier(base_score=None, booster=None, callbacks=None,\n",
      "              colsample_bylevel=None, colsample_bynode=None,\n",
      "              colsample_bytree=None, early_stopping_rounds=None,\n",
      "              enable_categorical=False, eval_metric=None, feature_types=None,\n",
      "              gamma=None, gpu_id=None, grow_policy=None, importance_type=None,\n",
      "              interaction_constraints=None, learning_rate=None, max_bin=None,\n",
      "              max_cat_threshold=None, max_cat_to_onehot=None,\n",
      "              max_delta_step=None, max_depth=3, max_leaves=None,\n",
      "              min_child_weight=None, missing=nan, monotone_constraints=None,\n",
      "              n_estimators=100, n_jobs=100, num_parallel_tree=None,\n",
      "              objective='multi:softprob', predictor=None, ...)\n",
      "train accuracy: 0.9697674418604652\n"
     ]
    }
   ],
   "source": [
    "from  xgboost import XGBClassifier\n",
    "from sklearn.preprocessing import LabelEncoder\n",
    "\n",
    "model11 = XGBClassifier(max_depth=3,n_estimators=100,random_state=42,n_jobs=100)\n",
    "# Initialize LabelEncoder\n",
    "label_encoder = LabelEncoder()\n",
    "\n",
    "# Fit and transform the target variable in the training set\n",
    "y_train_encoded = label_encoder.fit_transform(y_train)\n",
    "\n",
    "# Now, you can fit the model using the encoded target variable\n",
    "model11.fit(X_train, y_train_encoded)\n",
    "\n",
    "# Print the model and its accuracy\n",
    "print()\n",
    "print(model11)\n",
    "print(\"train accuracy:\", model11.score(X_train, y_train_encoded))"
   ]
  },
  {
   "cell_type": "code",
   "execution_count": 43,
   "id": "90bb05c9",
   "metadata": {
    "execution": {
     "iopub.execute_input": "2023-11-20T00:32:57.226519Z",
     "iopub.status.busy": "2023-11-20T00:32:57.225903Z",
     "iopub.status.idle": "2023-11-20T00:32:57.237316Z",
     "shell.execute_reply": "2023-11-20T00:32:57.235701Z"
    },
    "papermill": {
     "duration": 0.03135,
     "end_time": "2023-11-20T00:32:57.240216",
     "exception": false,
     "start_time": "2023-11-20T00:32:57.208866",
     "status": "completed"
    },
    "tags": []
   },
   "outputs": [
    {
     "name": "stdout",
     "output_type": "stream",
     "text": [
      "0.37962962962962965\n"
     ]
    }
   ],
   "source": [
    "# Initialize LabelEncoder\n",
    "label_encoder = LabelEncoder()\n",
    "\n",
    "# Fit and transform the target variable in the training set\n",
    "y_val_encoded = label_encoder.fit_transform(y_val)\n",
    "\n",
    "scoreval = model11.score(X_val,y_val_encoded)\n",
    "\n",
    "print(scoreval)\n"
   ]
  },
  {
   "cell_type": "code",
   "execution_count": 44,
   "id": "1fb1d14c",
   "metadata": {
    "execution": {
     "iopub.execute_input": "2023-11-20T00:32:57.273672Z",
     "iopub.status.busy": "2023-11-20T00:32:57.273354Z",
     "iopub.status.idle": "2023-11-20T00:32:57.295231Z",
     "shell.execute_reply": "2023-11-20T00:32:57.293409Z"
    },
    "id": "fwPt91jUKiNE",
    "jupyter": {
     "source_hidden": true
    },
    "papermill": {
     "duration": 0.041734,
     "end_time": "2023-11-20T00:32:57.297874",
     "exception": false,
     "start_time": "2023-11-20T00:32:57.256140",
     "status": "completed"
    },
    "tags": []
   },
   "outputs": [
    {
     "name": "stdout",
     "output_type": "stream",
     "text": [
      "              precision    recall  f1-score   support\n",
      "\n",
      "          CC       0.78      0.86      0.82        73\n",
      "          EC       0.83      0.87      0.85        95\n",
      "        HGSC       0.91      0.88      0.90       190\n",
      "        LGSC       0.89      0.82      0.85        38\n",
      "          MC       0.93      0.82      0.87        34\n",
      "\n",
      "    accuracy                           0.87       430\n",
      "   macro avg       0.87      0.85      0.86       430\n",
      "weighted avg       0.87      0.87      0.87       430\n",
      "\n"
     ]
    }
   ],
   "source": [
    "# Print classification report\n",
    "from sklearn.metrics import classification_report\n",
    "print(classification_report(y_train,model.predict(X_train)))"
   ]
  },
  {
   "cell_type": "code",
   "execution_count": 45,
   "id": "9906eeb0",
   "metadata": {
    "execution": {
     "iopub.execute_input": "2023-11-20T00:32:57.334139Z",
     "iopub.status.busy": "2023-11-20T00:32:57.333013Z",
     "iopub.status.idle": "2023-11-20T00:32:57.354412Z",
     "shell.execute_reply": "2023-11-20T00:32:57.352905Z"
    },
    "id": "NsnGap-RK_2O",
    "outputId": "bac70952-2f33-451f-fdb9-44fed6dd4bc3",
    "papermill": {
     "duration": 0.042853,
     "end_time": "2023-11-20T00:32:57.357461",
     "exception": false,
     "start_time": "2023-11-20T00:32:57.314608",
     "status": "completed"
    },
    "tags": []
   },
   "outputs": [
    {
     "name": "stdout",
     "output_type": "stream",
     "text": [
      "Confusion Matrix:\n",
      "[[14 13  5]\n",
      " [10 10 13]\n",
      " [15 11  9]]\n",
      "\n",
      "Classification Report:\n",
      "              precision    recall  f1-score   support\n",
      "\n",
      "           0       0.36      0.44      0.39        32\n",
      "           1       0.29      0.30      0.30        33\n",
      "           2       0.33      0.26      0.29        35\n",
      "\n",
      "    accuracy                           0.33       100\n",
      "   macro avg       0.33      0.33      0.33       100\n",
      "weighted avg       0.33      0.33      0.33       100\n",
      "\n"
     ]
    }
   ],
   "source": [
    "from sklearn.metrics import confusion_matrix, classification_report\n",
    "import random\n",
    "\n",
    "# Generate some sample true and predicted labels for demonstration purposes\n",
    "y_true = np.random.randint(0, 3, size=100)\n",
    "y_pred = np.random.randint(0, 3, size=100)\n",
    "\n",
    "# 1. Confusion Matrix\n",
    "conf_matrix = confusion_matrix(y_true, y_pred)\n",
    "print(\"Confusion Matrix:\")\n",
    "print(conf_matrix)\n",
    "\n",
    "# 2. Classification Report\n",
    "class_report = classification_report(y_true, y_pred)\n",
    "print(\"\\nClassification Report:\")\n",
    "print(class_report)"
   ]
  },
  {
   "cell_type": "code",
   "execution_count": null,
   "id": "7db3dbf9",
   "metadata": {
    "id": "2VFgp4NML5TW",
    "papermill": {
     "duration": 0.015827,
     "end_time": "2023-11-20T00:32:57.389505",
     "exception": false,
     "start_time": "2023-11-20T00:32:57.373678",
     "status": "completed"
    },
    "tags": []
   },
   "outputs": [],
   "source": []
  },
  {
   "cell_type": "code",
   "execution_count": 46,
   "id": "703d90eb",
   "metadata": {
    "execution": {
     "iopub.execute_input": "2023-11-20T00:32:57.423337Z",
     "iopub.status.busy": "2023-11-20T00:32:57.422955Z",
     "iopub.status.idle": "2023-11-20T00:32:57.427308Z",
     "shell.execute_reply": "2023-11-20T00:32:57.426242Z"
    },
    "id": "2BEaS2PW1Gh1",
    "papermill": {
     "duration": 0.023497,
     "end_time": "2023-11-20T00:32:57.429179",
     "exception": false,
     "start_time": "2023-11-20T00:32:57.405682",
     "status": "completed"
    },
    "tags": []
   },
   "outputs": [],
   "source": [
    "\n",
    "#y_pred1 = pd.DataFrame(y_pred)\n",
    "#y_pred1=y_pred1.replace({'CC ':2,'EC':5,'HGSC':6,'LGSC':4,'MC':3})\n",
    "#y_pred1.head()"
   ]
  },
  {
   "cell_type": "code",
   "execution_count": 47,
   "id": "9df66202",
   "metadata": {
    "execution": {
     "iopub.execute_input": "2023-11-20T00:32:57.463349Z",
     "iopub.status.busy": "2023-11-20T00:32:57.462961Z",
     "iopub.status.idle": "2023-11-20T00:32:57.467636Z",
     "shell.execute_reply": "2023-11-20T00:32:57.466523Z"
    },
    "papermill": {
     "duration": 0.023954,
     "end_time": "2023-11-20T00:32:57.469641",
     "exception": false,
     "start_time": "2023-11-20T00:32:57.445687",
     "status": "completed"
    },
    "tags": []
   },
   "outputs": [],
   "source": [
    "#image_id,label\n",
    "#2,CC\n",
    "#5,EC\n",
    "#6,HGSC\n",
    "#etc."
   ]
  },
  {
   "cell_type": "code",
   "execution_count": 48,
   "id": "c0da22bb",
   "metadata": {
    "execution": {
     "iopub.execute_input": "2023-11-20T00:32:57.503762Z",
     "iopub.status.busy": "2023-11-20T00:32:57.503431Z",
     "iopub.status.idle": "2023-11-20T00:32:57.509054Z",
     "shell.execute_reply": "2023-11-20T00:32:57.507845Z"
    },
    "id": "21932x15HSOL",
    "papermill": {
     "duration": 0.025374,
     "end_time": "2023-11-20T00:32:57.511247",
     "exception": false,
     "start_time": "2023-11-20T00:32:57.485873",
     "status": "completed"
    },
    "tags": []
   },
   "outputs": [],
   "source": [
    "# Create a submission file\n",
    "#submission = pd.DataFrame({'image_id':X_train['image_id'], 'label': y_train_pred})\n",
    "#submission\n",
    "#submission.to_csv('submission.csv', index=False)"
   ]
  },
  {
   "cell_type": "code",
   "execution_count": 49,
   "id": "3e5d50cf",
   "metadata": {
    "execution": {
     "iopub.execute_input": "2023-11-20T00:32:57.545878Z",
     "iopub.status.busy": "2023-11-20T00:32:57.545470Z",
     "iopub.status.idle": "2023-11-20T00:32:57.551626Z",
     "shell.execute_reply": "2023-11-20T00:32:57.550607Z"
    },
    "id": "kKQE8m1R0zAp",
    "papermill": {
     "duration": 0.025902,
     "end_time": "2023-11-20T00:32:57.553949",
     "exception": false,
     "start_time": "2023-11-20T00:32:57.528047",
     "status": "completed"
    },
    "tags": []
   },
   "outputs": [],
   "source": [
    "import pandas as pd\n",
    "\n",
    "# Sample data\n",
    "#data = [[\n",
    "    #'image_id': [2, 5, 6,4,3],\n",
    "    #'label': ['CC', 'EC', 'HGSC','LGSC','MC']\n",
    "#]]\n",
    "#data=sample_submission_df[['image_id','label']]\n",
    "#df=pd.DataFrame(data)\n",
    "\n",
    "# Creating a DataFrame\n",
    "#df = pd.DataFrame(data)\n",
    "#df=y_pred1\n",
    "#submission['label']\n",
    "#submission\n",
    "#submission.to_csv('submission.csv',index=False)\n"
   ]
  },
  {
   "cell_type": "code",
   "execution_count": 50,
   "id": "13f9938e",
   "metadata": {
    "execution": {
     "iopub.execute_input": "2023-11-20T00:32:57.587742Z",
     "iopub.status.busy": "2023-11-20T00:32:57.586754Z",
     "iopub.status.idle": "2023-11-20T00:32:57.600031Z",
     "shell.execute_reply": "2023-11-20T00:32:57.598336Z"
    },
    "papermill": {
     "duration": 0.031993,
     "end_time": "2023-11-20T00:32:57.602124",
     "exception": false,
     "start_time": "2023-11-20T00:32:57.570131",
     "status": "completed"
    },
    "tags": []
   },
   "outputs": [
    {
     "data": {
      "text/plain": [
       "array(['HGSC', 'HGSC', 'HGSC', 'EC', 'HGSC', 'HGSC', 'EC', 'HGSC', 'CC',\n",
       "       'EC', 'CC', 'HGSC', 'CC', 'MC', 'LGSC', 'HGSC', 'LGSC', 'HGSC',\n",
       "       'HGSC', 'CC', 'LGSC', 'HGSC', 'CC', 'CC', 'EC', 'EC', 'HGSC',\n",
       "       'HGSC', 'LGSC', 'EC', 'CC', 'HGSC', 'CC', 'EC', 'CC', 'LGSC', 'CC',\n",
       "       'MC', 'CC', 'CC', 'CC', 'CC', 'LGSC', 'HGSC', 'EC', 'CC', 'HGSC',\n",
       "       'CC', 'LGSC', 'HGSC', 'LGSC', 'EC', 'EC', 'HGSC', 'HGSC', 'EC',\n",
       "       'HGSC', 'EC', 'HGSC', 'CC', 'EC', 'CC', 'CC', 'CC', 'HGSC', 'MC',\n",
       "       'HGSC', 'EC', 'HGSC', 'EC', 'HGSC', 'EC', 'HGSC', 'EC', 'HGSC',\n",
       "       'HGSC', 'HGSC', 'HGSC', 'LGSC', 'CC', 'CC', 'EC', 'EC', 'HGSC',\n",
       "       'CC', 'CC', 'HGSC', 'HGSC', 'HGSC', 'EC', 'CC', 'HGSC', 'CC',\n",
       "       'LGSC', 'EC', 'HGSC', 'MC', 'EC', 'CC', 'HGSC', 'HGSC', 'MC',\n",
       "       'HGSC', 'MC', 'HGSC', 'HGSC', 'EC', 'EC', 'HGSC', 'EC', 'EC',\n",
       "       'HGSC', 'HGSC', 'MC', 'HGSC', 'CC', 'HGSC', 'MC', 'EC', 'MC',\n",
       "       'HGSC', 'MC', 'HGSC', 'HGSC', 'EC', 'HGSC', 'CC', 'EC', 'EC',\n",
       "       'HGSC', 'EC', 'HGSC', 'HGSC', 'LGSC', 'EC', 'LGSC', 'CC', 'CC',\n",
       "       'CC', 'CC', 'HGSC', 'CC', 'HGSC', 'HGSC', 'LGSC', 'CC', 'HGSC',\n",
       "       'CC', 'EC', 'CC', 'HGSC', 'HGSC', 'HGSC', 'LGSC', 'MC', 'EC',\n",
       "       'LGSC', 'HGSC', 'CC', 'EC', 'HGSC', 'HGSC', 'HGSC', 'HGSC', 'EC',\n",
       "       'HGSC', 'EC', 'EC', 'HGSC', 'HGSC', 'CC', 'CC', 'HGSC', 'HGSC',\n",
       "       'EC', 'CC', 'EC', 'HGSC', 'LGSC', 'HGSC', 'HGSC', 'EC', 'HGSC',\n",
       "       'HGSC', 'HGSC', 'HGSC', 'CC', 'HGSC', 'HGSC', 'EC', 'HGSC', 'HGSC',\n",
       "       'CC', 'EC', 'EC', 'HGSC', 'HGSC', 'EC', 'LGSC', 'HGSC', 'HGSC',\n",
       "       'EC', 'EC', 'CC', 'MC', 'HGSC', 'EC', 'HGSC', 'HGSC', 'MC', 'MC',\n",
       "       'HGSC', 'HGSC', 'HGSC', 'EC', 'HGSC', 'HGSC', 'LGSC', 'HGSC', 'EC',\n",
       "       'HGSC', 'EC', 'HGSC', 'HGSC', 'HGSC', 'EC', 'CC', 'HGSC', 'EC',\n",
       "       'HGSC', 'MC', 'EC', 'CC', 'EC', 'EC', 'HGSC', 'MC', 'HGSC', 'HGSC',\n",
       "       'HGSC', 'EC', 'HGSC', 'CC', 'HGSC', 'MC', 'HGSC', 'CC', 'LGSC',\n",
       "       'HGSC', 'EC', 'HGSC', 'EC', 'EC', 'HGSC', 'CC', 'HGSC', 'CC',\n",
       "       'HGSC', 'LGSC', 'MC', 'MC', 'EC', 'HGSC', 'CC', 'EC', 'EC', 'MC',\n",
       "       'HGSC', 'HGSC', 'EC', 'HGSC', 'HGSC', 'EC', 'MC', 'HGSC', 'CC',\n",
       "       'HGSC', 'MC', 'LGSC', 'EC', 'MC', 'EC', 'LGSC', 'EC', 'EC', 'CC',\n",
       "       'HGSC', 'HGSC', 'CC', 'HGSC', 'HGSC', 'HGSC', 'CC', 'CC', 'CC',\n",
       "       'MC', 'HGSC', 'EC', 'LGSC', 'CC', 'EC', 'EC', 'HGSC', 'HGSC', 'CC',\n",
       "       'HGSC', 'HGSC', 'EC', 'EC', 'HGSC', 'EC', 'HGSC', 'EC', 'CC',\n",
       "       'HGSC', 'HGSC', 'HGSC', 'CC', 'HGSC', 'CC', 'HGSC', 'EC', 'EC',\n",
       "       'MC', 'HGSC', 'HGSC', 'HGSC', 'LGSC', 'HGSC', 'EC', 'EC', 'LGSC',\n",
       "       'HGSC', 'CC', 'LGSC', 'EC', 'HGSC', 'HGSC', 'EC', 'CC', 'HGSC',\n",
       "       'HGSC', 'EC', 'CC', 'EC', 'CC', 'HGSC', 'CC', 'EC', 'CC', 'CC',\n",
       "       'MC', 'HGSC', 'HGSC', 'MC', 'HGSC', 'HGSC', 'HGSC', 'HGSC', 'HGSC',\n",
       "       'MC', 'HGSC', 'LGSC', 'CC', 'LGSC', 'CC', 'EC', 'EC', 'HGSC', 'MC',\n",
       "       'EC', 'HGSC', 'EC', 'EC', 'HGSC', 'HGSC', 'HGSC', 'CC', 'HGSC',\n",
       "       'LGSC', 'HGSC', 'HGSC', 'HGSC', 'HGSC', 'HGSC', 'HGSC', 'EC',\n",
       "       'LGSC', 'CC', 'HGSC', 'HGSC', 'EC', 'HGSC', 'CC', 'CC', 'HGSC',\n",
       "       'HGSC', 'EC', 'EC', 'CC', 'CC', 'LGSC', 'LGSC', 'LGSC', 'EC',\n",
       "       'HGSC', 'EC', 'HGSC', 'EC', 'CC', 'HGSC', 'HGSC', 'HGSC', 'HGSC',\n",
       "       'HGSC', 'HGSC', 'CC', 'EC', 'CC', 'HGSC', 'EC', 'LGSC', 'HGSC',\n",
       "       'EC', 'HGSC', 'CC', 'HGSC', 'LGSC', 'HGSC', 'MC'], dtype=object)"
      ]
     },
     "execution_count": 50,
     "metadata": {},
     "output_type": "execute_result"
    }
   ],
   "source": [
    "y_pred1= model.predict(X_train)\n",
    "y_pred1"
   ]
  },
  {
   "cell_type": "code",
   "execution_count": 51,
   "id": "973b9ba3",
   "metadata": {
    "execution": {
     "iopub.execute_input": "2023-11-20T00:32:57.636421Z",
     "iopub.status.busy": "2023-11-20T00:32:57.636094Z",
     "iopub.status.idle": "2023-11-20T00:32:57.646691Z",
     "shell.execute_reply": "2023-11-20T00:32:57.645748Z"
    },
    "papermill": {
     "duration": 0.030214,
     "end_time": "2023-11-20T00:32:57.648698",
     "exception": false,
     "start_time": "2023-11-20T00:32:57.618484",
     "status": "completed"
    },
    "tags": []
   },
   "outputs": [],
   "source": [
    "\n",
    "#submission= sample_submission_df[['image_id']].copy()\n",
    "\n",
    "submission['label'] = y_pred1\n",
    "submission\n",
    "submission.to_csv('submission.csv',index=False)\n"
   ]
  }
 ],
 "metadata": {
  "kaggle": {
   "accelerator": "none",
   "dataSources": [
    {
     "databundleVersionId": 6924515,
     "sourceId": 45867,
     "sourceType": "competition"
    }
   ],
   "dockerImageVersionId": 30558,
   "isGpuEnabled": false,
   "isInternetEnabled": false,
   "language": "python",
   "sourceType": "notebook"
  },
  "kernelspec": {
   "display_name": "Python 3",
   "language": "python",
   "name": "python3"
  },
  "language_info": {
   "codemirror_mode": {
    "name": "ipython",
    "version": 3
   },
   "file_extension": ".py",
   "mimetype": "text/x-python",
   "name": "python",
   "nbconvert_exporter": "python",
   "pygments_lexer": "ipython3",
   "version": "3.10.12"
  },
  "papermill": {
   "default_parameters": {},
   "duration": 18.010251,
   "end_time": "2023-11-20T00:32:58.285678",
   "environment_variables": {},
   "exception": null,
   "input_path": "__notebook__.ipynb",
   "output_path": "__notebook__.ipynb",
   "parameters": {},
   "start_time": "2023-11-20T00:32:40.275427",
   "version": "2.4.0"
  }
 },
 "nbformat": 4,
 "nbformat_minor": 5
}
