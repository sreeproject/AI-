{
 "cells": [
  {
   "cell_type": "markdown",
   "id": "7f8494ac",
   "metadata": {
    "id": "zHkQgpcF9Vnn",
    "papermill": {
     "duration": 0.018617,
     "end_time": "2023-11-20T00:27:51.811529",
     "exception": false,
     "start_time": "2023-11-20T00:27:51.792912",
     "status": "completed"
    },
    "tags": []
   },
   "source": [
    "#UBC Ovarian Cancer Subtype Classification and Outlier Detection (UBC-OCEAN)\n",
    "**Navigating Ovarian Cancer: Unveiling Common Histotypes and Unearthing Rare Variants**"
   ]
  },
  {
   "cell_type": "code",
   "execution_count": 1,
   "id": "5e6b2378",
   "metadata": {
    "execution": {
     "iopub.execute_input": "2023-11-20T00:27:51.854393Z",
     "iopub.status.busy": "2023-11-20T00:27:51.853833Z",
     "iopub.status.idle": "2023-11-20T00:27:53.117150Z",
     "shell.execute_reply": "2023-11-20T00:27:53.114520Z"
    },
    "id": "YYUe_T0J9KnV",
    "outputId": "086bccc0-e767-4be4-d191-c526da370665",
    "papermill": {
     "duration": 1.290398,
     "end_time": "2023-11-20T00:27:53.122789",
     "exception": false,
     "start_time": "2023-11-20T00:27:51.832391",
     "status": "completed"
    },
    "tags": []
   },
   "outputs": [
    {
     "data": {
      "text/html": [
       "<div>\n",
       "<style scoped>\n",
       "    .dataframe tbody tr th:only-of-type {\n",
       "        vertical-align: middle;\n",
       "    }\n",
       "\n",
       "    .dataframe tbody tr th {\n",
       "        vertical-align: top;\n",
       "    }\n",
       "\n",
       "    .dataframe thead th {\n",
       "        text-align: right;\n",
       "    }\n",
       "</style>\n",
       "<table border=\"1\" class=\"dataframe\">\n",
       "  <thead>\n",
       "    <tr style=\"text-align: right;\">\n",
       "      <th></th>\n",
       "      <th>image_id</th>\n",
       "      <th>label</th>\n",
       "      <th>image_width</th>\n",
       "      <th>image_height</th>\n",
       "      <th>is_tma</th>\n",
       "    </tr>\n",
       "  </thead>\n",
       "  <tbody>\n",
       "    <tr>\n",
       "      <th>0</th>\n",
       "      <td>4</td>\n",
       "      <td>HGSC</td>\n",
       "      <td>23785</td>\n",
       "      <td>20008</td>\n",
       "      <td>False</td>\n",
       "    </tr>\n",
       "    <tr>\n",
       "      <th>1</th>\n",
       "      <td>66</td>\n",
       "      <td>LGSC</td>\n",
       "      <td>48871</td>\n",
       "      <td>48195</td>\n",
       "      <td>False</td>\n",
       "    </tr>\n",
       "    <tr>\n",
       "      <th>2</th>\n",
       "      <td>91</td>\n",
       "      <td>HGSC</td>\n",
       "      <td>3388</td>\n",
       "      <td>3388</td>\n",
       "      <td>True</td>\n",
       "    </tr>\n",
       "    <tr>\n",
       "      <th>3</th>\n",
       "      <td>281</td>\n",
       "      <td>LGSC</td>\n",
       "      <td>42309</td>\n",
       "      <td>15545</td>\n",
       "      <td>False</td>\n",
       "    </tr>\n",
       "    <tr>\n",
       "      <th>4</th>\n",
       "      <td>286</td>\n",
       "      <td>EC</td>\n",
       "      <td>37204</td>\n",
       "      <td>30020</td>\n",
       "      <td>False</td>\n",
       "    </tr>\n",
       "  </tbody>\n",
       "</table>\n",
       "</div>"
      ],
      "text/plain": [
       "   image_id label  image_width  image_height  is_tma\n",
       "0         4  HGSC        23785         20008   False\n",
       "1        66  LGSC        48871         48195   False\n",
       "2        91  HGSC         3388          3388    True\n",
       "3       281  LGSC        42309         15545   False\n",
       "4       286    EC        37204         30020   False"
      ]
     },
     "execution_count": 1,
     "metadata": {},
     "output_type": "execute_result"
    }
   ],
   "source": [
    "import pandas as pd\n",
    "train=pd.read_csv('/kaggle/input/UBC-OCEAN/train.csv')\n",
    "train.head()"
   ]
  },
  {
   "cell_type": "code",
   "execution_count": null,
   "id": "004b67b3",
   "metadata": {
    "papermill": {
     "duration": 0.019041,
     "end_time": "2023-11-20T00:27:53.161887",
     "exception": false,
     "start_time": "2023-11-20T00:27:53.142846",
     "status": "completed"
    },
    "tags": []
   },
   "outputs": [],
   "source": []
  },
  {
   "cell_type": "code",
   "execution_count": 2,
   "id": "0c9dbad4",
   "metadata": {
    "execution": {
     "iopub.execute_input": "2023-11-20T00:27:53.204357Z",
     "iopub.status.busy": "2023-11-20T00:27:53.203871Z",
     "iopub.status.idle": "2023-11-20T00:27:53.213139Z",
     "shell.execute_reply": "2023-11-20T00:27:53.211500Z"
    },
    "id": "PR-CkLRDFA6k",
    "outputId": "a51c7a15-0fc1-44b3-90d9-00cf021a3bc0",
    "papermill": {
     "duration": 0.035768,
     "end_time": "2023-11-20T00:27:53.216682",
     "exception": false,
     "start_time": "2023-11-20T00:27:53.180914",
     "status": "completed"
    },
    "tags": []
   },
   "outputs": [
    {
     "data": {
      "text/plain": [
       "(538, 5)"
      ]
     },
     "execution_count": 2,
     "metadata": {},
     "output_type": "execute_result"
    }
   ],
   "source": [
    "train.shape"
   ]
  },
  {
   "cell_type": "code",
   "execution_count": 3,
   "id": "7bd0a73a",
   "metadata": {
    "execution": {
     "iopub.execute_input": "2023-11-20T00:27:53.260309Z",
     "iopub.status.busy": "2023-11-20T00:27:53.259550Z",
     "iopub.status.idle": "2023-11-20T00:27:53.300304Z",
     "shell.execute_reply": "2023-11-20T00:27:53.298792Z"
    },
    "id": "V70z0Hj6FEJ3",
    "outputId": "d5653dbb-ded7-4873-8df8-347fff4b7741",
    "papermill": {
     "duration": 0.067864,
     "end_time": "2023-11-20T00:27:53.304735",
     "exception": false,
     "start_time": "2023-11-20T00:27:53.236871",
     "status": "completed"
    },
    "tags": []
   },
   "outputs": [
    {
     "name": "stdout",
     "output_type": "stream",
     "text": [
      "<class 'pandas.core.frame.DataFrame'>\n",
      "RangeIndex: 538 entries, 0 to 537\n",
      "Data columns (total 5 columns):\n",
      " #   Column        Non-Null Count  Dtype \n",
      "---  ------        --------------  ----- \n",
      " 0   image_id      538 non-null    int64 \n",
      " 1   label         538 non-null    object\n",
      " 2   image_width   538 non-null    int64 \n",
      " 3   image_height  538 non-null    int64 \n",
      " 4   is_tma        538 non-null    bool  \n",
      "dtypes: bool(1), int64(3), object(1)\n",
      "memory usage: 17.5+ KB\n"
     ]
    }
   ],
   "source": [
    "train.info()"
   ]
  },
  {
   "cell_type": "code",
   "execution_count": 4,
   "id": "012f41a1",
   "metadata": {
    "execution": {
     "iopub.execute_input": "2023-11-20T00:27:53.347253Z",
     "iopub.status.busy": "2023-11-20T00:27:53.346744Z",
     "iopub.status.idle": "2023-11-20T00:27:53.358129Z",
     "shell.execute_reply": "2023-11-20T00:27:53.356699Z"
    },
    "id": "NOZkEaVMFO4_",
    "outputId": "3df3d42a-cfe5-4ec0-b709-ae1c94e5aa8f",
    "papermill": {
     "duration": 0.036539,
     "end_time": "2023-11-20T00:27:53.361006",
     "exception": false,
     "start_time": "2023-11-20T00:27:53.324467",
     "status": "completed"
    },
    "tags": []
   },
   "outputs": [
    {
     "data": {
      "text/plain": [
       "image_id         int64\n",
       "label           object\n",
       "image_width      int64\n",
       "image_height     int64\n",
       "is_tma            bool\n",
       "dtype: object"
      ]
     },
     "execution_count": 4,
     "metadata": {},
     "output_type": "execute_result"
    }
   ],
   "source": [
    "train.dtypes"
   ]
  },
  {
   "cell_type": "code",
   "execution_count": 5,
   "id": "458e85a5",
   "metadata": {
    "execution": {
     "iopub.execute_input": "2023-11-20T00:27:53.405263Z",
     "iopub.status.busy": "2023-11-20T00:27:53.403775Z",
     "iopub.status.idle": "2023-11-20T00:27:53.432425Z",
     "shell.execute_reply": "2023-11-20T00:27:53.430995Z"
    },
    "id": "3qYnB8FaFXlf",
    "outputId": "378c1341-fc7b-405b-a36c-f0d39741e713",
    "papermill": {
     "duration": 0.055052,
     "end_time": "2023-11-20T00:27:53.435456",
     "exception": false,
     "start_time": "2023-11-20T00:27:53.380404",
     "status": "completed"
    },
    "tags": []
   },
   "outputs": [
    {
     "data": {
      "text/html": [
       "<div>\n",
       "<style scoped>\n",
       "    .dataframe tbody tr th:only-of-type {\n",
       "        vertical-align: middle;\n",
       "    }\n",
       "\n",
       "    .dataframe tbody tr th {\n",
       "        vertical-align: top;\n",
       "    }\n",
       "\n",
       "    .dataframe thead th {\n",
       "        text-align: right;\n",
       "    }\n",
       "</style>\n",
       "<table border=\"1\" class=\"dataframe\">\n",
       "  <thead>\n",
       "    <tr style=\"text-align: right;\">\n",
       "      <th></th>\n",
       "      <th>image_id</th>\n",
       "      <th>image_width</th>\n",
       "      <th>image_height</th>\n",
       "    </tr>\n",
       "  </thead>\n",
       "  <tbody>\n",
       "    <tr>\n",
       "      <th>count</th>\n",
       "      <td>538.000000</td>\n",
       "      <td>538.000000</td>\n",
       "      <td>538.000000</td>\n",
       "    </tr>\n",
       "    <tr>\n",
       "      <th>mean</th>\n",
       "      <td>32194.340149</td>\n",
       "      <td>48859.533457</td>\n",
       "      <td>29729.460967</td>\n",
       "    </tr>\n",
       "    <tr>\n",
       "      <th>std</th>\n",
       "      <td>18774.950592</td>\n",
       "      <td>20040.989927</td>\n",
       "      <td>10762.899796</td>\n",
       "    </tr>\n",
       "    <tr>\n",
       "      <th>min</th>\n",
       "      <td>4.000000</td>\n",
       "      <td>2964.000000</td>\n",
       "      <td>2964.000000</td>\n",
       "    </tr>\n",
       "    <tr>\n",
       "      <th>25%</th>\n",
       "      <td>15881.250000</td>\n",
       "      <td>34509.000000</td>\n",
       "      <td>22089.500000</td>\n",
       "    </tr>\n",
       "    <tr>\n",
       "      <th>50%</th>\n",
       "      <td>32152.000000</td>\n",
       "      <td>48160.000000</td>\n",
       "      <td>29732.000000</td>\n",
       "    </tr>\n",
       "    <tr>\n",
       "      <th>75%</th>\n",
       "      <td>47892.500000</td>\n",
       "      <td>64143.750000</td>\n",
       "      <td>37880.750000</td>\n",
       "    </tr>\n",
       "    <tr>\n",
       "      <th>max</th>\n",
       "      <td>65533.000000</td>\n",
       "      <td>105763.000000</td>\n",
       "      <td>50155.000000</td>\n",
       "    </tr>\n",
       "  </tbody>\n",
       "</table>\n",
       "</div>"
      ],
      "text/plain": [
       "           image_id    image_width  image_height\n",
       "count    538.000000     538.000000    538.000000\n",
       "mean   32194.340149   48859.533457  29729.460967\n",
       "std    18774.950592   20040.989927  10762.899796\n",
       "min        4.000000    2964.000000   2964.000000\n",
       "25%    15881.250000   34509.000000  22089.500000\n",
       "50%    32152.000000   48160.000000  29732.000000\n",
       "75%    47892.500000   64143.750000  37880.750000\n",
       "max    65533.000000  105763.000000  50155.000000"
      ]
     },
     "execution_count": 5,
     "metadata": {},
     "output_type": "execute_result"
    }
   ],
   "source": [
    "train.describe()"
   ]
  },
  {
   "cell_type": "code",
   "execution_count": 6,
   "id": "ef34d510",
   "metadata": {
    "execution": {
     "iopub.execute_input": "2023-11-20T00:27:53.478709Z",
     "iopub.status.busy": "2023-11-20T00:27:53.477022Z",
     "iopub.status.idle": "2023-11-20T00:27:53.489149Z",
     "shell.execute_reply": "2023-11-20T00:27:53.487582Z"
    },
    "id": "hVIbLw0IGXMG",
    "outputId": "8a4e45f0-f0a5-4a46-fe47-5b402cc2e73a",
    "papermill": {
     "duration": 0.037009,
     "end_time": "2023-11-20T00:27:53.492189",
     "exception": false,
     "start_time": "2023-11-20T00:27:53.455180",
     "status": "completed"
    },
    "tags": []
   },
   "outputs": [
    {
     "data": {
      "text/plain": [
       "0"
      ]
     },
     "execution_count": 6,
     "metadata": {},
     "output_type": "execute_result"
    }
   ],
   "source": [
    "train.isnull().sum().sum()"
   ]
  },
  {
   "cell_type": "code",
   "execution_count": 7,
   "id": "22b35732",
   "metadata": {
    "execution": {
     "iopub.execute_input": "2023-11-20T00:27:53.535156Z",
     "iopub.status.busy": "2023-11-20T00:27:53.534467Z",
     "iopub.status.idle": "2023-11-20T00:27:53.556708Z",
     "shell.execute_reply": "2023-11-20T00:27:53.554398Z"
    },
    "papermill": {
     "duration": 0.047277,
     "end_time": "2023-11-20T00:27:53.560427",
     "exception": false,
     "start_time": "2023-11-20T00:27:53.513150",
     "status": "completed"
    },
    "tags": []
   },
   "outputs": [
    {
     "data": {
      "text/html": [
       "<div>\n",
       "<style scoped>\n",
       "    .dataframe tbody tr th:only-of-type {\n",
       "        vertical-align: middle;\n",
       "    }\n",
       "\n",
       "    .dataframe tbody tr th {\n",
       "        vertical-align: top;\n",
       "    }\n",
       "\n",
       "    .dataframe thead th {\n",
       "        text-align: right;\n",
       "    }\n",
       "</style>\n",
       "<table border=\"1\" class=\"dataframe\">\n",
       "  <thead>\n",
       "    <tr style=\"text-align: right;\">\n",
       "      <th></th>\n",
       "      <th>image_id</th>\n",
       "      <th>label</th>\n",
       "      <th>image_width</th>\n",
       "      <th>image_height</th>\n",
       "    </tr>\n",
       "  </thead>\n",
       "  <tbody>\n",
       "    <tr>\n",
       "      <th>0</th>\n",
       "      <td>4</td>\n",
       "      <td>HGSC</td>\n",
       "      <td>23785</td>\n",
       "      <td>20008</td>\n",
       "    </tr>\n",
       "    <tr>\n",
       "      <th>1</th>\n",
       "      <td>66</td>\n",
       "      <td>LGSC</td>\n",
       "      <td>48871</td>\n",
       "      <td>48195</td>\n",
       "    </tr>\n",
       "    <tr>\n",
       "      <th>2</th>\n",
       "      <td>91</td>\n",
       "      <td>HGSC</td>\n",
       "      <td>3388</td>\n",
       "      <td>3388</td>\n",
       "    </tr>\n",
       "    <tr>\n",
       "      <th>3</th>\n",
       "      <td>281</td>\n",
       "      <td>LGSC</td>\n",
       "      <td>42309</td>\n",
       "      <td>15545</td>\n",
       "    </tr>\n",
       "    <tr>\n",
       "      <th>4</th>\n",
       "      <td>286</td>\n",
       "      <td>EC</td>\n",
       "      <td>37204</td>\n",
       "      <td>30020</td>\n",
       "    </tr>\n",
       "  </tbody>\n",
       "</table>\n",
       "</div>"
      ],
      "text/plain": [
       "   image_id label  image_width  image_height\n",
       "0         4  HGSC        23785         20008\n",
       "1        66  LGSC        48871         48195\n",
       "2        91  HGSC         3388          3388\n",
       "3       281  LGSC        42309         15545\n",
       "4       286    EC        37204         30020"
      ]
     },
     "execution_count": 7,
     "metadata": {},
     "output_type": "execute_result"
    }
   ],
   "source": [
    "train.drop('is_tma',axis=1,inplace=True)\n",
    "train.head()"
   ]
  },
  {
   "cell_type": "code",
   "execution_count": 8,
   "id": "870c3063",
   "metadata": {
    "execution": {
     "iopub.execute_input": "2023-11-20T00:27:53.605157Z",
     "iopub.status.busy": "2023-11-20T00:27:53.603874Z",
     "iopub.status.idle": "2023-11-20T00:27:53.616837Z",
     "shell.execute_reply": "2023-11-20T00:27:53.615344Z"
    },
    "id": "wXgaGrweFoZ7",
    "outputId": "2926d915-aa72-409d-cc8d-670c9badd450",
    "papermill": {
     "duration": 0.038737,
     "end_time": "2023-11-20T00:27:53.620285",
     "exception": false,
     "start_time": "2023-11-20T00:27:53.581548",
     "status": "completed"
    },
    "tags": []
   },
   "outputs": [
    {
     "data": {
      "text/plain": [
       "label\n",
       "HGSC    0.412639\n",
       "EC      0.230483\n",
       "CC      0.184015\n",
       "LGSC    0.087361\n",
       "MC      0.085502\n",
       "Name: proportion, dtype: float64"
      ]
     },
     "execution_count": 8,
     "metadata": {},
     "output_type": "execute_result"
    }
   ],
   "source": [
    "train['label'].value_counts(normalize=True) #label is the target variable"
   ]
  },
  {
   "cell_type": "code",
   "execution_count": 9,
   "id": "873c4129",
   "metadata": {
    "execution": {
     "iopub.execute_input": "2023-11-20T00:27:53.664009Z",
     "iopub.status.busy": "2023-11-20T00:27:53.663538Z",
     "iopub.status.idle": "2023-11-20T00:27:53.670171Z",
     "shell.execute_reply": "2023-11-20T00:27:53.668702Z"
    },
    "id": "LcEj7bhWBu73",
    "papermill": {
     "duration": 0.032393,
     "end_time": "2023-11-20T00:27:53.673395",
     "exception": false,
     "start_time": "2023-11-20T00:27:53.641002",
     "status": "completed"
    },
    "tags": []
   },
   "outputs": [],
   "source": [
    "#CC (Clear Cell Carcinoma): Clear Cell Carcinoma is a type of ovarian cancer characterized by cells that appear clear under a microscope.\n",
    "#EC (Endometrioid Carcinoma):Endometrioid Carcinoma is a type of ovarian cancer that resembles the tissue lining the uterus (endometrium).\n",
    "#HGSC (High-Grade Serous Carcinoma): High-Grade Serous Carcinoma is an aggressive form of ovarian cancer that is typically diagnosed at an advanced stage.\n",
    "#LGSC (Low-Grade Serous Carcinoma): Low-Grade Serous Carcinoma is a less aggressive form of ovarian cancer, often diagnosed at an earlier stage.\n",
    "#MC (Mucinous Carcinoma): Mucinous Carcinoma is a type of ovarian cancer that arises from cells that produce mucus."
   ]
  },
  {
   "cell_type": "code",
   "execution_count": 10,
   "id": "2b7ac980",
   "metadata": {
    "execution": {
     "iopub.execute_input": "2023-11-20T00:27:53.814940Z",
     "iopub.status.busy": "2023-11-20T00:27:53.814459Z",
     "iopub.status.idle": "2023-11-20T00:27:56.217284Z",
     "shell.execute_reply": "2023-11-20T00:27:56.214717Z"
    },
    "papermill": {
     "duration": 2.5302,
     "end_time": "2023-11-20T00:27:56.222997",
     "exception": false,
     "start_time": "2023-11-20T00:27:53.692797",
     "status": "completed"
    },
    "tags": []
   },
   "outputs": [
    {
     "data": {
      "text/plain": [
       "([<matplotlib.patches.Wedge at 0x7fdea7eb67d0>,\n",
       "  <matplotlib.patches.Wedge at 0x7fdea7eb6710>,\n",
       "  <matplotlib.patches.Wedge at 0x7fdea7eb70a0>,\n",
       "  <matplotlib.patches.Wedge at 0x7fdea7eb7520>,\n",
       "  <matplotlib.patches.Wedge at 0x7fdea7ff2b60>],\n",
       " [Text(0.2981207899754956, 1.0588314287857092, 'CC'),\n",
       "  Text(-1.0831643577013341, -0.19171586842370836, 'EC'),\n",
       "  Text(-0.10262375040094325, -1.0952024314498416, 'MC'),\n",
       "  Text(0.7571124488572663, -0.7979854257975852, 'LGSC'),\n",
       "  Text(1.0605542357588946, -0.29193272001244946, 'HGSC')])"
      ]
     },
     "execution_count": 10,
     "metadata": {},
     "output_type": "execute_result"
    },
    {
     "data": {
      "image/png": "[encoded data removed]",
      "text/plain": [
       "<Figure size 640x480 with 1 Axes>"
      ]
     },
     "metadata": {},
     "output_type": "display_data"
    }
   ],
   "source": [
    "import seaborn as sns\n",
    "import matplotlib.pyplot as plt\n",
    "plt.pie(x=train['label'].value_counts(),labels={'HGSC','EC','CC','LGSC','MC'})"
   ]
  },
  {
   "cell_type": "code",
   "execution_count": 11,
   "id": "fb2331dc",
   "metadata": {
    "execution": {
     "iopub.execute_input": "2023-11-20T00:27:56.287188Z",
     "iopub.status.busy": "2023-11-20T00:27:56.286352Z",
     "iopub.status.idle": "2023-11-20T00:27:56.300345Z",
     "shell.execute_reply": "2023-11-20T00:27:56.299275Z"
    },
    "id": "Xu236fT8H9iC",
    "outputId": "74c50822-4a97-4690-f56c-1cdaca838722",
    "papermill": {
     "duration": 0.039946,
     "end_time": "2023-11-20T00:27:56.303535",
     "exception": false,
     "start_time": "2023-11-20T00:27:56.263589",
     "status": "completed"
    },
    "tags": []
   },
   "outputs": [
    {
     "data": {
      "text/plain": [
       "(1, 2)"
      ]
     },
     "execution_count": 11,
     "metadata": {},
     "output_type": "execute_result"
    }
   ],
   "source": [
    "sample_submission_url='/kaggle/input/UBC-OCEAN/sample_submission.csv'\n",
    "sample_submission_df=pd.read_csv(sample_submission_url)\n",
    "sample_submission_df\n",
    "sample_submission_df.shape"
   ]
  },
  {
   "cell_type": "code",
   "execution_count": 12,
   "id": "b937184e",
   "metadata": {
    "execution": {
     "iopub.execute_input": "2023-11-20T00:27:56.347934Z",
     "iopub.status.busy": "2023-11-20T00:27:56.347105Z",
     "iopub.status.idle": "2023-11-20T00:27:56.354314Z",
     "shell.execute_reply": "2023-11-20T00:27:56.353387Z"
    },
    "id": "byU4CrMhHi-0",
    "papermill": {
     "duration": 0.032717,
     "end_time": "2023-11-20T00:27:56.356938",
     "exception": false,
     "start_time": "2023-11-20T00:27:56.324221",
     "status": "completed"
    },
    "tags": []
   },
   "outputs": [
    {
     "data": {
      "text/plain": [
       "(538, 4)"
      ]
     },
     "execution_count": 12,
     "metadata": {},
     "output_type": "execute_result"
    }
   ],
   "source": [
    "train.shape"
   ]
  },
  {
   "cell_type": "code",
   "execution_count": 13,
   "id": "8208ce36",
   "metadata": {
    "execution": {
     "iopub.execute_input": "2023-11-20T00:27:56.401875Z",
     "iopub.status.busy": "2023-11-20T00:27:56.401028Z",
     "iopub.status.idle": "2023-11-20T00:27:56.405801Z",
     "shell.execute_reply": "2023-11-20T00:27:56.404865Z"
    },
    "id": "CEnadhepc3kT",
    "papermill": {
     "duration": 0.030929,
     "end_time": "2023-11-20T00:27:56.408748",
     "exception": false,
     "start_time": "2023-11-20T00:27:56.377819",
     "status": "completed"
    },
    "tags": []
   },
   "outputs": [],
   "source": [
    "traget='label'\n"
   ]
  },
  {
   "cell_type": "code",
   "execution_count": 14,
   "id": "e2fc8feb",
   "metadata": {
    "execution": {
     "iopub.execute_input": "2023-11-20T00:27:56.456881Z",
     "iopub.status.busy": "2023-11-20T00:27:56.455971Z",
     "iopub.status.idle": "2023-11-20T00:27:56.796252Z",
     "shell.execute_reply": "2023-11-20T00:27:56.794439Z"
    },
    "id": "alJVMxDt1A7C",
    "outputId": "ef21362a-2602-4dc0-815a-1ac80b5ebc4b",
    "papermill": {
     "duration": 0.367502,
     "end_time": "2023-11-20T00:27:56.800260",
     "exception": false,
     "start_time": "2023-11-20T00:27:56.432758",
     "status": "completed"
    },
    "tags": []
   },
   "outputs": [
    {
     "data": {
      "text/plain": [
       "Text(0.5, 1.0, 'Distribution of Test')"
      ]
     },
     "execution_count": 14,
     "metadata": {},
     "output_type": "execute_result"
    },
    {
     "data": {
      "image/png": "[encoded data removed]",
      "text/plain": [
       "<Figure size 640x480 with 1 Axes>"
      ]
     },
     "metadata": {},
     "output_type": "display_data"
    }
   ],
   "source": [
    "import matplotlib.pyplot as plt\n",
    "\n",
    "plt.hist(train['label'])\n",
    "\n",
    "plt.ylabel('Frequency')\n",
    "plt.title(r'Distribution of Test')"
   ]
  },
  {
   "cell_type": "code",
   "execution_count": 15,
   "id": "a9eb7ba4",
   "metadata": {
    "execution": {
     "iopub.execute_input": "2023-11-20T00:27:56.851110Z",
     "iopub.status.busy": "2023-11-20T00:27:56.850526Z",
     "iopub.status.idle": "2023-11-20T00:27:57.222720Z",
     "shell.execute_reply": "2023-11-20T00:27:57.221005Z"
    },
    "id": "ssbZkkkwYMmo",
    "outputId": "3207f484-2850-447e-cd0b-1cff65b5b0ce",
    "papermill": {
     "duration": 0.401513,
     "end_time": "2023-11-20T00:27:57.226050",
     "exception": false,
     "start_time": "2023-11-20T00:27:56.824537",
     "status": "completed"
    },
    "tags": []
   },
   "outputs": [
    {
     "data": {
      "text/plain": [
       "Text(0.5, 1.0, 'Box Plot of All Columns')"
      ]
     },
     "execution_count": 15,
     "metadata": {},
     "output_type": "execute_result"
    },
    {
     "data": {
      "image/png": "[encoded data removed]",
      "text/plain": [
       "<Figure size 640x480 with 1 Axes>"
      ]
     },
     "metadata": {},
     "output_type": "display_data"
    }
   ],
   "source": [
    "import seaborn  as sns\n",
    "import matplotlib.pyplot as plt\n",
    "outlin=['image_id', 'label', 'image_width','image_height']\n",
    "\n",
    "sns.boxplot(data=train[outlin], orient='h')  # 'orient' is set to 'h' for horizontal box plots\n",
    "\n",
    "plt.xlabel('Values')\n",
    "plt.title('Box Plot of All Columns')"
   ]
  },
  {
   "cell_type": "code",
   "execution_count": 16,
   "id": "67705751",
   "metadata": {
    "execution": {
     "iopub.execute_input": "2023-11-20T00:27:57.278256Z",
     "iopub.status.busy": "2023-11-20T00:27:57.277750Z",
     "iopub.status.idle": "2023-11-20T00:27:57.285970Z",
     "shell.execute_reply": "2023-11-20T00:27:57.284487Z"
    },
    "id": "TJBJNuXENU8k",
    "papermill": {
     "duration": 0.038893,
     "end_time": "2023-11-20T00:27:57.289061",
     "exception": false,
     "start_time": "2023-11-20T00:27:57.250168",
     "status": "completed"
    },
    "tags": []
   },
   "outputs": [],
   "source": [
    "#split X,y\n",
    "X=train.drop('label',axis=1)\n",
    "y=train['label']"
   ]
  },
  {
   "cell_type": "code",
   "execution_count": 17,
   "id": "4f09712c",
   "metadata": {
    "execution": {
     "iopub.execute_input": "2023-11-20T00:27:57.342142Z",
     "iopub.status.busy": "2023-11-20T00:27:57.341064Z",
     "iopub.status.idle": "2023-11-20T00:27:57.350006Z",
     "shell.execute_reply": "2023-11-20T00:27:57.348600Z"
    },
    "id": "4K9gtM2VNf0K",
    "outputId": "0de0b9b7-0e09-471e-b1dc-6ee85082b84c",
    "papermill": {
     "duration": 0.039565,
     "end_time": "2023-11-20T00:27:57.354351",
     "exception": false,
     "start_time": "2023-11-20T00:27:57.314786",
     "status": "completed"
    },
    "tags": []
   },
   "outputs": [
    {
     "data": {
      "text/plain": [
       "((538, 3), (538,))"
      ]
     },
     "execution_count": 17,
     "metadata": {},
     "output_type": "execute_result"
    }
   ],
   "source": [
    "X.shape,y.shape"
   ]
  },
  {
   "cell_type": "code",
   "execution_count": 18,
   "id": "309316ef",
   "metadata": {
    "execution": {
     "iopub.execute_input": "2023-11-20T00:27:57.421050Z",
     "iopub.status.busy": "2023-11-20T00:27:57.420368Z",
     "iopub.status.idle": "2023-11-20T00:27:57.436509Z",
     "shell.execute_reply": "2023-11-20T00:27:57.434831Z"
    },
    "id": "CRqIvC9RNpMA",
    "outputId": "3bdfe914-b576-437e-9e92-b0e064d07746",
    "papermill": {
     "duration": 0.057546,
     "end_time": "2023-11-20T00:27:57.439674",
     "exception": false,
     "start_time": "2023-11-20T00:27:57.382128",
     "status": "completed"
    },
    "tags": []
   },
   "outputs": [
    {
     "data": {
      "text/html": [
       "<div>\n",
       "<style scoped>\n",
       "    .dataframe tbody tr th:only-of-type {\n",
       "        vertical-align: middle;\n",
       "    }\n",
       "\n",
       "    .dataframe tbody tr th {\n",
       "        vertical-align: top;\n",
       "    }\n",
       "\n",
       "    .dataframe thead th {\n",
       "        text-align: right;\n",
       "    }\n",
       "</style>\n",
       "<table border=\"1\" class=\"dataframe\">\n",
       "  <thead>\n",
       "    <tr style=\"text-align: right;\">\n",
       "      <th></th>\n",
       "      <th>image_id</th>\n",
       "      <th>image_width</th>\n",
       "      <th>image_height</th>\n",
       "    </tr>\n",
       "  </thead>\n",
       "  <tbody>\n",
       "    <tr>\n",
       "      <th>0</th>\n",
       "      <td>4</td>\n",
       "      <td>23785</td>\n",
       "      <td>20008</td>\n",
       "    </tr>\n",
       "    <tr>\n",
       "      <th>1</th>\n",
       "      <td>66</td>\n",
       "      <td>48871</td>\n",
       "      <td>48195</td>\n",
       "    </tr>\n",
       "    <tr>\n",
       "      <th>2</th>\n",
       "      <td>91</td>\n",
       "      <td>3388</td>\n",
       "      <td>3388</td>\n",
       "    </tr>\n",
       "    <tr>\n",
       "      <th>3</th>\n",
       "      <td>281</td>\n",
       "      <td>42309</td>\n",
       "      <td>15545</td>\n",
       "    </tr>\n",
       "    <tr>\n",
       "      <th>4</th>\n",
       "      <td>286</td>\n",
       "      <td>37204</td>\n",
       "      <td>30020</td>\n",
       "    </tr>\n",
       "  </tbody>\n",
       "</table>\n",
       "</div>"
      ],
      "text/plain": [
       "   image_id  image_width  image_height\n",
       "0         4        23785         20008\n",
       "1        66        48871         48195\n",
       "2        91         3388          3388\n",
       "3       281        42309         15545\n",
       "4       286        37204         30020"
      ]
     },
     "execution_count": 18,
     "metadata": {},
     "output_type": "execute_result"
    }
   ],
   "source": [
    "X.head()"
   ]
  },
  {
   "cell_type": "code",
   "execution_count": 19,
   "id": "67a79d86",
   "metadata": {
    "execution": {
     "iopub.execute_input": "2023-11-20T00:27:57.494047Z",
     "iopub.status.busy": "2023-11-20T00:27:57.492968Z",
     "iopub.status.idle": "2023-11-20T00:27:57.505269Z",
     "shell.execute_reply": "2023-11-20T00:27:57.502603Z"
    },
    "id": "8sj0teWCNuJE",
    "papermill": {
     "duration": 0.043403,
     "end_time": "2023-11-20T00:27:57.508489",
     "exception": false,
     "start_time": "2023-11-20T00:27:57.465086",
     "status": "completed"
    },
    "tags": []
   },
   "outputs": [
    {
     "data": {
      "text/plain": [
       "0    HGSC\n",
       "1    LGSC\n",
       "2    HGSC\n",
       "3    LGSC\n",
       "4      EC\n",
       "Name: label, dtype: object"
      ]
     },
     "execution_count": 19,
     "metadata": {},
     "output_type": "execute_result"
    }
   ],
   "source": [
    "y.head()"
   ]
  },
  {
   "cell_type": "code",
   "execution_count": 20,
   "id": "adddb5b5",
   "metadata": {
    "execution": {
     "iopub.execute_input": "2023-11-20T00:27:57.560889Z",
     "iopub.status.busy": "2023-11-20T00:27:57.560371Z",
     "iopub.status.idle": "2023-11-20T00:27:57.987923Z",
     "shell.execute_reply": "2023-11-20T00:27:57.986092Z"
    },
    "id": "74o-VyqfOHPV",
    "papermill": {
     "duration": 0.459568,
     "end_time": "2023-11-20T00:27:57.992343",
     "exception": false,
     "start_time": "2023-11-20T00:27:57.532775",
     "status": "completed"
    },
    "tags": []
   },
   "outputs": [],
   "source": [
    "from sklearn.model_selection import train_test_split\n",
    "X_train, X_val, y_train, y_val = train_test_split(\n",
    "    X, y, test_size=0.2, random_state=1)"
   ]
  },
  {
   "cell_type": "code",
   "execution_count": 21,
   "id": "d97b4087",
   "metadata": {
    "execution": {
     "iopub.execute_input": "2023-11-20T00:27:58.041556Z",
     "iopub.status.busy": "2023-11-20T00:27:58.040789Z",
     "iopub.status.idle": "2023-11-20T00:27:58.050741Z",
     "shell.execute_reply": "2023-11-20T00:27:58.049371Z"
    },
    "id": "wmLe-OjMOoPX",
    "outputId": "58a918e8-2cae-47f2-8f3e-43d4142bc6ed",
    "papermill": {
     "duration": 0.038438,
     "end_time": "2023-11-20T00:27:58.053551",
     "exception": false,
     "start_time": "2023-11-20T00:27:58.015113",
     "status": "completed"
    },
    "tags": []
   },
   "outputs": [
    {
     "data": {
      "text/plain": [
       "((430, 3), (430,), (108, 3), (108,))"
      ]
     },
     "execution_count": 21,
     "metadata": {},
     "output_type": "execute_result"
    }
   ],
   "source": [
    "X_train.shape,y_train.shape,X_val.shape,y_val.shape"
   ]
  },
  {
   "cell_type": "code",
   "execution_count": 22,
   "id": "9b1c793d",
   "metadata": {
    "execution": {
     "iopub.execute_input": "2023-11-20T00:27:58.103438Z",
     "iopub.status.busy": "2023-11-20T00:27:58.102579Z",
     "iopub.status.idle": "2023-11-20T00:27:58.114959Z",
     "shell.execute_reply": "2023-11-20T00:27:58.113516Z"
    },
    "id": "fAGMh9wgO3vO",
    "outputId": "9f66ac52-1cee-4183-a0c8-43af20bbf3c6",
    "papermill": {
     "duration": 0.041302,
     "end_time": "2023-11-20T00:27:58.118046",
     "exception": false,
     "start_time": "2023-11-20T00:27:58.076744",
     "status": "completed"
    },
    "tags": []
   },
   "outputs": [
    {
     "data": {
      "text/html": [
       "<div>\n",
       "<style scoped>\n",
       "    .dataframe tbody tr th:only-of-type {\n",
       "        vertical-align: middle;\n",
       "    }\n",
       "\n",
       "    .dataframe tbody tr th {\n",
       "        vertical-align: top;\n",
       "    }\n",
       "\n",
       "    .dataframe thead th {\n",
       "        text-align: right;\n",
       "    }\n",
       "</style>\n",
       "<table border=\"1\" class=\"dataframe\">\n",
       "  <thead>\n",
       "    <tr style=\"text-align: right;\">\n",
       "      <th></th>\n",
       "      <th>image_id</th>\n",
       "      <th>image_width</th>\n",
       "      <th>image_height</th>\n",
       "    </tr>\n",
       "  </thead>\n",
       "  <tbody>\n",
       "    <tr>\n",
       "      <th>85</th>\n",
       "      <td>9341</td>\n",
       "      <td>69320</td>\n",
       "      <td>36671</td>\n",
       "    </tr>\n",
       "    <tr>\n",
       "      <th>515</th>\n",
       "      <td>62641</td>\n",
       "      <td>16662</td>\n",
       "      <td>32055</td>\n",
       "    </tr>\n",
       "    <tr>\n",
       "      <th>146</th>\n",
       "      <td>17365</td>\n",
       "      <td>43902</td>\n",
       "      <td>26689</td>\n",
       "    </tr>\n",
       "    <tr>\n",
       "      <th>522</th>\n",
       "      <td>63367</td>\n",
       "      <td>62905</td>\n",
       "      <td>24783</td>\n",
       "    </tr>\n",
       "    <tr>\n",
       "      <th>223</th>\n",
       "      <td>27747</td>\n",
       "      <td>47487</td>\n",
       "      <td>28122</td>\n",
       "    </tr>\n",
       "  </tbody>\n",
       "</table>\n",
       "</div>"
      ],
      "text/plain": [
       "     image_id  image_width  image_height\n",
       "85       9341        69320         36671\n",
       "515     62641        16662         32055\n",
       "146     17365        43902         26689\n",
       "522     63367        62905         24783\n",
       "223     27747        47487         28122"
      ]
     },
     "execution_count": 22,
     "metadata": {},
     "output_type": "execute_result"
    }
   ],
   "source": [
    "X_train.head()"
   ]
  },
  {
   "cell_type": "code",
   "execution_count": 23,
   "id": "961b78c3",
   "metadata": {
    "execution": {
     "iopub.execute_input": "2023-11-20T00:27:58.180995Z",
     "iopub.status.busy": "2023-11-20T00:27:58.179946Z",
     "iopub.status.idle": "2023-11-20T00:27:58.193382Z",
     "shell.execute_reply": "2023-11-20T00:27:58.192011Z"
    },
    "id": "idILq3-8PArj",
    "outputId": "9b7692ae-c7e8-4952-db90-18563d3e19a8",
    "papermill": {
     "duration": 0.055209,
     "end_time": "2023-11-20T00:27:58.196454",
     "exception": false,
     "start_time": "2023-11-20T00:27:58.141245",
     "status": "completed"
    },
    "tags": []
   },
   "outputs": [
    {
     "data": {
      "text/html": [
       "<div>\n",
       "<style scoped>\n",
       "    .dataframe tbody tr th:only-of-type {\n",
       "        vertical-align: middle;\n",
       "    }\n",
       "\n",
       "    .dataframe tbody tr th {\n",
       "        vertical-align: top;\n",
       "    }\n",
       "\n",
       "    .dataframe thead th {\n",
       "        text-align: right;\n",
       "    }\n",
       "</style>\n",
       "<table border=\"1\" class=\"dataframe\">\n",
       "  <thead>\n",
       "    <tr style=\"text-align: right;\">\n",
       "      <th></th>\n",
       "      <th>image_id</th>\n",
       "      <th>image_width</th>\n",
       "      <th>image_height</th>\n",
       "    </tr>\n",
       "  </thead>\n",
       "  <tbody>\n",
       "    <tr>\n",
       "      <th>159</th>\n",
       "      <td>18813</td>\n",
       "      <td>54671</td>\n",
       "      <td>32443</td>\n",
       "    </tr>\n",
       "    <tr>\n",
       "      <th>397</th>\n",
       "      <td>46815</td>\n",
       "      <td>40640</td>\n",
       "      <td>45411</td>\n",
       "    </tr>\n",
       "    <tr>\n",
       "      <th>323</th>\n",
       "      <td>38669</td>\n",
       "      <td>41105</td>\n",
       "      <td>27185</td>\n",
       "    </tr>\n",
       "    <tr>\n",
       "      <th>400</th>\n",
       "      <td>47105</td>\n",
       "      <td>39020</td>\n",
       "      <td>39353</td>\n",
       "    </tr>\n",
       "    <tr>\n",
       "      <th>237</th>\n",
       "      <td>29147</td>\n",
       "      <td>38610</td>\n",
       "      <td>26181</td>\n",
       "    </tr>\n",
       "  </tbody>\n",
       "</table>\n",
       "</div>"
      ],
      "text/plain": [
       "     image_id  image_width  image_height\n",
       "159     18813        54671         32443\n",
       "397     46815        40640         45411\n",
       "323     38669        41105         27185\n",
       "400     47105        39020         39353\n",
       "237     29147        38610         26181"
      ]
     },
     "execution_count": 23,
     "metadata": {},
     "output_type": "execute_result"
    }
   ],
   "source": [
    "X_val.head()"
   ]
  },
  {
   "cell_type": "code",
   "execution_count": 24,
   "id": "6c21a3ad",
   "metadata": {
    "execution": {
     "iopub.execute_input": "2023-11-20T00:27:58.245766Z",
     "iopub.status.busy": "2023-11-20T00:27:58.244804Z",
     "iopub.status.idle": "2023-11-20T00:27:58.265204Z",
     "shell.execute_reply": "2023-11-20T00:27:58.263743Z"
    },
    "id": "Pro3MYuTSEkn",
    "outputId": "04e1aa5f-b63a-49ef-b6fc-505b527561eb",
    "papermill": {
     "duration": 0.048708,
     "end_time": "2023-11-20T00:27:58.268226",
     "exception": false,
     "start_time": "2023-11-20T00:27:58.219518",
     "status": "completed"
    },
    "tags": []
   },
   "outputs": [
    {
     "data": {
      "text/html": [
       "<div>\n",
       "<style scoped>\n",
       "    .dataframe tbody tr th:only-of-type {\n",
       "        vertical-align: middle;\n",
       "    }\n",
       "\n",
       "    .dataframe tbody tr th {\n",
       "        vertical-align: top;\n",
       "    }\n",
       "\n",
       "    .dataframe thead th {\n",
       "        text-align: right;\n",
       "    }\n",
       "</style>\n",
       "<table border=\"1\" class=\"dataframe\">\n",
       "  <thead>\n",
       "    <tr style=\"text-align: right;\">\n",
       "      <th></th>\n",
       "      <th>image_id</th>\n",
       "      <th>image_width</th>\n",
       "      <th>image_height</th>\n",
       "    </tr>\n",
       "  </thead>\n",
       "  <tbody>\n",
       "    <tr>\n",
       "      <th>0</th>\n",
       "      <td>41</td>\n",
       "      <td>28469</td>\n",
       "      <td>16987</td>\n",
       "    </tr>\n",
       "  </tbody>\n",
       "</table>\n",
       "</div>"
      ],
      "text/plain": [
       "   image_id  image_width  image_height\n",
       "0        41        28469         16987"
      ]
     },
     "execution_count": 24,
     "metadata": {},
     "output_type": "execute_result"
    }
   ],
   "source": [
    "#test data\n",
    "test=pd.read_csv('/kaggle/input/UBC-OCEAN/test.csv')\n",
    "test.head()"
   ]
  },
  {
   "cell_type": "code",
   "execution_count": 25,
   "id": "3f842ae5",
   "metadata": {
    "execution": {
     "iopub.execute_input": "2023-11-20T00:27:58.320058Z",
     "iopub.status.busy": "2023-11-20T00:27:58.319039Z",
     "iopub.status.idle": "2023-11-20T00:27:58.327659Z",
     "shell.execute_reply": "2023-11-20T00:27:58.325937Z"
    },
    "id": "Rt26ofN_437F",
    "outputId": "9dd6f105-09a5-467d-f5b0-a7651ce19c18",
    "papermill": {
     "duration": 0.036987,
     "end_time": "2023-11-20T00:27:58.330656",
     "exception": false,
     "start_time": "2023-11-20T00:27:58.293669",
     "status": "completed"
    },
    "tags": []
   },
   "outputs": [
    {
     "data": {
      "text/plain": [
       "(1, 3)"
      ]
     },
     "execution_count": 25,
     "metadata": {},
     "output_type": "execute_result"
    }
   ],
   "source": [
    "test.shape"
   ]
  },
  {
   "cell_type": "code",
   "execution_count": 26,
   "id": "cd10dfdc",
   "metadata": {
    "execution": {
     "iopub.execute_input": "2023-11-20T00:27:58.380944Z",
     "iopub.status.busy": "2023-11-20T00:27:58.380176Z",
     "iopub.status.idle": "2023-11-20T00:27:58.388603Z",
     "shell.execute_reply": "2023-11-20T00:27:58.386697Z"
    },
    "id": "sZ5z6jqc4ri9",
    "outputId": "5f452a50-7922-4738-801b-160fb44d8490",
    "papermill": {
     "duration": 0.037494,
     "end_time": "2023-11-20T00:27:58.391668",
     "exception": false,
     "start_time": "2023-11-20T00:27:58.354174",
     "status": "completed"
    },
    "tags": []
   },
   "outputs": [
    {
     "data": {
      "text/plain": [
       "(1, 3)"
      ]
     },
     "execution_count": 26,
     "metadata": {},
     "output_type": "execute_result"
    }
   ],
   "source": [
    "test.shape"
   ]
  },
  {
   "cell_type": "code",
   "execution_count": 27,
   "id": "2194988b",
   "metadata": {
    "execution": {
     "iopub.execute_input": "2023-11-20T00:27:58.444442Z",
     "iopub.status.busy": "2023-11-20T00:27:58.443661Z",
     "iopub.status.idle": "2023-11-20T00:27:58.450834Z",
     "shell.execute_reply": "2023-11-20T00:27:58.448882Z"
    },
    "papermill": {
     "duration": 0.037812,
     "end_time": "2023-11-20T00:27:58.454251",
     "exception": false,
     "start_time": "2023-11-20T00:27:58.416439",
     "status": "completed"
    },
    "tags": []
   },
   "outputs": [],
   "source": [
    "X_test=test"
   ]
  },
  {
   "cell_type": "code",
   "execution_count": 28,
   "id": "054b4b9b",
   "metadata": {
    "execution": {
     "iopub.execute_input": "2023-11-20T00:27:58.508296Z",
     "iopub.status.busy": "2023-11-20T00:27:58.507820Z",
     "iopub.status.idle": "2023-11-20T00:27:58.516937Z",
     "shell.execute_reply": "2023-11-20T00:27:58.515575Z"
    },
    "id": "K6X92yuU5SzU",
    "outputId": "728f4081-36a3-496c-bf4e-1de19c5a399c",
    "papermill": {
     "duration": 0.039382,
     "end_time": "2023-11-20T00:27:58.519662",
     "exception": false,
     "start_time": "2023-11-20T00:27:58.480280",
     "status": "completed"
    },
    "tags": []
   },
   "outputs": [
    {
     "data": {
      "text/plain": [
       "(1, 3)"
      ]
     },
     "execution_count": 28,
     "metadata": {},
     "output_type": "execute_result"
    }
   ],
   "source": [
    "X_test.shape"
   ]
  },
  {
   "cell_type": "code",
   "execution_count": 29,
   "id": "66324331",
   "metadata": {
    "execution": {
     "iopub.execute_input": "2023-11-20T00:27:58.571503Z",
     "iopub.status.busy": "2023-11-20T00:27:58.570746Z",
     "iopub.status.idle": "2023-11-20T00:27:58.582327Z",
     "shell.execute_reply": "2023-11-20T00:27:58.580739Z"
    },
    "id": "LS67_AeM5ePi",
    "outputId": "05d748d1-5697-4f88-d3c1-5b151ab49775",
    "papermill": {
     "duration": 0.04038,
     "end_time": "2023-11-20T00:27:58.585302",
     "exception": false,
     "start_time": "2023-11-20T00:27:58.544922",
     "status": "completed"
    },
    "tags": []
   },
   "outputs": [
    {
     "data": {
      "text/html": [
       "<div>\n",
       "<style scoped>\n",
       "    .dataframe tbody tr th:only-of-type {\n",
       "        vertical-align: middle;\n",
       "    }\n",
       "\n",
       "    .dataframe tbody tr th {\n",
       "        vertical-align: top;\n",
       "    }\n",
       "\n",
       "    .dataframe thead th {\n",
       "        text-align: right;\n",
       "    }\n",
       "</style>\n",
       "<table border=\"1\" class=\"dataframe\">\n",
       "  <thead>\n",
       "    <tr style=\"text-align: right;\">\n",
       "      <th></th>\n",
       "      <th>image_id</th>\n",
       "      <th>image_width</th>\n",
       "      <th>image_height</th>\n",
       "    </tr>\n",
       "  </thead>\n",
       "  <tbody>\n",
       "    <tr>\n",
       "      <th>0</th>\n",
       "      <td>41</td>\n",
       "      <td>28469</td>\n",
       "      <td>16987</td>\n",
       "    </tr>\n",
       "  </tbody>\n",
       "</table>\n",
       "</div>"
      ],
      "text/plain": [
       "   image_id  image_width  image_height\n",
       "0        41        28469         16987"
      ]
     },
     "execution_count": 29,
     "metadata": {},
     "output_type": "execute_result"
    }
   ],
   "source": [
    "X_test.head()"
   ]
  },
  {
   "cell_type": "code",
   "execution_count": 30,
   "id": "11c7705b",
   "metadata": {
    "execution": {
     "iopub.execute_input": "2023-11-20T00:27:58.637633Z",
     "iopub.status.busy": "2023-11-20T00:27:58.636694Z",
     "iopub.status.idle": "2023-11-20T00:27:58.648960Z",
     "shell.execute_reply": "2023-11-20T00:27:58.647445Z"
    },
    "id": "yWxQ37AKkdBU",
    "papermill": {
     "duration": 0.042114,
     "end_time": "2023-11-20T00:27:58.652115",
     "exception": false,
     "start_time": "2023-11-20T00:27:58.610001",
     "status": "completed"
    },
    "tags": []
   },
   "outputs": [
    {
     "data": {
      "text/plain": [
       "85      9341\n",
       "515    62641\n",
       "146    17365\n",
       "522    63367\n",
       "223    27747\n",
       "       ...  \n",
       "129    15470\n",
       "144    17174\n",
       "72      8130\n",
       "235    28922\n",
       "37      4134\n",
       "Name: image_id, Length: 430, dtype: int64"
      ]
     },
     "execution_count": 30,
     "metadata": {},
     "output_type": "execute_result"
    }
   ],
   "source": [
    "#y_pred='functional'\n",
    "#y_pred\n",
    "from sklearn.metrics import accuracy_score\n",
    "import numpy as np\n",
    "#y_pred = pd.DataFrame(np.zeros((len(X_test)),dtype=int))\n",
    "#y_pred\n",
    "#y_pred=[0,0,0,0]\n",
    "#y_true=[0,1,2,0]\n",
    "#accuracy_score(y_true,y_pred)\n",
    "submission= X_train['image_id']\n",
    "\n",
    "#submission.to_csv('submission.csv',index=False)\n",
    "submission"
   ]
  },
  {
   "cell_type": "code",
   "execution_count": 31,
   "id": "90a3a1dc",
   "metadata": {
    "execution": {
     "iopub.execute_input": "2023-11-20T00:27:58.707999Z",
     "iopub.status.busy": "2023-11-20T00:27:58.706762Z",
     "iopub.status.idle": "2023-11-20T00:27:58.713643Z",
     "shell.execute_reply": "2023-11-20T00:27:58.712225Z"
    },
    "id": "gUa0Et0YjLSZ",
    "outputId": "3a7b8525-d196-4c42-d299-3f8cfb2e66fd",
    "papermill": {
     "duration": 0.038016,
     "end_time": "2023-11-20T00:27:58.717023",
     "exception": false,
     "start_time": "2023-11-20T00:27:58.679007",
     "status": "completed"
    },
    "tags": []
   },
   "outputs": [
    {
     "name": "stdout",
     "output_type": "stream",
     "text": [
      "Baseline Accuracy Score: 0.82\n"
     ]
    }
   ],
   "source": [
    "baseline_acc = 0.82\n",
    "print('Baseline Accuracy Score:', baseline_acc)"
   ]
  },
  {
   "cell_type": "code",
   "execution_count": 32,
   "id": "87c919ec",
   "metadata": {
    "execution": {
     "iopub.execute_input": "2023-11-20T00:27:58.770466Z",
     "iopub.status.busy": "2023-11-20T00:27:58.770012Z",
     "iopub.status.idle": "2023-11-20T00:27:59.738703Z",
     "shell.execute_reply": "2023-11-20T00:27:59.736613Z"
    },
    "id": "UafHV1nhH4Yl",
    "outputId": "0f17598f-52f2-42c7-f5d4-e0287f46f830",
    "papermill": {
     "duration": 1.000036,
     "end_time": "2023-11-20T00:27:59.742390",
     "exception": false,
     "start_time": "2023-11-20T00:27:58.742354",
     "status": "completed"
    },
    "tags": []
   },
   "outputs": [
    {
     "name": "stdout",
     "output_type": "stream",
     "text": [
      "train Validation Accuracy 0.47674418604651164\n"
     ]
    }
   ],
   "source": [
    "#Building our first model (DecisionTreeClassifier)\n",
    "\n",
    "import category_encoders as ce\n",
    "from sklearn.pipeline import make_pipeline\n",
    "from sklearn.tree import DecisionTreeClassifier\n",
    "\n",
    "pipeline=make_pipeline(\n",
    "   #ce.OrdinalEncoder(),\n",
    "   DecisionTreeClassifier(max_depth=3,max_features=100,random_state=41)\n",
    ")\n",
    "pipeline.fit(X_train,y_train)\n",
    "print(\"train Validation Accuracy\",pipeline.score(X_train,y_train))"
   ]
  },
  {
   "cell_type": "code",
   "execution_count": 33,
   "id": "0c87c0c2",
   "metadata": {
    "execution": {
     "iopub.execute_input": "2023-11-20T00:27:59.797206Z",
     "iopub.status.busy": "2023-11-20T00:27:59.796675Z",
     "iopub.status.idle": "2023-11-20T00:27:59.807402Z",
     "shell.execute_reply": "2023-11-20T00:27:59.805421Z"
    },
    "papermill": {
     "duration": 0.041918,
     "end_time": "2023-11-20T00:27:59.810823",
     "exception": false,
     "start_time": "2023-11-20T00:27:59.768905",
     "status": "completed"
    },
    "tags": []
   },
   "outputs": [
    {
     "data": {
      "text/plain": [
       "array(['HGSC'], dtype=object)"
      ]
     },
     "execution_count": 33,
     "metadata": {},
     "output_type": "execute_result"
    }
   ],
   "source": [
    "y_pred=pipeline.predict(X_test)\n",
    "y_pred"
   ]
  },
  {
   "cell_type": "code",
   "execution_count": 34,
   "id": "840d26bd",
   "metadata": {
    "execution": {
     "iopub.execute_input": "2023-11-20T00:27:59.868033Z",
     "iopub.status.busy": "2023-11-20T00:27:59.867509Z",
     "iopub.status.idle": "2023-11-20T00:27:59.880037Z",
     "shell.execute_reply": "2023-11-20T00:27:59.878396Z"
    },
    "id": "2i13pga1Rlp4",
    "outputId": "eb0413bf-9239-4343-cfe0-9ae2a3a4c4e4",
    "papermill": {
     "duration": 0.047304,
     "end_time": "2023-11-20T00:27:59.884756",
     "exception": false,
     "start_time": "2023-11-20T00:27:59.837452",
     "status": "completed"
    },
    "tags": []
   },
   "outputs": [
    {
     "name": "stdout",
     "output_type": "stream",
     "text": [
      "val Accuracy 0.32407407407407407\n"
     ]
    }
   ],
   "source": [
    "#print(\"test Accuracy\",pipeline.score(X_test,y_test))\n",
    "print(\"val Accuracy\",pipeline.score(X_val,y_val))"
   ]
  },
  {
   "cell_type": "code",
   "execution_count": null,
   "id": "58cdb191",
   "metadata": {
    "id": "EfQYKKdO9K7c",
    "papermill": {
     "duration": 0.02739,
     "end_time": "2023-11-20T00:27:59.937962",
     "exception": false,
     "start_time": "2023-11-20T00:27:59.910572",
     "status": "completed"
    },
    "tags": []
   },
   "outputs": [],
   "source": []
  },
  {
   "cell_type": "code",
   "execution_count": 35,
   "id": "b16e8569",
   "metadata": {
    "execution": {
     "iopub.execute_input": "2023-11-20T00:27:59.994142Z",
     "iopub.status.busy": "2023-11-20T00:27:59.993689Z",
     "iopub.status.idle": "2023-11-20T00:28:00.359550Z",
     "shell.execute_reply": "2023-11-20T00:28:00.358450Z"
    },
    "id": "Nkj33MbDZcny",
    "outputId": "7073c926-cd0d-43e3-b21a-a7ac37bbf46d",
    "papermill": {
     "duration": 0.398349,
     "end_time": "2023-11-20T00:28:00.363026",
     "exception": false,
     "start_time": "2023-11-20T00:27:59.964677",
     "status": "completed"
    },
    "tags": []
   },
   "outputs": [
    {
     "data": {
      "image/svg+xml": [
       "<?xml version=\"1.0\" encoding=\"UTF-8\" standalone=\"no\"?>\n",
       "<!DOCTYPE svg PUBLIC \"-//W3C//DTD SVG 1.1//EN\"\n",
       " \"http://www.w3.org/Graphics/SVG/1.1/DTD/svg11.dtd\">\n",
       "<!-- Generated by graphviz version 8.1.0 (20230707.2238)\n",
       " -->\n",
       "<!-- Title: Tree Pages: 1 -->\n",
       "<svg width=\"2276pt\" height=\"407pt\"\n",
       " viewBox=\"0.00 0.00 2275.50 406.75\" xmlns=\"http://www.w3.org/2000/svg\" xmlns:xlink=\"http://www.w3.org/1999/xlink\">\n",
       "<g id=\"graph0\" class=\"graph\" transform=\"scale(1 1) rotate(0) translate(4 402.75)\">\n",
       "<title>Tree</title>\n",
       "<polygon fill=\"white\" stroke=\"none\" points=\"-4,4 -4,-402.75 2271.5,-402.75 2271.5,4 -4,4\"/>\n",
       "<!-- 0 -->\n",
       "<g id=\"node1\" class=\"node\">\n",
       "<title>0</title>\n",
       "<polygon fill=\"#c7f8ef\" stroke=\"black\" points=\"1243,-398.75 928.5,-398.75 928.5,-321.75 1243,-321.75 1243,-398.75\"/>\n",
       "<text text-anchor=\"middle\" x=\"1085.75\" y=\"-381.45\" font-family=\"Helvetica,sans-Serif\" font-size=\"14.00\">image_height &lt;= 44985.5</text>\n",
       "<text text-anchor=\"middle\" x=\"1085.75\" y=\"-364.2\" font-family=\"Helvetica,sans-Serif\" font-size=\"14.00\">samples = 100.0%</text>\n",
       "<text text-anchor=\"middle\" x=\"1085.75\" y=\"-346.95\" font-family=\"Helvetica,sans-Serif\" font-size=\"14.00\">value = [0.17, 0.221, 0.442, 0.088, 0.079]</text>\n",
       "<text text-anchor=\"middle\" x=\"1085.75\" y=\"-329.7\" font-family=\"Helvetica,sans-Serif\" font-size=\"14.00\">class = CC</text>\n",
       "</g>\n",
       "<!-- 1 -->\n",
       "<g id=\"node2\" class=\"node\">\n",
       "<title>1</title>\n",
       "<polygon fill=\"#c3f7ee\" stroke=\"black\" points=\"998,-285.75 683.5,-285.75 683.5,-208.75 998,-208.75 998,-285.75\"/>\n",
       "<text text-anchor=\"middle\" x=\"840.75\" y=\"-268.45\" font-family=\"Helvetica,sans-Serif\" font-size=\"14.00\">image_width &lt;= 81553.5</text>\n",
       "<text text-anchor=\"middle\" x=\"840.75\" y=\"-251.2\" font-family=\"Helvetica,sans-Serif\" font-size=\"14.00\">samples = 93.0%</text>\n",
       "<text text-anchor=\"middle\" x=\"840.75\" y=\"-233.95\" font-family=\"Helvetica,sans-Serif\" font-size=\"14.00\">value = [0.168, 0.228, 0.46, 0.088, 0.058]</text>\n",
       "<text text-anchor=\"middle\" x=\"840.75\" y=\"-216.7\" font-family=\"Helvetica,sans-Serif\" font-size=\"14.00\">class = CC</text>\n",
       "</g>\n",
       "<!-- 0&#45;&gt;1 -->\n",
       "<g id=\"edge1\" class=\"edge\">\n",
       "<title>0&#45;&gt;1</title>\n",
       "<path fill=\"none\" stroke=\"black\" d=\"M1002.12,-321.36C980.26,-311.46 956.57,-300.72 934.23,-290.6\"/>\n",
       "<polygon fill=\"black\" stroke=\"black\" points=\"935.97,-287.1 925.42,-286.16 933.08,-293.47 935.97,-287.1\"/>\n",
       "<text text-anchor=\"middle\" x=\"933.23\" y=\"-304.88\" font-family=\"Helvetica,sans-Serif\" font-size=\"14.00\">True</text>\n",
       "</g>\n",
       "<!-- 8 -->\n",
       "<g id=\"node9\" class=\"node\">\n",
       "<title>8</title>\n",
       "<polygon fill=\"#fad6f2\" stroke=\"black\" points=\"1497.5,-285.75 1228,-285.75 1228,-208.75 1497.5,-208.75 1497.5,-285.75\"/>\n",
       "<text text-anchor=\"middle\" x=\"1362.75\" y=\"-268.45\" font-family=\"Helvetica,sans-Serif\" font-size=\"14.00\">image_width &lt;= 51639.5</text>\n",
       "<text text-anchor=\"middle\" x=\"1362.75\" y=\"-251.2\" font-family=\"Helvetica,sans-Serif\" font-size=\"14.00\">samples = 7.0%</text>\n",
       "<text text-anchor=\"middle\" x=\"1362.75\" y=\"-233.95\" font-family=\"Helvetica,sans-Serif\" font-size=\"14.00\">value = [0.2, 0.133, 0.2, 0.1, 0.367]</text>\n",
       "<text text-anchor=\"middle\" x=\"1362.75\" y=\"-216.7\" font-family=\"Helvetica,sans-Serif\" font-size=\"14.00\">class = LGSC</text>\n",
       "</g>\n",
       "<!-- 0&#45;&gt;8 -->\n",
       "<g id=\"edge8\" class=\"edge\">\n",
       "<title>0&#45;&gt;8</title>\n",
       "<path fill=\"none\" stroke=\"black\" d=\"M1180.3,-321.36C1205.35,-311.33 1232.53,-300.43 1258.08,-290.2\"/>\n",
       "<polygon fill=\"black\" stroke=\"black\" points=\"1259.17,-293.13 1267.15,-286.16 1256.57,-286.63 1259.17,-293.13\"/>\n",
       "<text text-anchor=\"middle\" x=\"1258.32\" y=\"-304.47\" font-family=\"Helvetica,sans-Serif\" font-size=\"14.00\">False</text>\n",
       "</g>\n",
       "<!-- 2 -->\n",
       "<g id=\"node3\" class=\"node\">\n",
       "<title>2</title>\n",
       "<polygon fill=\"#c4f7ee\" stroke=\"black\" points=\"598,-172.75 283.5,-172.75 283.5,-95.75 598,-95.75 598,-172.75\"/>\n",
       "<text text-anchor=\"middle\" x=\"440.75\" y=\"-155.45\" font-family=\"Helvetica,sans-Serif\" font-size=\"14.00\">image_id &lt;= 1804.5</text>\n",
       "<text text-anchor=\"middle\" x=\"440.75\" y=\"-138.2\" font-family=\"Helvetica,sans-Serif\" font-size=\"14.00\">samples = 90.5%</text>\n",
       "<text text-anchor=\"middle\" x=\"440.75\" y=\"-120.95\" font-family=\"Helvetica,sans-Serif\" font-size=\"14.00\">value = [0.154, 0.234, 0.463, 0.09, 0.059]</text>\n",
       "<text text-anchor=\"middle\" x=\"440.75\" y=\"-103.7\" font-family=\"Helvetica,sans-Serif\" font-size=\"14.00\">class = CC</text>\n",
       "</g>\n",
       "<!-- 1&#45;&gt;2 -->\n",
       "<g id=\"edge2\" class=\"edge\">\n",
       "<title>1&#45;&gt;2</title>\n",
       "<path fill=\"none\" stroke=\"black\" d=\"M703.93,-208.28C666.45,-197.88 625.66,-186.56 587.63,-176.01\"/>\n",
       "<polygon fill=\"black\" stroke=\"black\" points=\"589.08,-172.5 578.51,-173.2 587.21,-179.25 589.08,-172.5\"/>\n",
       "</g>\n",
       "<!-- 5 -->\n",
       "<g id=\"node6\" class=\"node\">\n",
       "<title>5</title>\n",
       "<polygon fill=\"#f4c9aa\" stroke=\"black\" points=\"975.5,-172.75 706,-172.75 706,-95.75 975.5,-95.75 975.5,-172.75\"/>\n",
       "<text text-anchor=\"middle\" x=\"840.75\" y=\"-155.45\" font-family=\"Helvetica,sans-Serif\" font-size=\"14.00\">image_width &lt;= 83972.0</text>\n",
       "<text text-anchor=\"middle\" x=\"840.75\" y=\"-138.2\" font-family=\"Helvetica,sans-Serif\" font-size=\"14.00\">samples = 2.6%</text>\n",
       "<text text-anchor=\"middle\" x=\"840.75\" y=\"-120.95\" font-family=\"Helvetica,sans-Serif\" font-size=\"14.00\">value = [0.636, 0.0, 0.364, 0.0, 0.0]</text>\n",
       "<text text-anchor=\"middle\" x=\"840.75\" y=\"-103.7\" font-family=\"Helvetica,sans-Serif\" font-size=\"14.00\">class = HGSC</text>\n",
       "</g>\n",
       "<!-- 1&#45;&gt;5 -->\n",
       "<g id=\"edge5\" class=\"edge\">\n",
       "<title>1&#45;&gt;5</title>\n",
       "<path fill=\"none\" stroke=\"black\" d=\"M840.75,-208.36C840.75,-200.5 840.75,-192.12 840.75,-183.94\"/>\n",
       "<polygon fill=\"black\" stroke=\"black\" points=\"844.25,-183.97 840.75,-173.97 837.25,-183.97 844.25,-183.97\"/>\n",
       "</g>\n",
       "<!-- 3 -->\n",
       "<g id=\"node4\" class=\"node\">\n",
       "<title>3</title>\n",
       "<polygon fill=\"#4de8cb\" stroke=\"black\" points=\"269.5,-59.75 0,-59.75 0,0 269.5,0 269.5,-59.75\"/>\n",
       "<text text-anchor=\"middle\" x=\"134.75\" y=\"-42.45\" font-family=\"Helvetica,sans-Serif\" font-size=\"14.00\">samples = 2.6%</text>\n",
       "<text text-anchor=\"middle\" x=\"134.75\" y=\"-25.2\" font-family=\"Helvetica,sans-Serif\" font-size=\"14.00\">value = [0.0, 0.0, 0.909, 0.091, 0.0]</text>\n",
       "<text text-anchor=\"middle\" x=\"134.75\" y=\"-7.95\" font-family=\"Helvetica,sans-Serif\" font-size=\"14.00\">class = CC</text>\n",
       "</g>\n",
       "<!-- 2&#45;&gt;3 -->\n",
       "<g id=\"edge3\" class=\"edge\">\n",
       "<title>2&#45;&gt;3</title>\n",
       "<path fill=\"none\" stroke=\"black\" d=\"M327.24,-95.27C296.07,-84.85 262.55,-73.63 232.35,-63.53\"/>\n",
       "<polygon fill=\"black\" stroke=\"black\" points=\"233.84,-60 223.25,-60.15 231.62,-66.64 233.84,-60\"/>\n",
       "</g>\n",
       "<!-- 4 -->\n",
       "<g id=\"node5\" class=\"node\">\n",
       "<title>4</title>\n",
       "<polygon fill=\"#c8f8ef\" stroke=\"black\" points=\"593.5,-59.75 288,-59.75 288,0 593.5,0 593.5,-59.75\"/>\n",
       "<text text-anchor=\"middle\" x=\"440.75\" y=\"-42.45\" font-family=\"Helvetica,sans-Serif\" font-size=\"14.00\">samples = 87.9%</text>\n",
       "<text text-anchor=\"middle\" x=\"440.75\" y=\"-25.2\" font-family=\"Helvetica,sans-Serif\" font-size=\"14.00\">value = [0.159, 0.241, 0.45, 0.09, 0.061]</text>\n",
       "<text text-anchor=\"middle\" x=\"440.75\" y=\"-7.95\" font-family=\"Helvetica,sans-Serif\" font-size=\"14.00\">class = CC</text>\n",
       "</g>\n",
       "<!-- 2&#45;&gt;4 -->\n",
       "<g id=\"edge4\" class=\"edge\">\n",
       "<title>2&#45;&gt;4</title>\n",
       "<path fill=\"none\" stroke=\"black\" d=\"M440.75,-95.42C440.75,-87.52 440.75,-79.17 440.75,-71.19\"/>\n",
       "<polygon fill=\"black\" stroke=\"black\" points=\"444.25,-71.23 440.75,-61.23 437.25,-71.23 444.25,-71.23\"/>\n",
       "</g>\n",
       "<!-- 6 -->\n",
       "<g id=\"node7\" class=\"node\">\n",
       "<title>6</title>\n",
       "<polygon fill=\"#e58139\" stroke=\"black\" points=\"845.5,-59.75 612,-59.75 612,0 845.5,0 845.5,-59.75\"/>\n",
       "<text text-anchor=\"middle\" x=\"728.75\" y=\"-42.45\" font-family=\"Helvetica,sans-Serif\" font-size=\"14.00\">samples = 0.7%</text>\n",
       "<text text-anchor=\"middle\" x=\"728.75\" y=\"-25.2\" font-family=\"Helvetica,sans-Serif\" font-size=\"14.00\">value = [1.0, 0.0, 0.0, 0.0, 0.0]</text>\n",
       "<text text-anchor=\"middle\" x=\"728.75\" y=\"-7.95\" font-family=\"Helvetica,sans-Serif\" font-size=\"14.00\">class = HGSC</text>\n",
       "</g>\n",
       "<!-- 5&#45;&gt;6 -->\n",
       "<g id=\"edge6\" class=\"edge\">\n",
       "<title>5&#45;&gt;6</title>\n",
       "<path fill=\"none\" stroke=\"black\" d=\"M799.36,-95.42C789.43,-86.34 778.84,-76.66 768.96,-67.63\"/>\n",
       "<polygon fill=\"black\" stroke=\"black\" points=\"771.61,-65.39 761.87,-61.23 766.89,-70.56 771.61,-65.39\"/>\n",
       "</g>\n",
       "<!-- 7 -->\n",
       "<g id=\"node8\" class=\"node\">\n",
       "<title>7</title>\n",
       "<polygon fill=\"#ffffff\" stroke=\"black\" points=\"1097.5,-59.75 864,-59.75 864,0 1097.5,0 1097.5,-59.75\"/>\n",
       "<text text-anchor=\"middle\" x=\"980.75\" y=\"-42.45\" font-family=\"Helvetica,sans-Serif\" font-size=\"14.00\">samples = 1.9%</text>\n",
       "<text text-anchor=\"middle\" x=\"980.75\" y=\"-25.2\" font-family=\"Helvetica,sans-Serif\" font-size=\"14.00\">value = [0.5, 0.0, 0.5, 0.0, 0.0]</text>\n",
       "<text text-anchor=\"middle\" x=\"980.75\" y=\"-7.95\" font-family=\"Helvetica,sans-Serif\" font-size=\"14.00\">class = HGSC</text>\n",
       "</g>\n",
       "<!-- 5&#45;&gt;7 -->\n",
       "<g id=\"edge7\" class=\"edge\">\n",
       "<title>5&#45;&gt;7</title>\n",
       "<path fill=\"none\" stroke=\"black\" d=\"M892.48,-95.42C905.39,-85.98 919.2,-75.89 931.96,-66.55\"/>\n",
       "<polygon fill=\"black\" stroke=\"black\" points=\"933.6,-68.96 939.61,-60.23 929.47,-63.31 933.6,-68.96\"/>\n",
       "</g>\n",
       "<!-- 9 -->\n",
       "<g id=\"node10\" class=\"node\">\n",
       "<title>9</title>\n",
       "<polygon fill=\"#cef8f0\" stroke=\"black\" points=\"1515.5,-172.75 1210,-172.75 1210,-95.75 1515.5,-95.75 1515.5,-172.75\"/>\n",
       "<text text-anchor=\"middle\" x=\"1362.75\" y=\"-155.45\" font-family=\"Helvetica,sans-Serif\" font-size=\"14.00\">image_height &lt;= 46230.5</text>\n",
       "<text text-anchor=\"middle\" x=\"1362.75\" y=\"-138.2\" font-family=\"Helvetica,sans-Serif\" font-size=\"14.00\">samples = 2.6%</text>\n",
       "<text text-anchor=\"middle\" x=\"1362.75\" y=\"-120.95\" font-family=\"Helvetica,sans-Serif\" font-size=\"14.00\">value = [0.182, 0.0, 0.455, 0.273, 0.091]</text>\n",
       "<text text-anchor=\"middle\" x=\"1362.75\" y=\"-103.7\" font-family=\"Helvetica,sans-Serif\" font-size=\"14.00\">class = CC</text>\n",
       "</g>\n",
       "<!-- 8&#45;&gt;9 -->\n",
       "<g id=\"edge9\" class=\"edge\">\n",
       "<title>8&#45;&gt;9</title>\n",
       "<path fill=\"none\" stroke=\"black\" d=\"M1362.75,-208.36C1362.75,-200.5 1362.75,-192.12 1362.75,-183.94\"/>\n",
       "<polygon fill=\"black\" stroke=\"black\" points=\"1366.25,-183.97 1362.75,-173.97 1359.25,-183.97 1366.25,-183.97\"/>\n",
       "</g>\n",
       "<!-- 12 -->\n",
       "<g id=\"node13\" class=\"node\">\n",
       "<title>12</title>\n",
       "<polygon fill=\"#f5b0e6\" stroke=\"black\" points=\"1961.5,-172.75 1656,-172.75 1656,-95.75 1961.5,-95.75 1961.5,-172.75\"/>\n",
       "<text text-anchor=\"middle\" x=\"1808.75\" y=\"-155.45\" font-family=\"Helvetica,sans-Serif\" font-size=\"14.00\">image_id &lt;= 17758.5</text>\n",
       "<text text-anchor=\"middle\" x=\"1808.75\" y=\"-138.2\" font-family=\"Helvetica,sans-Serif\" font-size=\"14.00\">samples = 4.4%</text>\n",
       "<text text-anchor=\"middle\" x=\"1808.75\" y=\"-120.95\" font-family=\"Helvetica,sans-Serif\" font-size=\"14.00\">value = [0.211, 0.211, 0.053, 0.0, 0.526]</text>\n",
       "<text text-anchor=\"middle\" x=\"1808.75\" y=\"-103.7\" font-family=\"Helvetica,sans-Serif\" font-size=\"14.00\">class = LGSC</text>\n",
       "</g>\n",
       "<!-- 8&#45;&gt;12 -->\n",
       "<g id=\"edge12\" class=\"edge\">\n",
       "<title>8&#45;&gt;12</title>\n",
       "<path fill=\"none\" stroke=\"black\" d=\"M1497.78,-212.65C1544.35,-201.05 1597.03,-187.94 1645.61,-175.85\"/>\n",
       "<polygon fill=\"black\" stroke=\"black\" points=\"1646.38,-179.02 1655.23,-173.21 1644.69,-172.23 1646.38,-179.02\"/>\n",
       "</g>\n",
       "<!-- 10 -->\n",
       "<g id=\"node11\" class=\"node\">\n",
       "<title>10</title>\n",
       "<polygon fill=\"#f6d5bd\" stroke=\"black\" points=\"1367.5,-59.75 1116,-59.75 1116,0 1367.5,0 1367.5,-59.75\"/>\n",
       "<text text-anchor=\"middle\" x=\"1241.75\" y=\"-42.45\" font-family=\"Helvetica,sans-Serif\" font-size=\"14.00\">samples = 0.9%</text>\n",
       "<text text-anchor=\"middle\" x=\"1241.75\" y=\"-25.2\" font-family=\"Helvetica,sans-Serif\" font-size=\"14.00\">value = [0.5, 0.0, 0.25, 0.0, 0.25]</text>\n",
       "<text text-anchor=\"middle\" x=\"1241.75\" y=\"-7.95\" font-family=\"Helvetica,sans-Serif\" font-size=\"14.00\">class = HGSC</text>\n",
       "</g>\n",
       "<!-- 9&#45;&gt;10 -->\n",
       "<g id=\"edge10\" class=\"edge\">\n",
       "<title>9&#45;&gt;10</title>\n",
       "<path fill=\"none\" stroke=\"black\" d=\"M1318.04,-95.42C1307.09,-86.16 1295.41,-76.27 1284.56,-67.09\"/>\n",
       "<polygon fill=\"black\" stroke=\"black\" points=\"1287.34,-64.02 1277.45,-60.23 1282.82,-69.36 1287.34,-64.02\"/>\n",
       "</g>\n",
       "<!-- 11 -->\n",
       "<g id=\"node12\" class=\"node\">\n",
       "<title>11</title>\n",
       "<polygon fill=\"#cef8f0\" stroke=\"black\" points=\"1655.5,-59.75 1386,-59.75 1386,0 1655.5,0 1655.5,-59.75\"/>\n",
       "<text text-anchor=\"middle\" x=\"1520.75\" y=\"-42.45\" font-family=\"Helvetica,sans-Serif\" font-size=\"14.00\">samples = 1.6%</text>\n",
       "<text text-anchor=\"middle\" x=\"1520.75\" y=\"-25.2\" font-family=\"Helvetica,sans-Serif\" font-size=\"14.00\">value = [0.0, 0.0, 0.571, 0.429, 0.0]</text>\n",
       "<text text-anchor=\"middle\" x=\"1520.75\" y=\"-7.95\" font-family=\"Helvetica,sans-Serif\" font-size=\"14.00\">class = CC</text>\n",
       "</g>\n",
       "<!-- 9&#45;&gt;11 -->\n",
       "<g id=\"edge11\" class=\"edge\">\n",
       "<title>9&#45;&gt;11</title>\n",
       "<path fill=\"none\" stroke=\"black\" d=\"M1421.13,-95.42C1435.99,-85.8 1451.88,-75.5 1466.52,-66.02\"/>\n",
       "<polygon fill=\"black\" stroke=\"black\" points=\"1467.95,-68.61 1474.44,-60.23 1464.15,-62.73 1467.95,-68.61\"/>\n",
       "</g>\n",
       "<!-- 13 -->\n",
       "<g id=\"node14\" class=\"node\">\n",
       "<title>13</title>\n",
       "<polygon fill=\"#bdf29c\" stroke=\"black\" points=\"1943.5,-59.75 1674,-59.75 1674,0 1943.5,0 1943.5,-59.75\"/>\n",
       "<text text-anchor=\"middle\" x=\"1808.75\" y=\"-42.45\" font-family=\"Helvetica,sans-Serif\" font-size=\"14.00\">samples = 0.7%</text>\n",
       "<text text-anchor=\"middle\" x=\"1808.75\" y=\"-25.2\" font-family=\"Helvetica,sans-Serif\" font-size=\"14.00\">value = [0.333, 0.667, 0.0, 0.0, 0.0]</text>\n",
       "<text text-anchor=\"middle\" x=\"1808.75\" y=\"-7.95\" font-family=\"Helvetica,sans-Serif\" font-size=\"14.00\">class = EC</text>\n",
       "</g>\n",
       "<!-- 12&#45;&gt;13 -->\n",
       "<g id=\"edge13\" class=\"edge\">\n",
       "<title>12&#45;&gt;13</title>\n",
       "<path fill=\"none\" stroke=\"black\" d=\"M1808.75,-95.42C1808.75,-87.52 1808.75,-79.17 1808.75,-71.19\"/>\n",
       "<polygon fill=\"black\" stroke=\"black\" points=\"1812.25,-71.23 1808.75,-61.23 1805.25,-71.23 1812.25,-71.23\"/>\n",
       "</g>\n",
       "<!-- 14 -->\n",
       "<g id=\"node15\" class=\"node\">\n",
       "<title>14</title>\n",
       "<polygon fill=\"#f194dd\" stroke=\"black\" points=\"2267.5,-59.75 1962,-59.75 1962,0 2267.5,0 2267.5,-59.75\"/>\n",
       "<text text-anchor=\"middle\" x=\"2114.75\" y=\"-42.45\" font-family=\"Helvetica,sans-Serif\" font-size=\"14.00\">samples = 3.7%</text>\n",
       "<text text-anchor=\"middle\" x=\"2114.75\" y=\"-25.2\" font-family=\"Helvetica,sans-Serif\" font-size=\"14.00\">value = [0.188, 0.125, 0.062, 0.0, 0.625]</text>\n",
       "<text text-anchor=\"middle\" x=\"2114.75\" y=\"-7.95\" font-family=\"Helvetica,sans-Serif\" font-size=\"14.00\">class = LGSC</text>\n",
       "</g>\n",
       "<!-- 12&#45;&gt;14 -->\n",
       "<g id=\"edge14\" class=\"edge\">\n",
       "<title>12&#45;&gt;14</title>\n",
       "<path fill=\"none\" stroke=\"black\" d=\"M1922.26,-95.27C1953.43,-84.85 1986.95,-73.63 2017.15,-63.53\"/>\n",
       "<polygon fill=\"black\" stroke=\"black\" points=\"2017.88,-66.64 2026.25,-60.15 2015.66,-60 2017.88,-66.64\"/>\n",
       "</g>\n",
       "</g>\n",
       "</svg>\n"
      ],
      "text/plain": [
       "<graphviz.sources.Source at 0x7fdea7ff1750>"
      ]
     },
     "execution_count": 35,
     "metadata": {},
     "output_type": "execute_result"
    }
   ],
   "source": [
    "#This score is too good to be true.\n",
    "# Visualize the decision tree, to see what the model 'learned'\n",
    "\n",
    "import graphviz\n",
    "from sklearn.tree import export_graphviz\n",
    "tree = pipeline.named_steps['decisiontreeclassifier']\n",
    "dot_data= export_graphviz(\n",
    "    tree,\n",
    "    out_file=None,\n",
    "    feature_names = X_train.columns,\n",
    "    class_names = y_train.unique().astype(str),\n",
    "    filled = True,\n",
    "    impurity= False,\n",
    "    proportion = True\n",
    "\n",
    ")\n",
    "graphviz.Source(dot_data)"
   ]
  },
  {
   "cell_type": "code",
   "execution_count": null,
   "id": "02a25f77",
   "metadata": {
    "id": "nHe4FBwz9gKf",
    "papermill": {
     "duration": 0.025997,
     "end_time": "2023-11-20T00:28:00.418612",
     "exception": false,
     "start_time": "2023-11-20T00:28:00.392615",
     "status": "completed"
    },
    "tags": []
   },
   "outputs": [],
   "source": []
  },
  {
   "cell_type": "code",
   "execution_count": null,
   "id": "12a71b4e",
   "metadata": {
    "id": "hMwQHlJz9gTj",
    "papermill": {
     "duration": 0.025854,
     "end_time": "2023-11-20T00:28:00.474404",
     "exception": false,
     "start_time": "2023-11-20T00:28:00.448550",
     "status": "completed"
    },
    "tags": []
   },
   "outputs": [],
   "source": []
  },
  {
   "cell_type": "code",
   "execution_count": 36,
   "id": "d1a59e3a",
   "metadata": {
    "execution": {
     "iopub.execute_input": "2023-11-20T00:28:00.532963Z",
     "iopub.status.busy": "2023-11-20T00:28:00.532472Z",
     "iopub.status.idle": "2023-11-20T00:28:00.756403Z",
     "shell.execute_reply": "2023-11-20T00:28:00.754705Z"
    },
    "id": "cY1SBJXw8xMV",
    "outputId": "7833df64-f0ef-4826-f8eb-3b7eec1e763f",
    "papermill": {
     "duration": 0.256298,
     "end_time": "2023-11-20T00:28:00.759821",
     "exception": false,
     "start_time": "2023-11-20T00:28:00.503523",
     "status": "completed"
    },
    "tags": []
   },
   "outputs": [
    {
     "name": "stdout",
     "output_type": "stream",
     "text": [
      "trainValidation Accuracy 0.8674418604651163\n"
     ]
    }
   ],
   "source": [
    "'''T6. Build a pipeline `model` with encoder and tree-based predictor.'''\n",
    "\n",
    "# YOUR CODE HERE\n",
    "#raise NotImplementedError()\n",
    "\n",
    "from sklearn.preprocessing import OrdinalEncoder\n",
    "import category_encoders as ce\n",
    "from sklearn.impute import SimpleImputer\n",
    "from sklearn.pipeline import make_pipeline\n",
    "from sklearn.ensemble import RandomForestClassifier #RandomForest\n",
    "model= make_pipeline(\n",
    "    #ce.OrdinalEncoder(),\n",
    "    SimpleImputer(strategy='mean'),\n",
    "    RandomForestClassifier(n_estimators=3,random_state=41,max_features=2)\n",
    ")\n",
    "model.fit(X_train,y_train);\n",
    "print(\"trainValidation Accuracy\",model.score(X_train,y_train))"
   ]
  },
  {
   "cell_type": "code",
   "execution_count": 37,
   "id": "da9c4f43",
   "metadata": {
    "execution": {
     "iopub.execute_input": "2023-11-20T00:28:00.823129Z",
     "iopub.status.busy": "2023-11-20T00:28:00.822152Z",
     "iopub.status.idle": "2023-11-20T00:28:00.834681Z",
     "shell.execute_reply": "2023-11-20T00:28:00.833305Z"
    },
    "id": "S52QdbQb9s7o",
    "papermill": {
     "duration": 0.047837,
     "end_time": "2023-11-20T00:28:00.837886",
     "exception": false,
     "start_time": "2023-11-20T00:28:00.790049",
     "status": "completed"
    },
    "tags": []
   },
   "outputs": [
    {
     "name": "stdout",
     "output_type": "stream",
     "text": [
      "Validation Accuracy 0.24074074074074073\n"
     ]
    }
   ],
   "source": [
    "print(\"Validation Accuracy\", model.score(X_val,y_val))"
   ]
  },
  {
   "cell_type": "code",
   "execution_count": null,
   "id": "bdf863e8",
   "metadata": {
    "id": "rFOFFx6QHM5u",
    "papermill": {
     "duration": 0.027631,
     "end_time": "2023-11-20T00:28:00.891899",
     "exception": false,
     "start_time": "2023-11-20T00:28:00.864268",
     "status": "completed"
    },
    "tags": []
   },
   "outputs": [],
   "source": []
  },
  {
   "cell_type": "code",
   "execution_count": 38,
   "id": "75949e12",
   "metadata": {
    "execution": {
     "iopub.execute_input": "2023-11-20T00:28:00.950571Z",
     "iopub.status.busy": "2023-11-20T00:28:00.949840Z",
     "iopub.status.idle": "2023-11-20T00:28:00.965140Z",
     "shell.execute_reply": "2023-11-20T00:28:00.963720Z"
    },
    "id": "gIUBSMU6mAE5",
    "papermill": {
     "duration": 0.047905,
     "end_time": "2023-11-20T00:28:00.968664",
     "exception": false,
     "start_time": "2023-11-20T00:28:00.920759",
     "status": "completed"
    },
    "tags": []
   },
   "outputs": [],
   "source": [
    "y_train_pred=model.predict(X_train)\n",
    "y_val_pred=model.predict(X_val)\n",
    "y_test_pred=model.predict(X_test)"
   ]
  },
  {
   "cell_type": "code",
   "execution_count": 39,
   "id": "32c99a05",
   "metadata": {
    "execution": {
     "iopub.execute_input": "2023-11-20T00:28:01.024596Z",
     "iopub.status.busy": "2023-11-20T00:28:01.023568Z",
     "iopub.status.idle": "2023-11-20T00:28:01.035247Z",
     "shell.execute_reply": "2023-11-20T00:28:01.033696Z"
    },
    "id": "h82Fj2o2KUC4",
    "papermill": {
     "duration": 0.042773,
     "end_time": "2023-11-20T00:28:01.038715",
     "exception": false,
     "start_time": "2023-11-20T00:28:00.995942",
     "status": "completed"
    },
    "tags": []
   },
   "outputs": [
    {
     "data": {
      "text/plain": [
       "array(['HGSC', 'HGSC', 'HGSC', 'EC', 'HGSC', 'HGSC', 'EC', 'HGSC', 'CC',\n",
       "       'EC', 'CC', 'HGSC', 'CC', 'MC', 'LGSC', 'HGSC', 'LGSC', 'HGSC',\n",
       "       'HGSC', 'CC', 'LGSC', 'HGSC', 'CC', 'CC', 'EC', 'EC', 'HGSC',\n",
       "       'HGSC', 'LGSC', 'EC', 'CC', 'HGSC', 'CC', 'EC', 'CC', 'LGSC', 'CC',\n",
       "       'MC', 'CC', 'CC', 'CC', 'CC', 'LGSC', 'HGSC', 'EC', 'CC', 'HGSC',\n",
       "       'CC', 'LGSC', 'HGSC', 'LGSC', 'EC', 'EC', 'HGSC', 'HGSC', 'EC',\n",
       "       'HGSC', 'EC', 'HGSC', 'CC', 'EC', 'CC', 'CC', 'CC', 'HGSC', 'MC',\n",
       "       'HGSC', 'EC', 'HGSC', 'EC', 'HGSC', 'EC', 'HGSC', 'EC', 'HGSC',\n",
       "       'HGSC', 'HGSC', 'HGSC', 'LGSC', 'CC', 'CC', 'EC', 'EC', 'HGSC',\n",
       "       'CC', 'CC', 'HGSC', 'HGSC', 'HGSC', 'EC', 'CC', 'HGSC', 'CC',\n",
       "       'LGSC', 'EC', 'HGSC', 'MC', 'EC', 'CC', 'HGSC', 'HGSC', 'MC',\n",
       "       'HGSC', 'MC', 'HGSC', 'HGSC', 'EC', 'EC', 'HGSC', 'EC', 'EC',\n",
       "       'HGSC', 'HGSC', 'MC', 'HGSC', 'CC', 'HGSC', 'MC', 'EC', 'MC',\n",
       "       'HGSC', 'MC', 'HGSC', 'HGSC', 'EC', 'HGSC', 'CC', 'EC', 'EC',\n",
       "       'HGSC', 'EC', 'HGSC', 'HGSC', 'LGSC', 'EC', 'LGSC', 'CC', 'CC',\n",
       "       'CC', 'CC', 'HGSC', 'CC', 'HGSC', 'HGSC', 'LGSC', 'CC', 'HGSC',\n",
       "       'CC', 'EC', 'CC', 'HGSC', 'HGSC', 'HGSC', 'LGSC', 'MC', 'EC',\n",
       "       'LGSC', 'HGSC', 'CC', 'EC', 'HGSC', 'HGSC', 'HGSC', 'HGSC', 'EC',\n",
       "       'HGSC', 'EC', 'EC', 'HGSC', 'HGSC', 'CC', 'CC', 'HGSC', 'HGSC',\n",
       "       'EC', 'CC', 'EC', 'HGSC', 'LGSC', 'HGSC', 'HGSC', 'EC', 'HGSC',\n",
       "       'HGSC', 'HGSC', 'HGSC', 'CC', 'HGSC', 'HGSC', 'EC', 'HGSC', 'HGSC',\n",
       "       'CC', 'EC', 'EC', 'HGSC', 'HGSC', 'EC', 'LGSC', 'HGSC', 'HGSC',\n",
       "       'EC', 'EC', 'CC', 'MC', 'HGSC', 'EC', 'HGSC', 'HGSC', 'MC', 'MC',\n",
       "       'HGSC', 'HGSC', 'HGSC', 'EC', 'HGSC', 'HGSC', 'LGSC', 'HGSC', 'EC',\n",
       "       'HGSC', 'EC', 'HGSC', 'HGSC', 'HGSC', 'EC', 'CC', 'HGSC', 'EC',\n",
       "       'HGSC', 'MC', 'EC', 'CC', 'EC', 'EC', 'HGSC', 'MC', 'HGSC', 'HGSC',\n",
       "       'HGSC', 'EC', 'HGSC', 'CC', 'HGSC', 'MC', 'HGSC', 'CC', 'LGSC',\n",
       "       'HGSC', 'EC', 'HGSC', 'EC', 'EC', 'HGSC', 'CC', 'HGSC', 'CC',\n",
       "       'HGSC', 'LGSC', 'MC', 'MC', 'EC', 'HGSC', 'CC', 'EC', 'EC', 'MC',\n",
       "       'HGSC', 'HGSC', 'EC', 'HGSC', 'HGSC', 'EC', 'MC', 'HGSC', 'CC',\n",
       "       'HGSC', 'MC', 'LGSC', 'EC', 'MC', 'EC', 'LGSC', 'EC', 'EC', 'CC',\n",
       "       'HGSC', 'HGSC', 'CC', 'HGSC', 'HGSC', 'HGSC', 'CC', 'CC', 'CC',\n",
       "       'MC', 'HGSC', 'EC', 'LGSC', 'CC', 'EC', 'EC', 'HGSC', 'HGSC', 'CC',\n",
       "       'HGSC', 'HGSC', 'EC', 'EC', 'HGSC', 'EC', 'HGSC', 'EC', 'CC',\n",
       "       'HGSC', 'HGSC', 'HGSC', 'CC', 'HGSC', 'CC', 'HGSC', 'EC', 'EC',\n",
       "       'MC', 'HGSC', 'HGSC', 'HGSC', 'LGSC', 'HGSC', 'EC', 'EC', 'LGSC',\n",
       "       'HGSC', 'CC', 'LGSC', 'EC', 'HGSC', 'HGSC', 'EC', 'CC', 'HGSC',\n",
       "       'HGSC', 'EC', 'CC', 'EC', 'CC', 'HGSC', 'CC', 'EC', 'CC', 'CC',\n",
       "       'MC', 'HGSC', 'HGSC', 'MC', 'HGSC', 'HGSC', 'HGSC', 'HGSC', 'HGSC',\n",
       "       'MC', 'HGSC', 'LGSC', 'CC', 'LGSC', 'CC', 'EC', 'EC', 'HGSC', 'MC',\n",
       "       'EC', 'HGSC', 'EC', 'EC', 'HGSC', 'HGSC', 'HGSC', 'CC', 'HGSC',\n",
       "       'LGSC', 'HGSC', 'HGSC', 'HGSC', 'HGSC', 'HGSC', 'HGSC', 'EC',\n",
       "       'LGSC', 'CC', 'HGSC', 'HGSC', 'EC', 'HGSC', 'CC', 'CC', 'HGSC',\n",
       "       'HGSC', 'EC', 'EC', 'CC', 'CC', 'LGSC', 'LGSC', 'LGSC', 'EC',\n",
       "       'HGSC', 'EC', 'HGSC', 'EC', 'CC', 'HGSC', 'HGSC', 'HGSC', 'HGSC',\n",
       "       'HGSC', 'HGSC', 'CC', 'EC', 'CC', 'HGSC', 'EC', 'LGSC', 'HGSC',\n",
       "       'EC', 'HGSC', 'CC', 'HGSC', 'LGSC', 'HGSC', 'MC'], dtype=object)"
      ]
     },
     "execution_count": 39,
     "metadata": {},
     "output_type": "execute_result"
    }
   ],
   "source": [
    "y_train_pred"
   ]
  },
  {
   "cell_type": "code",
   "execution_count": 40,
   "id": "d743e75a",
   "metadata": {
    "execution": {
     "iopub.execute_input": "2023-11-20T00:28:01.110478Z",
     "iopub.status.busy": "2023-11-20T00:28:01.109890Z",
     "iopub.status.idle": "2023-11-20T00:28:01.117872Z",
     "shell.execute_reply": "2023-11-20T00:28:01.116757Z"
    },
    "papermill": {
     "duration": 0.043647,
     "end_time": "2023-11-20T00:28:01.120743",
     "exception": false,
     "start_time": "2023-11-20T00:28:01.077096",
     "status": "completed"
    },
    "tags": []
   },
   "outputs": [
    {
     "data": {
      "text/plain": [
       "array(['HGSC'], dtype=object)"
      ]
     },
     "execution_count": 40,
     "metadata": {},
     "output_type": "execute_result"
    }
   ],
   "source": [
    "y_test_pred"
   ]
  },
  {
   "cell_type": "code",
   "execution_count": 41,
   "id": "6bb5d694",
   "metadata": {
    "execution": {
     "iopub.execute_input": "2023-11-20T00:28:01.181388Z",
     "iopub.status.busy": "2023-11-20T00:28:01.180877Z",
     "iopub.status.idle": "2023-11-20T00:28:01.193154Z",
     "shell.execute_reply": "2023-11-20T00:28:01.191838Z"
    },
    "id": "j7bcRU4qbuAX",
    "outputId": "cf074d61-dd6e-4b12-de16-338216dd1441",
    "papermill": {
     "duration": 0.048328,
     "end_time": "2023-11-20T00:28:01.196437",
     "exception": false,
     "start_time": "2023-11-20T00:28:01.148109",
     "status": "completed"
    },
    "tags": []
   },
   "outputs": [
    {
     "name": "stdout",
     "output_type": "stream",
     "text": [
      "Training Accuracy Score: 0.8674418604651163\n",
      "val Accuracy Score: 0.24074074074074073\n"
     ]
    }
   ],
   "source": [
    "from sklearn.metrics import accuracy_score\n",
    "\n",
    "train_acc =  accuracy_score(y_train_pred,y_train)\n",
    "#test_acc =  accuracy_score(y_test_pred,X_test)\n",
    "val_acc= accuracy_score(y_val_pred,y_val)\n",
    "print('Training Accuracy Score:', train_acc)\n",
    "#print('Testing Accuracy Score:', test_acc)\n",
    "print('val Accuracy Score:', val_acc)"
   ]
  },
  {
   "cell_type": "code",
   "execution_count": 42,
   "id": "031d5d22",
   "metadata": {
    "execution": {
     "iopub.execute_input": "2023-11-20T00:28:01.266268Z",
     "iopub.status.busy": "2023-11-20T00:28:01.264120Z",
     "iopub.status.idle": "2023-11-20T00:28:09.149662Z",
     "shell.execute_reply": "2023-11-20T00:28:09.147951Z"
    },
    "papermill": {
     "duration": 7.926223,
     "end_time": "2023-11-20T00:28:09.153033",
     "exception": false,
     "start_time": "2023-11-20T00:28:01.226810",
     "status": "completed"
    },
    "tags": []
   },
   "outputs": [
    {
     "name": "stdout",
     "output_type": "stream",
     "text": [
      "\n",
      "XGBClassifier(base_score=None, booster=None, callbacks=None,\n",
      "              colsample_bylevel=None, colsample_bynode=None,\n",
      "              colsample_bytree=None, early_stopping_rounds=None,\n",
      "              enable_categorical=False, eval_metric=None, feature_types=None,\n",
      "              gamma=None, gpu_id=None, grow_policy=None, importance_type=None,\n",
      "              interaction_constraints=None, learning_rate=None, max_bin=None,\n",
      "              max_cat_threshold=None, max_cat_to_onehot=None,\n",
      "              max_delta_step=None, max_depth=3, max_leaves=None,\n",
      "              min_child_weight=None, missing=nan, monotone_constraints=None,\n",
      "              n_estimators=100, n_jobs=100, num_parallel_tree=None,\n",
      "              objective='multi:softprob', predictor=None, ...)\n",
      "train accuracy: 0.9697674418604652\n"
     ]
    }
   ],
   "source": [
    "from  xgboost import XGBClassifier\n",
    "from sklearn.preprocessing import LabelEncoder\n",
    "\n",
    "model11 = XGBClassifier(max_depth=3,n_estimators=100,random_state=42,n_jobs=100)\n",
    "# Initialize LabelEncoder\n",
    "label_encoder = LabelEncoder()\n",
    "\n",
    "# Fit and transform the target variable in the training set\n",
    "y_train_encoded = label_encoder.fit_transform(y_train)\n",
    "\n",
    "# Now, you can fit the model using the encoded target variable\n",
    "model11.fit(X_train, y_train_encoded)\n",
    "\n",
    "# Print the model and its accuracy\n",
    "print()\n",
    "print(model11)\n",
    "print(\"train accuracy:\", model11.score(X_train, y_train_encoded))"
   ]
  },
  {
   "cell_type": "code",
   "execution_count": 43,
   "id": "0152e5d6",
   "metadata": {
    "execution": {
     "iopub.execute_input": "2023-11-20T00:28:09.211089Z",
     "iopub.status.busy": "2023-11-20T00:28:09.210552Z",
     "iopub.status.idle": "2023-11-20T00:28:09.227768Z",
     "shell.execute_reply": "2023-11-20T00:28:09.226379Z"
    },
    "papermill": {
     "duration": 0.04969,
     "end_time": "2023-11-20T00:28:09.230865",
     "exception": false,
     "start_time": "2023-11-20T00:28:09.181175",
     "status": "completed"
    },
    "tags": []
   },
   "outputs": [
    {
     "name": "stdout",
     "output_type": "stream",
     "text": [
      "0.37962962962962965\n"
     ]
    }
   ],
   "source": [
    "# Initialize LabelEncoder\n",
    "label_encoder = LabelEncoder()\n",
    "\n",
    "# Fit and transform the target variable in the training set\n",
    "y_val_encoded = label_encoder.fit_transform(y_val)\n",
    "\n",
    "scoreval = model11.score(X_val,y_val_encoded)\n",
    "\n",
    "print(scoreval)\n"
   ]
  },
  {
   "cell_type": "code",
   "execution_count": 44,
   "id": "fc3977c2",
   "metadata": {
    "execution": {
     "iopub.execute_input": "2023-11-20T00:28:09.287289Z",
     "iopub.status.busy": "2023-11-20T00:28:09.286323Z",
     "iopub.status.idle": "2023-11-20T00:28:09.322310Z",
     "shell.execute_reply": "2023-11-20T00:28:09.320712Z"
    },
    "id": "fwPt91jUKiNE",
    "papermill": {
     "duration": 0.068644,
     "end_time": "2023-11-20T00:28:09.325824",
     "exception": false,
     "start_time": "2023-11-20T00:28:09.257180",
     "status": "completed"
    },
    "tags": []
   },
   "outputs": [
    {
     "name": "stdout",
     "output_type": "stream",
     "text": [
      "              precision    recall  f1-score   support\n",
      "\n",
      "          CC       0.78      0.86      0.82        73\n",
      "          EC       0.83      0.87      0.85        95\n",
      "        HGSC       0.91      0.88      0.90       190\n",
      "        LGSC       0.89      0.82      0.85        38\n",
      "          MC       0.93      0.82      0.87        34\n",
      "\n",
      "    accuracy                           0.87       430\n",
      "   macro avg       0.87      0.85      0.86       430\n",
      "weighted avg       0.87      0.87      0.87       430\n",
      "\n"
     ]
    }
   ],
   "source": [
    "# Print classification report\n",
    "from sklearn.metrics import classification_report\n",
    "print(classification_report(y_train,model.predict(X_train)))"
   ]
  },
  {
   "cell_type": "code",
   "execution_count": 45,
   "id": "51e1bd73",
   "metadata": {
    "execution": {
     "iopub.execute_input": "2023-11-20T00:28:09.382635Z",
     "iopub.status.busy": "2023-11-20T00:28:09.382130Z",
     "iopub.status.idle": "2023-11-20T00:28:09.405610Z",
     "shell.execute_reply": "2023-11-20T00:28:09.403563Z"
    },
    "id": "NsnGap-RK_2O",
    "outputId": "bac70952-2f33-451f-fdb9-44fed6dd4bc3",
    "papermill": {
     "duration": 0.05652,
     "end_time": "2023-11-20T00:28:09.409284",
     "exception": false,
     "start_time": "2023-11-20T00:28:09.352764",
     "status": "completed"
    },
    "tags": []
   },
   "outputs": [
    {
     "name": "stdout",
     "output_type": "stream",
     "text": [
      "Confusion Matrix:\n",
      "[[10  9  9]\n",
      " [16 11 10]\n",
      " [12 13 10]]\n",
      "\n",
      "Classification Report:\n",
      "              precision    recall  f1-score   support\n",
      "\n",
      "           0       0.26      0.36      0.30        28\n",
      "           1       0.33      0.30      0.31        37\n",
      "           2       0.34      0.29      0.31        35\n",
      "\n",
      "    accuracy                           0.31       100\n",
      "   macro avg       0.31      0.31      0.31       100\n",
      "weighted avg       0.32      0.31      0.31       100\n",
      "\n"
     ]
    }
   ],
   "source": [
    "from sklearn.metrics import confusion_matrix, classification_report\n",
    "import random\n",
    "\n",
    "# Generate some sample true and predicted labels for demonstration purposes\n",
    "y_true = np.random.randint(0, 3, size=100)\n",
    "y_pred = np.random.randint(0, 3, size=100)\n",
    "\n",
    "# 1. Confusion Matrix\n",
    "conf_matrix = confusion_matrix(y_true, y_pred)\n",
    "print(\"Confusion Matrix:\")\n",
    "print(conf_matrix)\n",
    "\n",
    "# 2. Classification Report\n",
    "class_report = classification_report(y_true, y_pred)\n",
    "print(\"\\nClassification Report:\")\n",
    "print(class_report)"
   ]
  },
  {
   "cell_type": "code",
   "execution_count": null,
   "id": "c60d295a",
   "metadata": {
    "id": "2VFgp4NML5TW",
    "papermill": {
     "duration": 0.026781,
     "end_time": "2023-11-20T00:28:09.463658",
     "exception": false,
     "start_time": "2023-11-20T00:28:09.436877",
     "status": "completed"
    },
    "tags": []
   },
   "outputs": [],
   "source": []
  },
  {
   "cell_type": "code",
   "execution_count": 46,
   "id": "256236a4",
   "metadata": {
    "execution": {
     "iopub.execute_input": "2023-11-20T00:28:09.519909Z",
     "iopub.status.busy": "2023-11-20T00:28:09.519408Z",
     "iopub.status.idle": "2023-11-20T00:28:09.524994Z",
     "shell.execute_reply": "2023-11-20T00:28:09.523523Z"
    },
    "id": "2BEaS2PW1Gh1",
    "papermill": {
     "duration": 0.036695,
     "end_time": "2023-11-20T00:28:09.527761",
     "exception": false,
     "start_time": "2023-11-20T00:28:09.491066",
     "status": "completed"
    },
    "tags": []
   },
   "outputs": [],
   "source": [
    "\n",
    "#y_pred1 = pd.DataFrame(y_pred)\n",
    "#y_pred1=y_pred1.replace({'CC ':2,'EC':5,'HGSC':6,'LGSC':4,'MC':3})\n",
    "#y_pred1.head()"
   ]
  },
  {
   "cell_type": "code",
   "execution_count": 47,
   "id": "d033c9d0",
   "metadata": {
    "execution": {
     "iopub.execute_input": "2023-11-20T00:28:09.584528Z",
     "iopub.status.busy": "2023-11-20T00:28:09.584006Z",
     "iopub.status.idle": "2023-11-20T00:28:09.589298Z",
     "shell.execute_reply": "2023-11-20T00:28:09.587911Z"
    },
    "papermill": {
     "duration": 0.036539,
     "end_time": "2023-11-20T00:28:09.592351",
     "exception": false,
     "start_time": "2023-11-20T00:28:09.555812",
     "status": "completed"
    },
    "tags": []
   },
   "outputs": [],
   "source": [
    "#image_id,label\n",
    "#2,CC\n",
    "#5,EC\n",
    "#6,HGSC\n",
    "#etc."
   ]
  },
  {
   "cell_type": "code",
   "execution_count": 48,
   "id": "59c48177",
   "metadata": {
    "execution": {
     "iopub.execute_input": "2023-11-20T00:28:09.651766Z",
     "iopub.status.busy": "2023-11-20T00:28:09.651066Z",
     "iopub.status.idle": "2023-11-20T00:28:09.657321Z",
     "shell.execute_reply": "2023-11-20T00:28:09.655721Z"
    },
    "id": "21932x15HSOL",
    "papermill": {
     "duration": 0.039566,
     "end_time": "2023-11-20T00:28:09.660156",
     "exception": false,
     "start_time": "2023-11-20T00:28:09.620590",
     "status": "completed"
    },
    "tags": []
   },
   "outputs": [],
   "source": [
    "# Create a submission file\n",
    "#submission = pd.DataFrame({'image_id':X_train['image_id'], 'label': y_train_pred})\n",
    "#submission\n",
    "#submission.to_csv('submission.csv', index=False)"
   ]
  },
  {
   "cell_type": "code",
   "execution_count": 49,
   "id": "ce64aef0",
   "metadata": {
    "execution": {
     "iopub.execute_input": "2023-11-20T00:28:09.720220Z",
     "iopub.status.busy": "2023-11-20T00:28:09.719753Z",
     "iopub.status.idle": "2023-11-20T00:28:09.726221Z",
     "shell.execute_reply": "2023-11-20T00:28:09.724822Z"
    },
    "id": "kKQE8m1R0zAp",
    "papermill": {
     "duration": 0.038898,
     "end_time": "2023-11-20T00:28:09.729181",
     "exception": false,
     "start_time": "2023-11-20T00:28:09.690283",
     "status": "completed"
    },
    "tags": []
   },
   "outputs": [],
   "source": [
    "import pandas as pd\n",
    "\n",
    "# Sample data\n",
    "#data = [[\n",
    "    #'image_id': [2, 5, 6,4,3],\n",
    "    #'label': ['CC', 'EC', 'HGSC','LGSC','MC']\n",
    "#]]\n",
    "#data=sample_submission_df[['image_id','label']]\n",
    "#df=pd.DataFrame(data)\n",
    "\n",
    "# Creating a DataFrame\n",
    "#df = pd.DataFrame(data)\n",
    "#df=y_pred1\n",
    "#submission['label']\n",
    "#submission\n",
    "#submission.to_csv('submission.csv',index=False)\n"
   ]
  },
  {
   "cell_type": "code",
   "execution_count": 50,
   "id": "fc6c25f4",
   "metadata": {
    "execution": {
     "iopub.execute_input": "2023-11-20T00:28:09.787488Z",
     "iopub.status.busy": "2023-11-20T00:28:09.786964Z",
     "iopub.status.idle": "2023-11-20T00:28:09.802257Z",
     "shell.execute_reply": "2023-11-20T00:28:09.800824Z"
    },
    "papermill": {
     "duration": 0.048443,
     "end_time": "2023-11-20T00:28:09.805485",
     "exception": false,
     "start_time": "2023-11-20T00:28:09.757042",
     "status": "completed"
    },
    "tags": []
   },
   "outputs": [
    {
     "data": {
      "text/plain": [
       "array(['HGSC', 'HGSC', 'HGSC', 'EC', 'HGSC', 'HGSC', 'EC', 'HGSC', 'CC',\n",
       "       'EC', 'CC', 'HGSC', 'CC', 'MC', 'LGSC', 'HGSC', 'LGSC', 'HGSC',\n",
       "       'HGSC', 'CC', 'LGSC', 'HGSC', 'CC', 'CC', 'EC', 'EC', 'HGSC',\n",
       "       'HGSC', 'LGSC', 'EC', 'CC', 'HGSC', 'CC', 'EC', 'CC', 'LGSC', 'CC',\n",
       "       'MC', 'CC', 'CC', 'CC', 'CC', 'LGSC', 'HGSC', 'EC', 'CC', 'HGSC',\n",
       "       'CC', 'LGSC', 'HGSC', 'LGSC', 'EC', 'EC', 'HGSC', 'HGSC', 'EC',\n",
       "       'HGSC', 'EC', 'HGSC', 'CC', 'EC', 'CC', 'CC', 'CC', 'HGSC', 'MC',\n",
       "       'HGSC', 'EC', 'HGSC', 'EC', 'HGSC', 'EC', 'HGSC', 'EC', 'HGSC',\n",
       "       'HGSC', 'HGSC', 'HGSC', 'LGSC', 'CC', 'CC', 'EC', 'EC', 'HGSC',\n",
       "       'CC', 'CC', 'HGSC', 'HGSC', 'HGSC', 'EC', 'CC', 'HGSC', 'CC',\n",
       "       'LGSC', 'EC', 'HGSC', 'MC', 'EC', 'CC', 'HGSC', 'HGSC', 'MC',\n",
       "       'HGSC', 'MC', 'HGSC', 'HGSC', 'EC', 'EC', 'HGSC', 'EC', 'EC',\n",
       "       'HGSC', 'HGSC', 'MC', 'HGSC', 'CC', 'HGSC', 'MC', 'EC', 'MC',\n",
       "       'HGSC', 'MC', 'HGSC', 'HGSC', 'EC', 'HGSC', 'CC', 'EC', 'EC',\n",
       "       'HGSC', 'EC', 'HGSC', 'HGSC', 'LGSC', 'EC', 'LGSC', 'CC', 'CC',\n",
       "       'CC', 'CC', 'HGSC', 'CC', 'HGSC', 'HGSC', 'LGSC', 'CC', 'HGSC',\n",
       "       'CC', 'EC', 'CC', 'HGSC', 'HGSC', 'HGSC', 'LGSC', 'MC', 'EC',\n",
       "       'LGSC', 'HGSC', 'CC', 'EC', 'HGSC', 'HGSC', 'HGSC', 'HGSC', 'EC',\n",
       "       'HGSC', 'EC', 'EC', 'HGSC', 'HGSC', 'CC', 'CC', 'HGSC', 'HGSC',\n",
       "       'EC', 'CC', 'EC', 'HGSC', 'LGSC', 'HGSC', 'HGSC', 'EC', 'HGSC',\n",
       "       'HGSC', 'HGSC', 'HGSC', 'CC', 'HGSC', 'HGSC', 'EC', 'HGSC', 'HGSC',\n",
       "       'CC', 'EC', 'EC', 'HGSC', 'HGSC', 'EC', 'LGSC', 'HGSC', 'HGSC',\n",
       "       'EC', 'EC', 'CC', 'MC', 'HGSC', 'EC', 'HGSC', 'HGSC', 'MC', 'MC',\n",
       "       'HGSC', 'HGSC', 'HGSC', 'EC', 'HGSC', 'HGSC', 'LGSC', 'HGSC', 'EC',\n",
       "       'HGSC', 'EC', 'HGSC', 'HGSC', 'HGSC', 'EC', 'CC', 'HGSC', 'EC',\n",
       "       'HGSC', 'MC', 'EC', 'CC', 'EC', 'EC', 'HGSC', 'MC', 'HGSC', 'HGSC',\n",
       "       'HGSC', 'EC', 'HGSC', 'CC', 'HGSC', 'MC', 'HGSC', 'CC', 'LGSC',\n",
       "       'HGSC', 'EC', 'HGSC', 'EC', 'EC', 'HGSC', 'CC', 'HGSC', 'CC',\n",
       "       'HGSC', 'LGSC', 'MC', 'MC', 'EC', 'HGSC', 'CC', 'EC', 'EC', 'MC',\n",
       "       'HGSC', 'HGSC', 'EC', 'HGSC', 'HGSC', 'EC', 'MC', 'HGSC', 'CC',\n",
       "       'HGSC', 'MC', 'LGSC', 'EC', 'MC', 'EC', 'LGSC', 'EC', 'EC', 'CC',\n",
       "       'HGSC', 'HGSC', 'CC', 'HGSC', 'HGSC', 'HGSC', 'CC', 'CC', 'CC',\n",
       "       'MC', 'HGSC', 'EC', 'LGSC', 'CC', 'EC', 'EC', 'HGSC', 'HGSC', 'CC',\n",
       "       'HGSC', 'HGSC', 'EC', 'EC', 'HGSC', 'EC', 'HGSC', 'EC', 'CC',\n",
       "       'HGSC', 'HGSC', 'HGSC', 'CC', 'HGSC', 'CC', 'HGSC', 'EC', 'EC',\n",
       "       'MC', 'HGSC', 'HGSC', 'HGSC', 'LGSC', 'HGSC', 'EC', 'EC', 'LGSC',\n",
       "       'HGSC', 'CC', 'LGSC', 'EC', 'HGSC', 'HGSC', 'EC', 'CC', 'HGSC',\n",
       "       'HGSC', 'EC', 'CC', 'EC', 'CC', 'HGSC', 'CC', 'EC', 'CC', 'CC',\n",
       "       'MC', 'HGSC', 'HGSC', 'MC', 'HGSC', 'HGSC', 'HGSC', 'HGSC', 'HGSC',\n",
       "       'MC', 'HGSC', 'LGSC', 'CC', 'LGSC', 'CC', 'EC', 'EC', 'HGSC', 'MC',\n",
       "       'EC', 'HGSC', 'EC', 'EC', 'HGSC', 'HGSC', 'HGSC', 'CC', 'HGSC',\n",
       "       'LGSC', 'HGSC', 'HGSC', 'HGSC', 'HGSC', 'HGSC', 'HGSC', 'EC',\n",
       "       'LGSC', 'CC', 'HGSC', 'HGSC', 'EC', 'HGSC', 'CC', 'CC', 'HGSC',\n",
       "       'HGSC', 'EC', 'EC', 'CC', 'CC', 'LGSC', 'LGSC', 'LGSC', 'EC',\n",
       "       'HGSC', 'EC', 'HGSC', 'EC', 'CC', 'HGSC', 'HGSC', 'HGSC', 'HGSC',\n",
       "       'HGSC', 'HGSC', 'CC', 'EC', 'CC', 'HGSC', 'EC', 'LGSC', 'HGSC',\n",
       "       'EC', 'HGSC', 'CC', 'HGSC', 'LGSC', 'HGSC', 'MC'], dtype=object)"
      ]
     },
     "execution_count": 50,
     "metadata": {},
     "output_type": "execute_result"
    }
   ],
   "source": [
    "y_pred1= model.predict(X_train)\n",
    "y_pred1"
   ]
  },
  {
   "cell_type": "code",
   "execution_count": 51,
   "id": "0f14e8ba",
   "metadata": {
    "execution": {
     "iopub.execute_input": "2023-11-20T00:28:09.864395Z",
     "iopub.status.busy": "2023-11-20T00:28:09.862874Z",
     "iopub.status.idle": "2023-11-20T00:28:09.880034Z",
     "shell.execute_reply": "2023-11-20T00:28:09.878636Z"
    },
    "papermill": {
     "duration": 0.05091,
     "end_time": "2023-11-20T00:28:09.883700",
     "exception": false,
     "start_time": "2023-11-20T00:28:09.832790",
     "status": "completed"
    },
    "tags": []
   },
   "outputs": [],
   "source": [
    "\n",
    "#submission= sample_submission_df[['image_id']].copy()\n",
    "\n",
    "submission['label'] = y_pred1\n",
    "submission\n",
    "submission.to_csv('baseline_accuracy.csv',index=False)\n"
   ]
  }
 ],
 "metadata": {
  "kaggle": {
   "accelerator": "none",
   "dataSources": [
    {
     "databundleVersionId": 6924515,
     "sourceId": 45867,
     "sourceType": "competition"
    }
   ],
   "dockerImageVersionId": 30558,
   "isGpuEnabled": false,
   "isInternetEnabled": false,
   "language": "python",
   "sourceType": "notebook"
  },
  "kernelspec": {
   "display_name": "Python 3",
   "language": "python",
   "name": "python3"
  },
  "language_info": {
   "codemirror_mode": {
    "name": "ipython",
    "version": 3
   },
   "file_extension": ".py",
   "mimetype": "text/x-python",
   "name": "python",
   "nbconvert_exporter": "python",
   "pygments_lexer": "ipython3",
   "version": "3.10.12"
  },
  "papermill": {
   "default_parameters": {},
   "duration": 24.627673,
   "end_time": "2023-11-20T00:28:10.841810",
   "environment_variables": {},
   "exception": null,
   "input_path": "__notebook__.ipynb",
   "output_path": "__notebook__.ipynb",
   "parameters": {},
   "start_time": "2023-11-20T00:27:46.214137",
   "version": "2.4.0"
  }
 },
 "nbformat": 4,
 "nbformat_minor": 5
}
